{
 "cells": [
  {
   "cell_type": "code",
   "execution_count": 20,
   "metadata": {},
   "outputs": [],
   "source": [
    "import re\n",
    "import pandas as pd\n",
    "import numpy as np\n",
    "import PyPDF2"
   ]
  },
  {
   "cell_type": "code",
   "execution_count": 2,
   "metadata": {},
   "outputs": [],
   "source": [
    "pd.set_option(\"display.max_columns\", 85)\n",
    "pd.set_option(\"display.max_rows\", 85)"
   ]
  },
  {
   "cell_type": "markdown",
   "metadata": {},
   "source": [
    "### NaturDoc - TL BL WT 22-23"
   ]
  },
  {
   "cell_type": "markdown",
   "metadata": {},
   "source": [
    "# Data acquisition and exploration:"
   ]
  },
  {
   "cell_type": "markdown",
   "metadata": {},
   "source": [
    "Initial datasets found by the pitcher:\n",
    "* pay wall\n",
    "* dataset of images for training scanning feature, but not a dataset containing information on symptoms, possible treatments etc. of herbs\n",
    "\n",
    "We quickly realised that we would need to look for other datasets or find possible sources of scraping. We defined the one-sentence-pitch of our app as follows:\n",
    "\n",
    "_Create an app to diagnose simple sickness based on form inputs, suggest nature-plant-based remedies or recipes to treat simple sickness._\n",
    "\n",
    "Research into ethnobotany, folk medicine, notebooks on Kaggle etc. Some of the datasets/data sources we found were sometimes too simplistic, sometimes too specialised, sometimes in difficult to work formats. One dataset we found promising was the Duke Ethnobotanical dataset."
   ]
  },
  {
   "cell_type": "markdown",
   "metadata": {},
   "source": [
    "### Duke:"
   ]
  },
  {
   "cell_type": "code",
   "execution_count": 3,
   "metadata": {},
   "outputs": [],
   "source": [
    "duke_df = pd.read_csv(\"./data/DUKE/ETHNOBOT.csv\")"
   ]
  },
  {
   "cell_type": "code",
   "execution_count": 6,
   "metadata": {},
   "outputs": [
    {
     "data": {
      "text/html": [
       "<div>\n",
       "<style scoped>\n",
       "    .dataframe tbody tr th:only-of-type {\n",
       "        vertical-align: middle;\n",
       "    }\n",
       "\n",
       "    .dataframe tbody tr th {\n",
       "        vertical-align: top;\n",
       "    }\n",
       "\n",
       "    .dataframe thead th {\n",
       "        text-align: right;\n",
       "    }\n",
       "</style>\n",
       "<table border=\"1\" class=\"dataframe\">\n",
       "  <thead>\n",
       "    <tr style=\"text-align: right;\">\n",
       "      <th></th>\n",
       "      <th>ETHNO</th>\n",
       "      <th>ACTIVITY</th>\n",
       "      <th>GENUS</th>\n",
       "      <th>SPECIES</th>\n",
       "      <th>SPAUT</th>\n",
       "      <th>SPRANK</th>\n",
       "      <th>SPXNAM</th>\n",
       "      <th>SPXAUT</th>\n",
       "      <th>FAMILY</th>\n",
       "      <th>CNAME</th>\n",
       "      <th>COUNTRY</th>\n",
       "      <th>REFERENCE</th>\n",
       "      <th>LONGREF</th>\n",
       "      <th>EFFECTIVE</th>\n",
       "      <th>TAXON</th>\n",
       "      <th>TAXAUTHOR</th>\n",
       "      <th>USERID</th>\n",
       "      <th>CREATED</th>\n",
       "      <th>MODIFIED</th>\n",
       "    </tr>\n",
       "  </thead>\n",
       "  <tbody>\n",
       "    <tr>\n",
       "      <th>0</th>\n",
       "      <td>1</td>\n",
       "      <td>Abcess</td>\n",
       "      <td>Achillea</td>\n",
       "      <td>millefolium</td>\n",
       "      <td>NaN</td>\n",
       "      <td>NaN</td>\n",
       "      <td>NaN</td>\n",
       "      <td>NaN</td>\n",
       "      <td>Asteraceae</td>\n",
       "      <td>NaN</td>\n",
       "      <td>NaN</td>\n",
       "      <td>Uphof</td>\n",
       "      <td>NaN</td>\n",
       "      <td>NaN</td>\n",
       "      <td>Achillea millefolium</td>\n",
       "      <td>NaN</td>\n",
       "      <td>DUKE</td>\n",
       "      <td>02-FEB-98</td>\n",
       "      <td>NaN</td>\n",
       "    </tr>\n",
       "    <tr>\n",
       "      <th>1</th>\n",
       "      <td>2</td>\n",
       "      <td>Abcess</td>\n",
       "      <td>Castilla</td>\n",
       "      <td>elastica</td>\n",
       "      <td>NaN</td>\n",
       "      <td>NaN</td>\n",
       "      <td>NaN</td>\n",
       "      <td>NaN</td>\n",
       "      <td>Moraceae</td>\n",
       "      <td>NaN</td>\n",
       "      <td>Mexico</td>\n",
       "      <td>Standley</td>\n",
       "      <td>NaN</td>\n",
       "      <td>NaN</td>\n",
       "      <td>Castilla elastica</td>\n",
       "      <td>NaN</td>\n",
       "      <td>DUKE</td>\n",
       "      <td>02-FEB-98</td>\n",
       "      <td>NaN</td>\n",
       "    </tr>\n",
       "    <tr>\n",
       "      <th>2</th>\n",
       "      <td>3</td>\n",
       "      <td>Abcess</td>\n",
       "      <td>Pistia</td>\n",
       "      <td>stratiotes</td>\n",
       "      <td>NaN</td>\n",
       "      <td>NaN</td>\n",
       "      <td>NaN</td>\n",
       "      <td>NaN</td>\n",
       "      <td>Araceae</td>\n",
       "      <td>NaN</td>\n",
       "      <td>Elsewhere</td>\n",
       "      <td>Duke,1972</td>\n",
       "      <td>NaN</td>\n",
       "      <td>NaN</td>\n",
       "      <td>Pistia stratiotes</td>\n",
       "      <td>NaN</td>\n",
       "      <td>DUKE</td>\n",
       "      <td>02-FEB-98</td>\n",
       "      <td>NaN</td>\n",
       "    </tr>\n",
       "    <tr>\n",
       "      <th>3</th>\n",
       "      <td>4</td>\n",
       "      <td>Abdomen</td>\n",
       "      <td>Achillea</td>\n",
       "      <td>sibirica</td>\n",
       "      <td>NaN</td>\n",
       "      <td>NaN</td>\n",
       "      <td>NaN</td>\n",
       "      <td>NaN</td>\n",
       "      <td>Asteraceae</td>\n",
       "      <td>NaN</td>\n",
       "      <td>China</td>\n",
       "      <td>Hunan</td>\n",
       "      <td>NaN</td>\n",
       "      <td>NaN</td>\n",
       "      <td>Achillea sibirica</td>\n",
       "      <td>NaN</td>\n",
       "      <td>DUKE</td>\n",
       "      <td>02-FEB-98</td>\n",
       "      <td>NaN</td>\n",
       "    </tr>\n",
       "    <tr>\n",
       "      <th>4</th>\n",
       "      <td>5</td>\n",
       "      <td>Abdomen</td>\n",
       "      <td>Adenia</td>\n",
       "      <td>lobata</td>\n",
       "      <td>NaN</td>\n",
       "      <td>NaN</td>\n",
       "      <td>NaN</td>\n",
       "      <td>NaN</td>\n",
       "      <td>Passifloraceae</td>\n",
       "      <td>NaN</td>\n",
       "      <td>Upper Volta</td>\n",
       "      <td>Ayensu</td>\n",
       "      <td>NaN</td>\n",
       "      <td>NaN</td>\n",
       "      <td>Adenia lobata</td>\n",
       "      <td>NaN</td>\n",
       "      <td>DUKE</td>\n",
       "      <td>02-FEB-98</td>\n",
       "      <td>NaN</td>\n",
       "    </tr>\n",
       "  </tbody>\n",
       "</table>\n",
       "</div>"
      ],
      "text/plain": [
       "   ETHNO ACTIVITY     GENUS      SPECIES SPAUT SPRANK SPXNAM  SPXAUT  \\\n",
       "0      1   Abcess  Achillea  millefolium   NaN    NaN    NaN     NaN   \n",
       "1      2   Abcess  Castilla     elastica   NaN    NaN    NaN     NaN   \n",
       "2      3   Abcess    Pistia   stratiotes   NaN    NaN    NaN     NaN   \n",
       "3      4  Abdomen  Achillea     sibirica   NaN    NaN    NaN     NaN   \n",
       "4      5  Abdomen    Adenia       lobata   NaN    NaN    NaN     NaN   \n",
       "\n",
       "           FAMILY CNAME      COUNTRY  REFERENCE  LONGREF EFFECTIVE  \\\n",
       "0      Asteraceae   NaN          NaN      Uphof      NaN       NaN   \n",
       "1        Moraceae   NaN       Mexico   Standley      NaN       NaN   \n",
       "2         Araceae   NaN    Elsewhere  Duke,1972      NaN       NaN   \n",
       "3      Asteraceae   NaN        China      Hunan      NaN       NaN   \n",
       "4  Passifloraceae   NaN  Upper Volta     Ayensu      NaN       NaN   \n",
       "\n",
       "                  TAXON TAXAUTHOR USERID    CREATED  MODIFIED  \n",
       "0  Achillea millefolium       NaN   DUKE  02-FEB-98       NaN  \n",
       "1     Castilla elastica       NaN   DUKE  02-FEB-98       NaN  \n",
       "2     Pistia stratiotes       NaN   DUKE  02-FEB-98       NaN  \n",
       "3     Achillea sibirica       NaN   DUKE  02-FEB-98       NaN  \n",
       "4         Adenia lobata       NaN   DUKE  02-FEB-98       NaN  "
      ]
     },
     "execution_count": 6,
     "metadata": {},
     "output_type": "execute_result"
    }
   ],
   "source": [
    "duke_df.head()"
   ]
  },
  {
   "cell_type": "markdown",
   "metadata": {},
   "source": [
    "The dataset describes unique treatments by pairing an \"activity\" (= ailment targeted by this specific treatment) with a specific plant, further indicating the reference of the research that has described this relationship between plant and treatment and other information such as the country, genus and species, common name, family etc."
   ]
  },
  {
   "cell_type": "markdown",
   "metadata": {},
   "source": [
    "#### \"Activities\":"
   ]
  },
  {
   "cell_type": "markdown",
   "metadata": {},
   "source": [
    "The \"activities\", i.e. curative properties ascribed to a given herb, cover a wide range of ailments and conditions."
   ]
  },
  {
   "cell_type": "code",
   "execution_count": 8,
   "metadata": {},
   "outputs": [
    {
     "data": {
      "text/plain": [
       "2235"
      ]
     },
     "execution_count": 8,
     "metadata": {},
     "output_type": "execute_result"
    }
   ],
   "source": [
    "activities = duke_df[\"ACTIVITY\"].unique()\n",
    "len(activities)"
   ]
  },
  {
   "cell_type": "markdown",
   "metadata": {},
   "source": [
    "As we can see, over 2200 unique conditions are described by the dataset. Looking at these afflictions in more detail:"
   ]
  },
  {
   "cell_type": "code",
   "execution_count": 20,
   "metadata": {},
   "outputs": [
    {
     "name": "stdout",
     "output_type": "stream",
     "text": [
      "Abcess --- Acne --- Amebiasis --- Anodyne --- Antidote(Ipoh) --- Antidote(Cyanide) --- Antidote(Rhus) --- Antifertility --- Antismoking --- Appendicitis --- Ataxia(Locomotor) --- Beri-Beri --- Bitter-Aromatic --- Ache(Bones) --- Bunion --- Cancer(Eye) --- Cancer(Thyroid) --- Caries --- Cervix --- Cholera --- Colic(Veterinary) --- Copremia --- Cyanache --- Dentition --- Digestive disease --- Dye --- Egilops --- Enteromegaly --- Excitant --- Fear --- Finger --- Fracture(Veterinary) --- Gall Bladder --- Giddiness --- Gunshot --- Heart --- Hemolytic --- Hirudicide --- Hypertension --- Indigestion --- Intestinal-Troubles --- Kneecap --- Leg --- Liver --- Madness --- Medical --- Metroxenia --- Mucus --- Necklace --- Nightsweats --- Oncolytic --- Oxyuriasis --- Paroxysm --- Philtre --- Pneumonia --- Porridge --- Preventitive(Disease) --- Proctitis --- Puberty --- Rain-Making --- Repellant(Moth) --- Rib --- Scab(Veterinary) --- Sclerosis(Testicle) --- Shortwindedness --- Sore(Eye) --- Stasis --- Stone --- Surgical-Dressing --- Tattoo --- Thrombosis --- Toxemia --- Tumor(Feet) --- Tumor(Scrotum) --- Ulcer(Veterinary) --- Uvulitis --- Vinegar --- Wen --- Fissure --- Antidote(Brimstone) --- Narcotic(Veterinary) --- Preventative (Gray Hair) --- Aperient(Veterinary) --- Convulsion(Pediatric) --- Genito-Urinary --- Monoplegia --- Preventitive(Scar) --- Sweat-Bath --- Weariness --- Fontanellele\n"
     ]
    }
   ],
   "source": [
    "print(*activities[::25].tolist(), sep=\" --- \")"
   ]
  },
  {
   "cell_type": "markdown",
   "metadata": {},
   "source": [
    "The described disease/condition can range from a rather general description, such as aches, to specific ailments and injuries such as gunshot wounds, diabetes and so on. The category \"spice\" is also included. This wide range of descriptors warrants some further treatment of the data further down the line."
   ]
  },
  {
   "cell_type": "markdown",
   "metadata": {},
   "source": [
    "#### Herbs:"
   ]
  },
  {
   "cell_type": "markdown",
   "metadata": {},
   "source": [
    "Herbs are mentioned by their taxonomic name and, if available, a common name. \n",
    "* Are there maybe several common names for the same herb mentioned at different data entries?"
   ]
  },
  {
   "cell_type": "code",
   "execution_count": 21,
   "metadata": {},
   "outputs": [],
   "source": [
    "herbs = duke_df[\"TAXON\"].unique()"
   ]
  },
  {
   "cell_type": "code",
   "execution_count": 61,
   "metadata": {},
   "outputs": [
    {
     "data": {
      "text/plain": [
       "13079"
      ]
     },
     "execution_count": 61,
     "metadata": {},
     "output_type": "execute_result"
    }
   ],
   "source": [
    "len(herbs)"
   ]
  },
  {
   "cell_type": "markdown",
   "metadata": {},
   "source": [
    "In total, the dataset contains data about over 13000 unique herbs that have been subjected to ethonobotanical or phytochemical research."
   ]
  },
  {
   "cell_type": "code",
   "execution_count": 69,
   "metadata": {},
   "outputs": [],
   "source": [
    "herbs_list = list()\n",
    "for herb in duke_df.values:\n",
    "    herbs_dict = dict()\n",
    "    herbs_dict[\"TAXON\"] = herb[14]\n",
    "    herbs_dict[\"CNAME\"] = herb[9]\n",
    "    if herbs_dict not in herbs_list:\n",
    "        herbs_list.append(herbs_dict)"
   ]
  },
  {
   "cell_type": "markdown",
   "metadata": {},
   "source": [
    "Pairing of taxonomic name and common name (if available):"
   ]
  },
  {
   "cell_type": "code",
   "execution_count": 76,
   "metadata": {},
   "outputs": [
    {
     "name": "stdout",
     "output_type": "stream",
     "text": [
      "{'TAXON': 'Achillea millefolium', 'CNAME': nan} --- {'TAXON': 'Lepidium sativum', 'CNAME': nan} --- {'TAXON': 'Nymphaea odorata', 'CNAME': 'Kokulu Nilufer'} --- {'TAXON': 'Crithmum maritimum', 'CNAME': 'Meerfenchel'} --- {'TAXON': 'Ocotea bullata', 'CNAME': 'Black Stinkwood'} --- {'TAXON': 'Typhonium orixense', 'CNAME': nan} --- {'TAXON': 'Viola odorata', 'CNAME': 'Banaf Shah'} --- {'TAXON': 'Curcuma domestica', 'CNAME': 'Kurkuma Uzum'} --- {'TAXON': 'Spondias mombin', 'CNAME': 'Mombin Franc'} --- {'TAXON': 'Hordeum vulgare', 'CNAME': 'Cebada'} --- {'TAXON': 'Dioscorea crispata', 'CNAME': nan} --- {'TAXON': 'Buddleja brasiliensis', 'CNAME': nan} --- {'TAXON': 'Befaria aestuans', 'CNAME': 'Bejar'} --- {'TAXON': 'Nesaea salicifolia', 'CNAME': nan} --- {'TAXON': 'Gastrochilus panduratum', 'CNAME': 'Dekunchi'} --- {'TAXON': 'Alocasia macrorrhiza', 'CNAME': 'Kuan Yin Lien'} --- {'TAXON': 'Cymbidium sp', 'CNAME': nan} --- {'TAXON': 'Hedychium philippense', 'CNAME': nan} --- {'TAXON': 'Cucurbita moschata', 'CNAME': 'Nan Kua'} --- {'TAXON': 'Potentilla rupestris', 'CNAME': 'Pentaphyllon'} --- {'TAXON': 'Euphorbia lathyris', 'CNAME': 'Horuto-Soo'} --- {'TAXON': 'Menyanthes trifoliata', 'CNAME': 'Trefoil,Bean'} --- {'TAXON': 'Atriplex barclayana', 'CNAME': nan} --- {'TAXON': 'Rhynchosia adenodes', 'CNAME': nan} --- {'TAXON': 'Lathyrus incanus', 'CNAME': 'Wild Pea'} --- {'TAXON': 'Ulmus hollandica', 'CNAME': 'Elme'}\n"
     ]
    }
   ],
   "source": [
    "herbs_list[::250]\n",
    "print(*herbs_list[::1000], sep=\" --- \")"
   ]
  },
  {
   "cell_type": "code",
   "execution_count": 77,
   "metadata": {},
   "outputs": [
    {
     "data": {
      "text/plain": [
       "25728"
      ]
     },
     "execution_count": 77,
     "metadata": {},
     "output_type": "execute_result"
    }
   ],
   "source": [
    "len(herbs_list)"
   ]
  },
  {
   "cell_type": "markdown",
   "metadata": {},
   "source": [
    "For some reason, the length is longer than the count of unique herbs?\n",
    "* because there can be several common names that will only be mentioned at different entries, so it creates a unique \"TAXON\" + \"CNAME\" dictionary in the list?"
   ]
  },
  {
   "cell_type": "code",
   "execution_count": 78,
   "metadata": {},
   "outputs": [
    {
     "name": "stdout",
     "output_type": "stream",
     "text": [
      "{'TAXON': 'Crithmum maritimum', 'CNAME': 'Meerfenchel'}\n",
      "{'TAXON': 'Crithmum maritimum', 'CNAME': 'Fenouil Marin'}\n",
      "{'TAXON': 'Crithmum maritimum', 'CNAME': 'Finochio Marino'}\n",
      "{'TAXON': 'Crithmum maritimum', 'CNAME': 'Sea Fennel'}\n",
      "{'TAXON': 'Crithmum maritimum', 'CNAME': 'Zeevenkel'}\n",
      "{'TAXON': 'Crithmum maritimum', 'CNAME': 'Sanpetra'}\n",
      "{'TAXON': 'Crithmum maritimum', 'CNAME': 'Fennel,Sea'}\n",
      "{'TAXON': 'Crithmum maritimum', 'CNAME': 'Hinojo Marino'}\n"
     ]
    }
   ],
   "source": [
    "for herb in herbs_list:\n",
    "    if herb[\"TAXON\"] == \"Crithmum maritimum\":\n",
    "        print(herb)"
   ]
  },
  {
   "cell_type": "code",
   "execution_count": 73,
   "metadata": {},
   "outputs": [
    {
     "data": {
      "text/plain": [
       "4225         Meerfenchel\n",
       "15463      Fenouil Marin\n",
       "17239    Finochio Marino\n",
       "17862         Sea Fennel\n",
       "42763          Zeevenkel\n",
       "46606           Sanpetra\n",
       "52103         Fennel,Sea\n",
       "57628      Hinojo Marino\n",
       "Name: CNAME, dtype: object"
      ]
     },
     "execution_count": 73,
     "metadata": {},
     "output_type": "execute_result"
    }
   ],
   "source": [
    "filt = (duke_df[\"TAXON\"] == \"Crithmum maritimum\")\n",
    "duke_df[filt][\"CNAME\"]"
   ]
  },
  {
   "cell_type": "markdown",
   "metadata": {},
   "source": [
    "This need to be kept in mind further down the line when transforming data from the dataset.\n",
    "* create dataframe sorted by unique herb (== \"TAXON\"), containing lists of all \"CNAMES\" and \"ACTIVITIES\" \n",
    "    * ignore rest of the data?"
   ]
  },
  {
   "cell_type": "markdown",
   "metadata": {},
   "source": [
    "##### Ex. Ginger:"
   ]
  },
  {
   "cell_type": "code",
   "execution_count": 79,
   "metadata": {},
   "outputs": [
    {
     "data": {
      "text/html": [
       "<div>\n",
       "<style scoped>\n",
       "    .dataframe tbody tr th:only-of-type {\n",
       "        vertical-align: middle;\n",
       "    }\n",
       "\n",
       "    .dataframe tbody tr th {\n",
       "        vertical-align: top;\n",
       "    }\n",
       "\n",
       "    .dataframe thead th {\n",
       "        text-align: right;\n",
       "    }\n",
       "</style>\n",
       "<table border=\"1\" class=\"dataframe\">\n",
       "  <thead>\n",
       "    <tr style=\"text-align: right;\">\n",
       "      <th></th>\n",
       "      <th>ETHNO</th>\n",
       "      <th>ACTIVITY</th>\n",
       "      <th>GENUS</th>\n",
       "      <th>SPECIES</th>\n",
       "      <th>SPAUT</th>\n",
       "      <th>SPRANK</th>\n",
       "      <th>SPXNAM</th>\n",
       "      <th>SPXAUT</th>\n",
       "      <th>FAMILY</th>\n",
       "      <th>CNAME</th>\n",
       "      <th>COUNTRY</th>\n",
       "      <th>REFERENCE</th>\n",
       "      <th>LONGREF</th>\n",
       "      <th>EFFECTIVE</th>\n",
       "      <th>TAXON</th>\n",
       "      <th>TAXAUTHOR</th>\n",
       "      <th>USERID</th>\n",
       "      <th>CREATED</th>\n",
       "      <th>MODIFIED</th>\n",
       "    </tr>\n",
       "  </thead>\n",
       "  <tbody>\n",
       "    <tr>\n",
       "      <th>9573</th>\n",
       "      <td>9574</td>\n",
       "      <td>Cancer</td>\n",
       "      <td>Zingiber</td>\n",
       "      <td>officinale</td>\n",
       "      <td>NaN</td>\n",
       "      <td>NaN</td>\n",
       "      <td>NaN</td>\n",
       "      <td>NaN</td>\n",
       "      <td>Zingiberaceae</td>\n",
       "      <td>Ginger</td>\n",
       "      <td>China</td>\n",
       "      <td>Hartwell</td>\n",
       "      <td>NaN</td>\n",
       "      <td>NaN</td>\n",
       "      <td>Zingiber officinale</td>\n",
       "      <td>NaN</td>\n",
       "      <td>DUKE</td>\n",
       "      <td>02-FEB-98</td>\n",
       "      <td>NaN</td>\n",
       "    </tr>\n",
       "    <tr>\n",
       "      <th>9650</th>\n",
       "      <td>9651</td>\n",
       "      <td>Cancer(Breast)</td>\n",
       "      <td>Zingiber</td>\n",
       "      <td>officinale</td>\n",
       "      <td>NaN</td>\n",
       "      <td>NaN</td>\n",
       "      <td>NaN</td>\n",
       "      <td>NaN</td>\n",
       "      <td>Zingiberaceae</td>\n",
       "      <td>Ginger</td>\n",
       "      <td>US</td>\n",
       "      <td>Hartwell</td>\n",
       "      <td>NaN</td>\n",
       "      <td>NaN</td>\n",
       "      <td>Zingiber officinale</td>\n",
       "      <td>NaN</td>\n",
       "      <td>DUKE</td>\n",
       "      <td>02-FEB-98</td>\n",
       "      <td>NaN</td>\n",
       "    </tr>\n",
       "    <tr>\n",
       "      <th>10795</th>\n",
       "      <td>10796</td>\n",
       "      <td>Carminative</td>\n",
       "      <td>Zingiber</td>\n",
       "      <td>officinale</td>\n",
       "      <td>NaN</td>\n",
       "      <td>NaN</td>\n",
       "      <td>NaN</td>\n",
       "      <td>NaN</td>\n",
       "      <td>Zingiberaceae</td>\n",
       "      <td>Ginger</td>\n",
       "      <td>Asia</td>\n",
       "      <td>Uphof</td>\n",
       "      <td>NaN</td>\n",
       "      <td>NaN</td>\n",
       "      <td>Zingiber officinale</td>\n",
       "      <td>NaN</td>\n",
       "      <td>DUKE</td>\n",
       "      <td>02-FEB-98</td>\n",
       "      <td>NaN</td>\n",
       "    </tr>\n",
       "    <tr>\n",
       "      <th>45326</th>\n",
       "      <td>45327</td>\n",
       "      <td>Sore</td>\n",
       "      <td>Zingiber</td>\n",
       "      <td>officinale</td>\n",
       "      <td>NaN</td>\n",
       "      <td>NaN</td>\n",
       "      <td>NaN</td>\n",
       "      <td>NaN</td>\n",
       "      <td>Zingiberaceae</td>\n",
       "      <td>Ginger</td>\n",
       "      <td>China</td>\n",
       "      <td>Hartwell</td>\n",
       "      <td>NaN</td>\n",
       "      <td>NaN</td>\n",
       "      <td>Zingiber officinale</td>\n",
       "      <td>NaN</td>\n",
       "      <td>DUKE</td>\n",
       "      <td>02-FEB-98</td>\n",
       "      <td>NaN</td>\n",
       "    </tr>\n",
       "    <tr>\n",
       "      <th>46069</th>\n",
       "      <td>46070</td>\n",
       "      <td>Spice</td>\n",
       "      <td>Zingiber</td>\n",
       "      <td>officinale</td>\n",
       "      <td>NaN</td>\n",
       "      <td>NaN</td>\n",
       "      <td>NaN</td>\n",
       "      <td>NaN</td>\n",
       "      <td>Zingiberaceae</td>\n",
       "      <td>Ginger</td>\n",
       "      <td>Asia</td>\n",
       "      <td>Uphof</td>\n",
       "      <td>NaN</td>\n",
       "      <td>NaN</td>\n",
       "      <td>Zingiber officinale</td>\n",
       "      <td>NaN</td>\n",
       "      <td>DUKE</td>\n",
       "      <td>02-FEB-98</td>\n",
       "      <td>NaN</td>\n",
       "    </tr>\n",
       "    <tr>\n",
       "      <th>55629</th>\n",
       "      <td>55630</td>\n",
       "      <td>Wen</td>\n",
       "      <td>Zingiber</td>\n",
       "      <td>officinale</td>\n",
       "      <td>NaN</td>\n",
       "      <td>NaN</td>\n",
       "      <td>NaN</td>\n",
       "      <td>NaN</td>\n",
       "      <td>Zingiberaceae</td>\n",
       "      <td>Ginger</td>\n",
       "      <td>UK</td>\n",
       "      <td>Hartwell</td>\n",
       "      <td>NaN</td>\n",
       "      <td>NaN</td>\n",
       "      <td>Zingiber officinale</td>\n",
       "      <td>NaN</td>\n",
       "      <td>DUKE</td>\n",
       "      <td>02-FEB-98</td>\n",
       "      <td>NaN</td>\n",
       "    </tr>\n",
       "    <tr>\n",
       "      <th>62901</th>\n",
       "      <td>62902</td>\n",
       "      <td>Perfume</td>\n",
       "      <td>Zingiber</td>\n",
       "      <td>officinale</td>\n",
       "      <td>NaN</td>\n",
       "      <td>NaN</td>\n",
       "      <td>NaN</td>\n",
       "      <td>NaN</td>\n",
       "      <td>Zingiberaceae</td>\n",
       "      <td>Ginger</td>\n",
       "      <td>Asia</td>\n",
       "      <td>Uphof</td>\n",
       "      <td>NaN</td>\n",
       "      <td>NaN</td>\n",
       "      <td>Zingiber officinale</td>\n",
       "      <td>NaN</td>\n",
       "      <td>DUKE</td>\n",
       "      <td>02-FEB-98</td>\n",
       "      <td>NaN</td>\n",
       "    </tr>\n",
       "    <tr>\n",
       "      <th>62907</th>\n",
       "      <td>62908</td>\n",
       "      <td>Stimulant</td>\n",
       "      <td>Zingiber</td>\n",
       "      <td>officinale</td>\n",
       "      <td>NaN</td>\n",
       "      <td>NaN</td>\n",
       "      <td>NaN</td>\n",
       "      <td>NaN</td>\n",
       "      <td>Zingiberaceae</td>\n",
       "      <td>Ginger</td>\n",
       "      <td>Asia</td>\n",
       "      <td>Uphof</td>\n",
       "      <td>NaN</td>\n",
       "      <td>NaN</td>\n",
       "      <td>Zingiber officinale</td>\n",
       "      <td>NaN</td>\n",
       "      <td>DUKE</td>\n",
       "      <td>02-FEB-98</td>\n",
       "      <td>NaN</td>\n",
       "    </tr>\n",
       "    <tr>\n",
       "      <th>62913</th>\n",
       "      <td>62914</td>\n",
       "      <td>Tumor(Hand)</td>\n",
       "      <td>Zingiber</td>\n",
       "      <td>officinale</td>\n",
       "      <td>NaN</td>\n",
       "      <td>NaN</td>\n",
       "      <td>NaN</td>\n",
       "      <td>NaN</td>\n",
       "      <td>Zingiberaceae</td>\n",
       "      <td>Ginger</td>\n",
       "      <td>Indonesia</td>\n",
       "      <td>Hartwell</td>\n",
       "      <td>NaN</td>\n",
       "      <td>NaN</td>\n",
       "      <td>Zingiber officinale</td>\n",
       "      <td>NaN</td>\n",
       "      <td>DUKE</td>\n",
       "      <td>02-FEB-98</td>\n",
       "      <td>NaN</td>\n",
       "    </tr>\n",
       "    <tr>\n",
       "      <th>73314</th>\n",
       "      <td>73315</td>\n",
       "      <td>Liqueur</td>\n",
       "      <td>Zingiber</td>\n",
       "      <td>officinale</td>\n",
       "      <td>NaN</td>\n",
       "      <td>NaN</td>\n",
       "      <td>NaN</td>\n",
       "      <td>NaN</td>\n",
       "      <td>Zingiberaceae</td>\n",
       "      <td>Ginger</td>\n",
       "      <td>Asia</td>\n",
       "      <td>Uphof</td>\n",
       "      <td>NaN</td>\n",
       "      <td>NaN</td>\n",
       "      <td>Zingiber officinale</td>\n",
       "      <td>NaN</td>\n",
       "      <td>DUKE</td>\n",
       "      <td>02-FEB-98</td>\n",
       "      <td>NaN</td>\n",
       "    </tr>\n",
       "    <tr>\n",
       "      <th>79753</th>\n",
       "      <td>79754</td>\n",
       "      <td>Ulcer</td>\n",
       "      <td>Zingiber</td>\n",
       "      <td>officinale</td>\n",
       "      <td>NaN</td>\n",
       "      <td>NaN</td>\n",
       "      <td>NaN</td>\n",
       "      <td>NaN</td>\n",
       "      <td>Zingiberaceae</td>\n",
       "      <td>Ginger</td>\n",
       "      <td>India</td>\n",
       "      <td>K&amp;B</td>\n",
       "      <td>NaN</td>\n",
       "      <td>NaN</td>\n",
       "      <td>Zingiber officinale</td>\n",
       "      <td>NaN</td>\n",
       "      <td>DUKE</td>\n",
       "      <td>02-FEB-98</td>\n",
       "      <td>NaN</td>\n",
       "    </tr>\n",
       "  </tbody>\n",
       "</table>\n",
       "</div>"
      ],
      "text/plain": [
       "       ETHNO        ACTIVITY     GENUS     SPECIES SPAUT SPRANK SPXNAM  \\\n",
       "9573    9574          Cancer  Zingiber  officinale   NaN    NaN    NaN   \n",
       "9650    9651  Cancer(Breast)  Zingiber  officinale   NaN    NaN    NaN   \n",
       "10795  10796     Carminative  Zingiber  officinale   NaN    NaN    NaN   \n",
       "45326  45327            Sore  Zingiber  officinale   NaN    NaN    NaN   \n",
       "46069  46070           Spice  Zingiber  officinale   NaN    NaN    NaN   \n",
       "55629  55630             Wen  Zingiber  officinale   NaN    NaN    NaN   \n",
       "62901  62902         Perfume  Zingiber  officinale   NaN    NaN    NaN   \n",
       "62907  62908       Stimulant  Zingiber  officinale   NaN    NaN    NaN   \n",
       "62913  62914     Tumor(Hand)  Zingiber  officinale   NaN    NaN    NaN   \n",
       "73314  73315         Liqueur  Zingiber  officinale   NaN    NaN    NaN   \n",
       "79753  79754           Ulcer  Zingiber  officinale   NaN    NaN    NaN   \n",
       "\n",
       "       SPXAUT         FAMILY   CNAME    COUNTRY REFERENCE  LONGREF EFFECTIVE  \\\n",
       "9573      NaN  Zingiberaceae  Ginger      China  Hartwell      NaN       NaN   \n",
       "9650      NaN  Zingiberaceae  Ginger         US  Hartwell      NaN       NaN   \n",
       "10795     NaN  Zingiberaceae  Ginger       Asia     Uphof      NaN       NaN   \n",
       "45326     NaN  Zingiberaceae  Ginger      China  Hartwell      NaN       NaN   \n",
       "46069     NaN  Zingiberaceae  Ginger       Asia     Uphof      NaN       NaN   \n",
       "55629     NaN  Zingiberaceae  Ginger         UK  Hartwell      NaN       NaN   \n",
       "62901     NaN  Zingiberaceae  Ginger       Asia     Uphof      NaN       NaN   \n",
       "62907     NaN  Zingiberaceae  Ginger       Asia     Uphof      NaN       NaN   \n",
       "62913     NaN  Zingiberaceae  Ginger  Indonesia  Hartwell      NaN       NaN   \n",
       "73314     NaN  Zingiberaceae  Ginger       Asia     Uphof      NaN       NaN   \n",
       "79753     NaN  Zingiberaceae  Ginger      India       K&B      NaN       NaN   \n",
       "\n",
       "                     TAXON TAXAUTHOR USERID    CREATED  MODIFIED  \n",
       "9573   Zingiber officinale       NaN   DUKE  02-FEB-98       NaN  \n",
       "9650   Zingiber officinale       NaN   DUKE  02-FEB-98       NaN  \n",
       "10795  Zingiber officinale       NaN   DUKE  02-FEB-98       NaN  \n",
       "45326  Zingiber officinale       NaN   DUKE  02-FEB-98       NaN  \n",
       "46069  Zingiber officinale       NaN   DUKE  02-FEB-98       NaN  \n",
       "55629  Zingiber officinale       NaN   DUKE  02-FEB-98       NaN  \n",
       "62901  Zingiber officinale       NaN   DUKE  02-FEB-98       NaN  \n",
       "62907  Zingiber officinale       NaN   DUKE  02-FEB-98       NaN  \n",
       "62913  Zingiber officinale       NaN   DUKE  02-FEB-98       NaN  \n",
       "73314  Zingiber officinale       NaN   DUKE  02-FEB-98       NaN  \n",
       "79753  Zingiber officinale       NaN   DUKE  02-FEB-98       NaN  "
      ]
     },
     "execution_count": 79,
     "metadata": {},
     "output_type": "execute_result"
    }
   ],
   "source": [
    "filt_ginger = (duke_df[\"CNAME\"] == \"Ginger\")\n",
    "duke_df[filt_ginger]"
   ]
  },
  {
   "cell_type": "markdown",
   "metadata": {},
   "source": [
    "## KEW Datasets:"
   ]
  },
  {
   "cell_type": "markdown",
   "metadata": {},
   "source": [
    "A really nice and thorough website, however downloadable csv's do not contain all the information from the website. Some of the datasets contain the links to the webpages for each individual plant, however a more thorough look reveals that there's no standardised presentation for the plants. Therefore, scraping for information from the website seems futile."
   ]
  },
  {
   "cell_type": "markdown",
   "metadata": {},
   "source": [
    "#### DWCA:"
   ]
  },
  {
   "cell_type": "code",
   "execution_count": 6,
   "metadata": {},
   "outputs": [],
   "source": [
    "dwca_dis_df = pd.read_csv(\"./data/DWCA/wcvp_distribution.csv\", sep=\"|\")\n",
    "dwca_rep_df = pd.read_csv(\"./data/DWCA/wcvp_replacementNames.csv\", sep=\"|\")"
   ]
  },
  {
   "cell_type": "markdown",
   "metadata": {},
   "source": [
    "The wcvp_taxon.csv is extremely large (not pushed to github)."
   ]
  },
  {
   "cell_type": "code",
   "execution_count": 7,
   "metadata": {},
   "outputs": [],
   "source": [
    "dwca_tax_df = pd.read_csv(\"./data/DWCA/wcvp_taxon.csv\", sep=\"|\")"
   ]
  },
  {
   "cell_type": "markdown",
   "metadata": {},
   "source": [
    "### Head:"
   ]
  },
  {
   "cell_type": "markdown",
   "metadata": {},
   "source": [
    "Something that these datasets might be useful for when cross-referencing is their information of localisation of the plants. Warrants more thorough examination."
   ]
  },
  {
   "cell_type": "code",
   "execution_count": 82,
   "metadata": {},
   "outputs": [
    {
     "data": {
      "text/html": [
       "<div>\n",
       "<style scoped>\n",
       "    .dataframe tbody tr th:only-of-type {\n",
       "        vertical-align: middle;\n",
       "    }\n",
       "\n",
       "    .dataframe tbody tr th {\n",
       "        vertical-align: top;\n",
       "    }\n",
       "\n",
       "    .dataframe thead th {\n",
       "        text-align: right;\n",
       "    }\n",
       "</style>\n",
       "<table border=\"1\" class=\"dataframe\">\n",
       "  <thead>\n",
       "    <tr style=\"text-align: right;\">\n",
       "      <th></th>\n",
       "      <th>coreid</th>\n",
       "      <th>locality</th>\n",
       "      <th>establishmentmeans</th>\n",
       "      <th>locationid</th>\n",
       "      <th>occurrencestatus</th>\n",
       "      <th>threatstatus</th>\n",
       "    </tr>\n",
       "  </thead>\n",
       "  <tbody>\n",
       "    <tr>\n",
       "      <th>0</th>\n",
       "      <td>1</td>\n",
       "      <td>Argentina Northeast</td>\n",
       "      <td>NaN</td>\n",
       "      <td>TDWG:AGE</td>\n",
       "      <td>NaN</td>\n",
       "      <td>NaN</td>\n",
       "    </tr>\n",
       "    <tr>\n",
       "      <th>1</th>\n",
       "      <td>1</td>\n",
       "      <td>Argentina Northwest</td>\n",
       "      <td>NaN</td>\n",
       "      <td>TDWG:AGW</td>\n",
       "      <td>NaN</td>\n",
       "      <td>NaN</td>\n",
       "    </tr>\n",
       "    <tr>\n",
       "      <th>2</th>\n",
       "      <td>1</td>\n",
       "      <td>Bolivia</td>\n",
       "      <td>NaN</td>\n",
       "      <td>TDWG:BOL</td>\n",
       "      <td>NaN</td>\n",
       "      <td>NaN</td>\n",
       "    </tr>\n",
       "    <tr>\n",
       "      <th>3</th>\n",
       "      <td>1</td>\n",
       "      <td>Brazil North</td>\n",
       "      <td>NaN</td>\n",
       "      <td>TDWG:BZN</td>\n",
       "      <td>NaN</td>\n",
       "      <td>NaN</td>\n",
       "    </tr>\n",
       "    <tr>\n",
       "      <th>4</th>\n",
       "      <td>1</td>\n",
       "      <td>Colombia</td>\n",
       "      <td>NaN</td>\n",
       "      <td>TDWG:CLM</td>\n",
       "      <td>NaN</td>\n",
       "      <td>NaN</td>\n",
       "    </tr>\n",
       "  </tbody>\n",
       "</table>\n",
       "</div>"
      ],
      "text/plain": [
       "   coreid             locality establishmentmeans locationid occurrencestatus  \\\n",
       "0       1  Argentina Northeast                NaN   TDWG:AGE              NaN   \n",
       "1       1  Argentina Northwest                NaN   TDWG:AGW              NaN   \n",
       "2       1              Bolivia                NaN   TDWG:BOL              NaN   \n",
       "3       1         Brazil North                NaN   TDWG:BZN              NaN   \n",
       "4       1             Colombia                NaN   TDWG:CLM              NaN   \n",
       "\n",
       "  threatstatus  \n",
       "0          NaN  \n",
       "1          NaN  \n",
       "2          NaN  \n",
       "3          NaN  \n",
       "4          NaN  "
      ]
     },
     "execution_count": 82,
     "metadata": {},
     "output_type": "execute_result"
    }
   ],
   "source": [
    "dwca_dis_df.head()"
   ]
  },
  {
   "cell_type": "code",
   "execution_count": 85,
   "metadata": {},
   "outputs": [
    {
     "data": {
      "text/html": [
       "<div>\n",
       "<style scoped>\n",
       "    .dataframe tbody tr th:only-of-type {\n",
       "        vertical-align: middle;\n",
       "    }\n",
       "\n",
       "    .dataframe tbody tr th {\n",
       "        vertical-align: top;\n",
       "    }\n",
       "\n",
       "    .dataframe thead th {\n",
       "        text-align: right;\n",
       "    }\n",
       "</style>\n",
       "<table border=\"1\" class=\"dataframe\">\n",
       "  <thead>\n",
       "    <tr style=\"text-align: right;\">\n",
       "      <th></th>\n",
       "      <th>taxonid</th>\n",
       "      <th>relatednameusageid</th>\n",
       "      <th>relationtype</th>\n",
       "      <th>remarks</th>\n",
       "    </tr>\n",
       "  </thead>\n",
       "  <tbody>\n",
       "    <tr>\n",
       "      <th>0</th>\n",
       "      <td>250443</td>\n",
       "      <td>250232</td>\n",
       "      <td>replacement name</td>\n",
       "      <td>NaN</td>\n",
       "    </tr>\n",
       "    <tr>\n",
       "      <th>1</th>\n",
       "      <td>281366</td>\n",
       "      <td>298758</td>\n",
       "      <td>replacement name</td>\n",
       "      <td>NaN</td>\n",
       "    </tr>\n",
       "    <tr>\n",
       "      <th>2</th>\n",
       "      <td>2595809</td>\n",
       "      <td>2595916</td>\n",
       "      <td>replacement name</td>\n",
       "      <td>NaN</td>\n",
       "    </tr>\n",
       "    <tr>\n",
       "      <th>3</th>\n",
       "      <td>336840</td>\n",
       "      <td>49782</td>\n",
       "      <td>replacement name</td>\n",
       "      <td>NaN</td>\n",
       "    </tr>\n",
       "    <tr>\n",
       "      <th>4</th>\n",
       "      <td>2569633</td>\n",
       "      <td>2569235</td>\n",
       "      <td>replacement name</td>\n",
       "      <td>NaN</td>\n",
       "    </tr>\n",
       "  </tbody>\n",
       "</table>\n",
       "</div>"
      ],
      "text/plain": [
       "   taxonid  relatednameusageid      relationtype remarks\n",
       "0   250443              250232  replacement name     NaN\n",
       "1   281366              298758  replacement name     NaN\n",
       "2  2595809             2595916  replacement name     NaN\n",
       "3   336840               49782  replacement name     NaN\n",
       "4  2569633             2569235  replacement name     NaN"
      ]
     },
     "execution_count": 85,
     "metadata": {},
     "output_type": "execute_result"
    }
   ],
   "source": [
    "dwca_rep_df.head()"
   ]
  },
  {
   "cell_type": "code",
   "execution_count": 86,
   "metadata": {},
   "outputs": [
    {
     "data": {
      "text/html": [
       "<div>\n",
       "<style scoped>\n",
       "    .dataframe tbody tr th:only-of-type {\n",
       "        vertical-align: middle;\n",
       "    }\n",
       "\n",
       "    .dataframe tbody tr th {\n",
       "        vertical-align: top;\n",
       "    }\n",
       "\n",
       "    .dataframe thead th {\n",
       "        text-align: right;\n",
       "    }\n",
       "</style>\n",
       "<table border=\"1\" class=\"dataframe\">\n",
       "  <thead>\n",
       "    <tr style=\"text-align: right;\">\n",
       "      <th></th>\n",
       "      <th>taxonid</th>\n",
       "      <th>family</th>\n",
       "      <th>genus</th>\n",
       "      <th>specificepithet</th>\n",
       "      <th>infraspecificepithet</th>\n",
       "      <th>scientfiicname</th>\n",
       "      <th>scientfiicnameauthorship</th>\n",
       "      <th>taxonrank</th>\n",
       "      <th>taxonomicstatus</th>\n",
       "      <th>acceptednameusageid</th>\n",
       "      <th>parentnameusageid</th>\n",
       "      <th>originalnameusageid</th>\n",
       "      <th>namepublishedin</th>\n",
       "      <th>nomenclaturalstatus</th>\n",
       "      <th>taxonremarks</th>\n",
       "      <th>scientificnameid</th>\n",
       "      <th>dynamicproperties</th>\n",
       "      <th>references</th>\n",
       "    </tr>\n",
       "  </thead>\n",
       "  <tbody>\n",
       "    <tr>\n",
       "      <th>0</th>\n",
       "      <td>1</td>\n",
       "      <td>Orchidaceae</td>\n",
       "      <td>Aa</td>\n",
       "      <td>NaN</td>\n",
       "      <td>NaN</td>\n",
       "      <td>Aa</td>\n",
       "      <td>Rchb.f.</td>\n",
       "      <td>Genus</td>\n",
       "      <td>Accepted</td>\n",
       "      <td>1.0</td>\n",
       "      <td>NaN</td>\n",
       "      <td>NaN</td>\n",
       "      <td>Xenia Orchid. 1: 18 (1854)</td>\n",
       "      <td>NaN</td>\n",
       "      <td>Costa Rica to NW. Venezuela and N. Argentina</td>\n",
       "      <td>ipni:28572-1</td>\n",
       "      <td>{\"powoid\":\"28572-1\",\"lifeform\":\"\",\"climate\":\"\"...</td>\n",
       "      <td>https://powo.science.kew.org/taxon/urn:lsid:ip...</td>\n",
       "    </tr>\n",
       "    <tr>\n",
       "      <th>1</th>\n",
       "      <td>2</td>\n",
       "      <td>Orchidaceae</td>\n",
       "      <td>Aa</td>\n",
       "      <td>achalensis</td>\n",
       "      <td>NaN</td>\n",
       "      <td>Aa achalensis</td>\n",
       "      <td>Schltr.</td>\n",
       "      <td>Species</td>\n",
       "      <td>Accepted</td>\n",
       "      <td>2.0</td>\n",
       "      <td>1.0</td>\n",
       "      <td>NaN</td>\n",
       "      <td>Repert. Spec. Nov. Regni Veg. 16: 358 (1920)</td>\n",
       "      <td>NaN</td>\n",
       "      <td>NC. Argentina (La Rioja, San Luis, Córdoba)</td>\n",
       "      <td>ipni:303631-2</td>\n",
       "      <td>{\"powoid\":\"303631-2\",\"lifeform\":\"tuberous geop...</td>\n",
       "      <td>https://powo.science.kew.org/taxon/urn:lsid:ip...</td>\n",
       "    </tr>\n",
       "    <tr>\n",
       "      <th>2</th>\n",
       "      <td>3</td>\n",
       "      <td>Orchidaceae</td>\n",
       "      <td>Aa</td>\n",
       "      <td>argyrolepis</td>\n",
       "      <td>NaN</td>\n",
       "      <td>Aa argyrolepis</td>\n",
       "      <td>Rchb.f.</td>\n",
       "      <td>Species</td>\n",
       "      <td>Accepted</td>\n",
       "      <td>3.0</td>\n",
       "      <td>1.0</td>\n",
       "      <td>NaN</td>\n",
       "      <td>Xenia Orchid. 1: 18 (1854)</td>\n",
       "      <td>NaN</td>\n",
       "      <td>W. South America to N. Brazil</td>\n",
       "      <td>ipni:614525-1</td>\n",
       "      <td>{\"powoid\":\"614525-1\",\"lifeform\":\"tuberous geop...</td>\n",
       "      <td>https://powo.science.kew.org/taxon/urn:lsid:ip...</td>\n",
       "    </tr>\n",
       "    <tr>\n",
       "      <th>3</th>\n",
       "      <td>4</td>\n",
       "      <td>Orchidaceae</td>\n",
       "      <td>Aa</td>\n",
       "      <td>brevis</td>\n",
       "      <td>NaN</td>\n",
       "      <td>Aa brevis</td>\n",
       "      <td>Schltr.</td>\n",
       "      <td>Species</td>\n",
       "      <td>Synonym</td>\n",
       "      <td>132066.0</td>\n",
       "      <td>NaN</td>\n",
       "      <td>NaN</td>\n",
       "      <td>Repert. Spec. Nov. Regni Veg. Beih. 9: 51 (1921)</td>\n",
       "      <td>NaN</td>\n",
       "      <td>Peru</td>\n",
       "      <td>ipni:301821-2</td>\n",
       "      <td>{\"powoid\":\"301821-2\",\"lifeform\":\"\",\"climate\":\"...</td>\n",
       "      <td>https://powo.science.kew.org/taxon/urn:lsid:ip...</td>\n",
       "    </tr>\n",
       "    <tr>\n",
       "      <th>4</th>\n",
       "      <td>5</td>\n",
       "      <td>Orchidaceae</td>\n",
       "      <td>Aa</td>\n",
       "      <td>calceata</td>\n",
       "      <td>NaN</td>\n",
       "      <td>Aa calceata</td>\n",
       "      <td>(Rchb.f.) Schltr.</td>\n",
       "      <td>Species</td>\n",
       "      <td>Accepted</td>\n",
       "      <td>5.0</td>\n",
       "      <td>1.0</td>\n",
       "      <td>7138.0</td>\n",
       "      <td>Repert. Spec. Nov. Regni Veg. 11: 150 (1912)</td>\n",
       "      <td>NaN</td>\n",
       "      <td>Peru to Bolivia</td>\n",
       "      <td>ipni:1008443-2</td>\n",
       "      <td>{\"powoid\":\"1008443-2\",\"lifeform\":\"tuberous geo...</td>\n",
       "      <td>https://powo.science.kew.org/taxon/urn:lsid:ip...</td>\n",
       "    </tr>\n",
       "  </tbody>\n",
       "</table>\n",
       "</div>"
      ],
      "text/plain": [
       "   taxonid       family genus specificepithet infraspecificepithet  \\\n",
       "0        1  Orchidaceae    Aa             NaN                  NaN   \n",
       "1        2  Orchidaceae    Aa      achalensis                  NaN   \n",
       "2        3  Orchidaceae    Aa     argyrolepis                  NaN   \n",
       "3        4  Orchidaceae    Aa          brevis                  NaN   \n",
       "4        5  Orchidaceae    Aa        calceata                  NaN   \n",
       "\n",
       "   scientfiicname scientfiicnameauthorship taxonrank taxonomicstatus  \\\n",
       "0              Aa                  Rchb.f.     Genus        Accepted   \n",
       "1   Aa achalensis                  Schltr.   Species        Accepted   \n",
       "2  Aa argyrolepis                  Rchb.f.   Species        Accepted   \n",
       "3       Aa brevis                  Schltr.   Species         Synonym   \n",
       "4     Aa calceata        (Rchb.f.) Schltr.   Species        Accepted   \n",
       "\n",
       "   acceptednameusageid  parentnameusageid  originalnameusageid  \\\n",
       "0                  1.0                NaN                  NaN   \n",
       "1                  2.0                1.0                  NaN   \n",
       "2                  3.0                1.0                  NaN   \n",
       "3             132066.0                NaN                  NaN   \n",
       "4                  5.0                1.0               7138.0   \n",
       "\n",
       "                                    namepublishedin nomenclaturalstatus  \\\n",
       "0                        Xenia Orchid. 1: 18 (1854)                 NaN   \n",
       "1      Repert. Spec. Nov. Regni Veg. 16: 358 (1920)                 NaN   \n",
       "2                        Xenia Orchid. 1: 18 (1854)                 NaN   \n",
       "3  Repert. Spec. Nov. Regni Veg. Beih. 9: 51 (1921)                 NaN   \n",
       "4      Repert. Spec. Nov. Regni Veg. 11: 150 (1912)                 NaN   \n",
       "\n",
       "                                   taxonremarks scientificnameid  \\\n",
       "0  Costa Rica to NW. Venezuela and N. Argentina     ipni:28572-1   \n",
       "1   NC. Argentina (La Rioja, San Luis, Córdoba)    ipni:303631-2   \n",
       "2                 W. South America to N. Brazil    ipni:614525-1   \n",
       "3                                          Peru    ipni:301821-2   \n",
       "4                               Peru to Bolivia   ipni:1008443-2   \n",
       "\n",
       "                                   dynamicproperties  \\\n",
       "0  {\"powoid\":\"28572-1\",\"lifeform\":\"\",\"climate\":\"\"...   \n",
       "1  {\"powoid\":\"303631-2\",\"lifeform\":\"tuberous geop...   \n",
       "2  {\"powoid\":\"614525-1\",\"lifeform\":\"tuberous geop...   \n",
       "3  {\"powoid\":\"301821-2\",\"lifeform\":\"\",\"climate\":\"...   \n",
       "4  {\"powoid\":\"1008443-2\",\"lifeform\":\"tuberous geo...   \n",
       "\n",
       "                                          references  \n",
       "0  https://powo.science.kew.org/taxon/urn:lsid:ip...  \n",
       "1  https://powo.science.kew.org/taxon/urn:lsid:ip...  \n",
       "2  https://powo.science.kew.org/taxon/urn:lsid:ip...  \n",
       "3  https://powo.science.kew.org/taxon/urn:lsid:ip...  \n",
       "4  https://powo.science.kew.org/taxon/urn:lsid:ip...  "
      ]
     },
     "execution_count": 86,
     "metadata": {},
     "output_type": "execute_result"
    }
   ],
   "source": [
    "dwca_tax_df.head()"
   ]
  },
  {
   "cell_type": "markdown",
   "metadata": {},
   "source": [
    "\"taxonremarks\" to aid in localising the plants?"
   ]
  },
  {
   "cell_type": "code",
   "execution_count": 103,
   "metadata": {},
   "outputs": [
    {
     "data": {
      "text/plain": [
       "80139"
      ]
     },
     "execution_count": 103,
     "metadata": {},
     "output_type": "execute_result"
    }
   ],
   "source": [
    "len(dwca_tax_df[\"taxonremarks\"].unique().tolist())"
   ]
  },
  {
   "cell_type": "code",
   "execution_count": 93,
   "metadata": {},
   "outputs": [],
   "source": [
    "dwca_val = dwca_tax_df[\"taxonremarks\"].value_counts()"
   ]
  },
  {
   "cell_type": "code",
   "execution_count": 108,
   "metadata": {},
   "outputs": [
    {
     "name": "stdout",
     "output_type": "stream",
     "text": [
      "France                                                                                                           12422\n",
      "China to Korea                                                                                                      28\n",
      "Kazakhstan (Karatau)                                                                                                12\n",
      "Iraq to Afghanistan                                                                                                  7\n",
      "Irkutsk (Siberia, Asia-Temperate)                                                                                    5\n",
      "S. India (Tirunelveli Hills)                                                                                         4\n",
      "Ecuador (Loja) to Peru                                                                                               3\n",
      "WC. Canada to NW. & WC. U.S.A.                                                                                       3\n",
      "SE. California to SW. Arizona and Mexico (NE. Baja California, NW. Sonora)                                           2\n",
      "Ins. Philipp. (Luzon)                                                                                                2\n",
      "Labrador, Greenland, Europe                                                                                          2\n",
      "Congo, E. DR Congo to SW. Uganda                                                                                     2\n",
      "Mexico (SE. Sonora, SW. Chihuahua, Sinaloa, NW. Durango)                                                             2\n",
      "Jamaica, Venezuela (Lara, Sucre)                                                                                     1\n",
      "S. Altay to Mongolia                                                                                                 1\n",
      "SW. California (Los Angeles Basin)                                                                                   1\n",
      "Mexico (México State, Jalisco, Colima)                                                                               1\n",
      "China to Korea, S. Kuril Is. to Japan, Sri Lanka                                                                     1\n",
      "China (Guangxi to Hunan and N. Guangdong)                                                                            1\n",
      "Romania to Siberia and Turkey                                                                                        1\n",
      "SE. & S. Brazil to NE. Argentina (Corrientes, Misiones)                                                              1\n",
      "Romania to N. Iran                                                                                                   1\n",
      "W. & S. Mexico to Colombia, Grenada to N. South America                                                              1\n",
      "a cultigen from Trop. & Subtrop. Asia                                                                                1\n",
      "N. Albania to C. Bulgaria                                                                                            1\n",
      "Thailand market                                                                                                      1\n",
      "E. Australia to New Caledonia                                                                                        1\n",
      "N. Oman (Hajar Mts.)                                                                                                 1\n",
      "Cameroon to Gabon (Mts. de Cristal)                                                                                  1\n",
      "?Gard. Chron., III, 1889(1): 619                                                                                     1\n",
      "Galápagos (San Salvador)                                                                                             1\n",
      "E. & S. China                                                                                                        1\n",
      "Kenya (Caikipia)                                                                                                     1\n",
      "Rossia (Ukraine)                                                                                                     1\n",
      "Cuba (Pinar del Río: NW. of Bahía Honda)                                                                             1\n",
      "S. Trop.Africa                                                                                                       1\n",
      "CW. Myanmar to Andaman Is.                                                                                           1\n",
      "NE. Ukraine to W. Siberia                                                                                            1\n",
      "Cuba, S. Caribbean to N. Venezuela                                                                                   1\n",
      "S. China to Laos, Japan (S. Kyushu) to Taiwan                                                                        1\n",
      "India (Indian Subcontinent, Asia-Tropical);Nepal (Indian Subcontinent, Asia-Tropical);Bhutan;Burma (Myanmar);        1\n",
      "Name: taxonremarks, dtype: int64\n"
     ]
    }
   ],
   "source": [
    "print(dwca_val[::2000])"
   ]
  },
  {
   "cell_type": "markdown",
   "metadata": {},
   "source": [
    "Too many values of inconsistent format?"
   ]
  },
  {
   "cell_type": "code",
   "execution_count": 115,
   "metadata": {},
   "outputs": [
    {
     "data": {
      "text/plain": [
       "411"
      ]
     },
     "execution_count": 115,
     "metadata": {},
     "output_type": "execute_result"
    }
   ],
   "source": [
    "len(dwca_dis_df[\"locality\"].unique())"
   ]
  },
  {
   "cell_type": "code",
   "execution_count": 117,
   "metadata": {},
   "outputs": [
    {
     "data": {
      "text/plain": [
       "Colombia                  30726\n",
       "Brazil North              17061\n",
       "Turkey                    14527\n",
       "India                     12513\n",
       "Mexico Central            10704\n",
       "Cuba                       9699\n",
       "Transcaucasus              8746\n",
       "Germany                    8122\n",
       "Morocco                    7457\n",
       "Switzerland                6823\n",
       "Cambodia                   6355\n",
       "New York                   6055\n",
       "Namibia                    5824\n",
       "Georgia                    5466\n",
       "Puerto Rico                5127\n",
       "Palestine                  4825\n",
       "Maryland                   4516\n",
       "Kentucky                   4363\n",
       "Oklahoma                   4217\n",
       "Botswana                   4131\n",
       "Inner Mongolia             3915\n",
       "Minnesota                  3759\n",
       "Baltic States              3578\n",
       "North European Russi       3313\n",
       "Mauritius                  3074\n",
       "Irkutsk                    2875\n",
       "Nova Scotia                2599\n",
       "District of Columbia       2413\n",
       "Kamchatka                  2021\n",
       "Gambia                     1755\n",
       "Tonga                      1387\n",
       "Bermuda                    1035\n",
       "Føroyar                     807\n",
       "Falkland Is.                628\n",
       "Antipodean Is.              440\n",
       "Cocos (Keeling) Is.         289\n",
       "Crozet Is.                  149\n",
       "Siberia                      43\n",
       "Middle Europe                18\n",
       "Northern South America        8\n",
       "Southwestern U.S.A.           3\n",
       "Name: locality, dtype: int64"
      ]
     },
     "execution_count": 117,
     "metadata": {},
     "output_type": "execute_result"
    }
   ],
   "source": [
    "dwca_dis_df[\"locality\"].value_counts()[::10]\n"
   ]
  },
  {
   "cell_type": "markdown",
   "metadata": {},
   "source": [
    "Less values but also somewhat inconsistent format? "
   ]
  },
  {
   "cell_type": "markdown",
   "metadata": {},
   "source": [
    "#### WCVP:"
   ]
  },
  {
   "cell_type": "markdown",
   "metadata": {},
   "source": [
    "Both of these csv files are too large to be pushed to GitHub (e.g. wcvp_distribution.csv has over 1 million entries):"
   ]
  },
  {
   "cell_type": "code",
   "execution_count": 8,
   "metadata": {},
   "outputs": [
    {
     "name": "stderr",
     "output_type": "stream",
     "text": [
      "/tmp/ipykernel_11782/3592377001.py:2: DtypeWarning: Columns (26) have mixed types. Specify dtype option on import or set low_memory=False.\n",
      "  wcvp_names_df = pd.read_csv(\"./data/WCVP/wcvp_names.csv\", sep=\"|\")\n"
     ]
    }
   ],
   "source": [
    "wcvp_dis_df = pd.read_csv(\"./data/WCVP/wcvp_distribution.csv\", sep=\"|\")\n",
    "wcvp_names_df = pd.read_csv(\"./data/WCVP/wcvp_names.csv\", sep=\"|\")"
   ]
  },
  {
   "cell_type": "markdown",
   "metadata": {},
   "source": [
    "Contains continent, region and area - seems promising?"
   ]
  },
  {
   "cell_type": "code",
   "execution_count": 118,
   "metadata": {},
   "outputs": [
    {
     "data": {
      "text/html": [
       "<div>\n",
       "<style scoped>\n",
       "    .dataframe tbody tr th:only-of-type {\n",
       "        vertical-align: middle;\n",
       "    }\n",
       "\n",
       "    .dataframe tbody tr th {\n",
       "        vertical-align: top;\n",
       "    }\n",
       "\n",
       "    .dataframe thead th {\n",
       "        text-align: right;\n",
       "    }\n",
       "</style>\n",
       "<table border=\"1\" class=\"dataframe\">\n",
       "  <thead>\n",
       "    <tr style=\"text-align: right;\">\n",
       "      <th></th>\n",
       "      <th>plant_locality_id</th>\n",
       "      <th>plant_name_id</th>\n",
       "      <th>continent_code_l1</th>\n",
       "      <th>continent</th>\n",
       "      <th>region_code_l2</th>\n",
       "      <th>region</th>\n",
       "      <th>area_code_l3</th>\n",
       "      <th>area</th>\n",
       "      <th>introduced</th>\n",
       "      <th>extinct</th>\n",
       "      <th>location_doubtful</th>\n",
       "    </tr>\n",
       "  </thead>\n",
       "  <tbody>\n",
       "    <tr>\n",
       "      <th>0</th>\n",
       "      <td>1394111</td>\n",
       "      <td>1</td>\n",
       "      <td>8</td>\n",
       "      <td>SOUTHERN AMERICA</td>\n",
       "      <td>80.0</td>\n",
       "      <td>Central America</td>\n",
       "      <td>COS</td>\n",
       "      <td>Costa Rica</td>\n",
       "      <td>0</td>\n",
       "      <td>0</td>\n",
       "      <td>0</td>\n",
       "    </tr>\n",
       "    <tr>\n",
       "      <th>1</th>\n",
       "      <td>1394112</td>\n",
       "      <td>1</td>\n",
       "      <td>8</td>\n",
       "      <td>SOUTHERN AMERICA</td>\n",
       "      <td>82.0</td>\n",
       "      <td>Northern South America</td>\n",
       "      <td>VEN</td>\n",
       "      <td>Venezuela</td>\n",
       "      <td>0</td>\n",
       "      <td>0</td>\n",
       "      <td>0</td>\n",
       "    </tr>\n",
       "    <tr>\n",
       "      <th>2</th>\n",
       "      <td>1394113</td>\n",
       "      <td>1</td>\n",
       "      <td>8</td>\n",
       "      <td>SOUTHERN AMERICA</td>\n",
       "      <td>83.0</td>\n",
       "      <td>Western South America</td>\n",
       "      <td>BOL</td>\n",
       "      <td>Bolivia</td>\n",
       "      <td>0</td>\n",
       "      <td>0</td>\n",
       "      <td>0</td>\n",
       "    </tr>\n",
       "    <tr>\n",
       "      <th>3</th>\n",
       "      <td>1394114</td>\n",
       "      <td>1</td>\n",
       "      <td>8</td>\n",
       "      <td>SOUTHERN AMERICA</td>\n",
       "      <td>83.0</td>\n",
       "      <td>Western South America</td>\n",
       "      <td>CLM</td>\n",
       "      <td>Colombia</td>\n",
       "      <td>0</td>\n",
       "      <td>0</td>\n",
       "      <td>0</td>\n",
       "    </tr>\n",
       "    <tr>\n",
       "      <th>4</th>\n",
       "      <td>1394115</td>\n",
       "      <td>1</td>\n",
       "      <td>8</td>\n",
       "      <td>SOUTHERN AMERICA</td>\n",
       "      <td>83.0</td>\n",
       "      <td>Western South America</td>\n",
       "      <td>ECU</td>\n",
       "      <td>Ecuador</td>\n",
       "      <td>0</td>\n",
       "      <td>0</td>\n",
       "      <td>0</td>\n",
       "    </tr>\n",
       "  </tbody>\n",
       "</table>\n",
       "</div>"
      ],
      "text/plain": [
       "   plant_locality_id  plant_name_id  continent_code_l1         continent  \\\n",
       "0            1394111              1                  8  SOUTHERN AMERICA   \n",
       "1            1394112              1                  8  SOUTHERN AMERICA   \n",
       "2            1394113              1                  8  SOUTHERN AMERICA   \n",
       "3            1394114              1                  8  SOUTHERN AMERICA   \n",
       "4            1394115              1                  8  SOUTHERN AMERICA   \n",
       "\n",
       "   region_code_l2                  region area_code_l3        area  \\\n",
       "0            80.0         Central America          COS  Costa Rica   \n",
       "1            82.0  Northern South America          VEN   Venezuela   \n",
       "2            83.0   Western South America          BOL     Bolivia   \n",
       "3            83.0   Western South America          CLM    Colombia   \n",
       "4            83.0   Western South America          ECU     Ecuador   \n",
       "\n",
       "   introduced  extinct  location_doubtful  \n",
       "0           0        0                  0  \n",
       "1           0        0                  0  \n",
       "2           0        0                  0  \n",
       "3           0        0                  0  \n",
       "4           0        0                  0  "
      ]
     },
     "execution_count": 118,
     "metadata": {},
     "output_type": "execute_result"
    }
   ],
   "source": [
    "wcvp_dis_df.head()"
   ]
  },
  {
   "cell_type": "code",
   "execution_count": 119,
   "metadata": {},
   "outputs": [
    {
     "data": {
      "text/html": [
       "<div>\n",
       "<style scoped>\n",
       "    .dataframe tbody tr th:only-of-type {\n",
       "        vertical-align: middle;\n",
       "    }\n",
       "\n",
       "    .dataframe tbody tr th {\n",
       "        vertical-align: top;\n",
       "    }\n",
       "\n",
       "    .dataframe thead th {\n",
       "        text-align: right;\n",
       "    }\n",
       "</style>\n",
       "<table border=\"1\" class=\"dataframe\">\n",
       "  <thead>\n",
       "    <tr style=\"text-align: right;\">\n",
       "      <th></th>\n",
       "      <th>plant_name_id</th>\n",
       "      <th>ipni_id</th>\n",
       "      <th>taxon_rank</th>\n",
       "      <th>taxon_status</th>\n",
       "      <th>family</th>\n",
       "      <th>genus_hybrid</th>\n",
       "      <th>genus</th>\n",
       "      <th>species_hybrid</th>\n",
       "      <th>species</th>\n",
       "      <th>infraspecific_rank</th>\n",
       "      <th>infraspecies</th>\n",
       "      <th>parenthetical_author</th>\n",
       "      <th>primary_author</th>\n",
       "      <th>publication_author</th>\n",
       "      <th>place_of_publication</th>\n",
       "      <th>volume_and_page</th>\n",
       "      <th>first_published</th>\n",
       "      <th>nomenclatural_remarks</th>\n",
       "      <th>geographic_area</th>\n",
       "      <th>lifeform_description</th>\n",
       "      <th>climate_description</th>\n",
       "      <th>taxon_name</th>\n",
       "      <th>taxon_authors</th>\n",
       "      <th>accepted_plant_name_id</th>\n",
       "      <th>basionym_plant_name_id</th>\n",
       "      <th>replaced_synonym_author</th>\n",
       "      <th>homotypic_synonym</th>\n",
       "      <th>parent_plant_name_id</th>\n",
       "      <th>powo_id</th>\n",
       "      <th>hybrid_formula</th>\n",
       "      <th>reviewed</th>\n",
       "    </tr>\n",
       "  </thead>\n",
       "  <tbody>\n",
       "    <tr>\n",
       "      <th>0</th>\n",
       "      <td>250443</td>\n",
       "      <td>309465-1</td>\n",
       "      <td>Species</td>\n",
       "      <td>Unplaced</td>\n",
       "      <td>Cyperaceae</td>\n",
       "      <td>NaN</td>\n",
       "      <td>Isolepis</td>\n",
       "      <td>NaN</td>\n",
       "      <td>panamensis</td>\n",
       "      <td>NaN</td>\n",
       "      <td>NaN</td>\n",
       "      <td>NaN</td>\n",
       "      <td>J.Presl &amp; C.Presl</td>\n",
       "      <td>NaN</td>\n",
       "      <td>Reliq. Haenk.</td>\n",
       "      <td>1: 351</td>\n",
       "      <td>(1830)</td>\n",
       "      <td>NaN</td>\n",
       "      <td>Panama</td>\n",
       "      <td>NaN</td>\n",
       "      <td>NaN</td>\n",
       "      <td>Isolepis panamensis</td>\n",
       "      <td>J.Presl &amp; C.Presl</td>\n",
       "      <td>NaN</td>\n",
       "      <td>250232.0</td>\n",
       "      <td>J.Presl &amp; C.Presl</td>\n",
       "      <td>NaN</td>\n",
       "      <td>250129.0</td>\n",
       "      <td>309465-1</td>\n",
       "      <td>NaN</td>\n",
       "      <td>Y</td>\n",
       "    </tr>\n",
       "    <tr>\n",
       "      <th>1</th>\n",
       "      <td>345888</td>\n",
       "      <td>77078885-1</td>\n",
       "      <td>nothosubsp.</td>\n",
       "      <td>Unplaced</td>\n",
       "      <td>Orchidaceae</td>\n",
       "      <td>NaN</td>\n",
       "      <td>Anacamptis</td>\n",
       "      <td>×</td>\n",
       "      <td>gennarii</td>\n",
       "      <td>nothosubsp.</td>\n",
       "      <td>bornemanniae</td>\n",
       "      <td>Asch.</td>\n",
       "      <td>H.Kretzschmar, Eccarius &amp; H.Dietr.</td>\n",
       "      <td>NaN</td>\n",
       "      <td>Orchid Gen. Anacamptis Orchis Neotinea</td>\n",
       "      <td>, ed. 2: 430</td>\n",
       "      <td>(2007)</td>\n",
       "      <td>NaN</td>\n",
       "      <td>Medit.</td>\n",
       "      <td>tuberous geophyte</td>\n",
       "      <td>subtropical</td>\n",
       "      <td>Anacamptis × gennarii nothosubsp. bornemanniae</td>\n",
       "      <td>(Asch.) H.Kretzschmar, Eccarius &amp; H.Dietr.</td>\n",
       "      <td>NaN</td>\n",
       "      <td>142282.0</td>\n",
       "      <td>NaN</td>\n",
       "      <td>NaN</td>\n",
       "      <td>8578.0</td>\n",
       "      <td>77078885-1</td>\n",
       "      <td>A. morio subsp. longicornu × A. papilionacea</td>\n",
       "      <td>Y</td>\n",
       "    </tr>\n",
       "    <tr>\n",
       "      <th>2</th>\n",
       "      <td>2490178</td>\n",
       "      <td>231532-2</td>\n",
       "      <td>Species</td>\n",
       "      <td>Unplaced</td>\n",
       "      <td>Cucurbitaceae</td>\n",
       "      <td>NaN</td>\n",
       "      <td>Sechium</td>\n",
       "      <td>NaN</td>\n",
       "      <td>tacaco</td>\n",
       "      <td>NaN</td>\n",
       "      <td>NaN</td>\n",
       "      <td>Pittier</td>\n",
       "      <td>C.Jeffrey</td>\n",
       "      <td>NaN</td>\n",
       "      <td>Kew Bull.</td>\n",
       "      <td>33: 361</td>\n",
       "      <td>(1978)</td>\n",
       "      <td>NaN</td>\n",
       "      <td>Costa Rica</td>\n",
       "      <td>NaN</td>\n",
       "      <td>wet tropical</td>\n",
       "      <td>Sechium tacaco</td>\n",
       "      <td>(Pittier) C.Jeffrey</td>\n",
       "      <td>NaN</td>\n",
       "      <td>2409709.0</td>\n",
       "      <td>NaN</td>\n",
       "      <td>NaN</td>\n",
       "      <td>2490165.0</td>\n",
       "      <td>231532-2</td>\n",
       "      <td>NaN</td>\n",
       "      <td>N</td>\n",
       "    </tr>\n",
       "    <tr>\n",
       "      <th>3</th>\n",
       "      <td>2602950</td>\n",
       "      <td>582307-1</td>\n",
       "      <td>Species</td>\n",
       "      <td>Synonym</td>\n",
       "      <td>Siparunaceae</td>\n",
       "      <td>NaN</td>\n",
       "      <td>Siparuna</td>\n",
       "      <td>NaN</td>\n",
       "      <td>lindenii</td>\n",
       "      <td>NaN</td>\n",
       "      <td>NaN</td>\n",
       "      <td>Seem.</td>\n",
       "      <td>A.DC.</td>\n",
       "      <td>A.P.de Candolle</td>\n",
       "      <td>Prodr.</td>\n",
       "      <td>16(2): 656</td>\n",
       "      <td>(1868)</td>\n",
       "      <td>NaN</td>\n",
       "      <td>Brazil (Santa Catarina)</td>\n",
       "      <td>NaN</td>\n",
       "      <td>wet tropical</td>\n",
       "      <td>Siparuna lindenii</td>\n",
       "      <td>(Seem.) A.DC.</td>\n",
       "      <td>NaN</td>\n",
       "      <td>2723851.0</td>\n",
       "      <td>NaN</td>\n",
       "      <td>NaN</td>\n",
       "      <td>NaN</td>\n",
       "      <td>582307-1</td>\n",
       "      <td>NaN</td>\n",
       "      <td>N</td>\n",
       "    </tr>\n",
       "    <tr>\n",
       "      <th>4</th>\n",
       "      <td>3143990</td>\n",
       "      <td>17540160-1</td>\n",
       "      <td>Subspecies</td>\n",
       "      <td>Unplaced</td>\n",
       "      <td>Pteridaceae</td>\n",
       "      <td>NaN</td>\n",
       "      <td>Pentagramma</td>\n",
       "      <td>NaN</td>\n",
       "      <td>triangularis</td>\n",
       "      <td>subsp.</td>\n",
       "      <td>maxonii</td>\n",
       "      <td>Weath.</td>\n",
       "      <td>Yatsk., Windham &amp; E.Wollenw.</td>\n",
       "      <td>NaN</td>\n",
       "      <td>Amer. Fern J.</td>\n",
       "      <td>80: 16</td>\n",
       "      <td>(1990)</td>\n",
       "      <td>NaN</td>\n",
       "      <td>S. California to SW. New Mexico and Mexico (Ba...</td>\n",
       "      <td>NaN</td>\n",
       "      <td>NaN</td>\n",
       "      <td>Pentagramma triangularis subsp. maxonii</td>\n",
       "      <td>(Weath.) Yatsk., Windham &amp; E.Wollenw.</td>\n",
       "      <td>NaN</td>\n",
       "      <td>3164043.0</td>\n",
       "      <td>NaN</td>\n",
       "      <td>NaN</td>\n",
       "      <td>3143986.0</td>\n",
       "      <td>17540160-1</td>\n",
       "      <td>NaN</td>\n",
       "      <td>N</td>\n",
       "    </tr>\n",
       "  </tbody>\n",
       "</table>\n",
       "</div>"
      ],
      "text/plain": [
       "   plant_name_id     ipni_id   taxon_rank taxon_status         family  \\\n",
       "0         250443    309465-1      Species     Unplaced     Cyperaceae   \n",
       "1         345888  77078885-1  nothosubsp.     Unplaced    Orchidaceae   \n",
       "2        2490178    231532-2      Species     Unplaced  Cucurbitaceae   \n",
       "3        2602950    582307-1      Species      Synonym   Siparunaceae   \n",
       "4        3143990  17540160-1   Subspecies     Unplaced    Pteridaceae   \n",
       "\n",
       "  genus_hybrid        genus species_hybrid       species infraspecific_rank  \\\n",
       "0          NaN     Isolepis            NaN    panamensis                NaN   \n",
       "1          NaN   Anacamptis              ×      gennarii        nothosubsp.   \n",
       "2          NaN      Sechium            NaN        tacaco                NaN   \n",
       "3          NaN     Siparuna            NaN      lindenii                NaN   \n",
       "4          NaN  Pentagramma            NaN  triangularis             subsp.   \n",
       "\n",
       "   infraspecies parenthetical_author                      primary_author  \\\n",
       "0           NaN                  NaN                   J.Presl & C.Presl   \n",
       "1  bornemanniae                Asch.  H.Kretzschmar, Eccarius & H.Dietr.   \n",
       "2           NaN              Pittier                           C.Jeffrey   \n",
       "3           NaN                Seem.                               A.DC.   \n",
       "4       maxonii               Weath.        Yatsk., Windham & E.Wollenw.   \n",
       "\n",
       "  publication_author                    place_of_publication volume_and_page  \\\n",
       "0                NaN                           Reliq. Haenk.          1: 351   \n",
       "1                NaN  Orchid Gen. Anacamptis Orchis Neotinea    , ed. 2: 430   \n",
       "2                NaN                               Kew Bull.         33: 361   \n",
       "3    A.P.de Candolle                                  Prodr.      16(2): 656   \n",
       "4                NaN                           Amer. Fern J.          80: 16   \n",
       "\n",
       "  first_published nomenclatural_remarks  \\\n",
       "0          (1830)                   NaN   \n",
       "1          (2007)                   NaN   \n",
       "2          (1978)                   NaN   \n",
       "3          (1868)                   NaN   \n",
       "4          (1990)                   NaN   \n",
       "\n",
       "                                     geographic_area lifeform_description  \\\n",
       "0                                             Panama                  NaN   \n",
       "1                                             Medit.    tuberous geophyte   \n",
       "2                                         Costa Rica                  NaN   \n",
       "3                            Brazil (Santa Catarina)                  NaN   \n",
       "4  S. California to SW. New Mexico and Mexico (Ba...                  NaN   \n",
       "\n",
       "  climate_description                                      taxon_name  \\\n",
       "0                 NaN                             Isolepis panamensis   \n",
       "1         subtropical  Anacamptis × gennarii nothosubsp. bornemanniae   \n",
       "2        wet tropical                                  Sechium tacaco   \n",
       "3        wet tropical                               Siparuna lindenii   \n",
       "4                 NaN         Pentagramma triangularis subsp. maxonii   \n",
       "\n",
       "                                taxon_authors  accepted_plant_name_id  \\\n",
       "0                           J.Presl & C.Presl                     NaN   \n",
       "1  (Asch.) H.Kretzschmar, Eccarius & H.Dietr.                     NaN   \n",
       "2                         (Pittier) C.Jeffrey                     NaN   \n",
       "3                               (Seem.) A.DC.                     NaN   \n",
       "4       (Weath.) Yatsk., Windham & E.Wollenw.                     NaN   \n",
       "\n",
       "   basionym_plant_name_id replaced_synonym_author homotypic_synonym  \\\n",
       "0                250232.0       J.Presl & C.Presl               NaN   \n",
       "1                142282.0                     NaN               NaN   \n",
       "2               2409709.0                     NaN               NaN   \n",
       "3               2723851.0                     NaN               NaN   \n",
       "4               3164043.0                     NaN               NaN   \n",
       "\n",
       "   parent_plant_name_id     powo_id  \\\n",
       "0              250129.0    309465-1   \n",
       "1                8578.0  77078885-1   \n",
       "2             2490165.0    231532-2   \n",
       "3                   NaN    582307-1   \n",
       "4             3143986.0  17540160-1   \n",
       "\n",
       "                                 hybrid_formula reviewed  \n",
       "0                                           NaN        Y  \n",
       "1  A. morio subsp. longicornu × A. papilionacea        Y  \n",
       "2                                           NaN        N  \n",
       "3                                           NaN        N  \n",
       "4                                           NaN        N  "
      ]
     },
     "execution_count": 119,
     "metadata": {},
     "output_type": "execute_result"
    }
   ],
   "source": [
    "wcvp_names_df.head()"
   ]
  },
  {
   "cell_type": "markdown",
   "metadata": {},
   "source": [
    "### Crossreferencing DUKE and KEW datasets:"
   ]
  },
  {
   "cell_type": "code",
   "execution_count": 4,
   "metadata": {},
   "outputs": [
    {
     "data": {
      "text/plain": [
       "0        Achillea millefolium\n",
       "1           Castilla elastica\n",
       "2           Pistia stratiotes\n",
       "3           Achillea sibirica\n",
       "4               Adenia lobata\n",
       "                 ...         \n",
       "82868      Jatropha multifida\n",
       "82869      Myroxylon pereirae\n",
       "82870     Syzygium aromaticum\n",
       "82871      Gossypium hirsutum\n",
       "82872    Colocasia antiquorum\n",
       "Name: TAXON, Length: 82873, dtype: object"
      ]
     },
     "execution_count": 4,
     "metadata": {},
     "output_type": "execute_result"
    }
   ],
   "source": [
    "duke_df.loc[:, \"TAXON\"]"
   ]
  },
  {
   "cell_type": "code",
   "execution_count": 9,
   "metadata": {},
   "outputs": [
    {
     "data": {
      "text/plain": [
       "0                                              Aa\n",
       "1                                   Aa achalensis\n",
       "2                                  Aa argyrolepis\n",
       "3                                       Aa brevis\n",
       "4                                     Aa calceata\n",
       "                            ...                  \n",
       "1415002                      Crataegus sorbifolia\n",
       "1415003                        Menyanthes excelsa\n",
       "1415004                        Mammillaria valida\n",
       "1415005                 Echinocactus neumannianus\n",
       "1415006    Typhonium roxburghii var. longispathum\n",
       "Name: scientfiicname, Length: 1415007, dtype: object"
      ]
     },
     "execution_count": 9,
     "metadata": {},
     "output_type": "execute_result"
    }
   ],
   "source": [
    "dwca_tax_df.loc[:, \"scientfiicname\"]"
   ]
  },
  {
   "cell_type": "markdown",
   "metadata": {},
   "source": [
    "DUKE dataset filtered by matches scientific names matching those found in the KEW dataset:"
   ]
  },
  {
   "cell_type": "code",
   "execution_count": 10,
   "metadata": {},
   "outputs": [
    {
     "data": {
      "text/plain": [
       "(74641, 19)"
      ]
     },
     "execution_count": 10,
     "metadata": {},
     "output_type": "execute_result"
    }
   ],
   "source": [
    "\n",
    "filter = duke_df.loc[:, \"TAXON\"].isin(dwca_tax_df.loc[:, \"scientfiicname\"])\n",
    "filt_df = duke_df[filter]\n",
    "filt_df.shape"
   ]
  },
  {
   "cell_type": "code",
   "execution_count": 14,
   "metadata": {},
   "outputs": [
    {
     "data": {
      "text/plain": [
       "8232"
      ]
     },
     "execution_count": 14,
     "metadata": {},
     "output_type": "execute_result"
    }
   ],
   "source": [
    "len(duke_df) - len(filt_df)"
   ]
  },
  {
   "cell_type": "markdown",
   "metadata": {},
   "source": [
    "8232 entries were thus discarded from the DUKE dataset.\n",
    "\n",
    "(Keep in mind, every singular entry is a combination of a plant with a specific activity, so this number does not tell us how many plants were dropped.)"
   ]
  },
  {
   "cell_type": "code",
   "execution_count": 19,
   "metadata": {},
   "outputs": [
    {
     "name": "stdout",
     "output_type": "stream",
     "text": [
      "13079\n",
      "10695\n"
     ]
    },
    {
     "data": {
      "text/plain": [
       "2384"
      ]
     },
     "execution_count": 19,
     "metadata": {},
     "output_type": "execute_result"
    }
   ],
   "source": [
    "print(len(duke_df[\"TAXON\"].unique()))\n",
    "print(len(filt_df[\"TAXON\"].unique()))\n",
    "len(duke_df[\"TAXON\"].unique()) - len(filt_df[\"TAXON\"].unique())\n"
   ]
  },
  {
   "cell_type": "markdown",
   "metadata": {},
   "source": [
    "Entries belonging to 2384 unique scientific plant names were dropped from the DUKE dataset."
   ]
  },
  {
   "cell_type": "markdown",
   "metadata": {},
   "source": [
    "## WHO Monographs:"
   ]
  }
 ],
 "metadata": {
  "kernelspec": {
   "display_name": "Python 3.8.10 64-bit",
   "language": "python",
   "name": "python3"
  },
  "language_info": {
   "codemirror_mode": {
    "name": "ipython",
    "version": 3
   },
   "file_extension": ".py",
   "mimetype": "text/x-python",
   "name": "python",
   "nbconvert_exporter": "python",
   "pygments_lexer": "ipython3",
   "version": "3.8.10"
  },
  "orig_nbformat": 4,
  "vscode": {
   "interpreter": {
    "hash": "916dbcbb3f70747c44a77c7bcd40155683ae19c65e1c03b4aa3499c5328201f1"
   }
  }
 },
 "nbformat": 4,
 "nbformat_minor": 2
}
