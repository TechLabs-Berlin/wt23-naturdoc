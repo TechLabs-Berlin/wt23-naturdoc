{
 "cells": [
  {
   "cell_type": "markdown",
   "id": "c6b3d478",
   "metadata": {},
   "source": [
    "Word embeddings \n"
   ]
  },
  {
   "cell_type": "code",
   "execution_count": 5,
   "id": "97111cbe",
   "metadata": {},
   "outputs": [],
   "source": [
    "import pandas as pd\n",
    "\n",
    "\n",
    "with open('ETHNOBOT.csv') as f:\n",
    "    data = pd.read_csv(f)\n",
    "\n",
    "# Extract the desired column from the DataFrame\n",
    "activities = data['ACTIVITY']\n",
    "\n",
    "# Do further processing on the extracted data\n",
    "\n",
    "\n"
   ]
  },
  {
   "cell_type": "code",
   "execution_count": null,
   "id": "dc9d8c9a",
   "metadata": {},
   "outputs": [],
   "source": []
  },
  {
   "cell_type": "code",
   "execution_count": null,
   "id": "71a7e0e3",
   "metadata": {},
   "outputs": [],
   "source": []
  }
 ],
 "metadata": {
  "kernelspec": {
   "display_name": "Python 3 (ipykernel)",
   "language": "python",
   "name": "python3"
  },
  "language_info": {
   "codemirror_mode": {
    "name": "ipython",
    "version": 3
   },
   "file_extension": ".py",
   "mimetype": "text/x-python",
   "name": "python",
   "nbconvert_exporter": "python",
   "pygments_lexer": "ipython3",
   "version": "3.9.13"
  }
 },
 "nbformat": 4,
 "nbformat_minor": 5
}
