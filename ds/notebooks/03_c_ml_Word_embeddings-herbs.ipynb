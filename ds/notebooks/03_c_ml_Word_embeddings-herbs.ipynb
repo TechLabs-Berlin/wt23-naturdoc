{
 "cells": [
  {
   "cell_type": "markdown",
   "id": "d48ed0a4-0422-4b00-a9fe-cddf8d2e4a5c",
   "metadata": {},
   "source": [
    "**Word embeddings**\n"
   ]
  },
  {
   "cell_type": "markdown",
   "id": "fc1f5636-f69b-4333-ad10-4f795cf91929",
   "metadata": {},
   "source": [
    "Word embeddings are a type of NLP technique that maps words or phrases to vectors in a high-dimensional space, where words with similar meanings are represented by vectors that are close to each other"
   ]
  },
  {
   "cell_type": "code",
   "execution_count": 1,
   "id": "9ea71416-c690-46f7-9b79-f63d0b8c5d16",
   "metadata": {},
   "outputs": [
    {
     "name": "stdout",
     "output_type": "stream",
     "text": [
      "Requirement already satisfied: sentence-transformers in /Users/annaster/opt/anaconda3/lib/python3.9/site-packages (2.2.2)\n",
      "Requirement already satisfied: nltk in /Users/annaster/opt/anaconda3/lib/python3.9/site-packages (from sentence-transformers) (3.7)\n",
      "Requirement already satisfied: tqdm in /Users/annaster/opt/anaconda3/lib/python3.9/site-packages (from sentence-transformers) (4.64.1)\n",
      "Requirement already satisfied: transformers<5.0.0,>=4.6.0 in /Users/annaster/opt/anaconda3/lib/python3.9/site-packages (from sentence-transformers) (4.27.3)\n",
      "Requirement already satisfied: numpy in /Users/annaster/opt/anaconda3/lib/python3.9/site-packages (from sentence-transformers) (1.23.5)\n",
      "Requirement already satisfied: scipy in /Users/annaster/opt/anaconda3/lib/python3.9/site-packages (from sentence-transformers) (1.10.0)\n",
      "Requirement already satisfied: sentencepiece in /Users/annaster/opt/anaconda3/lib/python3.9/site-packages (from sentence-transformers) (0.1.97)\n",
      "Requirement already satisfied: torch>=1.6.0 in /Users/annaster/opt/anaconda3/lib/python3.9/site-packages (from sentence-transformers) (2.0.0)\n",
      "Requirement already satisfied: torchvision in /Users/annaster/opt/anaconda3/lib/python3.9/site-packages (from sentence-transformers) (0.15.1)\n",
      "Requirement already satisfied: huggingface-hub>=0.4.0 in /Users/annaster/opt/anaconda3/lib/python3.9/site-packages (from sentence-transformers) (0.13.3)\n",
      "Requirement already satisfied: scikit-learn in /Users/annaster/opt/anaconda3/lib/python3.9/site-packages (from sentence-transformers) (1.0.2)\n",
      "Requirement already satisfied: pyyaml>=5.1 in /Users/annaster/opt/anaconda3/lib/python3.9/site-packages (from huggingface-hub>=0.4.0->sentence-transformers) (6.0)\n",
      "Requirement already satisfied: requests in /Users/annaster/opt/anaconda3/lib/python3.9/site-packages (from huggingface-hub>=0.4.0->sentence-transformers) (2.28.1)\n",
      "Requirement already satisfied: packaging>=20.9 in /Users/annaster/opt/anaconda3/lib/python3.9/site-packages (from huggingface-hub>=0.4.0->sentence-transformers) (22.0)\n",
      "Requirement already satisfied: filelock in /Users/annaster/opt/anaconda3/lib/python3.9/site-packages (from huggingface-hub>=0.4.0->sentence-transformers) (3.9.0)\n",
      "Requirement already satisfied: typing-extensions>=3.7.4.3 in /Users/annaster/opt/anaconda3/lib/python3.9/site-packages (from huggingface-hub>=0.4.0->sentence-transformers) (4.4.0)\n",
      "Requirement already satisfied: jinja2 in /Users/annaster/opt/anaconda3/lib/python3.9/site-packages (from torch>=1.6.0->sentence-transformers) (3.1.2)\n",
      "Requirement already satisfied: networkx in /Users/annaster/opt/anaconda3/lib/python3.9/site-packages (from torch>=1.6.0->sentence-transformers) (2.8.4)\n",
      "Requirement already satisfied: sympy in /Users/annaster/opt/anaconda3/lib/python3.9/site-packages (from torch>=1.6.0->sentence-transformers) (1.11.1)\n",
      "Requirement already satisfied: regex!=2019.12.17 in /Users/annaster/opt/anaconda3/lib/python3.9/site-packages (from transformers<5.0.0,>=4.6.0->sentence-transformers) (2022.7.9)\n",
      "Requirement already satisfied: tokenizers!=0.11.3,<0.14,>=0.11.1 in /Users/annaster/opt/anaconda3/lib/python3.9/site-packages (from transformers<5.0.0,>=4.6.0->sentence-transformers) (0.13.2)\n",
      "Requirement already satisfied: joblib in /Users/annaster/opt/anaconda3/lib/python3.9/site-packages (from nltk->sentence-transformers) (1.1.1)\n",
      "Requirement already satisfied: click in /Users/annaster/opt/anaconda3/lib/python3.9/site-packages (from nltk->sentence-transformers) (8.0.4)\n",
      "Requirement already satisfied: threadpoolctl>=2.0.0 in /Users/annaster/opt/anaconda3/lib/python3.9/site-packages (from scikit-learn->sentence-transformers) (2.2.0)\n",
      "Requirement already satisfied: pillow!=8.3.*,>=5.3.0 in /Users/annaster/opt/anaconda3/lib/python3.9/site-packages (from torchvision->sentence-transformers) (9.3.0)\n",
      "Requirement already satisfied: MarkupSafe>=2.0 in /Users/annaster/opt/anaconda3/lib/python3.9/site-packages (from jinja2->torch>=1.6.0->sentence-transformers) (2.1.1)\n",
      "Requirement already satisfied: idna<4,>=2.5 in /Users/annaster/opt/anaconda3/lib/python3.9/site-packages (from requests->huggingface-hub>=0.4.0->sentence-transformers) (3.4)\n",
      "Requirement already satisfied: certifi>=2017.4.17 in /Users/annaster/opt/anaconda3/lib/python3.9/site-packages (from requests->huggingface-hub>=0.4.0->sentence-transformers) (2022.12.7)\n",
      "Requirement already satisfied: charset-normalizer<3,>=2 in /Users/annaster/opt/anaconda3/lib/python3.9/site-packages (from requests->huggingface-hub>=0.4.0->sentence-transformers) (2.0.4)\n",
      "Requirement already satisfied: urllib3<1.27,>=1.21.1 in /Users/annaster/opt/anaconda3/lib/python3.9/site-packages (from requests->huggingface-hub>=0.4.0->sentence-transformers) (1.26.14)\n",
      "Requirement already satisfied: mpmath>=0.19 in /Users/annaster/opt/anaconda3/lib/python3.9/site-packages (from sympy->torch>=1.6.0->sentence-transformers) (1.2.1)\n",
      "Note: you may need to restart the kernel to use updated packages.\n"
     ]
    }
   ],
   "source": [
    "pip install -U sentence-transformers"
   ]
  },
  {
   "cell_type": "code",
   "execution_count": 19,
   "id": "c79e9d36-1c93-43fc-9f8b-fa755005aac1",
   "metadata": {},
   "outputs": [
    {
     "name": "stderr",
     "output_type": "stream",
     "text": [
      "2023-03-27 14:40:44.493361: I tensorflow/core/platform/cpu_feature_guard.cc:182] This TensorFlow binary is optimized to use available CPU instructions in performance-critical operations.\n",
      "To enable the following instructions: AVX2 FMA, in other operations, rebuild TensorFlow with the appropriate compiler flags.\n"
     ]
    }
   ],
   "source": [
    "from sentence_transformers import SentenceTransformer\n",
    "import pandas as pd\n",
    "import numpy as np\n",
    "\n"
   ]
  },
  {
   "cell_type": "markdown",
   "id": "af4a0ac2-1d4a-4ec9-8ad1-51a10d81bfd5",
   "metadata": {},
   "source": [
    "Imports the SentenceTransformer library and two pre-trained models,'all-MiniLM-L6-v2' and 'average_word_embeddings_glove.840B.300d', which are used to convert sentences into high-dimensional vectors, also known as word embeddings.\n",
    "\n"
   ]
  },
  {
   "cell_type": "code",
   "execution_count": null,
   "id": "22065653-01f4-48eb-8ab2-20d76c68d83c",
   "metadata": {},
   "outputs": [],
   "source": []
  },
  {
   "cell_type": "code",
   "execution_count": null,
   "id": "df24c706-cc3d-487d-996c-5899ceef3774",
   "metadata": {},
   "outputs": [],
   "source": [
    "model1 = SentenceTransformer('all-MiniLM-L6-v2')\n",
    "model2 = SentenceTransformer('average_word_embeddings_glove.840B.300d')\n",
    "\n",
    "data = pd.read_csv('activities_symptoms_bool.csv', sep= \",\")\n"
   ]
  },
  {
   "cell_type": "code",
   "execution_count": null,
   "id": "5ce79508-694a-40cd-ae84-a266cc0cb58e",
   "metadata": {},
   "outputs": [],
   "source": [
    "# Assign the 'symptomName' column to a variable\n",
    "symptoms = data['symptomName']\n"
   ]
  },
  {
   "cell_type": "markdown",
   "id": "fca96636-96d2-455b-83de-b5dd457f25a1",
   "metadata": {},
   "source": [
    "This code block defines the dimensionality of the embedding vectors as 768 \n",
    "defines two functions that use two different pre-trained models, model1 and model2,\n",
    "convert a given sentence to an embedding vector. "
   ]
  },
  {
   "cell_type": "code",
   "execution_count": null,
   "id": "64dd2600-36ff-4379-a4fd-5432d5f4e6ae",
   "metadata": {
    "tags": []
   },
   "outputs": [],
   "source": [
    "# Define the dimensionality of the embedding vectors\n",
    "EMBEDDING_DIM = 768\n",
    "\n",
    "# Define a function to convert a sentence to an embedding vector using model1\n",
    "def sentence_to_vector1(sentence):\n",
    "    return model1.encode(sentence)\n",
    "\n",
    "# Define a function to convert a sentence to an embedding vector using model2\n",
    "def sentence_to_vector2(sentence):\n",
    "    return model2.encode(sentence)\n",
    "\n",
    "# Convert each variable in the 'symptomName' column to an embedding vector using model1\n",
    "embedding_vectors1 = [sentence_to_vector1(symptom) for symptom in symptoms]\n",
    "\n",
    "# Convert each variable in the 'symptomName' column to an embedding vector using model2\n",
    "embedding_vectors2 = [sentence_to_vector2(symptom) for symptom in symptoms]\n",
    "\n",
    "# Create a dataframe to store the embedding vectors for each variable\n",
    "embedding_df = pd.DataFrame({'Symptom': symptoms, 'Embedding1': embedding_vectors1, 'Embedding2': embedding_vectors2})\n",
    "\n"
   ]
  },
  {
   "cell_type": "code",
   "execution_count": 29,
   "id": "fe3ca0ae-9cc9-4ce9-bcb2-4a69a6c9c7c2",
   "metadata": {
    "tags": []
   },
   "outputs": [
    {
     "data": {
      "text/html": [
       "<div>\n",
       "<style scoped>\n",
       "    .dataframe tbody tr th:only-of-type {\n",
       "        vertical-align: middle;\n",
       "    }\n",
       "\n",
       "    .dataframe tbody tr th {\n",
       "        vertical-align: top;\n",
       "    }\n",
       "\n",
       "    .dataframe thead th {\n",
       "        text-align: right;\n",
       "    }\n",
       "</style>\n",
       "<table border=\"1\" class=\"dataframe\">\n",
       "  <thead>\n",
       "    <tr style=\"text-align: right;\">\n",
       "      <th></th>\n",
       "      <th>Symptom</th>\n",
       "      <th>Embedding1</th>\n",
       "      <th>Embedding2</th>\n",
       "    </tr>\n",
       "  </thead>\n",
       "  <tbody>\n",
       "    <tr>\n",
       "      <th>0</th>\n",
       "      <td>Abcess</td>\n",
       "      <td>[-0.009819672, 0.010166229, 0.037522994, 0.017...</td>\n",
       "      <td>[0.02169, -0.18056, -0.085585, -0.56702, -0.37...</td>\n",
       "    </tr>\n",
       "    <tr>\n",
       "      <th>1</th>\n",
       "      <td>Abdomen</td>\n",
       "      <td>[0.05988404, 0.016402284, -0.04906652, 0.04811...</td>\n",
       "      <td>[-0.73936, -0.18636, 0.59149, 0.47356, 0.59297...</td>\n",
       "    </tr>\n",
       "    <tr>\n",
       "      <th>2</th>\n",
       "      <td>Abortifacient</td>\n",
       "      <td>[0.0063083256, 0.069451496, 0.009171189, -0.00...</td>\n",
       "      <td>[0.58928, 0.24762, 0.5015, -0.31308, -0.029607...</td>\n",
       "    </tr>\n",
       "    <tr>\n",
       "      <th>3</th>\n",
       "      <td>Abortive</td>\n",
       "      <td>[-0.014113224, 0.0776526, -0.008357837, 0.0237...</td>\n",
       "      <td>[0.082946, 0.16964, -0.21112, 0.21073, -0.0094...</td>\n",
       "    </tr>\n",
       "    <tr>\n",
       "      <th>4</th>\n",
       "      <td>Abrasion</td>\n",
       "      <td>[-0.07861289, -0.02588769, 0.034610912, 0.0558...</td>\n",
       "      <td>[-0.37954, 0.44132, 0.036332, 0.2241, 0.087512...</td>\n",
       "    </tr>\n",
       "    <tr>\n",
       "      <th>...</th>\n",
       "      <td>...</td>\n",
       "      <td>...</td>\n",
       "      <td>...</td>\n",
       "    </tr>\n",
       "    <tr>\n",
       "      <th>2399</th>\n",
       "      <td>Xeroderma</td>\n",
       "      <td>[-0.019220931, 0.039361082, -0.008053315, -0.0...</td>\n",
       "      <td>[-0.1321, -0.03129, 0.56218, -0.37585, -0.1352...</td>\n",
       "    </tr>\n",
       "    <tr>\n",
       "      <th>2400</th>\n",
       "      <td>Xerostomia</td>\n",
       "      <td>[0.026467256, -0.004775559, -0.030214, -0.0261...</td>\n",
       "      <td>[0.44359, -1.2665, -0.32656, 0.016998, 0.29406...</td>\n",
       "    </tr>\n",
       "    <tr>\n",
       "      <th>2401</th>\n",
       "      <td>Yawn</td>\n",
       "      <td>[0.025499135, 0.016739048, 0.054517888, -0.011...</td>\n",
       "      <td>[-0.18912, 0.051953, -0.007478, -0.51766, -0.1...</td>\n",
       "    </tr>\n",
       "    <tr>\n",
       "      <th>2402</th>\n",
       "      <td>Hyperhidrosis</td>\n",
       "      <td>[-0.0497032, 0.010405881, 0.015777154, 0.07780...</td>\n",
       "      <td>[0.33859, 0.84053, -0.07664, 0.27558, 0.026969...</td>\n",
       "    </tr>\n",
       "    <tr>\n",
       "      <th>2403</th>\n",
       "      <td>Pancreatitis</td>\n",
       "      <td>[0.026003812, -0.007015564, -0.028490739, 0.03...</td>\n",
       "      <td>[-0.44159, 0.093896, 0.35145, -0.5961, 0.36688...</td>\n",
       "    </tr>\n",
       "  </tbody>\n",
       "</table>\n",
       "<p>2404 rows × 3 columns</p>\n",
       "</div>"
      ],
      "text/plain": [
       "            Symptom                                         Embedding1  \\\n",
       "0            Abcess  [-0.009819672, 0.010166229, 0.037522994, 0.017...   \n",
       "1           Abdomen  [0.05988404, 0.016402284, -0.04906652, 0.04811...   \n",
       "2     Abortifacient  [0.0063083256, 0.069451496, 0.009171189, -0.00...   \n",
       "3          Abortive  [-0.014113224, 0.0776526, -0.008357837, 0.0237...   \n",
       "4          Abrasion  [-0.07861289, -0.02588769, 0.034610912, 0.0558...   \n",
       "...             ...                                                ...   \n",
       "2399      Xeroderma  [-0.019220931, 0.039361082, -0.008053315, -0.0...   \n",
       "2400     Xerostomia  [0.026467256, -0.004775559, -0.030214, -0.0261...   \n",
       "2401           Yawn  [0.025499135, 0.016739048, 0.054517888, -0.011...   \n",
       "2402  Hyperhidrosis  [-0.0497032, 0.010405881, 0.015777154, 0.07780...   \n",
       "2403   Pancreatitis  [0.026003812, -0.007015564, -0.028490739, 0.03...   \n",
       "\n",
       "                                             Embedding2  \n",
       "0     [0.02169, -0.18056, -0.085585, -0.56702, -0.37...  \n",
       "1     [-0.73936, -0.18636, 0.59149, 0.47356, 0.59297...  \n",
       "2     [0.58928, 0.24762, 0.5015, -0.31308, -0.029607...  \n",
       "3     [0.082946, 0.16964, -0.21112, 0.21073, -0.0094...  \n",
       "4     [-0.37954, 0.44132, 0.036332, 0.2241, 0.087512...  \n",
       "...                                                 ...  \n",
       "2399  [-0.1321, -0.03129, 0.56218, -0.37585, -0.1352...  \n",
       "2400  [0.44359, -1.2665, -0.32656, 0.016998, 0.29406...  \n",
       "2401  [-0.18912, 0.051953, -0.007478, -0.51766, -0.1...  \n",
       "2402  [0.33859, 0.84053, -0.07664, 0.27558, 0.026969...  \n",
       "2403  [-0.44159, 0.093896, 0.35145, -0.5961, 0.36688...  \n",
       "\n",
       "[2404 rows x 3 columns]"
      ]
     },
     "execution_count": 29,
     "metadata": {},
     "output_type": "execute_result"
    }
   ],
   "source": [
    "embedding_df"
   ]
  },
  {
   "cell_type": "code",
   "execution_count": 31,
   "id": "ae7302f1-09a9-4a33-ae83-1695fcd82d90",
   "metadata": {},
   "outputs": [],
   "source": [
    "embedding_df.to_csv('word2_embeddings.csv', index=False)"
   ]
  }
 ],
 "metadata": {
  "kernelspec": {
   "display_name": "Python 3 (ipykernel)",
   "language": "python",
   "name": "python3"
  },
  "language_info": {
   "codemirror_mode": {
    "name": "ipython",
    "version": 3
   },
   "file_extension": ".py",
   "mimetype": "text/x-python",
   "name": "python",
   "nbconvert_exporter": "python",
   "pygments_lexer": "ipython3",
   "version": "3.9.13"
  }
 },
 "nbformat": 4,
 "nbformat_minor": 5
}
