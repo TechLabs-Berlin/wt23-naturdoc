{
 "cells": [
  {
   "cell_type": "code",
   "execution_count": 1,
   "id": "d022aa51-38e0-4b21-9bbd-d1df3baec163",
   "metadata": {},
   "outputs": [
    {
     "name": "stdout",
     "output_type": "stream",
     "text": [
      "/Users/annaster/Documents/TechLabs/NaturDoc/anna_code/notebooks\n",
      "['/Users/annaster/Documents/TechLabs/NaturDoc/anna_code/notebooks', '/Users/annaster/Documents/TechLabs/NaturDoc/anna_code/notebooks', '/Users/annaster/opt/anaconda3/lib/python39.zip', '/Users/annaster/opt/anaconda3/lib/python3.9', '/Users/annaster/opt/anaconda3/lib/python3.9/lib-dynload', '', '/Users/annaster/opt/anaconda3/lib/python3.9/site-packages', '/Users/annaster/opt/anaconda3/lib/python3.9/site-packages/aeosa', '/Users/annaster/opt/anaconda3/lib/python3.9/site-packages/IPython/extensions', '/Users/annaster/.ipython']\n"
     ]
    }
   ],
   "source": [
    "import os\n",
    "#os.chdir('pytrends/')\n",
    "\n",
    "import sys\n",
    "sys.path.insert(0,os.getcwd())\n",
    "\n",
    "print(os.getcwd())\n",
    "print(sys.path)\n",
    "\n",
    "import numpy as np\n",
    "import pandas as pd\n",
    "import matplotlib.pyplot as plt\n",
    "import random\n",
    "from typing import List, Dict\n",
    "\n",
    "from pytrends.request import TrendReq\n",
    "\n",
    "from tqdm import tqdm\n",
    "from itertools import islice\n",
    "from IPython.display import display\n",
    "import time\n",
    "\n",
    "from warnings import warn\n",
    "import json"
   ]
  },
  {
   "cell_type": "code",
   "execution_count": 2,
   "id": "dfe37192-8bdb-4521-8202-3b6f1f00b31b",
   "metadata": {},
   "outputs": [],
   "source": [
    "def pytrend_score_group(terms : list, print_table : bool = False) -> Dict[str,int]:\n",
    "    pt = TrendReq(retries=5)\n",
    "    pt.build_payload(terms)\n",
    "    tmp_df = pt.interest_over_time()\n",
    "    tmp_df = tmp_df[terms].mean()\n",
    "    \n",
    "    if print_table:\n",
    "        display(tmp_df)\n",
    "        \n",
    "    ranks = tmp_df.rank().to_dict()\n",
    "    return ranks \n",
    "\n",
    "\n",
    "def break_into_groups(lst, group_size):\n",
    "    \"\"\"\n",
    "    Breaks a list into groups of a specified size.\n",
    "    \n",
    "    Args:\n",
    "        lst (list): The list to be broken into groups.\n",
    "        group_size (int): The size of each group.\n",
    "    \n",
    "    Returns:\n",
    "        list: A list of lists, where each inner list contains `group_size`\n",
    "        elements from the original list.\n",
    "    \"\"\"\n",
    "    return [lst[i:i+group_size] for i in range(0, len(lst), group_size)]\n"
   ]
  },
  {
   "cell_type": "code",
   "execution_count": 3,
   "id": "6e7d23fd-1dcb-436e-98a4-15edc31c3262",
   "metadata": {},
   "outputs": [],
   "source": [
    "# Load the JSON file\n",
    "with open('remedies.json', 'r') as f:\n",
    "    remedies = json.load(f)"
   ]
  },
  {
   "cell_type": "code",
   "execution_count": 4,
   "id": "70e42c14-684e-45f5-bb21-ca5bf8ab612f",
   "metadata": {},
   "outputs": [
    {
     "data": {
      "text/plain": [
       "[{'TAXON': 'Abelmoschus esculentus',\n",
       "  'ACTIVITY': 'Abortifacient,Antidote,Boil,Burn,Catarrh,Coffee,Colic,Cordial,Demulcent,Diarrhea,Diuretic,Dyspepsia,Dysuria,Emollient,Gonorrhea,Inflammation,Intestine,Lactogogue,Leprosy,Parturition,Pectoral,Scald,Sore,Spasm,Stimulant,Sudorific,Syphilis,Ache(Tooth),Tumor,Whitlow,Abscess,Aphrodisiac,Gum,Labor,Pregnancy,Wound',\n",
       "  'CNAME': \"Huang Shu K'Uei,Bamia,Molondron,Quiabeiro,Gombo,Gumbo,Calalou,Calalou Gombo,Quingombo,Ochro\",\n",
       "  'FAMILY': 'Malvaceae',\n",
       "  'GENUS': 'Abelmoschus',\n",
       "  'SPECIES': 'esculentus',\n",
       "  'VERNAC': None,\n",
       "  'CLINICAL': None,\n",
       "  'TRADITIONAL': None,\n",
       "  'FOLK': None,\n",
       "  'CONTRAINDICATION': None,\n",
       "  'WARNING': None,\n",
       "  'ADVERSE': None,\n",
       "  'POSOLOGY': None}]"
      ]
     },
     "execution_count": 4,
     "metadata": {},
     "output_type": "execute_result"
    }
   ],
   "source": [
    "remedies[:1]"
   ]
  },
  {
   "cell_type": "code",
   "execution_count": 5,
   "id": "35ac79ca-a038-4d79-8583-9bf442525ff0",
   "metadata": {},
   "outputs": [
    {
     "name": "stdout",
     "output_type": "stream",
     "text": [
      "Number of enriched remedies: 75\n"
     ]
    }
   ],
   "source": [
    "# Filter remedies by VERNAC\n",
    "enriched_remedies = [remedy for remedy in remedies if  remedy['VERNAC']]\n",
    "\n",
    "# Print the number of enriched remedies\n",
    "print(f\"Number of enriched remedies: {len(enriched_remedies)}\")"
   ]
  },
  {
   "cell_type": "code",
   "execution_count": 23,
   "id": "fedcadf0-ff06-4b27-b0fb-39f2f47d7831",
   "metadata": {},
   "outputs": [
    {
     "name": "stdout",
     "output_type": "stream",
     "text": [
      "Number of filtered remedies: 66\n"
     ]
    }
   ],
   "source": [
    " #Filter enriched_remedies by CNAME\n",
    "filtered_remedies = [remedy for remedy in enriched_remedies if remedy.get('CNAME')]\n",
    "print(f\"Number of filtered remedies: {len(filtered_remedies)}\")"
   ]
  },
  {
   "cell_type": "code",
   "execution_count": 24,
   "id": "dc8c3154-2890-4e15-9d96-904355f8dab0",
   "metadata": {},
   "outputs": [
    {
     "name": "stdout",
     "output_type": "stream",
     "text": [
      "Number of unique remedies: 66\n"
     ]
    }
   ],
   "source": [
    "remedies = list({r['TAXON']: r for r in filtered_remedies}.values())\n",
    "print(f\"Number of unique remedies: {len(remedies)}\")"
   ]
  },
  {
   "cell_type": "code",
   "execution_count": 26,
   "id": "4ed00d15-5731-4466-94e1-55570453352b",
   "metadata": {},
   "outputs": [
    {
     "name": "stdout",
     "output_type": "stream",
     "text": [
      "['Aesculus hippocastanum', 'Allium cepa', 'Allium sativum', 'Aloe africana', 'Aloe ferox', 'Aloe sp', 'Aloe spicata', 'Aloe vera', 'Althaea officinalis', 'Andrographis paniculata', 'Angelica sinensis', 'Arctostaphylos uva-ursi', 'Astragalus membranaceus', 'Astragalus mongholicus', 'Brucea javanica', 'Bupleurum falcatum', 'Calendula officinalis', 'Centella asiatica', 'Chrysanthemum parthenium', 'Cimicifuga racemosa', 'Cinnamomum cassia', 'Cinnamomum verum', 'Coptis chinensis', 'Coptis japonica', 'Crataegus monogyna', 'Crataegus sp', 'Curcuma longa', 'Echinacea angustifolia', 'Echinacea pallida', 'Ephedra sinica', 'Eucalyptus globulus', 'Eucalyptus sp', 'Ginkgo biloba', 'Glycyrrhiza glabra', 'Glycyrrhiza uralensis', 'Hamamelis virginiana', 'Hypericum perforatum', 'Matricaria chamomilla', 'Melissa officinalis', 'Mentha piperita', 'Ocimum sanctum', 'Oenothera biennis', 'Paeonia lactiflora', 'Panax ginseng', 'Piper methysticum', 'Plantago asiatica', 'Plantago ovata', 'Platycodon grandiflorum', 'Polygala senega', 'Rauvolfia serpentina', 'Rhamnus frangula', 'Rhamnus purshiana', 'Rheum officinale', 'Rheum palmatum', 'Rosa laevigata', 'Rosa sp', 'Sambucus nigra', 'Serenoa repens', 'Silybum marianum', 'Syzygium aromaticum', 'Thymus vulgaris', 'Thymus zygis', 'Urtica dioica', 'Urtica urens', 'Valeriana officinalis', 'Zingiber officinale']\n"
     ]
    }
   ],
   "source": [
    "remedies_names = [remedy['TAXON'][0] if isinstance(remedy['TAXON'], list) else remedy['TAXON'] for remedy in remedies if remedy.get('TAXON')]\n",
    "print(remedies_names)"
   ]
  },
  {
   "cell_type": "code",
   "execution_count": 27,
   "id": "991c7e3e-887a-4a24-ab8a-05c1e41b333c",
   "metadata": {},
   "outputs": [],
   "source": [
    "# Break remedies into groups of 5\n",
    "groups = break_into_groups(remedies_names, 5)"
   ]
  },
  {
   "cell_type": "code",
   "execution_count": 28,
   "id": "70575b4c-b711-47bb-bd95-b60b8861217e",
   "metadata": {},
   "outputs": [
    {
     "data": {
      "text/plain": [
       "[['Aesculus hippocastanum',\n",
       "  'Allium cepa',\n",
       "  'Allium sativum',\n",
       "  'Aloe africana',\n",
       "  'Aloe ferox'],\n",
       " ['Aloe sp',\n",
       "  'Aloe spicata',\n",
       "  'Aloe vera',\n",
       "  'Althaea officinalis',\n",
       "  'Andrographis paniculata'],\n",
       " ['Angelica sinensis',\n",
       "  'Arctostaphylos uva-ursi',\n",
       "  'Astragalus membranaceus',\n",
       "  'Astragalus mongholicus',\n",
       "  'Brucea javanica'],\n",
       " ['Bupleurum falcatum',\n",
       "  'Calendula officinalis',\n",
       "  'Centella asiatica',\n",
       "  'Chrysanthemum parthenium',\n",
       "  'Cimicifuga racemosa'],\n",
       " ['Cinnamomum cassia',\n",
       "  'Cinnamomum verum',\n",
       "  'Coptis chinensis',\n",
       "  'Coptis japonica',\n",
       "  'Crataegus monogyna'],\n",
       " ['Crataegus sp',\n",
       "  'Curcuma longa',\n",
       "  'Echinacea angustifolia',\n",
       "  'Echinacea pallida',\n",
       "  'Ephedra sinica'],\n",
       " ['Eucalyptus globulus',\n",
       "  'Eucalyptus sp',\n",
       "  'Ginkgo biloba',\n",
       "  'Glycyrrhiza glabra',\n",
       "  'Glycyrrhiza uralensis'],\n",
       " ['Hamamelis virginiana',\n",
       "  'Hypericum perforatum',\n",
       "  'Matricaria chamomilla',\n",
       "  'Melissa officinalis',\n",
       "  'Mentha piperita'],\n",
       " ['Ocimum sanctum',\n",
       "  'Oenothera biennis',\n",
       "  'Paeonia lactiflora',\n",
       "  'Panax ginseng',\n",
       "  'Piper methysticum'],\n",
       " ['Plantago asiatica',\n",
       "  'Plantago ovata',\n",
       "  'Platycodon grandiflorum',\n",
       "  'Polygala senega',\n",
       "  'Rauvolfia serpentina'],\n",
       " ['Rhamnus frangula',\n",
       "  'Rhamnus purshiana',\n",
       "  'Rheum officinale',\n",
       "  'Rheum palmatum',\n",
       "  'Rosa laevigata'],\n",
       " ['Rosa sp',\n",
       "  'Sambucus nigra',\n",
       "  'Serenoa repens',\n",
       "  'Silybum marianum',\n",
       "  'Syzygium aromaticum'],\n",
       " ['Thymus vulgaris',\n",
       "  'Thymus zygis',\n",
       "  'Urtica dioica',\n",
       "  'Urtica urens',\n",
       "  'Valeriana officinalis'],\n",
       " ['Zingiber officinale']]"
      ]
     },
     "execution_count": 28,
     "metadata": {},
     "output_type": "execute_result"
    }
   ],
   "source": [
    "groups"
   ]
  },
  {
   "cell_type": "code",
   "execution_count": null,
   "id": "459c79f0-c131-401f-9484-8fe7d0b65547",
   "metadata": {},
   "outputs": [],
   "source": []
  }
 ],
 "metadata": {
  "kernelspec": {
   "display_name": "Python 3 (ipykernel)",
   "language": "python",
   "name": "python3"
  },
  "language_info": {
   "codemirror_mode": {
    "name": "ipython",
    "version": 3
   },
   "file_extension": ".py",
   "mimetype": "text/x-python",
   "name": "python",
   "nbconvert_exporter": "python",
   "pygments_lexer": "ipython3",
   "version": "3.9.13"
  }
 },
 "nbformat": 4,
 "nbformat_minor": 5
}
