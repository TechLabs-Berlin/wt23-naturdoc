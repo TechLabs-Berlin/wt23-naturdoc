{
 "cells": [
  {
   "cell_type": "code",
   "execution_count": null,
   "id": "e2d2ab25-231c-4783-b61f-e3bccfd679bf",
   "metadata": {},
   "outputs": [],
   "source": [
    "import os\n",
    "\n",
    "\n",
    "import sys\n",
    "sys.path.insert(0,os.getcwd())\n",
    "\n",
    "print(os.getcwd())\n",
    "print(sys.path)\n",
    "\n",
    "import numpy as np\n",
    "import pandas as pd\n",
    "import matplotlib.pyplot as plt\n",
    "import random\n",
    "from typing import List, Dict\n",
    "\n",
    "from pytrends.request import TrendReq\n",
    "\n",
    "from tqdm import tqdm\n",
    "from itertools import islice\n",
    "from IPython.display import display\n",
    "import time\n",
    "\n",
    "from warnings import warn"
   ]
  },
  {
   "cell_type": "code",
   "execution_count": null,
   "id": "dfc38594-e818-4200-8e46-0b35173c204c",
   "metadata": {},
   "outputs": [],
   "source": [
    "import json\n",
    "\n",
    "# Load the JSON file\n",
    "with open('remedies.json', 'r') as f:\n",
    "    remedies = json.load(f)"
   ]
  },
  {
   "cell_type": "code",
   "execution_count": null,
   "id": "d8ed5f0b-dc73-489d-aad8-dfd2fd3ccdc2",
   "metadata": {},
   "outputs": [],
   "source": [
    "remedies = [r for r in remedies if r.get('VERNAC') is not None]\n",
    "len(remedies)"
   ]
  },
  {
   "cell_type": "code",
   "execution_count": null,
   "id": "45eb07c9-e079-40e9-8917-746fe97f5a94",
   "metadata": {},
   "outputs": [],
   "source": [
    "remedies = [r for i, r in enumerate(remedies) if r.get('CNAME') is not None]\n",
    "len(remedies)\n"
   ]
  },
  {
   "cell_type": "code",
   "execution_count": null,
   "id": "18df83b9-a411-498d-b3e5-1d5ce39a61b0",
   "metadata": {},
   "outputs": [],
   "source": [
    "remedies = list({r['TAXON']: r for r in remedies}.values())"
   ]
  },
  {
   "cell_type": "code",
   "execution_count": null,
   "id": "f64f6354-9198-406b-86ac-a4573782ae6a",
   "metadata": {},
   "outputs": [],
   "source": [
    "len(remedies)"
   ]
  },
  {
   "cell_type": "code",
   "execution_count": null,
   "id": "8f3472ad-6d63-4284-8e29-5b2b6f09047b",
   "metadata": {},
   "outputs": [],
   "source": [
    "remedies_names = [remedy['TAXON'][0] for remedy in remedies]"
   ]
  },
  {
   "cell_type": "code",
   "execution_count": 23,
   "id": "8cab965b-ea51-4627-bc7a-f56d028b697d",
   "metadata": {},
   "outputs": [
    {
     "name": "stdout",
     "output_type": "stream",
     "text": [
      "['Aesculus hippocastanum', 'Allium cepa', 'Allium sativum', 'Aloe africana', 'Aloe ferox', 'Aloe sp', 'Aloe spicata', 'Aloe vera', 'Althaea officinalis', 'Amomum sp', 'Andrographis paniculata', 'Angelica sinensis', 'Arctostaphylos uva-ursi', 'Astragalus membranaceus', 'Astragalus mongholicus', 'Brucea javanica', 'Bupleurum falcatum', 'Calendula officinalis', 'Cassia senna', 'Centella asiatica', 'Chrysanthemum parthenium', 'Cimicifuga racemosa', 'Cinnamomum cassia', 'Cinnamomum verum', 'Coptis chinensis', 'Coptis japonica', 'Coptis sp', 'Crataegus monogyna', 'Crataegus sp', 'Curcuma longa', 'Echinacea angustifolia', 'Echinacea pallida', 'Echinacea purpurea', 'Ephedra sinica', 'Ephedra sp', 'Eucalyptus globulus', 'Eucalyptus sp', 'Ginkgo biloba', 'Glycyrrhiza glabra', 'Glycyrrhiza ralensis', 'Glycyrrhiza uralensis', 'Hamamelis virginiana', 'Hypericum perforatum', 'Matricaria chamomilla', 'Melaleuca alternifolia', 'Melissa officinalis', 'Mentha piperita', 'Ocimum sanctum', 'Oenothera biennis', 'Paeonia lactiflora', 'Panax ginseng', 'Piper methysticum', 'Plantago asiatica', 'Plantago ovata', 'Platycodon grandiflorum', 'Polygala senega', 'Polygala sp', 'Rauvolfia serpentina', 'Rhamnus frangula', 'Rhamnus purshiana', 'Rheum officinale', 'Rheum palmatum', 'Rosa laevigata', 'Rosa sp', 'Sambucus nigra', 'Serenoa repens', 'Silybum marianum', 'Syzygium aromaticum', 'Thymus vulgaris', 'Thymus zygis', 'Urtica dioica', 'Urtica urens', 'Valeriana officinalis', 'Zingiber officinale', 'Zingiber sp']\n"
     ]
    }
   ],
   "source": [
    "remedies_names = []\n",
    "for remedy in remedies:\n",
    "    if remedy.get('TAXON'):\n",
    "        if isinstance(remedy['TAXON'], list):\n",
    "            remedies_names.append(remedy['TAXON'][0])\n",
    "        else:\n",
    "            remedies_names.append(remedy['TAXON'])\n",
    "\n",
    "print(remedies_names)\n"
   ]
  },
  {
   "cell_type": "code",
   "execution_count": 24,
   "id": "f6464369-0e72-4217-842a-d8b08a738836",
   "metadata": {},
   "outputs": [
    {
     "name": "stdout",
     "output_type": "stream",
     "text": [
      "[['Aesculus hippocastanum', 'Allium cepa', 'Allium sativum', 'Aloe africana', 'Aloe ferox'], ['Aloe sp', 'Aloe spicata', 'Aloe vera', 'Althaea officinalis', 'Andrographis paniculata'], ['Angelica sinensis', 'Arctostaphylos uva-ursi', 'Astragalus membranaceus', 'Astragalus mongholicus', 'Brucea javanica'], ['Bupleurum falcatum', 'Calendula officinalis', 'Centella asiatica', 'Chrysanthemum parthenium', 'Cimicifuga racemosa'], ['Cinnamomum cassia', 'Cinnamomum verum', 'Coptis chinensis', 'Coptis japonica', 'Crataegus monogyna'], ['Crataegus sp', 'Curcuma longa', 'Echinacea angustifolia', 'Echinacea pallida', 'Ephedra sinica'], ['Eucalyptus globulus', 'Eucalyptus sp', 'Ginkgo biloba', 'Glycyrrhiza glabra', 'Glycyrrhiza uralensis'], ['Hamamelis virginiana', 'Hypericum perforatum', 'Matricaria chamomilla', 'Melissa officinalis', 'Mentha piperita'], ['Ocimum sanctum', 'Oenothera biennis', 'Paeonia lactiflora', 'Panax ginseng', 'Piper methysticum'], ['Plantago asiatica', 'Plantago ovata', 'Platycodon grandiflorum', 'Polygala senega', 'Rauvolfia serpentina'], ['Rhamnus frangula', 'Rhamnus purshiana', 'Rheum officinale', 'Rheum palmatum', 'Rosa laevigata'], ['Rosa sp', 'Sambucus nigra', 'Serenoa repens', 'Silybum marianum', 'Syzygium aromaticum'], ['Thymus vulgaris', 'Thymus zygis', 'Urtica dioica', 'Urtica urens', 'Valeriana officinalis'], ['Zingiber officinale']]\n"
     ]
    }
   ],
   "source": [
    "remedies = ['Aesculus hippocastanum', 'Allium cepa', 'Allium sativum', 'Aloe africana', 'Aloe ferox', 'Aloe sp', 'Aloe spicata', 'Aloe vera', 'Althaea officinalis', 'Andrographis paniculata', 'Angelica sinensis', 'Arctostaphylos uva-ursi', 'Astragalus membranaceus', 'Astragalus mongholicus', 'Brucea javanica', 'Bupleurum falcatum', 'Calendula officinalis', 'Centella asiatica', 'Chrysanthemum parthenium', 'Cimicifuga racemosa', 'Cinnamomum cassia', 'Cinnamomum verum', 'Coptis chinensis', 'Coptis japonica', 'Crataegus monogyna', 'Crataegus sp', 'Curcuma longa', 'Echinacea angustifolia', 'Echinacea pallida', 'Ephedra sinica', 'Eucalyptus globulus', 'Eucalyptus sp', 'Ginkgo biloba', 'Glycyrrhiza glabra', 'Glycyrrhiza uralensis', 'Hamamelis virginiana', 'Hypericum perforatum', 'Matricaria chamomilla', 'Melissa officinalis', 'Mentha piperita', 'Ocimum sanctum', 'Oenothera biennis', 'Paeonia lactiflora', 'Panax ginseng', 'Piper methysticum', 'Plantago asiatica', 'Plantago ovata', 'Platycodon grandiflorum', 'Polygala senega', 'Rauvolfia serpentina', 'Rhamnus frangula', 'Rhamnus purshiana', 'Rheum officinale', 'Rheum palmatum', 'Rosa laevigata', 'Rosa sp', 'Sambucus nigra', 'Serenoa repens', 'Silybum marianum', 'Syzygium aromaticum', 'Thymus vulgaris', 'Thymus zygis', 'Urtica dioica', 'Urtica urens', 'Valeriana officinalis', 'Zingiber officinale']\n",
    "\n",
    "groups = [remedies[i:i+5] for i in range(0, len(remedies), 5)]\n",
    "\n",
    "print(groups)\n"
   ]
  },
  {
   "cell_type": "code",
   "execution_count": 25,
   "id": "d35e64b1-e33a-4d59-95bf-8efe2f50ccab",
   "metadata": {},
   "outputs": [
    {
     "ename": "NameError",
     "evalue": "name 'print_table' is not defined",
     "output_type": "error",
     "traceback": [
      "\u001b[0;31m---------------------------------------------------------------------------\u001b[0m",
      "\u001b[0;31mNameError\u001b[0m                                 Traceback (most recent call last)",
      "\u001b[0;32m/var/folders/4r/ty4_w0796xv2thtcfkt3pq4c0000gn/T/ipykernel_6351/1673897867.py\u001b[0m in \u001b[0;36m<module>\u001b[0;34m\u001b[0m\n\u001b[1;32m     42\u001b[0m             \u001b[0mscores\u001b[0m\u001b[0;34m[\u001b[0m\u001b[0mremedy\u001b[0m\u001b[0;34m]\u001b[0m \u001b[0;34m+=\u001b[0m \u001b[0mrank\u001b[0m\u001b[0;34m\u001b[0m\u001b[0;34m\u001b[0m\u001b[0m\n\u001b[1;32m     43\u001b[0m \u001b[0;34m\u001b[0m\u001b[0m\n\u001b[0;32m---> 44\u001b[0;31m \u001b[0;32mif\u001b[0m \u001b[0mprint_table\u001b[0m\u001b[0;34m:\u001b[0m\u001b[0;34m\u001b[0m\u001b[0;34m\u001b[0m\u001b[0m\n\u001b[0m\u001b[1;32m     45\u001b[0m         \u001b[0mdf\u001b[0m \u001b[0;34m=\u001b[0m \u001b[0mpd\u001b[0m\u001b[0;34m.\u001b[0m\u001b[0mDataFrame\u001b[0m\u001b[0;34m.\u001b[0m\u001b[0mfrom_dict\u001b[0m\u001b[0;34m(\u001b[0m\u001b[0mscores\u001b[0m\u001b[0;34m,\u001b[0m \u001b[0morient\u001b[0m\u001b[0;34m=\u001b[0m\u001b[0;34m'index'\u001b[0m\u001b[0;34m,\u001b[0m \u001b[0mcolumns\u001b[0m\u001b[0;34m=\u001b[0m\u001b[0;34m[\u001b[0m\u001b[0;34m'score'\u001b[0m\u001b[0;34m]\u001b[0m\u001b[0;34m)\u001b[0m\u001b[0;34m\u001b[0m\u001b[0;34m\u001b[0m\u001b[0m\n\u001b[1;32m     46\u001b[0m         \u001b[0mdf\u001b[0m\u001b[0;34m.\u001b[0m\u001b[0mindex\u001b[0m\u001b[0;34m.\u001b[0m\u001b[0mname\u001b[0m \u001b[0;34m=\u001b[0m \u001b[0;34m'remedy'\u001b[0m\u001b[0;34m\u001b[0m\u001b[0;34m\u001b[0m\u001b[0m\n",
      "\u001b[0;31mNameError\u001b[0m: name 'print_table' is not defined"
     ]
    }
   ],
   "source": [
    "def break_into_groups(lst, n):\n",
    "    \"\"\"\n",
    "    This function breaks a list into n-sized groups.\n",
    "    \"\"\"\n",
    "    return [lst[i:i + n] for i in range(0, len(lst), n)]\n",
    "\n",
    "def rank_by_popularity(groups, debug=False):\n",
    "    \"\"\"\n",
    "    This function ranks a list of groups by the popularity of the herbs in them.\n",
    "    \"\"\"\n",
    "    url = 'https://herb-ranking.herokuapp.com/rank'\n",
    "    headers = {'Content-Type': 'application/json'}\n",
    "    rankings = []\n",
    "\n",
    "    for group in groups:\n",
    "        data = {'herbs': group}\n",
    "        response = requests.post(url, json=data, headers=headers)\n",
    "\n",
    "        if response.status_code == 200:\n",
    "            ranking = response.json()['ranking']\n",
    "            rankings.append(ranking)\n",
    "\n",
    "            if debug:\n",
    "                print(group)\n",
    "                print(ranking)\n",
    "                print('---')\n",
    "        else:\n",
    "            print(f\"Error {response.status_code} when ranking {group}\")\n",
    "\n",
    "    return rankings\n",
    "\n",
    "def pytrend_score_group(groups: List[List[str]], print_table: bool = False) -> Dict[str, int]:\n",
    "    pt = TrendReq(retries=5)\n",
    "    scores = {remedy: 0 for remedy in set([remedy for group in groups for remedy in group])}\n",
    "    \n",
    "    for group in groups:\n",
    "        pt.build_payload(group)\n",
    "        tmp_df = pt.interest_over_time()\n",
    "        tmp_df = tmp_df[group].mean()\n",
    "        ranks = tmp_df.rank().to_dict()\n",
    "        for remedy, rank in ranks.items():\n",
    "            scores[remedy] += rank\n",
    "            \n",
    "if print_table:\n",
    "        df = pd.DataFrame.from_dict(scores, orient='index', columns=['score'])\n",
    "        df.index.name = 'remedy'\n",
    "        df.reset_index(inplace=True)\n",
    "        df = df.sort_values(by=['score','remedy'], ascending=False)\n",
    "        display(df)\n",
    "        \n",
    "return scores           "
   ]
  },
  {
   "cell_type": "code",
   "execution_count": 26,
   "id": "23f99ed7-3b53-45d8-83c9-34c066710c6b",
   "metadata": {},
   "outputs": [
    {
     "ename": "KeyError",
     "evalue": "'herb1'",
     "output_type": "error",
     "traceback": [
      "\u001b[0;31m---------------------------------------------------------------------------\u001b[0m",
      "\u001b[0;31mKeyError\u001b[0m                                  Traceback (most recent call last)",
      "\u001b[0;32m/var/folders/4r/ty4_w0796xv2thtcfkt3pq4c0000gn/T/ipykernel_6351/2837507853.py\u001b[0m in \u001b[0;36m<module>\u001b[0;34m\u001b[0m\n\u001b[1;32m      7\u001b[0m \u001b[0;32mfor\u001b[0m \u001b[0mherb\u001b[0m\u001b[0;34m,\u001b[0m \u001b[0mscore\u001b[0m \u001b[0;32min\u001b[0m \u001b[0mranked_group\u001b[0m\u001b[0;34m.\u001b[0m\u001b[0mitems\u001b[0m\u001b[0;34m(\u001b[0m\u001b[0;34m)\u001b[0m\u001b[0;34m:\u001b[0m\u001b[0;34m\u001b[0m\u001b[0;34m\u001b[0m\u001b[0m\n\u001b[1;32m      8\u001b[0m     \u001b[0mherb_score\u001b[0m\u001b[0;34m[\u001b[0m\u001b[0mherb\u001b[0m\u001b[0;34m]\u001b[0m \u001b[0;34m+=\u001b[0m \u001b[0mranked_group\u001b[0m\u001b[0;34m[\u001b[0m\u001b[0mherb\u001b[0m\u001b[0;34m]\u001b[0m\u001b[0;34m\u001b[0m\u001b[0;34m\u001b[0m\u001b[0m\n\u001b[0;32m----> 9\u001b[0;31m     \u001b[0mherb_i\u001b[0m\u001b[0;34m[\u001b[0m\u001b[0mherb\u001b[0m\u001b[0;34m]\u001b[0m \u001b[0;34m+=\u001b[0m \u001b[0;36m1\u001b[0m\u001b[0;34m\u001b[0m\u001b[0;34m\u001b[0m\u001b[0m\n\u001b[0m\u001b[1;32m     10\u001b[0m \u001b[0;34m\u001b[0m\u001b[0m\n\u001b[1;32m     11\u001b[0m \u001b[0;31m# create a dataframe from herb_score\u001b[0m\u001b[0;34m\u001b[0m\u001b[0;34m\u001b[0m\u001b[0m\n",
      "\u001b[0;31mKeyError\u001b[0m: 'herb1'"
     ]
    }
   ],
   "source": [
    "herbs = ['Aesculus hippocastanum', 'Allium cepa', 'Allium sativum', 'Aloe africana', 'Aloe ferox', 'Aloe sp', 'Aloe spicata', 'Aloe vera', 'Althaea officinalis', 'Andrographis paniculata', 'Angelica sinensis', 'Arctostaphylos uva-ursi', 'Astragalus membranaceus', 'Astragalus mongholicus', 'Brucea javanica', 'Bupleurum falcatum', 'Calendula officinalis', 'Centella asiatica', 'Chrysanthemum parthenium', 'Cimicifuga racemosa', 'Cinnamomum cassia', 'Cinnamomum verum', 'Coptis chinensis', 'Coptis japonica', 'Crataegus monogyna', 'Crataegus sp', 'Curcuma longa', 'Echinacea angustifolia', 'Echinacea pallida', 'Ephedra sinica', 'Eucalyptus globulus', 'Eucalyptus sp', 'Ginkgo biloba', 'Glycyrrhiza glabra', 'Glycyrrhiza uralensis', 'Hamamelis virginiana', 'Hypericum perforatum', 'Matricaria chamomilla', 'Melissa officinalis', 'Mentha piperita', 'Ocimum sanctum', 'Oenothera biennis', 'Paeonia lactiflora', 'Panax ginseng', 'Piper methysticum', 'Plantago asiatica', 'Plantago ovata', 'Platycodon grandiflorum', 'Polygala senega', 'Rauvolfia serpentina', 'Rhamnus frangula', 'Rhamnus purshiana', 'Rheum officinale', 'Rheum palmatum', 'Rosa laevigata', 'Rosa sp', 'Sambucus nigra', 'Serenoa repens', 'Silybum marianum', 'Syzygium aromaticum', 'Thymus vulgaris', 'Thymus zygis', 'Urtica dioica', 'Urtica urens', 'Valeriana officinalis', 'Zingiber officinale']\n",
    "\n",
    "herbs = list(set(herbs))\n",
    "\n",
    "GROUP_SIZE = 5\n",
    "\n",
    "for herb, score in ranked_group.items():\n",
    "    herb_score[herb] += ranked_group[herb]\n",
    "    herb_i[herb] += 1\n",
    "            \n",
    "# create a dataframe from herb_score\n",
    "df = pd.DataFrame.from_dict(herb_score, orient='index', columns=['score'])\n",
    "df.index.name = 'herb'\n",
    "df.reset_index(inplace=True)\n",
    "\n",
    "# sort the dataframe by score and herb\n",
    "df = df.sort_values(by=['score','herb'], ascending=False)\n",
    "\n",
    "# get the sorted herbs\n",
    "sorted_herbs = df['herb'].tolist()\n",
    "\n",
    "# break the sorted herbs into groups\n",
    "groups = break_into_groups(sorted_herbs,GROUP_SIZE)\n",
    "    \n",
    "# create a new dictionary to store the scores for each group\n",
    "group_scores = {f'Group {i}': 0 for i in range(1, len(groups)+1)}\n",
    "\n",
    "# assign the scores for each group based on the scores of the herbs in the group\n",
    "for i, group in enumerate(groups):\n",
    "    group_score = sum([herb_score[herb] for herb in group])\n",
    "    group_scores[f'Group {i+1}'] = group_score\n",
    "\n",
    "# create a dataframe from group_scores\n",
    "df_groups = pd.DataFrame.from_dict(group_scores, orient='index', columns=['score'])\n",
    "df_groups.index.name = 'group'\n",
    "df_groups.reset_index(inplace=True)\n",
    "\n",
    "# sort the dataframe by score and group\n",
    "df_groups = df_groups.sort_values(by=['score','group'], ascending=False)\n",
    "\n",
    "# display the final result\n",
    "print(df_groups)\n"
   ]
  },
  {
   "cell_type": "code",
   "execution_count": 27,
   "id": "84795a60-0710-4ffd-a07a-141d097e088a",
   "metadata": {},
   "outputs": [
    {
     "ename": "NameError",
     "evalue": "name 'df_groups' is not defined",
     "output_type": "error",
     "traceback": [
      "\u001b[0;31m---------------------------------------------------------------------------\u001b[0m",
      "\u001b[0;31mNameError\u001b[0m                                 Traceback (most recent call last)",
      "\u001b[0;32m/var/folders/4r/ty4_w0796xv2thtcfkt3pq4c0000gn/T/ipykernel_6351/3630515665.py\u001b[0m in \u001b[0;36m<module>\u001b[0;34m\u001b[0m\n\u001b[0;32m----> 1\u001b[0;31m \u001b[0mdf_groups\u001b[0m\u001b[0;34m\u001b[0m\u001b[0;34m\u001b[0m\u001b[0m\n\u001b[0m",
      "\u001b[0;31mNameError\u001b[0m: name 'df_groups' is not defined"
     ]
    }
   ],
   "source": [
    "df_groups"
   ]
  },
  {
   "cell_type": "code",
   "execution_count": 2,
   "id": "109bb3d2-e3fc-4733-b093-638805630296",
   "metadata": {},
   "outputs": [
    {
     "ename": "NameError",
     "evalue": "name 'herbs' is not defined",
     "output_type": "error",
     "traceback": [
      "\u001b[0;31m---------------------------------------------------------------------------\u001b[0m",
      "\u001b[0;31mNameError\u001b[0m                                 Traceback (most recent call last)",
      "\u001b[0;32m/var/folders/4r/ty4_w0796xv2thtcfkt3pq4c0000gn/T/ipykernel_7471/2010696801.py\u001b[0m in \u001b[0;36m<module>\u001b[0;34m\u001b[0m\n\u001b[1;32m     18\u001b[0m           ['Zingiber officinale']]\n\u001b[1;32m     19\u001b[0m \u001b[0;34m\u001b[0m\u001b[0m\n\u001b[0;32m---> 20\u001b[0;31m \u001b[0mherb_i\u001b[0m \u001b[0;34m=\u001b[0m \u001b[0;34m{\u001b[0m\u001b[0mherb\u001b[0m\u001b[0;34m:\u001b[0m \u001b[0;36m0\u001b[0m \u001b[0;32mfor\u001b[0m \u001b[0mherb\u001b[0m \u001b[0;32min\u001b[0m \u001b[0mherbs\u001b[0m\u001b[0;34m}\u001b[0m\u001b[0;34m\u001b[0m\u001b[0;34m\u001b[0m\u001b[0m\n\u001b[0m\u001b[1;32m     21\u001b[0m \u001b[0;34m\u001b[0m\u001b[0m\n\u001b[1;32m     22\u001b[0m \u001b[0;32mfor\u001b[0m \u001b[0mherb\u001b[0m\u001b[0;34m,\u001b[0m \u001b[0mscore\u001b[0m \u001b[0;32min\u001b[0m \u001b[0mranked_group\u001b[0m\u001b[0;34m.\u001b[0m\u001b[0mitems\u001b[0m\u001b[0;34m(\u001b[0m\u001b[0;34m)\u001b[0m\u001b[0;34m:\u001b[0m\u001b[0;34m\u001b[0m\u001b[0;34m\u001b[0m\u001b[0m\n",
      "\u001b[0;31mNameError\u001b[0m: name 'herbs' is not defined"
     ]
    }
   ],
   "source": [
    "from pytrends.request import TrendReq\n",
    "pytrend = TrendReq()\n",
    "\n",
    "GROUP_SIZE = 5\n",
    "groups = [['Aesculus hippocastanum', 'Allium cepa', 'Allium sativum', 'Aloe africana', 'Aloe ferox'],\n",
    "          ['Aloe sp', 'Aloe spicata', 'Aloe vera', 'Althaea officinalis', 'Andrographis paniculata'],\n",
    "          ['Angelica sinensis', 'Arctostaphylos uva-ursi', 'Astragalus membranaceus', 'Astragalus mongholicus', 'Brucea javanica'],\n",
    "          ['Bupleurum falcatum', 'Calendula officinalis', 'Centella asiatica', 'Chrysanthemum parthenium', 'Cimicifuga racemosa'],\n",
    "          ['Cinnamomum cassia', 'Cinnamomum verum', 'Coptis chinensis', 'Coptis japonica', 'Crataegus monogyna'],\n",
    "          ['Crataegus sp', 'Curcuma longa', 'Echinacea angustifolia', 'Echinacea pallida', 'Ephedra sinica'],\n",
    "          ['Eucalyptus globulus', 'Eucalyptus sp', 'Ginkgo biloba', 'Glycyrrhiza glabra', 'Glycyrrhiza uralensis'],\n",
    "          ['Hamamelis virginiana', 'Hypericum perforatum', 'Matricaria chamomilla', 'Melissa officinalis', 'Mentha piperita'],\n",
    "          ['Ocimum sanctum', 'Oenothera biennis', 'Paeonia lactiflora', 'Panax ginseng', 'Piper methysticum'],\n",
    "          ['Plantago asiatica', 'Plantago ovata', 'Platycodon grandiflorum', 'Polygala senega', 'Rauvolfia serpentina'],\n",
    "          ['Rhamnus frangula', 'Rhamnus purshiana', 'Rheum officinale', 'Rheum palmatum', 'Rosa laevigata'],\n",
    "          ['Rosa sp', 'Sambucus nigra', 'Serenoa repens', 'Silybum marianum', 'Syzygium aromaticum'],\n",
    "          ['Thymus vulgaris', 'Thymus zygis', 'Urtica dioica', 'Urtica urens', 'Valeriana officinalis'],\n",
    "          ['Zingiber officinale']]\n",
    "        \n",
    "herb_i = {herb: 0 for herb in herbs}\n",
    "\n",
    "for herb, score in ranked_group.items():\n",
    "    herb_score[herb] += ranked_group[herb]\n",
    "    herb_i[herb] += 1\n",
    "\n",
    "ROUNDS = 10\n",
    "\n",
    "for rnd in tqdm(range(ROUNDS)):\n",
    "    \n",
    "    # we need to iterate the groups\n",
    "    for group in groups:\n",
    "\n",
    "        #rank the herbs inside the group\n",
    "        try:\n",
    "            ranked_group = rank_by_popularity([group], debug=False)\n",
    "        except:\n",
    "            \n",
    "            try:\n",
    "                warn(\"Max retries archived, let's wait 30 seconds to keep the process\")\n",
    "                time.sleep(60.1)\n",
    "                ranked_group = rank_by_popularity([group], debug=False)\n",
    "            \n",
    "            except:\n",
    "                break\n",
    "                \n",
    "            time.sleep(0.5)\n",
    "        \n",
    "        # initialize herb scores to 0\n",
    "herb_score = {herb: 0 for herb in herbs}\n",
    "\n",
    "# rank herbs\n",
    "herb_i = {herb: 0 for herb in herbs}\n",
    "for i, herb in enumerate(ranked_group):\n",
    "    score = GROUP_SIZE - i\n",
    "    herb_score.setdefault(herb, 0)\n",
    "    herb_score[herb] += score\n",
    "    herb_i[herb] += 1\n",
    "\n",
    "# create DataFrame and sort by score and herb\n",
    "df = pd.DataFrame.from_dict(herb_score, orient='index', columns=['score'])\n",
    "df.index.name = 'herb'\n",
    "df.reset_index(inplace=True)\n",
    "df = df.sort_values(by=['score', 'herb'], ascending=False)\n",
    "\n",
    "# store sorted list of herbs in sorted_herbs\n",
    "sorted_herbs = list(df['herb'])\n",
    "\n",
    "\n",
    "   \n",
    "    \n",
    "   \n",
    "        \n"
   ]
  },
  {
   "cell_type": "code",
   "execution_count": 17,
   "id": "301f360b-c723-43bd-b0b6-48f242e95b27",
   "metadata": {},
   "outputs": [],
   "source": [
    "\n",
    "# create a DataFrame from the herb_score dictionary\n",
    "df = pd.DataFrame(list(herb_score.items()), columns=['herb', 'score'])\n",
    "\n",
    "# sort the DataFrame by score and herb\n",
    "df = df.sort_values(by=['score', 'herb'], ascending=[False, True])\n",
    "\n",
    "# store the sorted list of herbs in sorted_herbs\n",
    "sorted_herbs = df['herb'].tolist()\n"
   ]
  },
  {
   "cell_type": "code",
   "execution_count": 18,
   "id": "372b5653-699a-476b-ace9-2701d110d944",
   "metadata": {},
   "outputs": [
    {
     "data": {
      "text/plain": [
       "['herb1',\n",
       " 'Aesculus hippocastanum',\n",
       " 'Allium cepa',\n",
       " 'Allium sativum',\n",
       " 'Aloe africana',\n",
       " 'Aloe ferox',\n",
       " 'Aloe sp',\n",
       " 'Aloe spicata',\n",
       " 'Aloe vera',\n",
       " 'Althaea officinalis',\n",
       " 'Andrographis paniculata',\n",
       " 'Angelica sinensis',\n",
       " 'Arctostaphylos uva-ursi',\n",
       " 'Astragalus membranaceus',\n",
       " 'Astragalus mongholicus',\n",
       " 'Brucea javanica',\n",
       " 'Bupleurum falcatum',\n",
       " 'Calendula officinalis',\n",
       " 'Centella asiatica',\n",
       " 'Chrysanthemum parthenium',\n",
       " 'Cimicifuga racemosa',\n",
       " 'Cinnamomum cassia',\n",
       " 'Cinnamomum verum',\n",
       " 'Coptis chinensis',\n",
       " 'Coptis japonica',\n",
       " 'Crataegus monogyna',\n",
       " 'Crataegus sp',\n",
       " 'Curcuma longa',\n",
       " 'Echinacea angustifolia',\n",
       " 'Echinacea pallida',\n",
       " 'Ephedra sinica',\n",
       " 'Eucalyptus globulus',\n",
       " 'Eucalyptus sp',\n",
       " 'Ginkgo biloba',\n",
       " 'Glycyrrhiza glabra',\n",
       " 'Glycyrrhiza uralensis',\n",
       " 'Hamamelis virginiana',\n",
       " 'Hypericum perforatum',\n",
       " 'Matricaria chamomilla',\n",
       " 'Melissa officinalis',\n",
       " 'Mentha piperita',\n",
       " 'Ocimum sanctum',\n",
       " 'Oenothera biennis',\n",
       " 'Paeonia lactiflora',\n",
       " 'Panax ginseng',\n",
       " 'Piper methysticum',\n",
       " 'Plantago asiatica',\n",
       " 'Plantago ovata',\n",
       " 'Platycodon grandiflorum',\n",
       " 'Polygala senega',\n",
       " 'Rauvolfia serpentina',\n",
       " 'Rhamnus frangula',\n",
       " 'Rhamnus purshiana',\n",
       " 'Rheum officinale',\n",
       " 'Rheum palmatum',\n",
       " 'Rosa laevigata',\n",
       " 'Rosa sp',\n",
       " 'Sambucus nigra',\n",
       " 'Serenoa repens',\n",
       " 'Silybum marianum',\n",
       " 'Syzygium aromaticum',\n",
       " 'Thymus vulgaris',\n",
       " 'Thymus zygis',\n",
       " 'Urtica dioica',\n",
       " 'Urtica urens',\n",
       " 'Valeriana officinalis',\n",
       " 'Zingiber officinale']"
      ]
     },
     "execution_count": 18,
     "metadata": {},
     "output_type": "execute_result"
    }
   ],
   "source": [
    "sorted_herbs\n"
   ]
  },
  {
   "cell_type": "code",
   "execution_count": null,
   "id": "248d4320-08a3-4683-a1ea-df7a6b7c2a7d",
   "metadata": {},
   "outputs": [],
   "source": []
  }
 ],
 "metadata": {
  "kernelspec": {
   "display_name": "Python 3 (ipykernel)",
   "language": "python",
   "name": "python3"
  },
  "language_info": {
   "codemirror_mode": {
    "name": "ipython",
    "version": 3
   },
   "file_extension": ".py",
   "mimetype": "text/x-python",
   "name": "python",
   "nbconvert_exporter": "python",
   "pygments_lexer": "ipython3",
   "version": "3.9.13"
  }
 },
 "nbformat": 4,
 "nbformat_minor": 5
}
