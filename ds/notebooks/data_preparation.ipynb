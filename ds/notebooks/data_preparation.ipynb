{
 "cells": [
  {
   "attachments": {},
   "cell_type": "markdown",
   "metadata": {},
   "source": [
    "# HDBSCAN:\n",
    "\n",
    "### Learning Resources:\n",
    "\n",
    "[HDBSCAN documentation]()\n",
    "\n",
    "[HDBSCAN presentation]()\n",
    "\n",
    "### Example Projects:\n",
    "\n",
    "[The Simple Case](https://hdbscan.readthedocs.io/en/latest/basic_hdbscan.html#the-simple-case)"
   ]
  },
  {
   "attachments": {},
   "cell_type": "markdown",
   "metadata": {},
   "source": [
    "Preparing our activities and symptoms data:"
   ]
  },
  {
   "cell_type": "code",
   "execution_count": 96,
   "metadata": {},
   "outputs": [],
   "source": [
    "import numpy as np\n",
    "import pandas as pd\n",
    "from sklearn.datasets import make_blobs"
   ]
  },
  {
   "attachments": {},
   "cell_type": "markdown",
   "metadata": {},
   "source": [
    "## Data from the dataset:"
   ]
  },
  {
   "attachments": {},
   "cell_type": "markdown",
   "metadata": {},
   "source": [
    "#### Import duke activities:"
   ]
  },
  {
   "cell_type": "code",
   "execution_count": 105,
   "metadata": {},
   "outputs": [],
   "source": [
    "duke_enriched_df = pd.read_json(\"./data/remedies.json\")\n",
    "activities_df = pd.read_json(\"./data/symptoms.json\")"
   ]
  },
  {
   "cell_type": "code",
   "execution_count": 59,
   "metadata": {},
   "outputs": [
    {
     "data": {
      "text/html": [
       "<div>\n",
       "<style scoped>\n",
       "    .dataframe tbody tr th:only-of-type {\n",
       "        vertical-align: middle;\n",
       "    }\n",
       "\n",
       "    .dataframe tbody tr th {\n",
       "        vertical-align: top;\n",
       "    }\n",
       "\n",
       "    .dataframe thead th {\n",
       "        text-align: right;\n",
       "    }\n",
       "</style>\n",
       "<table border=\"1\" class=\"dataframe\">\n",
       "  <thead>\n",
       "    <tr style=\"text-align: right;\">\n",
       "      <th></th>\n",
       "      <th>remedyName</th>\n",
       "      <th>medicinalUses</th>\n",
       "      <th>commonNames</th>\n",
       "      <th>family</th>\n",
       "      <th>genus</th>\n",
       "      <th>species</th>\n",
       "      <th>vernacularNames</th>\n",
       "      <th>treatmentClinical</th>\n",
       "      <th>treatmentTraditional</th>\n",
       "      <th>treatmentFolk</th>\n",
       "      <th>contraindication</th>\n",
       "      <th>warnings</th>\n",
       "      <th>adverseEffects</th>\n",
       "      <th>posology</th>\n",
       "      <th>ratingAverage</th>\n",
       "      <th>totalNumberofRatings</th>\n",
       "      <th>popularityScore</th>\n",
       "    </tr>\n",
       "  </thead>\n",
       "  <tbody>\n",
       "    <tr>\n",
       "      <th>0</th>\n",
       "      <td>Abelmoschus esculentus</td>\n",
       "      <td>Abortifacient,Antidote,Boil,Burn,Catarrh,Coffe...</td>\n",
       "      <td>Huang Shu K'Uei,Bamia,Molondron,Quiabeiro,Gomb...</td>\n",
       "      <td>Malvaceae</td>\n",
       "      <td>Abelmoschus</td>\n",
       "      <td>esculentus</td>\n",
       "      <td>None</td>\n",
       "      <td>None</td>\n",
       "      <td>None</td>\n",
       "      <td>None</td>\n",
       "      <td>None</td>\n",
       "      <td>None</td>\n",
       "      <td>None</td>\n",
       "      <td>None</td>\n",
       "      <td>NaN</td>\n",
       "      <td>NaN</td>\n",
       "      <td>NaN</td>\n",
       "    </tr>\n",
       "    <tr>\n",
       "      <th>1</th>\n",
       "      <td>Abelmoschus manihot</td>\n",
       "      <td>Antitussive,Boil,Cancer,Cancer(Stomach),Catarr...</td>\n",
       "      <td>Tororo-Aoi,Kastuli</td>\n",
       "      <td>Malvaceae</td>\n",
       "      <td>Abelmoschus</td>\n",
       "      <td>manihot</td>\n",
       "      <td>None</td>\n",
       "      <td>None</td>\n",
       "      <td>None</td>\n",
       "      <td>None</td>\n",
       "      <td>None</td>\n",
       "      <td>None</td>\n",
       "      <td>None</td>\n",
       "      <td>None</td>\n",
       "      <td>NaN</td>\n",
       "      <td>NaN</td>\n",
       "      <td>NaN</td>\n",
       "    </tr>\n",
       "    <tr>\n",
       "      <th>2</th>\n",
       "      <td>Abelmoschus moschatus</td>\n",
       "      <td>Aphrodisiac,Asthma,Bite(Snake),Boil,Cancer,Car...</td>\n",
       "      <td>Musk Mallow,Moskus,Muskus,Mushk Dana,Ambercice...</td>\n",
       "      <td>Malvaceae</td>\n",
       "      <td>Abelmoschus</td>\n",
       "      <td>moschatus</td>\n",
       "      <td>None</td>\n",
       "      <td>None</td>\n",
       "      <td>None</td>\n",
       "      <td>None</td>\n",
       "      <td>None</td>\n",
       "      <td>None</td>\n",
       "      <td>None</td>\n",
       "      <td>None</td>\n",
       "      <td>NaN</td>\n",
       "      <td>NaN</td>\n",
       "      <td>NaN</td>\n",
       "    </tr>\n",
       "    <tr>\n",
       "      <th>3</th>\n",
       "      <td>Abies alba</td>\n",
       "      <td>Bronchitis,Bruise,Calculus,Catarrh,Cough,Diure...</td>\n",
       "      <td>Abeto,Edeltanne,Beyaz Koknar,Silver Fir,Abeto ...</td>\n",
       "      <td>Pinaceae</td>\n",
       "      <td>Abies</td>\n",
       "      <td>alba</td>\n",
       "      <td>None</td>\n",
       "      <td>None</td>\n",
       "      <td>None</td>\n",
       "      <td>None</td>\n",
       "      <td>None</td>\n",
       "      <td>None</td>\n",
       "      <td>None</td>\n",
       "      <td>None</td>\n",
       "      <td>NaN</td>\n",
       "      <td>NaN</td>\n",
       "      <td>NaN</td>\n",
       "    </tr>\n",
       "    <tr>\n",
       "      <th>4</th>\n",
       "      <td>Abies balsamea</td>\n",
       "      <td>Burn,Cancer,Cold,Cough,Heart,Masticatory,Sore,...</td>\n",
       "      <td>Balsam,Canada,Balsam Fir,Fir</td>\n",
       "      <td>Pinaceae</td>\n",
       "      <td>Abies</td>\n",
       "      <td>balsamea</td>\n",
       "      <td>None</td>\n",
       "      <td>None</td>\n",
       "      <td>None</td>\n",
       "      <td>None</td>\n",
       "      <td>None</td>\n",
       "      <td>None</td>\n",
       "      <td>None</td>\n",
       "      <td>None</td>\n",
       "      <td>NaN</td>\n",
       "      <td>NaN</td>\n",
       "      <td>NaN</td>\n",
       "    </tr>\n",
       "  </tbody>\n",
       "</table>\n",
       "</div>"
      ],
      "text/plain": [
       "               remedyName                                      medicinalUses  \\\n",
       "0  Abelmoschus esculentus  Abortifacient,Antidote,Boil,Burn,Catarrh,Coffe...   \n",
       "1     Abelmoschus manihot  Antitussive,Boil,Cancer,Cancer(Stomach),Catarr...   \n",
       "2   Abelmoschus moschatus  Aphrodisiac,Asthma,Bite(Snake),Boil,Cancer,Car...   \n",
       "3              Abies alba  Bronchitis,Bruise,Calculus,Catarrh,Cough,Diure...   \n",
       "4          Abies balsamea  Burn,Cancer,Cold,Cough,Heart,Masticatory,Sore,...   \n",
       "\n",
       "                                         commonNames     family        genus  \\\n",
       "0  Huang Shu K'Uei,Bamia,Molondron,Quiabeiro,Gomb...  Malvaceae  Abelmoschus   \n",
       "1                                 Tororo-Aoi,Kastuli  Malvaceae  Abelmoschus   \n",
       "2  Musk Mallow,Moskus,Muskus,Mushk Dana,Ambercice...  Malvaceae  Abelmoschus   \n",
       "3  Abeto,Edeltanne,Beyaz Koknar,Silver Fir,Abeto ...   Pinaceae        Abies   \n",
       "4                       Balsam,Canada,Balsam Fir,Fir   Pinaceae        Abies   \n",
       "\n",
       "      species vernacularNames treatmentClinical treatmentTraditional  \\\n",
       "0  esculentus            None              None                 None   \n",
       "1     manihot            None              None                 None   \n",
       "2   moschatus            None              None                 None   \n",
       "3        alba            None              None                 None   \n",
       "4    balsamea            None              None                 None   \n",
       "\n",
       "  treatmentFolk contraindication warnings adverseEffects posology  \\\n",
       "0          None             None     None           None     None   \n",
       "1          None             None     None           None     None   \n",
       "2          None             None     None           None     None   \n",
       "3          None             None     None           None     None   \n",
       "4          None             None     None           None     None   \n",
       "\n",
       "   ratingAverage  totalNumberofRatings  popularityScore  \n",
       "0            NaN                   NaN              NaN  \n",
       "1            NaN                   NaN              NaN  \n",
       "2            NaN                   NaN              NaN  \n",
       "3            NaN                   NaN              NaN  \n",
       "4            NaN                   NaN              NaN  "
      ]
     },
     "execution_count": 59,
     "metadata": {},
     "output_type": "execute_result"
    }
   ],
   "source": [
    "duke_enriched_df.head()"
   ]
  },
  {
   "cell_type": "code",
   "execution_count": 106,
   "metadata": {},
   "outputs": [
    {
     "data": {
      "text/plain": [
       "(2109, 1)"
      ]
     },
     "execution_count": 106,
     "metadata": {},
     "output_type": "execute_result"
    }
   ],
   "source": [
    "activities_df.shape"
   ]
  },
  {
   "cell_type": "code",
   "execution_count": 107,
   "metadata": {},
   "outputs": [
    {
     "data": {
      "text/html": [
       "<div>\n",
       "<style scoped>\n",
       "    .dataframe tbody tr th:only-of-type {\n",
       "        vertical-align: middle;\n",
       "    }\n",
       "\n",
       "    .dataframe tbody tr th {\n",
       "        vertical-align: top;\n",
       "    }\n",
       "\n",
       "    .dataframe thead th {\n",
       "        text-align: right;\n",
       "    }\n",
       "</style>\n",
       "<table border=\"1\" class=\"dataframe\">\n",
       "  <thead>\n",
       "    <tr style=\"text-align: right;\">\n",
       "      <th></th>\n",
       "      <th>symptomName</th>\n",
       "    </tr>\n",
       "  </thead>\n",
       "  <tbody>\n",
       "    <tr>\n",
       "      <th>0</th>\n",
       "      <td>Abcess</td>\n",
       "    </tr>\n",
       "    <tr>\n",
       "      <th>1</th>\n",
       "      <td>Abdomen</td>\n",
       "    </tr>\n",
       "    <tr>\n",
       "      <th>2</th>\n",
       "      <td>Abortifacient</td>\n",
       "    </tr>\n",
       "    <tr>\n",
       "      <th>3</th>\n",
       "      <td>Abortive</td>\n",
       "    </tr>\n",
       "    <tr>\n",
       "      <th>4</th>\n",
       "      <td>Abrasion</td>\n",
       "    </tr>\n",
       "  </tbody>\n",
       "</table>\n",
       "</div>"
      ],
      "text/plain": [
       "     symptomName\n",
       "0         Abcess\n",
       "1        Abdomen\n",
       "2  Abortifacient\n",
       "3       Abortive\n",
       "4       Abrasion"
      ]
     },
     "execution_count": 107,
     "metadata": {},
     "output_type": "execute_result"
    }
   ],
   "source": [
    "activities_df.head()"
   ]
  },
  {
   "attachments": {},
   "cell_type": "markdown",
   "metadata": {},
   "source": [
    "#### Import other list of symptoms:"
   ]
  },
  {
   "cell_type": "code",
   "execution_count": 65,
   "metadata": {},
   "outputs": [],
   "source": [
    "gb_symptoms_df = pd.read_csv(\"./data/2022_country_weekly_2022_GB_weekly_symptoms_dataset.csv\")"
   ]
  },
  {
   "cell_type": "code",
   "execution_count": 68,
   "metadata": {},
   "outputs": [
    {
     "name": "stdout",
     "output_type": "stream",
     "text": [
      "['country_region_code', 'country_region', 'sub_region_1', 'sub_region_1_code', 'sub_region_2', 'sub_region_2_code', 'place_id', 'date', 'symptom:Abdominal obesity', 'symptom:Abdominal pain', 'symptom:Acne', 'symptom:Actinic keratosis', 'symptom:Acute bronchitis', 'symptom:Adrenal crisis', 'symptom:Ageusia']\n"
     ]
    }
   ],
   "source": [
    "df_columns = list(gb_symptoms_df.columns)\n",
    "print(df_columns[:15])\n",
    "\n",
    "symptoms = list()\n",
    "\n",
    "for col in df_columns:\n",
    "    if \"symptom:\" not in col:\n",
    "        continue\n",
    "    col = col.replace(\"symptom:\", \"\")\n",
    "    col = col.capitalize()\n",
    "    symptoms.append(col)"
   ]
  },
  {
   "cell_type": "code",
   "execution_count": 77,
   "metadata": {},
   "outputs": [
    {
     "data": {
      "text/plain": [
       "['Abdominal obesity',\n",
       " 'Abdominal pain',\n",
       " 'Acne',\n",
       " 'Actinic keratosis',\n",
       " 'Acute bronchitis',\n",
       " 'Adrenal crisis',\n",
       " 'Ageusia',\n",
       " 'Alcoholism',\n",
       " 'Allergic conjunctivitis',\n",
       " 'Allergy',\n",
       " 'Amblyopia',\n",
       " 'Amenorrhea',\n",
       " 'Amnesia',\n",
       " 'Anal fissure',\n",
       " 'Anaphylaxis',\n",
       " 'Anemia',\n",
       " 'Angina pectoris',\n",
       " 'Angioedema',\n",
       " 'Angular cheilitis',\n",
       " 'Anosmia',\n",
       " 'Anxiety',\n",
       " 'Aphasia',\n",
       " 'Aphonia',\n",
       " 'Apnea',\n",
       " 'Arthralgia',\n",
       " 'Arthritis',\n",
       " 'Ascites',\n",
       " 'Asperger syndrome',\n",
       " 'Asphyxia',\n",
       " 'Asthma',\n",
       " 'Astigmatism',\n",
       " 'Ataxia',\n",
       " 'Atheroma',\n",
       " 'Attention deficit hyperactivity disorder',\n",
       " 'Auditory hallucination',\n",
       " 'Autoimmune disease',\n",
       " 'Avoidant personality disorder',\n",
       " 'Back pain',\n",
       " 'Bacterial vaginosis',\n",
       " 'Balance disorder',\n",
       " \"Beau's lines\",\n",
       " \"Bell's palsy\",\n",
       " 'Biliary colic',\n",
       " 'Binge eating',\n",
       " 'Bleeding',\n",
       " 'Bleeding on probing',\n",
       " 'Blepharospasm',\n",
       " 'Bloating',\n",
       " 'Blood in stool',\n",
       " 'Blurred vision',\n",
       " 'Blushing',\n",
       " 'Boil',\n",
       " 'Bone fracture',\n",
       " 'Bone tumor',\n",
       " 'Bowel obstruction',\n",
       " 'Bradycardia',\n",
       " 'Braxton hicks contractions',\n",
       " 'Breakthrough bleeding',\n",
       " 'Breast pain',\n",
       " 'Bronchitis',\n",
       " 'Bruise',\n",
       " 'Bruxism',\n",
       " 'Bunion',\n",
       " 'Burn',\n",
       " 'Burning chest pain',\n",
       " 'Burning mouth syndrome',\n",
       " 'Candidiasis',\n",
       " 'Canker sore',\n",
       " 'Cardiac arrest',\n",
       " 'Carpal tunnel syndrome',\n",
       " 'Cataplexy',\n",
       " 'Cataract',\n",
       " 'Chancre',\n",
       " 'Cheilitis',\n",
       " 'Chest pain',\n",
       " 'Chills',\n",
       " 'Chorea',\n",
       " 'Chronic pain',\n",
       " 'Cirrhosis',\n",
       " 'Cleft lip and cleft palate',\n",
       " 'Clouding of consciousness',\n",
       " 'Cluster headache',\n",
       " 'Colitis',\n",
       " 'Coma',\n",
       " 'Common cold',\n",
       " 'Compulsive behavior',\n",
       " 'Compulsive hoarding',\n",
       " 'Confusion',\n",
       " 'Congenital heart defect',\n",
       " 'Conjunctivitis',\n",
       " 'Constipation',\n",
       " 'Convulsion',\n",
       " 'Cough',\n",
       " 'Crackles',\n",
       " 'Cramp',\n",
       " 'Crepitus',\n",
       " 'Croup',\n",
       " 'Cyanosis',\n",
       " 'Dandruff',\n",
       " 'Delayed onset muscle soreness',\n",
       " 'Dementia',\n",
       " 'Dentin hypersensitivity',\n",
       " 'Depersonalization',\n",
       " 'Depression',\n",
       " 'Dermatitis',\n",
       " 'Desquamation',\n",
       " 'Developmental disability',\n",
       " 'Diabetes',\n",
       " 'Diabetic ketoacidosis',\n",
       " 'Diarrhea',\n",
       " 'Dizziness',\n",
       " 'Dry eye syndrome',\n",
       " 'Dysautonomia',\n",
       " 'Dysgeusia',\n",
       " 'Dysmenorrhea',\n",
       " 'Dyspareunia',\n",
       " 'Dysphagia',\n",
       " 'Dysphoria',\n",
       " 'Dystonia',\n",
       " 'Dysuria',\n",
       " 'Ear pain',\n",
       " 'Eczema',\n",
       " 'Edema',\n",
       " 'Encephalitis',\n",
       " 'Encephalopathy',\n",
       " 'Epidermoid cyst',\n",
       " 'Epilepsy',\n",
       " 'Epiphora',\n",
       " 'Erectile dysfunction',\n",
       " 'Erythema',\n",
       " 'Erythema chronicum migrans',\n",
       " 'Esophagitis',\n",
       " 'Excessive daytime sleepiness',\n",
       " 'Eye pain',\n",
       " 'Eye strain',\n",
       " 'Facial nerve paralysis',\n",
       " 'Facial swelling',\n",
       " 'Fasciculation',\n",
       " 'Fatigue',\n",
       " 'Fatty liver disease',\n",
       " 'Fecal incontinence',\n",
       " 'Fever',\n",
       " 'Fibrillation',\n",
       " 'Fibrocystic breast changes',\n",
       " 'Fibromyalgia',\n",
       " 'Flatulence',\n",
       " 'Floater',\n",
       " 'Focal seizure',\n",
       " 'Folate deficiency',\n",
       " 'Food craving',\n",
       " 'Food intolerance',\n",
       " 'Frequent urination',\n",
       " 'Gastroesophageal reflux disease',\n",
       " 'Gastroparesis',\n",
       " 'Generalized anxiety disorder',\n",
       " 'Generalized tonic–clonic seizure',\n",
       " 'Genital wart',\n",
       " 'Gingival recession',\n",
       " 'Gingivitis',\n",
       " 'Globus pharyngis',\n",
       " 'Goitre',\n",
       " 'Gout',\n",
       " 'Grandiosity',\n",
       " 'Granuloma',\n",
       " 'Guilt',\n",
       " 'Hair loss',\n",
       " 'Halitosis',\n",
       " 'Hay fever',\n",
       " 'Headache',\n",
       " 'Heart arrhythmia',\n",
       " 'Heart murmur',\n",
       " 'Heartburn',\n",
       " 'Hematochezia',\n",
       " 'Hematoma',\n",
       " 'Hematuria',\n",
       " 'Hemolysis',\n",
       " 'Hemoptysis',\n",
       " 'Hemorrhoids',\n",
       " 'Hepatic encephalopathy',\n",
       " 'Hepatitis',\n",
       " 'Hepatotoxicity',\n",
       " 'Hiccup',\n",
       " 'Hip pain',\n",
       " 'Hives',\n",
       " 'Hot flash',\n",
       " 'Hydrocephalus',\n",
       " 'Hypercalcaemia',\n",
       " 'Hypercapnia',\n",
       " 'Hypercholesterolemia',\n",
       " 'Hyperemesis gravidarum',\n",
       " 'Hyperglycemia',\n",
       " 'Hyperkalemia',\n",
       " 'Hyperlipidemia',\n",
       " 'Hypermobility',\n",
       " 'Hyperpigmentation',\n",
       " 'Hypersomnia',\n",
       " 'Hypertension',\n",
       " 'Hyperthermia',\n",
       " 'Hyperthyroidism',\n",
       " 'Hypertriglyceridemia',\n",
       " 'Hypertrophy',\n",
       " 'Hyperventilation',\n",
       " 'Hypocalcaemia',\n",
       " 'Hypochondriasis',\n",
       " 'Hypoglycemia',\n",
       " 'Hypogonadism',\n",
       " 'Hypokalemia',\n",
       " 'Hypomania',\n",
       " 'Hyponatremia',\n",
       " 'Hypotension',\n",
       " 'Hypothyroidism',\n",
       " 'Hypoxemia',\n",
       " 'Hypoxia',\n",
       " 'Impetigo',\n",
       " 'Implantation bleeding',\n",
       " 'Impulsivity',\n",
       " 'Indigestion',\n",
       " 'Infection',\n",
       " 'Inflammation',\n",
       " 'Inflammatory bowel disease',\n",
       " 'Ingrown hair',\n",
       " 'Insomnia',\n",
       " 'Insulin resistance',\n",
       " 'Intermenstrual bleeding',\n",
       " 'Intracranial pressure',\n",
       " 'Iron deficiency',\n",
       " 'Irregular menstruation',\n",
       " 'Itch',\n",
       " 'Jaundice',\n",
       " 'Kidney failure',\n",
       " 'Kidney stone',\n",
       " 'Knee pain',\n",
       " 'Kyphosis',\n",
       " 'Lactose intolerance',\n",
       " 'Laryngitis',\n",
       " 'Leg cramps',\n",
       " 'Lesion',\n",
       " 'Leukorrhea',\n",
       " 'Lightheadedness',\n",
       " 'Low back pain',\n",
       " 'Low-grade fever',\n",
       " 'Lymphedema',\n",
       " 'Major depressive disorder',\n",
       " 'Malabsorption',\n",
       " 'Male infertility',\n",
       " 'Manic disorder',\n",
       " 'Melasma',\n",
       " 'Melena',\n",
       " 'Meningitis',\n",
       " 'Menorrhagia',\n",
       " 'Middle back pain',\n",
       " 'Migraine',\n",
       " 'Milium',\n",
       " 'Mitral insufficiency',\n",
       " 'Mood disorder',\n",
       " 'Mood swing',\n",
       " 'Morning sickness',\n",
       " 'Motion sickness',\n",
       " 'Mouth ulcer',\n",
       " 'Muscle atrophy',\n",
       " 'Muscle weakness',\n",
       " 'Myalgia',\n",
       " 'Mydriasis',\n",
       " 'Myocardial infarction',\n",
       " 'Myoclonus',\n",
       " 'Nasal congestion',\n",
       " 'Nasal polyp',\n",
       " 'Nausea',\n",
       " 'Neck mass',\n",
       " 'Neck pain',\n",
       " 'Neonatal jaundice',\n",
       " 'Nerve injury',\n",
       " 'Neuralgia',\n",
       " 'Neutropenia',\n",
       " 'Night sweats',\n",
       " 'Night terror',\n",
       " 'Nocturnal enuresis',\n",
       " 'Nodule',\n",
       " 'Nosebleed',\n",
       " 'Nystagmus',\n",
       " 'Obesity',\n",
       " 'Onychorrhexis',\n",
       " 'Oral candidiasis',\n",
       " 'Orthostatic hypotension',\n",
       " 'Osteopenia',\n",
       " 'Osteophyte',\n",
       " 'Osteoporosis',\n",
       " 'Otitis',\n",
       " 'Otitis externa',\n",
       " 'Otitis media',\n",
       " 'Pain',\n",
       " 'Palpitations',\n",
       " 'Panic attack',\n",
       " 'Papule',\n",
       " 'Paranoia',\n",
       " 'Paresthesia',\n",
       " 'Pelvic inflammatory disease',\n",
       " 'Pericarditis',\n",
       " 'Periodontal disease',\n",
       " 'Periorbital puffiness',\n",
       " 'Peripheral neuropathy',\n",
       " 'Perspiration',\n",
       " 'Petechia',\n",
       " 'Phlegm',\n",
       " 'Photodermatitis',\n",
       " 'Photophobia',\n",
       " 'Photopsia',\n",
       " 'Pleural effusion',\n",
       " 'Pleurisy',\n",
       " 'Pneumonia',\n",
       " 'Podalgia',\n",
       " 'Polycythemia',\n",
       " 'Polydipsia',\n",
       " 'Polyneuropathy',\n",
       " 'Polyuria',\n",
       " 'Poor posture',\n",
       " 'Post-nasal drip',\n",
       " 'Postural orthostatic tachycardia syndrome',\n",
       " 'Prediabetes',\n",
       " 'Proteinuria',\n",
       " 'Pruritus ani',\n",
       " 'Psychosis',\n",
       " 'Ptosis',\n",
       " 'Pulmonary edema',\n",
       " 'Pulmonary hypertension',\n",
       " 'Purpura',\n",
       " 'Pus',\n",
       " 'Pyelonephritis',\n",
       " 'Radiculopathy',\n",
       " 'Rectal pain',\n",
       " 'Rectal prolapse',\n",
       " 'Red eye',\n",
       " 'Renal colic',\n",
       " 'Restless legs syndrome',\n",
       " 'Rheum',\n",
       " 'Rhinitis',\n",
       " 'Rhinorrhea',\n",
       " 'Rosacea',\n",
       " 'Round ligament pain',\n",
       " 'Rumination',\n",
       " 'Scar',\n",
       " 'Sciatica',\n",
       " 'Scoliosis',\n",
       " 'Seborrheic dermatitis',\n",
       " 'Self-harm',\n",
       " 'Sensitivity to sound',\n",
       " 'Sexual dysfunction',\n",
       " 'Shallow breathing',\n",
       " 'Sharp pain',\n",
       " 'Shivering',\n",
       " 'Shortness of breath',\n",
       " 'Shyness',\n",
       " 'Sinusitis',\n",
       " 'Skin condition',\n",
       " 'Skin rash',\n",
       " 'Skin tag',\n",
       " 'Skin ulcer',\n",
       " 'Sleep apnea',\n",
       " 'Sleep deprivation',\n",
       " 'Sleep disorder',\n",
       " 'Snoring',\n",
       " 'Sore throat',\n",
       " 'Spasticity',\n",
       " 'Splenomegaly',\n",
       " 'Sputum',\n",
       " 'Stomach rumble',\n",
       " 'Strabismus',\n",
       " 'Stretch marks',\n",
       " 'Stridor',\n",
       " 'Stroke',\n",
       " 'Stuttering',\n",
       " 'Subdural hematoma',\n",
       " 'Suicidal ideation',\n",
       " 'Swelling',\n",
       " 'Swollen feet',\n",
       " 'Swollen lymph nodes',\n",
       " 'Syncope',\n",
       " 'Tachycardia',\n",
       " 'Tachypnea',\n",
       " 'Telangiectasia',\n",
       " 'Tenderness',\n",
       " 'Testicular pain',\n",
       " 'Throat irritation',\n",
       " 'Thrombocytopenia',\n",
       " 'Thyroid nodule',\n",
       " 'Tic',\n",
       " 'Tinnitus',\n",
       " 'Tonsillitis',\n",
       " 'Toothache',\n",
       " 'Tremor',\n",
       " 'Trichoptilosis',\n",
       " 'Tumor',\n",
       " 'Type 2 diabetes',\n",
       " 'Unconsciousness',\n",
       " 'Underweight',\n",
       " 'Upper respiratory tract infection',\n",
       " 'Urethritis',\n",
       " 'Urinary incontinence',\n",
       " 'Urinary tract infection',\n",
       " 'Urinary urgency',\n",
       " 'Uterine contraction',\n",
       " 'Vaginal bleeding',\n",
       " 'Vaginal discharge',\n",
       " 'Vaginitis',\n",
       " 'Varicose veins',\n",
       " 'Vasculitis',\n",
       " 'Ventricular fibrillation',\n",
       " 'Ventricular tachycardia',\n",
       " 'Vertigo',\n",
       " 'Viral pneumonia',\n",
       " 'Visual acuity',\n",
       " 'Vomiting',\n",
       " 'Wart',\n",
       " 'Water retention',\n",
       " 'Weakness',\n",
       " 'Weight gain',\n",
       " 'Wheeze',\n",
       " 'Xeroderma',\n",
       " 'Xerostomia',\n",
       " 'Yawn',\n",
       " 'Hyperhidrosis',\n",
       " 'Pancreatitis']"
      ]
     },
     "execution_count": 77,
     "metadata": {},
     "output_type": "execute_result"
    }
   ],
   "source": [
    "symptoms"
   ]
  },
  {
   "attachments": {},
   "cell_type": "markdown",
   "metadata": {},
   "source": [
    "#### Concatenate duke activities and symptoms:"
   ]
  },
  {
   "cell_type": "code",
   "execution_count": 120,
   "metadata": {},
   "outputs": [
    {
     "data": {
      "text/html": [
       "<div>\n",
       "<style scoped>\n",
       "    .dataframe tbody tr th:only-of-type {\n",
       "        vertical-align: middle;\n",
       "    }\n",
       "\n",
       "    .dataframe tbody tr th {\n",
       "        vertical-align: top;\n",
       "    }\n",
       "\n",
       "    .dataframe thead th {\n",
       "        text-align: right;\n",
       "    }\n",
       "</style>\n",
       "<table border=\"1\" class=\"dataframe\">\n",
       "  <thead>\n",
       "    <tr style=\"text-align: right;\">\n",
       "      <th></th>\n",
       "      <th>symptomName</th>\n",
       "      <th>is_symptom</th>\n",
       "      <th>is_activity</th>\n",
       "    </tr>\n",
       "  </thead>\n",
       "  <tbody>\n",
       "    <tr>\n",
       "      <th>0</th>\n",
       "      <td>Abdominal obesity</td>\n",
       "      <td>1</td>\n",
       "      <td>0</td>\n",
       "    </tr>\n",
       "    <tr>\n",
       "      <th>1</th>\n",
       "      <td>Abdominal pain</td>\n",
       "      <td>1</td>\n",
       "      <td>0</td>\n",
       "    </tr>\n",
       "    <tr>\n",
       "      <th>2</th>\n",
       "      <td>Acne</td>\n",
       "      <td>1</td>\n",
       "      <td>0</td>\n",
       "    </tr>\n",
       "    <tr>\n",
       "      <th>3</th>\n",
       "      <td>Actinic keratosis</td>\n",
       "      <td>1</td>\n",
       "      <td>0</td>\n",
       "    </tr>\n",
       "    <tr>\n",
       "      <th>4</th>\n",
       "      <td>Acute bronchitis</td>\n",
       "      <td>1</td>\n",
       "      <td>0</td>\n",
       "    </tr>\n",
       "  </tbody>\n",
       "</table>\n",
       "</div>"
      ],
      "text/plain": [
       "         symptomName  is_symptom  is_activity\n",
       "0  Abdominal obesity           1            0\n",
       "1     Abdominal pain           1            0\n",
       "2               Acne           1            0\n",
       "3  Actinic keratosis           1            0\n",
       "4   Acute bronchitis           1            0"
      ]
     },
     "execution_count": 120,
     "metadata": {},
     "output_type": "execute_result"
    }
   ],
   "source": [
    "# activities = symptoms_df.values.tolist()\n",
    "symptoms_df = pd.DataFrame(symptoms)\n",
    "symptoms_df.rename(columns={0: \"symptomName\"}, inplace=True)\n",
    "symptoms_df[[\"is_symptom\", \"is_activity\"]] = (1, 0)\n",
    "symptoms_df.head()"
   ]
  },
  {
   "cell_type": "code",
   "execution_count": 121,
   "metadata": {},
   "outputs": [
    {
     "data": {
      "text/html": [
       "<div>\n",
       "<style scoped>\n",
       "    .dataframe tbody tr th:only-of-type {\n",
       "        vertical-align: middle;\n",
       "    }\n",
       "\n",
       "    .dataframe tbody tr th {\n",
       "        vertical-align: top;\n",
       "    }\n",
       "\n",
       "    .dataframe thead th {\n",
       "        text-align: right;\n",
       "    }\n",
       "</style>\n",
       "<table border=\"1\" class=\"dataframe\">\n",
       "  <thead>\n",
       "    <tr style=\"text-align: right;\">\n",
       "      <th></th>\n",
       "      <th>symptomName</th>\n",
       "      <th>is_symptom</th>\n",
       "      <th>is_activity</th>\n",
       "    </tr>\n",
       "  </thead>\n",
       "  <tbody>\n",
       "    <tr>\n",
       "      <th>0</th>\n",
       "      <td>Abcess</td>\n",
       "      <td>0</td>\n",
       "      <td>1</td>\n",
       "    </tr>\n",
       "    <tr>\n",
       "      <th>1</th>\n",
       "      <td>Abdomen</td>\n",
       "      <td>0</td>\n",
       "      <td>1</td>\n",
       "    </tr>\n",
       "    <tr>\n",
       "      <th>2</th>\n",
       "      <td>Abortifacient</td>\n",
       "      <td>0</td>\n",
       "      <td>1</td>\n",
       "    </tr>\n",
       "    <tr>\n",
       "      <th>3</th>\n",
       "      <td>Abortive</td>\n",
       "      <td>0</td>\n",
       "      <td>1</td>\n",
       "    </tr>\n",
       "    <tr>\n",
       "      <th>4</th>\n",
       "      <td>Abrasion</td>\n",
       "      <td>0</td>\n",
       "      <td>1</td>\n",
       "    </tr>\n",
       "  </tbody>\n",
       "</table>\n",
       "</div>"
      ],
      "text/plain": [
       "     symptomName  is_symptom  is_activity\n",
       "0         Abcess           0            1\n",
       "1        Abdomen           0            1\n",
       "2  Abortifacient           0            1\n",
       "3       Abortive           0            1\n",
       "4       Abrasion           0            1"
      ]
     },
     "execution_count": 121,
     "metadata": {},
     "output_type": "execute_result"
    }
   ],
   "source": [
    "activities_df[[\"is_symptom\", \"is_activity\"]] = (0, 1)\n",
    "activities_df.head()"
   ]
  },
  {
   "attachments": {},
   "cell_type": "markdown",
   "metadata": {},
   "source": [
    "Only take the unique values!"
   ]
  },
  {
   "cell_type": "code",
   "execution_count": 198,
   "metadata": {},
   "outputs": [
    {
     "name": "stdout",
     "output_type": "stream",
     "text": [
      "2109\n",
      "422\n",
      "Should be: 2531\n",
      "Is: 2531\n"
     ]
    },
    {
     "data": {
      "text/html": [
       "<div>\n",
       "<style scoped>\n",
       "    .dataframe tbody tr th:only-of-type {\n",
       "        vertical-align: middle;\n",
       "    }\n",
       "\n",
       "    .dataframe tbody tr th {\n",
       "        vertical-align: top;\n",
       "    }\n",
       "\n",
       "    .dataframe thead th {\n",
       "        text-align: right;\n",
       "    }\n",
       "</style>\n",
       "<table border=\"1\" class=\"dataframe\">\n",
       "  <thead>\n",
       "    <tr style=\"text-align: right;\">\n",
       "      <th></th>\n",
       "      <th>symptomName</th>\n",
       "      <th>is_symptom</th>\n",
       "      <th>is_activity</th>\n",
       "    </tr>\n",
       "  </thead>\n",
       "  <tbody>\n",
       "    <tr>\n",
       "      <th>0</th>\n",
       "      <td>Abcess</td>\n",
       "      <td>0</td>\n",
       "      <td>1</td>\n",
       "    </tr>\n",
       "    <tr>\n",
       "      <th>1</th>\n",
       "      <td>Abdomen</td>\n",
       "      <td>0</td>\n",
       "      <td>1</td>\n",
       "    </tr>\n",
       "    <tr>\n",
       "      <th>2</th>\n",
       "      <td>Abortifacient</td>\n",
       "      <td>0</td>\n",
       "      <td>1</td>\n",
       "    </tr>\n",
       "    <tr>\n",
       "      <th>3</th>\n",
       "      <td>Abortive</td>\n",
       "      <td>0</td>\n",
       "      <td>1</td>\n",
       "    </tr>\n",
       "    <tr>\n",
       "      <th>4</th>\n",
       "      <td>Abrasion</td>\n",
       "      <td>0</td>\n",
       "      <td>1</td>\n",
       "    </tr>\n",
       "  </tbody>\n",
       "</table>\n",
       "</div>"
      ],
      "text/plain": [
       "     symptomName  is_symptom  is_activity\n",
       "0         Abcess           0            1\n",
       "1        Abdomen           0            1\n",
       "2  Abortifacient           0            1\n",
       "3       Abortive           0            1\n",
       "4       Abrasion           0            1"
      ]
     },
     "execution_count": 198,
     "metadata": {},
     "output_type": "execute_result"
    }
   ],
   "source": [
    "print(len(activities_df))\n",
    "print(len(symptoms_df))\n",
    "activities_symptoms_df = pd.concat([activities_df, symptoms_df],axis=0)\n",
    "print(\"Should be:\", len(activities_df) + len(symptoms_df))\n",
    "print(\"Is:\", len(activities_symptoms_df))\n",
    "activities_symptoms_df.reset_index(inplace=True)\n",
    "activities_symptoms_df.drop(labels=\"index\", axis=1, inplace=True)\n",
    "activities_symptoms_df.head()"
   ]
  },
  {
   "attachments": {},
   "cell_type": "markdown",
   "metadata": {},
   "source": [
    "However, actually not all unique (combinations are, but some symptomNames were present in both):"
   ]
  },
  {
   "cell_type": "code",
   "execution_count": 199,
   "metadata": {},
   "outputs": [
    {
     "data": {
      "text/plain": [
       "symptomName    2404\n",
       "is_symptom        2\n",
       "is_activity       2\n",
       "dtype: int64"
      ]
     },
     "execution_count": 199,
     "metadata": {},
     "output_type": "execute_result"
    }
   ],
   "source": [
    "activities_symptoms_df.nunique()"
   ]
  },
  {
   "cell_type": "code",
   "execution_count": 200,
   "metadata": {},
   "outputs": [
    {
     "data": {
      "text/plain": [
       "0              Abcess\n",
       "1             Abdomen\n",
       "2       Abortifacient\n",
       "3            Abortive\n",
       "4            Abrasion\n",
       "            ...      \n",
       "2526        Xeroderma\n",
       "2527       Xerostomia\n",
       "2528             Yawn\n",
       "2529    Hyperhidrosis\n",
       "2530     Pancreatitis\n",
       "Name: symptomName, Length: 2531, dtype: object"
      ]
     },
     "execution_count": 200,
     "metadata": {},
     "output_type": "execute_result"
    }
   ],
   "source": [
    "activities_symptoms_df[\"symptomName\"]"
   ]
  },
  {
   "cell_type": "code",
   "execution_count": 202,
   "metadata": {},
   "outputs": [
    {
     "data": {
      "text/plain": [
       "0       False\n",
       "1       False\n",
       "2       False\n",
       "3       False\n",
       "4       False\n",
       "        ...  \n",
       "2526    False\n",
       "2527    False\n",
       "2528    False\n",
       "2529    False\n",
       "2530    False\n",
       "Name: symptomName, Length: 2531, dtype: bool"
      ]
     },
     "execution_count": 202,
     "metadata": {},
     "output_type": "execute_result"
    }
   ],
   "source": [
    "activities_symptoms_df[\"symptomName\"].duplicated()"
   ]
  },
  {
   "cell_type": "code",
   "execution_count": 203,
   "metadata": {},
   "outputs": [
    {
     "data": {
      "text/html": [
       "<div>\n",
       "<style scoped>\n",
       "    .dataframe tbody tr th:only-of-type {\n",
       "        vertical-align: middle;\n",
       "    }\n",
       "\n",
       "    .dataframe tbody tr th {\n",
       "        vertical-align: top;\n",
       "    }\n",
       "\n",
       "    .dataframe thead th {\n",
       "        text-align: right;\n",
       "    }\n",
       "</style>\n",
       "<table border=\"1\" class=\"dataframe\">\n",
       "  <thead>\n",
       "    <tr style=\"text-align: right;\">\n",
       "      <th></th>\n",
       "      <th>symptomName</th>\n",
       "      <th>is_symptom</th>\n",
       "      <th>is_activity</th>\n",
       "    </tr>\n",
       "  </thead>\n",
       "  <tbody>\n",
       "    <tr>\n",
       "      <th>23</th>\n",
       "      <td>Acne</td>\n",
       "      <td>0</td>\n",
       "      <td>1</td>\n",
       "    </tr>\n",
       "    <tr>\n",
       "      <th>38</th>\n",
       "      <td>Alcoholism</td>\n",
       "      <td>0</td>\n",
       "      <td>1</td>\n",
       "    </tr>\n",
       "    <tr>\n",
       "      <th>43</th>\n",
       "      <td>Allergy</td>\n",
       "      <td>0</td>\n",
       "      <td>1</td>\n",
       "    </tr>\n",
       "    <tr>\n",
       "      <th>47</th>\n",
       "      <td>Amblyopia</td>\n",
       "      <td>0</td>\n",
       "      <td>1</td>\n",
       "    </tr>\n",
       "    <tr>\n",
       "      <th>49</th>\n",
       "      <td>Amenorrhea</td>\n",
       "      <td>0</td>\n",
       "      <td>1</td>\n",
       "    </tr>\n",
       "    <tr>\n",
       "      <th>...</th>\n",
       "      <td>...</td>\n",
       "      <td>...</td>\n",
       "      <td>...</td>\n",
       "    </tr>\n",
       "    <tr>\n",
       "      <th>1837</th>\n",
       "      <td>Wheeze</td>\n",
       "      <td>0</td>\n",
       "      <td>1</td>\n",
       "    </tr>\n",
       "    <tr>\n",
       "      <th>1996</th>\n",
       "      <td>Hypertrophy</td>\n",
       "      <td>0</td>\n",
       "      <td>1</td>\n",
       "    </tr>\n",
       "    <tr>\n",
       "      <th>1997</th>\n",
       "      <td>Hypoglycemia</td>\n",
       "      <td>0</td>\n",
       "      <td>1</td>\n",
       "    </tr>\n",
       "    <tr>\n",
       "      <th>2035</th>\n",
       "      <td>Purpura</td>\n",
       "      <td>0</td>\n",
       "      <td>1</td>\n",
       "    </tr>\n",
       "    <tr>\n",
       "      <th>2077</th>\n",
       "      <td>Vomiting</td>\n",
       "      <td>0</td>\n",
       "      <td>1</td>\n",
       "    </tr>\n",
       "  </tbody>\n",
       "</table>\n",
       "<p>127 rows × 3 columns</p>\n",
       "</div>"
      ],
      "text/plain": [
       "       symptomName  is_symptom  is_activity\n",
       "23            Acne           0            1\n",
       "38      Alcoholism           0            1\n",
       "43         Allergy           0            1\n",
       "47       Amblyopia           0            1\n",
       "49      Amenorrhea           0            1\n",
       "...            ...         ...          ...\n",
       "1837        Wheeze           0            1\n",
       "1996   Hypertrophy           0            1\n",
       "1997  Hypoglycemia           0            1\n",
       "2035       Purpura           0            1\n",
       "2077      Vomiting           0            1\n",
       "\n",
       "[127 rows x 3 columns]"
      ]
     },
     "execution_count": 203,
     "metadata": {},
     "output_type": "execute_result"
    }
   ],
   "source": [
    "duplicate_activities = (activities_symptoms_df[\"symptomName\"].duplicated(\"last\"))\n",
    "filt_df = activities_symptoms_df[duplicate_activities]\n",
    "filt_df"
   ]
  },
  {
   "cell_type": "code",
   "execution_count": 204,
   "metadata": {},
   "outputs": [
    {
     "data": {
      "text/html": [
       "<div>\n",
       "<style scoped>\n",
       "    .dataframe tbody tr th:only-of-type {\n",
       "        vertical-align: middle;\n",
       "    }\n",
       "\n",
       "    .dataframe tbody tr th {\n",
       "        vertical-align: top;\n",
       "    }\n",
       "\n",
       "    .dataframe thead th {\n",
       "        text-align: right;\n",
       "    }\n",
       "</style>\n",
       "<table border=\"1\" class=\"dataframe\">\n",
       "  <thead>\n",
       "    <tr style=\"text-align: right;\">\n",
       "      <th></th>\n",
       "      <th>symptomName</th>\n",
       "      <th>is_symptom</th>\n",
       "      <th>is_activity</th>\n",
       "    </tr>\n",
       "  </thead>\n",
       "  <tbody>\n",
       "    <tr>\n",
       "      <th>2111</th>\n",
       "      <td>Acne</td>\n",
       "      <td>1</td>\n",
       "      <td>0</td>\n",
       "    </tr>\n",
       "    <tr>\n",
       "      <th>2116</th>\n",
       "      <td>Alcoholism</td>\n",
       "      <td>1</td>\n",
       "      <td>0</td>\n",
       "    </tr>\n",
       "    <tr>\n",
       "      <th>2118</th>\n",
       "      <td>Allergy</td>\n",
       "      <td>1</td>\n",
       "      <td>0</td>\n",
       "    </tr>\n",
       "    <tr>\n",
       "      <th>2119</th>\n",
       "      <td>Amblyopia</td>\n",
       "      <td>1</td>\n",
       "      <td>0</td>\n",
       "    </tr>\n",
       "    <tr>\n",
       "      <th>2120</th>\n",
       "      <td>Amenorrhea</td>\n",
       "      <td>1</td>\n",
       "      <td>0</td>\n",
       "    </tr>\n",
       "    <tr>\n",
       "      <th>...</th>\n",
       "      <td>...</td>\n",
       "      <td>...</td>\n",
       "      <td>...</td>\n",
       "    </tr>\n",
       "    <tr>\n",
       "      <th>2517</th>\n",
       "      <td>Vertigo</td>\n",
       "      <td>1</td>\n",
       "      <td>0</td>\n",
       "    </tr>\n",
       "    <tr>\n",
       "      <th>2520</th>\n",
       "      <td>Vomiting</td>\n",
       "      <td>1</td>\n",
       "      <td>0</td>\n",
       "    </tr>\n",
       "    <tr>\n",
       "      <th>2521</th>\n",
       "      <td>Wart</td>\n",
       "      <td>1</td>\n",
       "      <td>0</td>\n",
       "    </tr>\n",
       "    <tr>\n",
       "      <th>2523</th>\n",
       "      <td>Weakness</td>\n",
       "      <td>1</td>\n",
       "      <td>0</td>\n",
       "    </tr>\n",
       "    <tr>\n",
       "      <th>2525</th>\n",
       "      <td>Wheeze</td>\n",
       "      <td>1</td>\n",
       "      <td>0</td>\n",
       "    </tr>\n",
       "  </tbody>\n",
       "</table>\n",
       "<p>127 rows × 3 columns</p>\n",
       "</div>"
      ],
      "text/plain": [
       "     symptomName  is_symptom  is_activity\n",
       "2111        Acne           1            0\n",
       "2116  Alcoholism           1            0\n",
       "2118     Allergy           1            0\n",
       "2119   Amblyopia           1            0\n",
       "2120  Amenorrhea           1            0\n",
       "...          ...         ...          ...\n",
       "2517     Vertigo           1            0\n",
       "2520    Vomiting           1            0\n",
       "2521        Wart           1            0\n",
       "2523    Weakness           1            0\n",
       "2525      Wheeze           1            0\n",
       "\n",
       "[127 rows x 3 columns]"
      ]
     },
     "execution_count": 204,
     "metadata": {},
     "output_type": "execute_result"
    }
   ],
   "source": [
    "duplicate_symptoms = (activities_symptoms_df[\"symptomName\"].duplicated(\"first\"))\n",
    "filt_df = activities_symptoms_df[duplicate_symptoms]\n",
    "filt_df"
   ]
  },
  {
   "cell_type": "code",
   "execution_count": 208,
   "metadata": {},
   "outputs": [
    {
     "data": {
      "text/plain": [
       "Int64Index([2111, 2116, 2118, 2119, 2120, 2121, 2124, 2129, 2133, 2134,\n",
       "            ...\n",
       "            2500, 2502, 2503, 2505, 2512, 2517, 2520, 2521, 2523, 2525],\n",
       "           dtype='int64', length=127)"
      ]
     },
     "execution_count": 208,
     "metadata": {},
     "output_type": "execute_result"
    }
   ],
   "source": [
    "duplicate_indices = filt_df.index\n",
    "duplicate_indices"
   ]
  },
  {
   "attachments": {},
   "cell_type": "markdown",
   "metadata": {},
   "source": [
    "#### Adding a 1 to is_symptom for activities that are also symptoms:"
   ]
  },
  {
   "cell_type": "code",
   "execution_count": 209,
   "metadata": {},
   "outputs": [
    {
     "data": {
      "text/html": [
       "<div>\n",
       "<style scoped>\n",
       "    .dataframe tbody tr th:only-of-type {\n",
       "        vertical-align: middle;\n",
       "    }\n",
       "\n",
       "    .dataframe tbody tr th {\n",
       "        vertical-align: top;\n",
       "    }\n",
       "\n",
       "    .dataframe thead th {\n",
       "        text-align: right;\n",
       "    }\n",
       "</style>\n",
       "<table border=\"1\" class=\"dataframe\">\n",
       "  <thead>\n",
       "    <tr style=\"text-align: right;\">\n",
       "      <th></th>\n",
       "      <th>symptomName</th>\n",
       "      <th>is_symptom</th>\n",
       "      <th>is_activity</th>\n",
       "    </tr>\n",
       "  </thead>\n",
       "  <tbody>\n",
       "    <tr>\n",
       "      <th>23</th>\n",
       "      <td>Acne</td>\n",
       "      <td>1</td>\n",
       "      <td>1</td>\n",
       "    </tr>\n",
       "    <tr>\n",
       "      <th>38</th>\n",
       "      <td>Alcoholism</td>\n",
       "      <td>1</td>\n",
       "      <td>1</td>\n",
       "    </tr>\n",
       "    <tr>\n",
       "      <th>43</th>\n",
       "      <td>Allergy</td>\n",
       "      <td>1</td>\n",
       "      <td>1</td>\n",
       "    </tr>\n",
       "    <tr>\n",
       "      <th>47</th>\n",
       "      <td>Amblyopia</td>\n",
       "      <td>1</td>\n",
       "      <td>1</td>\n",
       "    </tr>\n",
       "    <tr>\n",
       "      <th>49</th>\n",
       "      <td>Amenorrhea</td>\n",
       "      <td>1</td>\n",
       "      <td>1</td>\n",
       "    </tr>\n",
       "  </tbody>\n",
       "</table>\n",
       "</div>"
      ],
      "text/plain": [
       "   symptomName  is_symptom  is_activity\n",
       "23        Acne           1            1\n",
       "38  Alcoholism           1            1\n",
       "43     Allergy           1            1\n",
       "47   Amblyopia           1            1\n",
       "49  Amenorrhea           1            1"
      ]
     },
     "execution_count": 209,
     "metadata": {},
     "output_type": "execute_result"
    }
   ],
   "source": [
    "activities_symptoms_df.loc[duplicate_activities, [\"is_symptom\"]] = 1\n",
    "activities_symptoms_df[duplicate_activities].head()"
   ]
  },
  {
   "cell_type": "code",
   "execution_count": 210,
   "metadata": {},
   "outputs": [
    {
     "data": {
      "text/plain": [
       "symptomName    Acne\n",
       "is_symptom        1\n",
       "is_activity       1\n",
       "Name: 23, dtype: object"
      ]
     },
     "execution_count": 210,
     "metadata": {},
     "output_type": "execute_result"
    }
   ],
   "source": [
    "activities_symptoms_df.iloc[23]"
   ]
  },
  {
   "cell_type": "code",
   "execution_count": 211,
   "metadata": {},
   "outputs": [
    {
     "data": {
      "text/html": [
       "<div>\n",
       "<style scoped>\n",
       "    .dataframe tbody tr th:only-of-type {\n",
       "        vertical-align: middle;\n",
       "    }\n",
       "\n",
       "    .dataframe tbody tr th {\n",
       "        vertical-align: top;\n",
       "    }\n",
       "\n",
       "    .dataframe thead th {\n",
       "        text-align: right;\n",
       "    }\n",
       "</style>\n",
       "<table border=\"1\" class=\"dataframe\">\n",
       "  <thead>\n",
       "    <tr style=\"text-align: right;\">\n",
       "      <th></th>\n",
       "      <th>symptomName</th>\n",
       "      <th>is_symptom</th>\n",
       "      <th>is_activity</th>\n",
       "    </tr>\n",
       "  </thead>\n",
       "  <tbody>\n",
       "    <tr>\n",
       "      <th>0</th>\n",
       "      <td>Abcess</td>\n",
       "      <td>0</td>\n",
       "      <td>1</td>\n",
       "    </tr>\n",
       "    <tr>\n",
       "      <th>1</th>\n",
       "      <td>Abdomen</td>\n",
       "      <td>0</td>\n",
       "      <td>1</td>\n",
       "    </tr>\n",
       "    <tr>\n",
       "      <th>2</th>\n",
       "      <td>Abortifacient</td>\n",
       "      <td>0</td>\n",
       "      <td>1</td>\n",
       "    </tr>\n",
       "    <tr>\n",
       "      <th>3</th>\n",
       "      <td>Abortive</td>\n",
       "      <td>0</td>\n",
       "      <td>1</td>\n",
       "    </tr>\n",
       "    <tr>\n",
       "      <th>4</th>\n",
       "      <td>Abrasion</td>\n",
       "      <td>0</td>\n",
       "      <td>1</td>\n",
       "    </tr>\n",
       "    <tr>\n",
       "      <th>...</th>\n",
       "      <td>...</td>\n",
       "      <td>...</td>\n",
       "      <td>...</td>\n",
       "    </tr>\n",
       "    <tr>\n",
       "      <th>2526</th>\n",
       "      <td>Xeroderma</td>\n",
       "      <td>1</td>\n",
       "      <td>0</td>\n",
       "    </tr>\n",
       "    <tr>\n",
       "      <th>2527</th>\n",
       "      <td>Xerostomia</td>\n",
       "      <td>1</td>\n",
       "      <td>0</td>\n",
       "    </tr>\n",
       "    <tr>\n",
       "      <th>2528</th>\n",
       "      <td>Yawn</td>\n",
       "      <td>1</td>\n",
       "      <td>0</td>\n",
       "    </tr>\n",
       "    <tr>\n",
       "      <th>2529</th>\n",
       "      <td>Hyperhidrosis</td>\n",
       "      <td>1</td>\n",
       "      <td>0</td>\n",
       "    </tr>\n",
       "    <tr>\n",
       "      <th>2530</th>\n",
       "      <td>Pancreatitis</td>\n",
       "      <td>1</td>\n",
       "      <td>0</td>\n",
       "    </tr>\n",
       "  </tbody>\n",
       "</table>\n",
       "<p>2404 rows × 3 columns</p>\n",
       "</div>"
      ],
      "text/plain": [
       "        symptomName  is_symptom  is_activity\n",
       "0            Abcess           0            1\n",
       "1           Abdomen           0            1\n",
       "2     Abortifacient           0            1\n",
       "3          Abortive           0            1\n",
       "4          Abrasion           0            1\n",
       "...             ...         ...          ...\n",
       "2526      Xeroderma           1            0\n",
       "2527     Xerostomia           1            0\n",
       "2528           Yawn           1            0\n",
       "2529  Hyperhidrosis           1            0\n",
       "2530   Pancreatitis           1            0\n",
       "\n",
       "[2404 rows x 3 columns]"
      ]
     },
     "execution_count": 211,
     "metadata": {},
     "output_type": "execute_result"
    }
   ],
   "source": [
    "activities_symptoms_df.drop_duplicates(subset=\"symptomName\")"
   ]
  },
  {
   "cell_type": "code",
   "execution_count": 212,
   "metadata": {},
   "outputs": [],
   "source": [
    "activities_symptoms_df.drop_duplicates(subset=\"symptomName\", inplace=True)"
   ]
  },
  {
   "cell_type": "code",
   "execution_count": 213,
   "metadata": {},
   "outputs": [
    {
     "data": {
      "text/html": [
       "<div>\n",
       "<style scoped>\n",
       "    .dataframe tbody tr th:only-of-type {\n",
       "        vertical-align: middle;\n",
       "    }\n",
       "\n",
       "    .dataframe tbody tr th {\n",
       "        vertical-align: top;\n",
       "    }\n",
       "\n",
       "    .dataframe thead th {\n",
       "        text-align: right;\n",
       "    }\n",
       "</style>\n",
       "<table border=\"1\" class=\"dataframe\">\n",
       "  <thead>\n",
       "    <tr style=\"text-align: right;\">\n",
       "      <th></th>\n",
       "      <th>symptomName</th>\n",
       "      <th>is_symptom</th>\n",
       "      <th>is_activity</th>\n",
       "    </tr>\n",
       "  </thead>\n",
       "  <tbody>\n",
       "    <tr>\n",
       "      <th>0</th>\n",
       "      <td>Abcess</td>\n",
       "      <td>0</td>\n",
       "      <td>1</td>\n",
       "    </tr>\n",
       "    <tr>\n",
       "      <th>1</th>\n",
       "      <td>Abdomen</td>\n",
       "      <td>0</td>\n",
       "      <td>1</td>\n",
       "    </tr>\n",
       "    <tr>\n",
       "      <th>2</th>\n",
       "      <td>Abortifacient</td>\n",
       "      <td>0</td>\n",
       "      <td>1</td>\n",
       "    </tr>\n",
       "    <tr>\n",
       "      <th>3</th>\n",
       "      <td>Abortive</td>\n",
       "      <td>0</td>\n",
       "      <td>1</td>\n",
       "    </tr>\n",
       "    <tr>\n",
       "      <th>4</th>\n",
       "      <td>Abrasion</td>\n",
       "      <td>0</td>\n",
       "      <td>1</td>\n",
       "    </tr>\n",
       "  </tbody>\n",
       "</table>\n",
       "</div>"
      ],
      "text/plain": [
       "     symptomName  is_symptom  is_activity\n",
       "0         Abcess           0            1\n",
       "1        Abdomen           0            1\n",
       "2  Abortifacient           0            1\n",
       "3       Abortive           0            1\n",
       "4       Abrasion           0            1"
      ]
     },
     "execution_count": 213,
     "metadata": {},
     "output_type": "execute_result"
    }
   ],
   "source": [
    "activities_symptoms_df.head()"
   ]
  },
  {
   "attachments": {},
   "cell_type": "markdown",
   "metadata": {},
   "source": [
    "Verifying results:"
   ]
  },
  {
   "cell_type": "code",
   "execution_count": 214,
   "metadata": {},
   "outputs": [
    {
     "data": {
      "text/html": [
       "<div>\n",
       "<style scoped>\n",
       "    .dataframe tbody tr th:only-of-type {\n",
       "        vertical-align: middle;\n",
       "    }\n",
       "\n",
       "    .dataframe tbody tr th {\n",
       "        vertical-align: top;\n",
       "    }\n",
       "\n",
       "    .dataframe thead th {\n",
       "        text-align: right;\n",
       "    }\n",
       "</style>\n",
       "<table border=\"1\" class=\"dataframe\">\n",
       "  <thead>\n",
       "    <tr style=\"text-align: right;\">\n",
       "      <th></th>\n",
       "      <th>symptomName</th>\n",
       "      <th>is_symptom</th>\n",
       "      <th>is_activity</th>\n",
       "    </tr>\n",
       "  </thead>\n",
       "  <tbody>\n",
       "    <tr>\n",
       "      <th>23</th>\n",
       "      <td>Acne</td>\n",
       "      <td>1</td>\n",
       "      <td>1</td>\n",
       "    </tr>\n",
       "    <tr>\n",
       "      <th>38</th>\n",
       "      <td>Alcoholism</td>\n",
       "      <td>1</td>\n",
       "      <td>1</td>\n",
       "    </tr>\n",
       "    <tr>\n",
       "      <th>43</th>\n",
       "      <td>Allergy</td>\n",
       "      <td>1</td>\n",
       "      <td>1</td>\n",
       "    </tr>\n",
       "    <tr>\n",
       "      <th>47</th>\n",
       "      <td>Amblyopia</td>\n",
       "      <td>1</td>\n",
       "      <td>1</td>\n",
       "    </tr>\n",
       "    <tr>\n",
       "      <th>49</th>\n",
       "      <td>Amenorrhea</td>\n",
       "      <td>1</td>\n",
       "      <td>1</td>\n",
       "    </tr>\n",
       "    <tr>\n",
       "      <th>...</th>\n",
       "      <td>...</td>\n",
       "      <td>...</td>\n",
       "      <td>...</td>\n",
       "    </tr>\n",
       "    <tr>\n",
       "      <th>1837</th>\n",
       "      <td>Wheeze</td>\n",
       "      <td>1</td>\n",
       "      <td>1</td>\n",
       "    </tr>\n",
       "    <tr>\n",
       "      <th>1996</th>\n",
       "      <td>Hypertrophy</td>\n",
       "      <td>1</td>\n",
       "      <td>1</td>\n",
       "    </tr>\n",
       "    <tr>\n",
       "      <th>1997</th>\n",
       "      <td>Hypoglycemia</td>\n",
       "      <td>1</td>\n",
       "      <td>1</td>\n",
       "    </tr>\n",
       "    <tr>\n",
       "      <th>2035</th>\n",
       "      <td>Purpura</td>\n",
       "      <td>1</td>\n",
       "      <td>1</td>\n",
       "    </tr>\n",
       "    <tr>\n",
       "      <th>2077</th>\n",
       "      <td>Vomiting</td>\n",
       "      <td>1</td>\n",
       "      <td>1</td>\n",
       "    </tr>\n",
       "  </tbody>\n",
       "</table>\n",
       "<p>127 rows × 3 columns</p>\n",
       "</div>"
      ],
      "text/plain": [
       "       symptomName  is_symptom  is_activity\n",
       "23            Acne           1            1\n",
       "38      Alcoholism           1            1\n",
       "43         Allergy           1            1\n",
       "47       Amblyopia           1            1\n",
       "49      Amenorrhea           1            1\n",
       "...            ...         ...          ...\n",
       "1837        Wheeze           1            1\n",
       "1996   Hypertrophy           1            1\n",
       "1997  Hypoglycemia           1            1\n",
       "2035       Purpura           1            1\n",
       "2077      Vomiting           1            1\n",
       "\n",
       "[127 rows x 3 columns]"
      ]
     },
     "execution_count": 214,
     "metadata": {},
     "output_type": "execute_result"
    }
   ],
   "source": [
    "filt = (activities_symptoms_df[\"is_symptom\"] == 1) & (activities_symptoms_df[\"is_activity\"] == 1)\n",
    "filt_df = activities_symptoms_df[filt]\n",
    "filt_df"
   ]
  },
  {
   "attachments": {},
   "cell_type": "markdown",
   "metadata": {},
   "source": [
    "Resetting index:"
   ]
  },
  {
   "cell_type": "code",
   "execution_count": 225,
   "metadata": {},
   "outputs": [
    {
     "data": {
      "text/html": [
       "<div>\n",
       "<style scoped>\n",
       "    .dataframe tbody tr th:only-of-type {\n",
       "        vertical-align: middle;\n",
       "    }\n",
       "\n",
       "    .dataframe tbody tr th {\n",
       "        vertical-align: top;\n",
       "    }\n",
       "\n",
       "    .dataframe thead th {\n",
       "        text-align: right;\n",
       "    }\n",
       "</style>\n",
       "<table border=\"1\" class=\"dataframe\">\n",
       "  <thead>\n",
       "    <tr style=\"text-align: right;\">\n",
       "      <th></th>\n",
       "      <th>symptomName</th>\n",
       "      <th>is_symptom</th>\n",
       "      <th>is_activity</th>\n",
       "    </tr>\n",
       "  </thead>\n",
       "  <tbody>\n",
       "    <tr>\n",
       "      <th>0</th>\n",
       "      <td>Abcess</td>\n",
       "      <td>0</td>\n",
       "      <td>1</td>\n",
       "    </tr>\n",
       "    <tr>\n",
       "      <th>1</th>\n",
       "      <td>Abdomen</td>\n",
       "      <td>0</td>\n",
       "      <td>1</td>\n",
       "    </tr>\n",
       "    <tr>\n",
       "      <th>2</th>\n",
       "      <td>Abortifacient</td>\n",
       "      <td>0</td>\n",
       "      <td>1</td>\n",
       "    </tr>\n",
       "    <tr>\n",
       "      <th>3</th>\n",
       "      <td>Abortive</td>\n",
       "      <td>0</td>\n",
       "      <td>1</td>\n",
       "    </tr>\n",
       "    <tr>\n",
       "      <th>4</th>\n",
       "      <td>Abrasion</td>\n",
       "      <td>0</td>\n",
       "      <td>1</td>\n",
       "    </tr>\n",
       "    <tr>\n",
       "      <th>...</th>\n",
       "      <td>...</td>\n",
       "      <td>...</td>\n",
       "      <td>...</td>\n",
       "    </tr>\n",
       "    <tr>\n",
       "      <th>2399</th>\n",
       "      <td>Xeroderma</td>\n",
       "      <td>1</td>\n",
       "      <td>0</td>\n",
       "    </tr>\n",
       "    <tr>\n",
       "      <th>2400</th>\n",
       "      <td>Xerostomia</td>\n",
       "      <td>1</td>\n",
       "      <td>0</td>\n",
       "    </tr>\n",
       "    <tr>\n",
       "      <th>2401</th>\n",
       "      <td>Yawn</td>\n",
       "      <td>1</td>\n",
       "      <td>0</td>\n",
       "    </tr>\n",
       "    <tr>\n",
       "      <th>2402</th>\n",
       "      <td>Hyperhidrosis</td>\n",
       "      <td>1</td>\n",
       "      <td>0</td>\n",
       "    </tr>\n",
       "    <tr>\n",
       "      <th>2403</th>\n",
       "      <td>Pancreatitis</td>\n",
       "      <td>1</td>\n",
       "      <td>0</td>\n",
       "    </tr>\n",
       "  </tbody>\n",
       "</table>\n",
       "<p>2404 rows × 3 columns</p>\n",
       "</div>"
      ],
      "text/plain": [
       "        symptomName  is_symptom  is_activity\n",
       "0            Abcess           0            1\n",
       "1           Abdomen           0            1\n",
       "2     Abortifacient           0            1\n",
       "3          Abortive           0            1\n",
       "4          Abrasion           0            1\n",
       "...             ...         ...          ...\n",
       "2399      Xeroderma           1            0\n",
       "2400     Xerostomia           1            0\n",
       "2401           Yawn           1            0\n",
       "2402  Hyperhidrosis           1            0\n",
       "2403   Pancreatitis           1            0\n",
       "\n",
       "[2404 rows x 3 columns]"
      ]
     },
     "execution_count": 225,
     "metadata": {},
     "output_type": "execute_result"
    }
   ],
   "source": [
    "activities_symptoms_df.reset_index(inplace=True)\n",
    "activities_symptoms_df.drop(labels=[\"index\"], axis=1, inplace=True)\n",
    "activities_symptoms_df\n"
   ]
  },
  {
   "attachments": {},
   "cell_type": "markdown",
   "metadata": {},
   "source": [
    "Export to csv"
   ]
  },
  {
   "cell_type": "code",
   "execution_count": 226,
   "metadata": {},
   "outputs": [],
   "source": [
    "activities_symptoms_df.to_csv(\"./activities_symptoms_bool.csv\")"
   ]
  },
  {
   "cell_type": "code",
   "execution_count": 95,
   "metadata": {},
   "outputs": [],
   "source": [
    "# activities_symptoms_series = pd.Series(activities_symptoms_series)\n",
    "# activities_symptoms_series.to_csv(\"./activities_symptoms.csv\")"
   ]
  },
  {
   "attachments": {},
   "cell_type": "markdown",
   "metadata": {},
   "source": [
    "#### Column indicating Activity and Symptom:"
   ]
  },
  {
   "cell_type": "code",
   "execution_count": 2,
   "metadata": {},
   "outputs": [],
   "source": [
    "import hdbscan"
   ]
  },
  {
   "attachments": {},
   "cell_type": "markdown",
   "metadata": {},
   "source": [
    "## Basic Examples:"
   ]
  },
  {
   "attachments": {},
   "cell_type": "markdown",
   "metadata": {},
   "source": [
    "### The Simple case:"
   ]
  },
  {
   "attachments": {},
   "cell_type": "markdown",
   "metadata": {},
   "source": [
    "Let’s generate some data with, say 2000 samples, and 10 features. We can put it in a dataframe for a nice clean table view of it."
   ]
  },
  {
   "cell_type": "code",
   "execution_count": 3,
   "metadata": {},
   "outputs": [],
   "source": [
    "blobs, labels = make_blobs(n_samples=2000, n_features=10)"
   ]
  },
  {
   "cell_type": "code",
   "execution_count": 4,
   "metadata": {},
   "outputs": [
    {
     "data": {
      "text/html": [
       "<div>\n",
       "<style scoped>\n",
       "    .dataframe tbody tr th:only-of-type {\n",
       "        vertical-align: middle;\n",
       "    }\n",
       "\n",
       "    .dataframe tbody tr th {\n",
       "        vertical-align: top;\n",
       "    }\n",
       "\n",
       "    .dataframe thead th {\n",
       "        text-align: right;\n",
       "    }\n",
       "</style>\n",
       "<table border=\"1\" class=\"dataframe\">\n",
       "  <thead>\n",
       "    <tr style=\"text-align: right;\">\n",
       "      <th></th>\n",
       "      <th>0</th>\n",
       "      <th>1</th>\n",
       "      <th>2</th>\n",
       "      <th>3</th>\n",
       "      <th>4</th>\n",
       "      <th>5</th>\n",
       "      <th>6</th>\n",
       "      <th>7</th>\n",
       "      <th>8</th>\n",
       "      <th>9</th>\n",
       "    </tr>\n",
       "  </thead>\n",
       "  <tbody>\n",
       "    <tr>\n",
       "      <th>0</th>\n",
       "      <td>-6.841507</td>\n",
       "      <td>3.286342</td>\n",
       "      <td>0.808353</td>\n",
       "      <td>-5.106997</td>\n",
       "      <td>-1.062397</td>\n",
       "      <td>-1.897772</td>\n",
       "      <td>7.438953</td>\n",
       "      <td>2.538066</td>\n",
       "      <td>-4.591760</td>\n",
       "      <td>-4.629555</td>\n",
       "    </tr>\n",
       "    <tr>\n",
       "      <th>1</th>\n",
       "      <td>5.520088</td>\n",
       "      <td>-1.886680</td>\n",
       "      <td>5.016108</td>\n",
       "      <td>7.831012</td>\n",
       "      <td>3.861091</td>\n",
       "      <td>7.279307</td>\n",
       "      <td>2.942494</td>\n",
       "      <td>8.345819</td>\n",
       "      <td>3.837994</td>\n",
       "      <td>5.263654</td>\n",
       "    </tr>\n",
       "    <tr>\n",
       "      <th>2</th>\n",
       "      <td>8.100003</td>\n",
       "      <td>-0.665917</td>\n",
       "      <td>3.219610</td>\n",
       "      <td>6.052445</td>\n",
       "      <td>3.353612</td>\n",
       "      <td>10.643114</td>\n",
       "      <td>0.776334</td>\n",
       "      <td>8.604085</td>\n",
       "      <td>4.653598</td>\n",
       "      <td>6.478202</td>\n",
       "    </tr>\n",
       "    <tr>\n",
       "      <th>3</th>\n",
       "      <td>-6.122964</td>\n",
       "      <td>10.313259</td>\n",
       "      <td>-9.520429</td>\n",
       "      <td>8.648169</td>\n",
       "      <td>7.952367</td>\n",
       "      <td>-1.411614</td>\n",
       "      <td>-8.411020</td>\n",
       "      <td>0.554815</td>\n",
       "      <td>-3.971506</td>\n",
       "      <td>5.695172</td>\n",
       "    </tr>\n",
       "    <tr>\n",
       "      <th>4</th>\n",
       "      <td>-5.761570</td>\n",
       "      <td>3.193165</td>\n",
       "      <td>1.555291</td>\n",
       "      <td>-5.717050</td>\n",
       "      <td>-1.025543</td>\n",
       "      <td>-1.598270</td>\n",
       "      <td>4.822401</td>\n",
       "      <td>4.456468</td>\n",
       "      <td>-3.363951</td>\n",
       "      <td>-4.821758</td>\n",
       "    </tr>\n",
       "  </tbody>\n",
       "</table>\n",
       "</div>"
      ],
      "text/plain": [
       "          0          1         2         3         4          5         6  \\\n",
       "0 -6.841507   3.286342  0.808353 -5.106997 -1.062397  -1.897772  7.438953   \n",
       "1  5.520088  -1.886680  5.016108  7.831012  3.861091   7.279307  2.942494   \n",
       "2  8.100003  -0.665917  3.219610  6.052445  3.353612  10.643114  0.776334   \n",
       "3 -6.122964  10.313259 -9.520429  8.648169  7.952367  -1.411614 -8.411020   \n",
       "4 -5.761570   3.193165  1.555291 -5.717050 -1.025543  -1.598270  4.822401   \n",
       "\n",
       "          7         8         9  \n",
       "0  2.538066 -4.591760 -4.629555  \n",
       "1  8.345819  3.837994  5.263654  \n",
       "2  8.604085  4.653598  6.478202  \n",
       "3  0.554815 -3.971506  5.695172  \n",
       "4  4.456468 -3.363951 -4.821758  "
      ]
     },
     "execution_count": 4,
     "metadata": {},
     "output_type": "execute_result"
    }
   ],
   "source": [
    "pd.DataFrame(blobs).head()"
   ]
  },
  {
   "attachments": {},
   "cell_type": "markdown",
   "metadata": {},
   "source": [
    "#### Clustering Object:\n",
    "\n",
    "Now, to cluster we need to generate a clustering object."
   ]
  },
  {
   "cell_type": "code",
   "execution_count": 5,
   "metadata": {},
   "outputs": [],
   "source": [
    "clusterer = hdbscan.HDBSCAN()"
   ]
  },
  {
   "attachments": {},
   "cell_type": "markdown",
   "metadata": {},
   "source": [
    "We can then use this clustering object and fit it to the data we have. This will return the clusterer object back to you – just in case you want do some method chaining."
   ]
  },
  {
   "cell_type": "code",
   "execution_count": 6,
   "metadata": {},
   "outputs": [
    {
     "data": {
      "text/html": [
       "<style>#sk-container-id-1 {color: black;background-color: white;}#sk-container-id-1 pre{padding: 0;}#sk-container-id-1 div.sk-toggleable {background-color: white;}#sk-container-id-1 label.sk-toggleable__label {cursor: pointer;display: block;width: 100%;margin-bottom: 0;padding: 0.3em;box-sizing: border-box;text-align: center;}#sk-container-id-1 label.sk-toggleable__label-arrow:before {content: \"▸\";float: left;margin-right: 0.25em;color: #696969;}#sk-container-id-1 label.sk-toggleable__label-arrow:hover:before {color: black;}#sk-container-id-1 div.sk-estimator:hover label.sk-toggleable__label-arrow:before {color: black;}#sk-container-id-1 div.sk-toggleable__content {max-height: 0;max-width: 0;overflow: hidden;text-align: left;background-color: #f0f8ff;}#sk-container-id-1 div.sk-toggleable__content pre {margin: 0.2em;color: black;border-radius: 0.25em;background-color: #f0f8ff;}#sk-container-id-1 input.sk-toggleable__control:checked~div.sk-toggleable__content {max-height: 200px;max-width: 100%;overflow: auto;}#sk-container-id-1 input.sk-toggleable__control:checked~label.sk-toggleable__label-arrow:before {content: \"▾\";}#sk-container-id-1 div.sk-estimator input.sk-toggleable__control:checked~label.sk-toggleable__label {background-color: #d4ebff;}#sk-container-id-1 div.sk-label input.sk-toggleable__control:checked~label.sk-toggleable__label {background-color: #d4ebff;}#sk-container-id-1 input.sk-hidden--visually {border: 0;clip: rect(1px 1px 1px 1px);clip: rect(1px, 1px, 1px, 1px);height: 1px;margin: -1px;overflow: hidden;padding: 0;position: absolute;width: 1px;}#sk-container-id-1 div.sk-estimator {font-family: monospace;background-color: #f0f8ff;border: 1px dotted black;border-radius: 0.25em;box-sizing: border-box;margin-bottom: 0.5em;}#sk-container-id-1 div.sk-estimator:hover {background-color: #d4ebff;}#sk-container-id-1 div.sk-parallel-item::after {content: \"\";width: 100%;border-bottom: 1px solid gray;flex-grow: 1;}#sk-container-id-1 div.sk-label:hover label.sk-toggleable__label {background-color: #d4ebff;}#sk-container-id-1 div.sk-serial::before {content: \"\";position: absolute;border-left: 1px solid gray;box-sizing: border-box;top: 0;bottom: 0;left: 50%;z-index: 0;}#sk-container-id-1 div.sk-serial {display: flex;flex-direction: column;align-items: center;background-color: white;padding-right: 0.2em;padding-left: 0.2em;position: relative;}#sk-container-id-1 div.sk-item {position: relative;z-index: 1;}#sk-container-id-1 div.sk-parallel {display: flex;align-items: stretch;justify-content: center;background-color: white;position: relative;}#sk-container-id-1 div.sk-item::before, #sk-container-id-1 div.sk-parallel-item::before {content: \"\";position: absolute;border-left: 1px solid gray;box-sizing: border-box;top: 0;bottom: 0;left: 50%;z-index: -1;}#sk-container-id-1 div.sk-parallel-item {display: flex;flex-direction: column;z-index: 1;position: relative;background-color: white;}#sk-container-id-1 div.sk-parallel-item:first-child::after {align-self: flex-end;width: 50%;}#sk-container-id-1 div.sk-parallel-item:last-child::after {align-self: flex-start;width: 50%;}#sk-container-id-1 div.sk-parallel-item:only-child::after {width: 0;}#sk-container-id-1 div.sk-dashed-wrapped {border: 1px dashed gray;margin: 0 0.4em 0.5em 0.4em;box-sizing: border-box;padding-bottom: 0.4em;background-color: white;}#sk-container-id-1 div.sk-label label {font-family: monospace;font-weight: bold;display: inline-block;line-height: 1.2em;}#sk-container-id-1 div.sk-label-container {text-align: center;}#sk-container-id-1 div.sk-container {/* jupyter's `normalize.less` sets `[hidden] { display: none; }` but bootstrap.min.css set `[hidden] { display: none !important; }` so we also need the `!important` here to be able to override the default hidden behavior on the sphinx rendered scikit-learn.org. See: https://github.com/scikit-learn/scikit-learn/issues/21755 */display: inline-block !important;position: relative;}#sk-container-id-1 div.sk-text-repr-fallback {display: none;}</style><div id=\"sk-container-id-1\" class=\"sk-top-container\"><div class=\"sk-text-repr-fallback\"><pre>HDBSCAN()</pre><b>In a Jupyter environment, please rerun this cell to show the HTML representation or trust the notebook. <br />On GitHub, the HTML representation is unable to render, please try loading this page with nbviewer.org.</b></div><div class=\"sk-container\" hidden><div class=\"sk-item\"><div class=\"sk-estimator sk-toggleable\"><input class=\"sk-toggleable__control sk-hidden--visually\" id=\"sk-estimator-id-1\" type=\"checkbox\" checked><label for=\"sk-estimator-id-1\" class=\"sk-toggleable__label sk-toggleable__label-arrow\">HDBSCAN</label><div class=\"sk-toggleable__content\"><pre>HDBSCAN()</pre></div></div></div></div></div>"
      ],
      "text/plain": [
       "HDBSCAN()"
      ]
     },
     "execution_count": 6,
     "metadata": {},
     "output_type": "execute_result"
    }
   ],
   "source": [
    "clusterer.fit(blobs)"
   ]
  },
  {
   "cell_type": "code",
   "execution_count": 9,
   "metadata": {},
   "outputs": [],
   "source": [
    "# HDBSCAN(algorithm='best', alpha=1.0, approx_min_span_tree=True,\n",
    "#     gen_min_span_tree=False, leaf_size=40, memory=Memory(cachedir=None),\n",
    "#     metric='euclidean', min_cluster_size=5, min_samples=None, p=None)"
   ]
  },
  {
   "attachments": {},
   "cell_type": "markdown",
   "metadata": {},
   "source": [
    "At this point we are actually done! We’ve done the clustering! But where are the results? How do I get the clusters? The clusterer object knows, and stores the result in an attribute labels_."
   ]
  },
  {
   "cell_type": "code",
   "execution_count": 15,
   "metadata": {},
   "outputs": [
    {
     "data": {
      "text/plain": [
       "array([1, 2, 2, ..., 1, 0, 0])"
      ]
     },
     "execution_count": 15,
     "metadata": {},
     "output_type": "execute_result"
    }
   ],
   "source": [
    "clusterer.labels_"
   ]
  },
  {
   "attachments": {},
   "cell_type": "markdown",
   "metadata": {},
   "source": [
    "#### Interpreting the results:\n",
    "\n",
    "So it is an array of integers. What are we to make of that? It is an array with an integer for each data sample. Samples that are in the same cluster get assigned the same number. The cluster labels start at 0 and count up. We can thus determine the number of clusters found by finding the largest cluster label."
   ]
  },
  {
   "cell_type": "code",
   "execution_count": 11,
   "metadata": {},
   "outputs": [
    {
     "data": {
      "text/plain": [
       "2"
      ]
     },
     "execution_count": 11,
     "metadata": {},
     "output_type": "execute_result"
    }
   ],
   "source": [
    "clusterer.labels_.max()"
   ]
  },
  {
   "attachments": {},
   "cell_type": "markdown",
   "metadata": {},
   "source": [
    "So we have a total of three clusters, with labels 0, 1, and 2. Importantly HDBSCAN is noise aware – it has a notion of data samples that are not assigned to any cluster. This is handled by assigning these samples the label -1. But wait, there’s more. The hdbscan library implements soft clustering, where each data point is assigned a cluster membership score ranging from 0.0 to 1.0. A score of 0.0 represents a sample that is not in the cluster at all (all noise points will get this score) while a score of 1.0 represents a sample that is at the heart of the cluster (note that this is not the spatial centroid notion of core). You can access these scores via the probabilities_ attribute."
   ]
  },
  {
   "cell_type": "code",
   "execution_count": 12,
   "metadata": {},
   "outputs": [
    {
     "data": {
      "text/plain": [
       "array([0.81582832, 0.54275279, 0.73984796, ..., 0.69335535, 0.58510736,\n",
       "       0.72976019])"
      ]
     },
     "execution_count": 12,
     "metadata": {},
     "output_type": "execute_result"
    }
   ],
   "source": [
    "clusterer.probabilities_"
   ]
  },
  {
   "attachments": {},
   "cell_type": "markdown",
   "metadata": {},
   "source": [
    "What exactly is this? 1 indicates that it is at the heart of _what_ cluster?"
   ]
  },
  {
   "cell_type": "code",
   "execution_count": 13,
   "metadata": {},
   "outputs": [
    {
     "data": {
      "text/plain": [
       "2000"
      ]
     },
     "execution_count": 13,
     "metadata": {},
     "output_type": "execute_result"
    }
   ],
   "source": [
    "len(clusterer.probabilities_)"
   ]
  },
  {
   "attachments": {},
   "cell_type": "markdown",
   "metadata": {},
   "source": [
    "Still just 2000 values, so each entry was assigned a single score."
   ]
  },
  {
   "attachments": {},
   "cell_type": "markdown",
   "metadata": {},
   "source": [
    "### Different Metrics:\n",
    "\n",
    "That is all well and good, but even data that is embedded in a vector space may not want to consider distances between data points to be pure Euclidean distance. What can we do in that case? We are still in good shape, since hdbscan supports a wide variety of metrics, which you can set when creating the clusterer object. For example we can do the following:"
   ]
  },
  {
   "cell_type": "code",
   "execution_count": 16,
   "metadata": {},
   "outputs": [
    {
     "data": {
      "text/plain": [
       "array([2, 1, 1, ..., 2, 0, 0])"
      ]
     },
     "execution_count": 16,
     "metadata": {},
     "output_type": "execute_result"
    }
   ],
   "source": [
    "clusterer = hdbscan.HDBSCAN(metric='manhattan')\n",
    "clusterer.fit(blobs)\n",
    "clusterer.labels_"
   ]
  },
  {
   "attachments": {},
   "cell_type": "markdown",
   "metadata": {},
   "source": [
    "#### Supported metrics:"
   ]
  },
  {
   "attachments": {},
   "cell_type": "markdown",
   "metadata": {},
   "source": [
    "What metrics are supported? Because we simply steal metric computations from sklearn we get a large number of metrics readily available."
   ]
  },
  {
   "cell_type": "code",
   "execution_count": 18,
   "metadata": {},
   "outputs": [
    {
     "data": {
      "text/plain": [
       "{'euclidean': hdbscan.dist_metrics.EuclideanDistance,\n",
       " 'l2': hdbscan.dist_metrics.EuclideanDistance,\n",
       " 'minkowski': hdbscan.dist_metrics.MinkowskiDistance,\n",
       " 'p': hdbscan.dist_metrics.MinkowskiDistance,\n",
       " 'manhattan': hdbscan.dist_metrics.ManhattanDistance,\n",
       " 'cityblock': hdbscan.dist_metrics.ManhattanDistance,\n",
       " 'l1': hdbscan.dist_metrics.ManhattanDistance,\n",
       " 'chebyshev': hdbscan.dist_metrics.ChebyshevDistance,\n",
       " 'infinity': hdbscan.dist_metrics.ChebyshevDistance,\n",
       " 'seuclidean': hdbscan.dist_metrics.SEuclideanDistance,\n",
       " 'mahalanobis': hdbscan.dist_metrics.MahalanobisDistance,\n",
       " 'wminkowski': hdbscan.dist_metrics.WMinkowskiDistance,\n",
       " 'hamming': hdbscan.dist_metrics.HammingDistance,\n",
       " 'canberra': hdbscan.dist_metrics.CanberraDistance,\n",
       " 'braycurtis': hdbscan.dist_metrics.BrayCurtisDistance,\n",
       " 'matching': hdbscan.dist_metrics.MatchingDistance,\n",
       " 'jaccard': hdbscan.dist_metrics.JaccardDistance,\n",
       " 'dice': hdbscan.dist_metrics.DiceDistance,\n",
       " 'kulsinski': hdbscan.dist_metrics.KulsinskiDistance,\n",
       " 'rogerstanimoto': hdbscan.dist_metrics.RogersTanimotoDistance,\n",
       " 'russellrao': hdbscan.dist_metrics.RussellRaoDistance,\n",
       " 'sokalmichener': hdbscan.dist_metrics.SokalMichenerDistance,\n",
       " 'sokalsneath': hdbscan.dist_metrics.SokalSneathDistance,\n",
       " 'haversine': hdbscan.dist_metrics.HaversineDistance,\n",
       " 'cosine': hdbscan.dist_metrics.ArccosDistance,\n",
       " 'arccos': hdbscan.dist_metrics.ArccosDistance,\n",
       " 'pyfunc': hdbscan.dist_metrics.PyFuncDistance}"
      ]
     },
     "execution_count": 18,
     "metadata": {},
     "output_type": "execute_result"
    }
   ],
   "source": [
    "hdbscan.dist_metrics.METRIC_MAPPING"
   ]
  },
  {
   "attachments": {},
   "cell_type": "markdown",
   "metadata": {},
   "source": [
    "### Distance matrices:\n",
    "\n",
    "What if you don’t have a nice set of points in a vector space, but only have a pairwise distance matrix providing the distance between each pair of points? This is a common situation. Perhaps you have a complex custom distance measure; perhaps you have strings and are using Levenstein distance, etc. Again, this is all fine as hdbscan supports a special metric called precomputed. If you create the clusterer with the metric set to precomputed then the clusterer will assume that, rather than being handed a vector of points in a vector space, it is recieving an all pairs distance matrix. Missing distances can be indicated by numpy.inf, which leads HDBSCAN to ignore these pairwise relationships as long as there exists a path between two points that contains defined distances (i.e. if there are too many distances missing, the clustering is going to fail)."
   ]
  },
  {
   "attachments": {},
   "cell_type": "markdown",
   "metadata": {},
   "source": [
    "NOTE: The input vector _must_ contain numerical data. If you have a distance matrix for non-numerical vectors, you will need to map your input vectors to numerical vectors. (e.g use map [‘A’, ‘G’, ‘C’, ‘T’]-> [ 1, 2, 3, 4] to replace input vector [‘A’, ‘A’, ‘A’, ‘C’, ‘G’] with [ 1, 1, 1, 3, 2])"
   ]
  },
  {
   "cell_type": "code",
   "execution_count": 19,
   "metadata": {},
   "outputs": [],
   "source": [
    "from sklearn.metrics.pairwise import pairwise_distances"
   ]
  },
  {
   "cell_type": "code",
   "execution_count": 20,
   "metadata": {},
   "outputs": [
    {
     "data": {
      "text/plain": [
       "array([1, 2, 2, ..., 1, 0, 0])"
      ]
     },
     "execution_count": 20,
     "metadata": {},
     "output_type": "execute_result"
    }
   ],
   "source": [
    "distance_matrix = pairwise_distances(blobs)\n",
    "clusterer = hdbscan.HDBSCAN(metric='precomputed')\n",
    "clusterer.fit(distance_matrix)\n",
    "clusterer.labels_"
   ]
  },
  {
   "attachments": {},
   "cell_type": "markdown",
   "metadata": {},
   "source": [
    "##### Note: Look at a Distance Matrix:\n",
    "\n",
    "A distance matrix contains an array with distance values to each other data point, for each entry. So shape is 2000x2000."
   ]
  },
  {
   "cell_type": "code",
   "execution_count": 21,
   "metadata": {},
   "outputs": [
    {
     "data": {
      "text/plain": [
       "array([[ 0.        , 26.3820097 , 28.91430987, ...,  6.19048856,\n",
       "        28.91422866, 29.94995868],\n",
       "       [26.3820097 ,  0.        ,  5.74534136, ..., 25.9131533 ,\n",
       "        29.22827793, 30.44046566],\n",
       "       [28.91430987,  5.74534136,  0.        , ..., 28.13069749,\n",
       "        30.11410165, 31.1032506 ],\n",
       "       ...,\n",
       "       [ 6.19048856, 25.9131533 , 28.13069749, ...,  0.        ,\n",
       "        30.90369304, 31.80907962],\n",
       "       [28.91422866, 29.22827793, 30.11410165, ..., 30.90369304,\n",
       "         0.        ,  5.22772503],\n",
       "       [29.94995868, 30.44046566, 31.1032506 , ..., 31.80907962,\n",
       "         5.22772503,  0.        ]])"
      ]
     },
     "execution_count": 21,
     "metadata": {},
     "output_type": "execute_result"
    }
   ],
   "source": [
    "distance_matrix"
   ]
  },
  {
   "cell_type": "code",
   "execution_count": 24,
   "metadata": {},
   "outputs": [
    {
     "name": "stdout",
     "output_type": "stream",
     "text": [
      "2000\n"
     ]
    },
    {
     "data": {
      "text/plain": [
       "2000"
      ]
     },
     "execution_count": 24,
     "metadata": {},
     "output_type": "execute_result"
    }
   ],
   "source": [
    "print(len(distance_matrix))\n",
    "len(distance_matrix[0])"
   ]
  },
  {
   "attachments": {},
   "cell_type": "markdown",
   "metadata": {},
   "source": [
    "## Advanced examples:"
   ]
  },
  {
   "attachments": {},
   "cell_type": "markdown",
   "metadata": {},
   "source": [
    "### Getting More Information About a Clustering:\n",
    "\n",
    "Once you have the basics of clustering sorted you may want to dig a little deeper than just the cluster labels returned to you. Fortunately, the hdbscan library provides you with the facilities to do this. During processing HDBSCAN* builds a hierarchy of potential clusters, from which it extracts the flat clustering returned. It can be informative to look at that hierarchy, and potentially make use of the extra information contained therein.\n",
    "\n",
    "Suppose we have a dataset for clustering. It is a binary file in NumPy format and it can be found at https://github.com/lmcinnes/hdbscan/blob/master/notebooks/clusterable_data.npy."
   ]
  },
  {
   "cell_type": "code",
   "execution_count": 25,
   "metadata": {},
   "outputs": [],
   "source": [
    "import hdbscan\n",
    "import numpy as np\n",
    "import matplotlib.pyplot as plt\n",
    "import seaborn as sns\n",
    "%matplotlib inline"
   ]
  },
  {
   "attachments": {},
   "cell_type": "markdown",
   "metadata": {},
   "source": [
    "#### Loading test data:"
   ]
  },
  {
   "cell_type": "code",
   "execution_count": 26,
   "metadata": {},
   "outputs": [],
   "source": [
    "data = np.load('./data/clusterable_data.npy')"
   ]
  },
  {
   "cell_type": "code",
   "execution_count": 28,
   "metadata": {},
   "outputs": [
    {
     "data": {
      "text/plain": [
       "(2309, 2)"
      ]
     },
     "execution_count": 28,
     "metadata": {},
     "output_type": "execute_result"
    }
   ],
   "source": [
    "data.shape"
   ]
  },
  {
   "cell_type": "code",
   "execution_count": 27,
   "metadata": {},
   "outputs": [
    {
     "data": {
      "text/plain": [
       "array([[-0.12153499, -0.22876337],\n",
       "       [-0.22093687, -0.25251088],\n",
       "       [ 0.1259037 , -0.27314321],\n",
       "       ...,\n",
       "       [ 0.50243143, -0.3002958 ],\n",
       "       [ 0.53822256,  0.19412199],\n",
       "       [-0.08688887, -0.2092721 ]])"
      ]
     },
     "execution_count": 27,
     "metadata": {},
     "output_type": "execute_result"
    }
   ],
   "source": [
    "data"
   ]
  },
  {
   "cell_type": "code",
   "execution_count": 30,
   "metadata": {},
   "outputs": [
    {
     "data": {
      "text/plain": [
       "<matplotlib.collections.PathCollection at 0x7f56c886fe20>"
      ]
     },
     "execution_count": 30,
     "metadata": {},
     "output_type": "execute_result"
    },
    {
     "data": {
      "image/png": "[encoded data removed]",
      "text/plain": [
       "<Figure size 640x480 with 1 Axes>"
      ]
     },
     "metadata": {},
     "output_type": "display_data"
    }
   ],
   "source": [
    "plt.scatter(*data.T, s=50, linewidth=0, c='b', alpha=0.1)"
   ]
  },
  {
   "attachments": {},
   "cell_type": "markdown",
   "metadata": {},
   "source": [
    "#### Clustering:"
   ]
  },
  {
   "attachments": {},
   "cell_type": "markdown",
   "metadata": {},
   "source": [
    "We can cluster the data as normal, and visualize the labels with different colors (and even the cluster membership strengths as levels of saturation)"
   ]
  },
  {
   "cell_type": "code",
   "execution_count": 43,
   "metadata": {},
   "outputs": [
    {
     "data": {
      "text/plain": [
       "<matplotlib.collections.PathCollection at 0x7f56c264ffd0>"
      ]
     },
     "execution_count": 43,
     "metadata": {},
     "output_type": "execute_result"
    },
    {
     "data": {
      "image/png": "[encoded data removed]",
      "text/plain": [
       "<Figure size 640x480 with 1 Axes>"
      ]
     },
     "metadata": {},
     "output_type": "display_data"
    }
   ],
   "source": [
    "clusterer = hdbscan.HDBSCAN(min_cluster_size=15).fit(data)\n",
    "color_palette = sns.color_palette('deep', 8)\n",
    "cluster_colors = [color_palette[x] if x >= 0\n",
    "                  else (0.5, 0.5, 0.5)\n",
    "                  for x in clusterer.labels_]\n",
    "cluster_member_colors = [sns.desaturate(x, p) for x, p in\n",
    "                         zip(cluster_colors, clusterer.probabilities_)]\n",
    "plt.scatter(*data.T, s=50, linewidth=0, c=cluster_member_colors, alpha=0.25)"
   ]
  },
  {
   "attachments": {},
   "cell_type": "markdown",
   "metadata": {},
   "source": [
    "#### Condensed Trees:\n",
    "\n",
    "The question now is what does the cluster hierarchy look like – which clusters are near each other, or could perhaps be merged, and which are far apart. We can access the basic hierarchy via the condensed_tree_ attribute of the clusterer object."
   ]
  },
  {
   "cell_type": "code",
   "execution_count": 39,
   "metadata": {},
   "outputs": [
    {
     "data": {
      "text/plain": [
       "<hdbscan.plots.CondensedTree at 0x7f56c2fb6130>"
      ]
     },
     "execution_count": 39,
     "metadata": {},
     "output_type": "execute_result"
    }
   ],
   "source": [
    "clusterer.condensed_tree_"
   ]
  },
  {
   "attachments": {},
   "cell_type": "markdown",
   "metadata": {},
   "source": [
    "This merely gives us a CondensedTree object. If we want to visualize the hierarchy we can call the plot() method:"
   ]
  },
  {
   "cell_type": "code",
   "execution_count": 44,
   "metadata": {},
   "outputs": [
    {
     "data": {
      "text/plain": [
       "<Axes: ylabel='$\\\\lambda$ value'>"
      ]
     },
     "execution_count": 44,
     "metadata": {},
     "output_type": "execute_result"
    },
    {
     "data": {
      "image/png": "[encoded data removed]",
      "text/plain": [
       "<Figure size 640x480 with 2 Axes>"
      ]
     },
     "metadata": {},
     "output_type": "display_data"
    }
   ],
   "source": [
    "clusterer.condensed_tree_.plot()"
   ]
  },
  {
   "attachments": {},
   "cell_type": "markdown",
   "metadata": {},
   "source": [
    "We can now see the hierarchy as a dendrogram, the width (and color) of each branch representing the number of points in the cluster at that level. If we wish to know which branches were selected by the HDBSCAN* algorithm we can pass select_clusters=True. You can even pass a selection palette to color the selections according to the cluster labeling."
   ]
  },
  {
   "cell_type": "code",
   "execution_count": 45,
   "metadata": {},
   "outputs": [
    {
     "data": {
      "text/plain": [
       "<Axes: ylabel='$\\\\lambda$ value'>"
      ]
     },
     "execution_count": 45,
     "metadata": {},
     "output_type": "execute_result"
    },
    {
     "data": {
      "image/png": "[encoded data removed]",
      "text/plain": [
       "<Figure size 640x480 with 2 Axes>"
      ]
     },
     "metadata": {},
     "output_type": "display_data"
    }
   ],
   "source": [
    "clusterer.condensed_tree_.plot(select_clusters=True,\n",
    "                               selection_palette=sns.color_palette('deep', 8))"
   ]
  },
  {
   "attachments": {},
   "cell_type": "markdown",
   "metadata": {},
   "source": [
    "From this, we can see, for example, that the yellow cluster at the center of the plot forms early (breaking off from the pale blue and purple clusters) and persists for a long time. By comparison the green cluster, which also forms early, quickly breaks apart and then vanishes altogether (shattering into clusters all smaller than the min_cluster_size of 15).\n",
    "\n",
    "You can also see that the pale blue cluster breaks apart into several subclusters that in turn persist for quite some time – so there is some interesting substructure to the pale blue cluster that is not present, for example, in the dark blue cluster."
   ]
  },
  {
   "attachments": {},
   "cell_type": "markdown",
   "metadata": {},
   "source": [
    "#### Converter methods on the condensed tree:\n",
    "\n",
    "If this was a simple visual analysis of the condensed tree can tell you a lot more about the structure of your data. This is not all we can do with condensed trees, however. For larger and more complex datasets the tree itself may be very complex, and it may be desirable to run more interesting analytics over the tree itself. This can be achieved via several converter methods: to_networkx(), to_pandas(), and to_numpy()."
   ]
  },
  {
   "attachments": {},
   "cell_type": "markdown",
   "metadata": {},
   "source": [
    "First we’ll consider to_networkx()"
   ]
  },
  {
   "cell_type": "code",
   "execution_count": 48,
   "metadata": {},
   "outputs": [],
   "source": [
    "# g = clusterer.condensed_tree_.to_networkx()\n",
    "# g.number_of_nodes()"
   ]
  },
  {
   "attachments": {},
   "cell_type": "markdown",
   "metadata": {},
   "source": [
    "The graph actually contains nodes for all the points falling out of clusters as well as the clusters themselves. Each node has an associated size attribute and each edge has a weight of the lambda value at which that edge forms. This allows for much more interesting analyses."
   ]
  },
  {
   "attachments": {},
   "cell_type": "markdown",
   "metadata": {},
   "source": [
    "##### To pandas:\n",
    "\n",
    "Next, we have the to_pandas() method, which returns a panda DataFrame where each row corresponds to an edge of the NetworkX graph:"
   ]
  },
  {
   "cell_type": "code",
   "execution_count": 49,
   "metadata": {},
   "outputs": [
    {
     "data": {
      "text/html": [
       "<div>\n",
       "<style scoped>\n",
       "    .dataframe tbody tr th:only-of-type {\n",
       "        vertical-align: middle;\n",
       "    }\n",
       "\n",
       "    .dataframe tbody tr th {\n",
       "        vertical-align: top;\n",
       "    }\n",
       "\n",
       "    .dataframe thead th {\n",
       "        text-align: right;\n",
       "    }\n",
       "</style>\n",
       "<table border=\"1\" class=\"dataframe\">\n",
       "  <thead>\n",
       "    <tr style=\"text-align: right;\">\n",
       "      <th></th>\n",
       "      <th>parent</th>\n",
       "      <th>child</th>\n",
       "      <th>lambda_val</th>\n",
       "      <th>child_size</th>\n",
       "    </tr>\n",
       "  </thead>\n",
       "  <tbody>\n",
       "    <tr>\n",
       "      <th>0</th>\n",
       "      <td>2309</td>\n",
       "      <td>2048</td>\n",
       "      <td>5.016526</td>\n",
       "      <td>1</td>\n",
       "    </tr>\n",
       "    <tr>\n",
       "      <th>1</th>\n",
       "      <td>2309</td>\n",
       "      <td>2006</td>\n",
       "      <td>5.076503</td>\n",
       "      <td>1</td>\n",
       "    </tr>\n",
       "    <tr>\n",
       "      <th>2</th>\n",
       "      <td>2309</td>\n",
       "      <td>2024</td>\n",
       "      <td>5.279133</td>\n",
       "      <td>1</td>\n",
       "    </tr>\n",
       "    <tr>\n",
       "      <th>3</th>\n",
       "      <td>2309</td>\n",
       "      <td>2050</td>\n",
       "      <td>5.347332</td>\n",
       "      <td>1</td>\n",
       "    </tr>\n",
       "    <tr>\n",
       "      <th>4</th>\n",
       "      <td>2309</td>\n",
       "      <td>1992</td>\n",
       "      <td>5.381930</td>\n",
       "      <td>1</td>\n",
       "    </tr>\n",
       "  </tbody>\n",
       "</table>\n",
       "</div>"
      ],
      "text/plain": [
       "   parent  child  lambda_val  child_size\n",
       "0    2309   2048    5.016526           1\n",
       "1    2309   2006    5.076503           1\n",
       "2    2309   2024    5.279133           1\n",
       "3    2309   2050    5.347332           1\n",
       "4    2309   1992    5.381930           1"
      ]
     },
     "execution_count": 49,
     "metadata": {},
     "output_type": "execute_result"
    }
   ],
   "source": [
    "clusterer.condensed_tree_.to_pandas().head()"
   ]
  },
  {
   "attachments": {},
   "cell_type": "markdown",
   "metadata": {},
   "source": [
    "Here the parent denotes the id of the parent cluster, the child the id of the child cluster (or, if the child is a single data point rather than a cluster, the index in the dataset of that point), the lambda_val provides the lambda value at which the edge forms, and the child_size provides the number of points in the child cluster. As you can see the start of the DataFrame has singleton points falling out of the root cluster, with each child_size equal to 1."
   ]
  },
  {
   "attachments": {},
   "cell_type": "markdown",
   "metadata": {},
   "source": [
    "If you want just the clusters, rather than all the individual points as well, simply select the rows of the DataFrame with child_size greater than 1."
   ]
  },
  {
   "cell_type": "code",
   "execution_count": 57,
   "metadata": {},
   "outputs": [
    {
     "name": "stdout",
     "output_type": "stream",
     "text": [
      "(28, 4)\n"
     ]
    },
    {
     "data": {
      "text/html": [
       "<div>\n",
       "<style scoped>\n",
       "    .dataframe tbody tr th:only-of-type {\n",
       "        vertical-align: middle;\n",
       "    }\n",
       "\n",
       "    .dataframe tbody tr th {\n",
       "        vertical-align: top;\n",
       "    }\n",
       "\n",
       "    .dataframe thead th {\n",
       "        text-align: right;\n",
       "    }\n",
       "</style>\n",
       "<table border=\"1\" class=\"dataframe\">\n",
       "  <thead>\n",
       "    <tr style=\"text-align: right;\">\n",
       "      <th></th>\n",
       "      <th>parent</th>\n",
       "      <th>child</th>\n",
       "      <th>lambda_val</th>\n",
       "      <th>child_size</th>\n",
       "    </tr>\n",
       "  </thead>\n",
       "  <tbody>\n",
       "    <tr>\n",
       "      <th>468</th>\n",
       "      <td>2309</td>\n",
       "      <td>2310</td>\n",
       "      <td>22.149180</td>\n",
       "      <td>625</td>\n",
       "    </tr>\n",
       "    <tr>\n",
       "      <th>469</th>\n",
       "      <td>2309</td>\n",
       "      <td>2311</td>\n",
       "      <td>22.149180</td>\n",
       "      <td>1216</td>\n",
       "    </tr>\n",
       "    <tr>\n",
       "      <th>495</th>\n",
       "      <td>2311</td>\n",
       "      <td>2312</td>\n",
       "      <td>22.974381</td>\n",
       "      <td>1004</td>\n",
       "    </tr>\n",
       "    <tr>\n",
       "      <th>496</th>\n",
       "      <td>2311</td>\n",
       "      <td>2313</td>\n",
       "      <td>22.974381</td>\n",
       "      <td>200</td>\n",
       "    </tr>\n",
       "    <tr>\n",
       "      <th>560</th>\n",
       "      <td>2310</td>\n",
       "      <td>2314</td>\n",
       "      <td>23.727882</td>\n",
       "      <td>275</td>\n",
       "    </tr>\n",
       "    <tr>\n",
       "      <th>561</th>\n",
       "      <td>2310</td>\n",
       "      <td>2315</td>\n",
       "      <td>23.727882</td>\n",
       "      <td>316</td>\n",
       "    </tr>\n",
       "    <tr>\n",
       "      <th>575</th>\n",
       "      <td>2312</td>\n",
       "      <td>2316</td>\n",
       "      <td>25.366360</td>\n",
       "      <td>208</td>\n",
       "    </tr>\n",
       "    <tr>\n",
       "      <th>576</th>\n",
       "      <td>2312</td>\n",
       "      <td>2317</td>\n",
       "      <td>25.366360</td>\n",
       "      <td>772</td>\n",
       "    </tr>\n",
       "    <tr>\n",
       "      <th>631</th>\n",
       "      <td>2317</td>\n",
       "      <td>2318</td>\n",
       "      <td>26.892063</td>\n",
       "      <td>356</td>\n",
       "    </tr>\n",
       "    <tr>\n",
       "      <th>632</th>\n",
       "      <td>2317</td>\n",
       "      <td>2319</td>\n",
       "      <td>26.892063</td>\n",
       "      <td>406</td>\n",
       "    </tr>\n",
       "    <tr>\n",
       "      <th>1037</th>\n",
       "      <td>2313</td>\n",
       "      <td>2320</td>\n",
       "      <td>51.518124</td>\n",
       "      <td>59</td>\n",
       "    </tr>\n",
       "    <tr>\n",
       "      <th>1038</th>\n",
       "      <td>2313</td>\n",
       "      <td>2321</td>\n",
       "      <td>51.518124</td>\n",
       "      <td>37</td>\n",
       "    </tr>\n",
       "    <tr>\n",
       "      <th>1166</th>\n",
       "      <td>2315</td>\n",
       "      <td>2322</td>\n",
       "      <td>43.622747</td>\n",
       "      <td>24</td>\n",
       "    </tr>\n",
       "    <tr>\n",
       "      <th>1167</th>\n",
       "      <td>2315</td>\n",
       "      <td>2323</td>\n",
       "      <td>43.622747</td>\n",
       "      <td>193</td>\n",
       "    </tr>\n",
       "    <tr>\n",
       "      <th>1375</th>\n",
       "      <td>2319</td>\n",
       "      <td>2324</td>\n",
       "      <td>50.250476</td>\n",
       "      <td>211</td>\n",
       "    </tr>\n",
       "    <tr>\n",
       "      <th>1376</th>\n",
       "      <td>2319</td>\n",
       "      <td>2325</td>\n",
       "      <td>50.250476</td>\n",
       "      <td>85</td>\n",
       "    </tr>\n",
       "    <tr>\n",
       "      <th>1460</th>\n",
       "      <td>2316</td>\n",
       "      <td>2326</td>\n",
       "      <td>71.275282</td>\n",
       "      <td>34</td>\n",
       "    </tr>\n",
       "    <tr>\n",
       "      <th>1461</th>\n",
       "      <td>2316</td>\n",
       "      <td>2327</td>\n",
       "      <td>71.275282</td>\n",
       "      <td>30</td>\n",
       "    </tr>\n",
       "    <tr>\n",
       "      <th>1536</th>\n",
       "      <td>2323</td>\n",
       "      <td>2328</td>\n",
       "      <td>50.168737</td>\n",
       "      <td>123</td>\n",
       "    </tr>\n",
       "    <tr>\n",
       "      <th>1537</th>\n",
       "      <td>2323</td>\n",
       "      <td>2329</td>\n",
       "      <td>50.168737</td>\n",
       "      <td>22</td>\n",
       "    </tr>\n",
       "    <tr>\n",
       "      <th>1718</th>\n",
       "      <td>2328</td>\n",
       "      <td>2330</td>\n",
       "      <td>53.753723</td>\n",
       "      <td>15</td>\n",
       "    </tr>\n",
       "    <tr>\n",
       "      <th>1719</th>\n",
       "      <td>2328</td>\n",
       "      <td>2331</td>\n",
       "      <td>53.753723</td>\n",
       "      <td>86</td>\n",
       "    </tr>\n",
       "    <tr>\n",
       "      <th>1904</th>\n",
       "      <td>2324</td>\n",
       "      <td>2332</td>\n",
       "      <td>64.802537</td>\n",
       "      <td>108</td>\n",
       "    </tr>\n",
       "    <tr>\n",
       "      <th>1905</th>\n",
       "      <td>2324</td>\n",
       "      <td>2333</td>\n",
       "      <td>64.802537</td>\n",
       "      <td>26</td>\n",
       "    </tr>\n",
       "    <tr>\n",
       "      <th>1941</th>\n",
       "      <td>2332</td>\n",
       "      <td>2334</td>\n",
       "      <td>65.972270</td>\n",
       "      <td>56</td>\n",
       "    </tr>\n",
       "    <tr>\n",
       "      <th>1942</th>\n",
       "      <td>2332</td>\n",
       "      <td>2335</td>\n",
       "      <td>65.972270</td>\n",
       "      <td>46</td>\n",
       "    </tr>\n",
       "    <tr>\n",
       "      <th>1993</th>\n",
       "      <td>2314</td>\n",
       "      <td>2336</td>\n",
       "      <td>39.166202</td>\n",
       "      <td>19</td>\n",
       "    </tr>\n",
       "    <tr>\n",
       "      <th>1994</th>\n",
       "      <td>2314</td>\n",
       "      <td>2337</td>\n",
       "      <td>39.166202</td>\n",
       "      <td>36</td>\n",
       "    </tr>\n",
       "  </tbody>\n",
       "</table>\n",
       "</div>"
      ],
      "text/plain": [
       "      parent  child  lambda_val  child_size\n",
       "468     2309   2310   22.149180         625\n",
       "469     2309   2311   22.149180        1216\n",
       "495     2311   2312   22.974381        1004\n",
       "496     2311   2313   22.974381         200\n",
       "560     2310   2314   23.727882         275\n",
       "561     2310   2315   23.727882         316\n",
       "575     2312   2316   25.366360         208\n",
       "576     2312   2317   25.366360         772\n",
       "631     2317   2318   26.892063         356\n",
       "632     2317   2319   26.892063         406\n",
       "1037    2313   2320   51.518124          59\n",
       "1038    2313   2321   51.518124          37\n",
       "1166    2315   2322   43.622747          24\n",
       "1167    2315   2323   43.622747         193\n",
       "1375    2319   2324   50.250476         211\n",
       "1376    2319   2325   50.250476          85\n",
       "1460    2316   2326   71.275282          34\n",
       "1461    2316   2327   71.275282          30\n",
       "1536    2323   2328   50.168737         123\n",
       "1537    2323   2329   50.168737          22\n",
       "1718    2328   2330   53.753723          15\n",
       "1719    2328   2331   53.753723          86\n",
       "1904    2324   2332   64.802537         108\n",
       "1905    2324   2333   64.802537          26\n",
       "1941    2332   2334   65.972270          56\n",
       "1942    2332   2335   65.972270          46\n",
       "1993    2314   2336   39.166202          19\n",
       "1994    2314   2337   39.166202          36"
      ]
     },
     "execution_count": 57,
     "metadata": {},
     "output_type": "execute_result"
    }
   ],
   "source": [
    "tree = clusterer.condensed_tree_.to_pandas()\n",
    "cluster_tree = tree[tree.child_size > 1]\n",
    "print(cluster_tree.shape)\n",
    "cluster_tree.head(28)"
   ]
  },
  {
   "attachments": {},
   "cell_type": "markdown",
   "metadata": {},
   "source": [
    "Finally we have the to_numpy() function, which returns a numpy record array:"
   ]
  },
  {
   "cell_type": "code",
   "execution_count": 52,
   "metadata": {},
   "outputs": [
    {
     "data": {
      "text/plain": [
       "array([(2309, 2048,  5.01652597, 1), (2309, 2006,  5.07650313, 1),\n",
       "       (2309, 2024,  5.27913306, 1), ..., (2318, 1105, 86.55073707, 1),\n",
       "       (2318,  965, 86.55073707, 1), (2318,  954, 86.55073707, 1)],\n",
       "      dtype=[('parent', '<i8'), ('child', '<i8'), ('lambda_val', '<f8'), ('child_size', '<i8')])"
      ]
     },
     "execution_count": 52,
     "metadata": {},
     "output_type": "execute_result"
    }
   ],
   "source": [
    "clusterer.condensed_tree_.to_numpy()"
   ]
  },
  {
   "attachments": {},
   "cell_type": "markdown",
   "metadata": {},
   "source": [
    "### Converting text to vectors\n",
    "\n",
    "In order to feed predictive or clustering models with the text data, one first need to turn the text into vectors of numerical values suitable for statistical analysis. This can be achieved with the utilities of the sklearn.feature_extraction.text as demonstrated in the following example that extract TF-IDF vectors of unigram tokens from a subset of 20news:"
   ]
  },
  {
   "cell_type": "code",
   "execution_count": 2,
   "metadata": {},
   "outputs": [
    {
     "data": {
      "text/plain": [
       "(2034, 34118)"
      ]
     },
     "execution_count": 2,
     "metadata": {},
     "output_type": "execute_result"
    }
   ],
   "source": [
    "from sklearn.datasets import fetch_20newsgroups\n",
    "from sklearn.feature_extraction.text import TfidfVectorizer\n",
    "categories = ['alt.atheism', 'talk.religion.misc',\n",
    "              'comp.graphics', 'sci.space']\n",
    "newsgroups_train = fetch_20newsgroups(subset='train',\n",
    "                                      categories=categories)\n",
    "vectorizer = TfidfVectorizer()\n",
    "vectors = vectorizer.fit_transform(newsgroups_train.data)\n",
    "vectors.shape"
   ]
  },
  {
   "attachments": {},
   "cell_type": "markdown",
   "metadata": {},
   "source": [
    "Can this just be applied to activities and symptoms? This simply seems to extract counts etc."
   ]
  }
 ],
 "metadata": {
  "kernelspec": {
   "display_name": ".venv",
   "language": "python",
   "name": "python3"
  },
  "language_info": {
   "codemirror_mode": {
    "name": "ipython",
    "version": 3
   },
   "file_extension": ".py",
   "mimetype": "text/x-python",
   "name": "python",
   "nbconvert_exporter": "python",
   "pygments_lexer": "ipython3",
   "version": "3.8.10"
  },
  "orig_nbformat": 4,
  "vscode": {
   "interpreter": {
    "hash": "9a29d814ff9867b1bca3070bc77419176db06fa129a33d01f96cbf77dd5fcb2e"
   }
  }
 },
 "nbformat": 4,
 "nbformat_minor": 2
}
