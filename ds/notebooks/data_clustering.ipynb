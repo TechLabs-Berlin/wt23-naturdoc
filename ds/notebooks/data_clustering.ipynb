{
 "cells": [
  {
   "cell_type": "code",
   "execution_count": 1,
   "metadata": {},
   "outputs": [],
   "source": [
    "# reading data generated from anna\n",
    "# selecting columns"
   ]
  },
  {
   "attachments": {},
   "cell_type": "markdown",
   "metadata": {},
   "source": [
    "What will be our output?"
   ]
  },
  {
   "attachments": {},
   "cell_type": "markdown",
   "metadata": {},
   "source": [
    "Similarity matrix:\n",
    "\n",
    "Output a dictionary symptoms -> activities\n",
    "\n",
    "How do we define the threshold? Await embedding data\n",
    "\n",
    "Meantime: \n",
    "\n",
    "##### Similarity problem - what if no activity is near them?"
   ]
  },
  {
   "attachments": {},
   "cell_type": "markdown",
   "metadata": {},
   "source": [
    "1:"
   ]
  },
  {
   "cell_type": "code",
   "execution_count": null,
   "metadata": {},
   "outputs": [],
   "source": [
    "from typing import Dict, List\n",
    "\n",
    "def distance_matrix(df : pd.DataFrame, # ~2.5k x 300\n",
    "                    distance_metric : str) -> pd.DataFrame: # 2.5k x 2.5k\n",
    "\n",
    "def generate_dict(df_dist : pd.DataFrame,\n",
    "                  threshold : float) -> Dist[str, List[str]]:\n"
   ]
  },
  {
   "attachments": {},
   "cell_type": "markdown",
   "metadata": {},
   "source": [
    "3:"
   ]
  },
  {
   "attachments": {},
   "cell_type": "markdown",
   "metadata": {},
   "source": [
    "Supervised classification approach (K n n):\n",
    "\n",
    "embeddings, symptoms as y\n",
    "\n",
    "422 labels (i.e. symptoms) - assign closest symptom possible to each activity\n",
    "\n",
    "A way to \"label\" our data, enforce no null values. Could lead to stupid matches due to this because there's no threshold, so to speak\n",
    "\n",
    "\n",
    "Kmeans - groups (soft clustering?) -> groups with soft clustering\n",
    "\n",
    "investigate: k and n classification algorithm "
   ]
  },
  {
   "attachments": {},
   "cell_type": "markdown",
   "metadata": {},
   "source": [
    "422 symptoms - > number of centroids?"
   ]
  },
  {
   "attachments": {},
   "cell_type": "markdown",
   "metadata": {},
   "source": [
    "2:"
   ]
  },
  {
   "attachments": {},
   "cell_type": "markdown",
   "metadata": {},
   "source": [
    "Use Kaggle data for now\n",
    "\n",
    "https://www.kaggle.com/datasets/louise2001/embeddings-actuarial-loss-competition?select=embeddings_train_20.csv\n",
    "https://www.kaggle.com/datasets/louise2001/embeddings-actuarial-loss-competition?select=embeddings_test_20.csv"
   ]
  },
  {
   "attachments": {},
   "cell_type": "markdown",
   "metadata": {},
   "source": [
    "Approach clustering :\n",
    "\n",
    "Kmeans \n",
    "Partition/Divisive/Aglomerative\n",
    "- Assume Globular data structure\n",
    "- Disconsider outliers\n",
    "- Vary the results according to the inicialization\n",
    " \n",
    "Output -> Groups/ Soft Groups\n",
    "\n",
    "HDBSCAN*\n",
    "It's based on density\n",
    "- It adapts better with different data structures\n",
    "- Classify outliers according to our epslon(parameter)\n",
    "- They are deterministic\n",
    "\n",
    "Output (Group & outliers) / (Soft group & outlier)\n",
    "\n",
    "HDBSCAN"
   ]
  },
  {
   "cell_type": "code",
   "execution_count": null,
   "metadata": {
    "vscode": {
     "languageId": "plaintext"
    }
   },
   "outputs": [],
   "source": []
  },
  {
   "cell_type": "code",
   "execution_count": 2,
   "metadata": {},
   "outputs": [
    {
     "name": "stdout",
     "output_type": "stream",
     "text": [
      "hello\n"
     ]
    }
   ],
   "source": [
    "if 2:\n",
    "    print('hello')\n",
    "    "
   ]
  },
  {
   "cell_type": "code",
   "execution_count": null,
   "metadata": {},
   "outputs": [],
   "source": [
    "def cluster(df : pd.DataFrame):\n",
    "    #do the magic\n",
    "    pass"
   ]
  },
  {
   "cell_type": "code",
   "execution_count": null,
   "metadata": {
    "vscode": {
     "languageId": "plaintext"
    }
   },
   "outputs": [],
   "source": [
    "def cluster(df : pd.DataFrame):\n",
    "    #do the magic\n",
    "    pass"
   ]
  }
 ],
 "metadata": {
  "kernelspec": {
   "display_name": ".venv",
   "language": "python",
   "name": "python3"
  },
  "language_info": {
   "codemirror_mode": {
    "name": "ipython",
    "version": 3
   },
   "file_extension": ".py",
   "mimetype": "text/x-python",
   "name": "python",
   "nbconvert_exporter": "python",
   "pygments_lexer": "ipython3",
   "version": "3.9.16"
  },
  "orig_nbformat": 4,
  "vscode": {
   "interpreter": {
    "hash": "785f7b46b801e12755c4a2e799e33b6cd27c3f8b3505cbff47f9e4e82338b030"
   }
  }
 },
 "nbformat": 4,
 "nbformat_minor": 2
}
