{
 "cells": [
  {
   "cell_type": "code",
   "execution_count": 1,
   "metadata": {},
   "outputs": [],
   "source": [
    "import pandas as pd\n",
    "import numpy as np"
   ]
  },
  {
   "attachments": {},
   "cell_type": "markdown",
   "metadata": {},
   "source": [
    "### NaturDoc - TL BL WT 22-23"
   ]
  },
  {
   "attachments": {},
   "cell_type": "markdown",
   "metadata": {},
   "source": [
    "# Data clustering:"
   ]
  },
  {
   "attachments": {},
   "cell_type": "markdown",
   "metadata": {},
   "source": [
    "## Groundwork: Approaches and Dummy Data"
   ]
  },
  {
   "attachments": {},
   "cell_type": "markdown",
   "metadata": {},
   "source": [
    "What approaches are possible? And while waiting for the input data to be generated, what data can we use to already test these approaches?"
   ]
  },
  {
   "attachments": {},
   "cell_type": "markdown",
   "metadata": {},
   "source": [
    "### Placeholder Data:\n",
    "Use Kaggle data for now as it has a similar shape to what we expect the output from our embeddings to be like:\n",
    "\n",
    "https://www.kaggle.com/datasets/louise2001/embeddings-actuarial-loss-competition?select=embeddings_train_20.csv\n",
    "https://www.kaggle.com/datasets/louise2001/embeddings-actuarial-loss-competition?select=embeddings_test_20.csv"
   ]
  },
  {
   "attachments": {},
   "cell_type": "markdown",
   "metadata": {},
   "source": [
    "#### Loading Placeholders:"
   ]
  },
  {
   "cell_type": "code",
   "execution_count": 2,
   "metadata": {},
   "outputs": [],
   "source": [
    "placeholder_embeddings_train = pd.read_csv(\"../data/kaggle_embeddings/embeddings_train_20.csv\")\n",
    "placeholder_embeddings_test = pd.read_csv(\"../data/kaggle_embeddings/embeddings_test_20.csv\")"
   ]
  },
  {
   "cell_type": "code",
   "execution_count": 3,
   "metadata": {},
   "outputs": [
    {
     "name": "stdout",
     "output_type": "stream",
     "text": [
      "(54000, 20)\n"
     ]
    },
    {
     "data": {
      "text/html": [
       "<div>\n",
       "<style scoped>\n",
       "    .dataframe tbody tr th:only-of-type {\n",
       "        vertical-align: middle;\n",
       "    }\n",
       "\n",
       "    .dataframe tbody tr th {\n",
       "        vertical-align: top;\n",
       "    }\n",
       "\n",
       "    .dataframe thead th {\n",
       "        text-align: right;\n",
       "    }\n",
       "</style>\n",
       "<table border=\"1\" class=\"dataframe\">\n",
       "  <thead>\n",
       "    <tr style=\"text-align: right;\">\n",
       "      <th></th>\n",
       "      <th>X_0</th>\n",
       "      <th>X_1</th>\n",
       "      <th>X_2</th>\n",
       "      <th>X_3</th>\n",
       "      <th>X_4</th>\n",
       "      <th>X_5</th>\n",
       "      <th>X_6</th>\n",
       "      <th>X_7</th>\n",
       "      <th>X_8</th>\n",
       "      <th>X_9</th>\n",
       "      <th>X_10</th>\n",
       "      <th>X_11</th>\n",
       "      <th>X_12</th>\n",
       "      <th>X_13</th>\n",
       "      <th>X_14</th>\n",
       "      <th>X_15</th>\n",
       "      <th>X_16</th>\n",
       "      <th>X_17</th>\n",
       "      <th>X_18</th>\n",
       "      <th>X_19</th>\n",
       "    </tr>\n",
       "  </thead>\n",
       "  <tbody>\n",
       "    <tr>\n",
       "      <th>0</th>\n",
       "      <td>0.001261</td>\n",
       "      <td>0.002414</td>\n",
       "      <td>0.000249</td>\n",
       "      <td>0.00522</td>\n",
       "      <td>-0.001958</td>\n",
       "      <td>0.00038</td>\n",
       "      <td>-0.002064</td>\n",
       "      <td>-0.001011</td>\n",
       "      <td>0.002508</td>\n",
       "      <td>-0.002613</td>\n",
       "      <td>-0.000296</td>\n",
       "      <td>-0.001507</td>\n",
       "      <td>-0.006224</td>\n",
       "      <td>-0.002091</td>\n",
       "      <td>-0.003988</td>\n",
       "      <td>-0.002253</td>\n",
       "      <td>-0.000157</td>\n",
       "      <td>-0.004382</td>\n",
       "      <td>-0.001747</td>\n",
       "      <td>0.000572</td>\n",
       "    </tr>\n",
       "  </tbody>\n",
       "</table>\n",
       "</div>"
      ],
      "text/plain": [
       "        X_0       X_1       X_2      X_3       X_4      X_5       X_6  \\\n",
       "0  0.001261  0.002414  0.000249  0.00522 -0.001958  0.00038 -0.002064   \n",
       "\n",
       "        X_7       X_8       X_9      X_10      X_11      X_12      X_13  \\\n",
       "0 -0.001011  0.002508 -0.002613 -0.000296 -0.001507 -0.006224 -0.002091   \n",
       "\n",
       "       X_14      X_15      X_16      X_17      X_18      X_19  \n",
       "0 -0.003988 -0.002253 -0.000157 -0.004382 -0.001747  0.000572  "
      ]
     },
     "execution_count": 3,
     "metadata": {},
     "output_type": "execute_result"
    }
   ],
   "source": [
    "print(placeholder_embeddings_train.shape)\n",
    "placeholder_embeddings_train.head(1)"
   ]
  },
  {
   "cell_type": "code",
   "execution_count": 4,
   "metadata": {},
   "outputs": [
    {
     "name": "stdout",
     "output_type": "stream",
     "text": [
      "(36000, 20)\n"
     ]
    },
    {
     "data": {
      "text/html": [
       "<div>\n",
       "<style scoped>\n",
       "    .dataframe tbody tr th:only-of-type {\n",
       "        vertical-align: middle;\n",
       "    }\n",
       "\n",
       "    .dataframe tbody tr th {\n",
       "        vertical-align: top;\n",
       "    }\n",
       "\n",
       "    .dataframe thead th {\n",
       "        text-align: right;\n",
       "    }\n",
       "</style>\n",
       "<table border=\"1\" class=\"dataframe\">\n",
       "  <thead>\n",
       "    <tr style=\"text-align: right;\">\n",
       "      <th></th>\n",
       "      <th>X_0</th>\n",
       "      <th>X_1</th>\n",
       "      <th>X_2</th>\n",
       "      <th>X_3</th>\n",
       "      <th>X_4</th>\n",
       "      <th>X_5</th>\n",
       "      <th>X_6</th>\n",
       "      <th>X_7</th>\n",
       "      <th>X_8</th>\n",
       "      <th>X_9</th>\n",
       "      <th>X_10</th>\n",
       "      <th>X_11</th>\n",
       "      <th>X_12</th>\n",
       "      <th>X_13</th>\n",
       "      <th>X_14</th>\n",
       "      <th>X_15</th>\n",
       "      <th>X_16</th>\n",
       "      <th>X_17</th>\n",
       "      <th>X_18</th>\n",
       "      <th>X_19</th>\n",
       "    </tr>\n",
       "  </thead>\n",
       "  <tbody>\n",
       "    <tr>\n",
       "      <th>0</th>\n",
       "      <td>-0.003337</td>\n",
       "      <td>-0.000376</td>\n",
       "      <td>0.000312</td>\n",
       "      <td>0.002878</td>\n",
       "      <td>0.000442</td>\n",
       "      <td>0.000024</td>\n",
       "      <td>0.003665</td>\n",
       "      <td>-0.004803</td>\n",
       "      <td>-0.004482</td>\n",
       "      <td>0.00339</td>\n",
       "      <td>0.004925</td>\n",
       "      <td>0.001668</td>\n",
       "      <td>-0.002745</td>\n",
       "      <td>-0.001031</td>\n",
       "      <td>0.000992</td>\n",
       "      <td>-0.005981</td>\n",
       "      <td>-0.002522</td>\n",
       "      <td>-0.000863</td>\n",
       "      <td>0.000206</td>\n",
       "      <td>-0.003104</td>\n",
       "    </tr>\n",
       "  </tbody>\n",
       "</table>\n",
       "</div>"
      ],
      "text/plain": [
       "        X_0       X_1       X_2       X_3       X_4       X_5       X_6  \\\n",
       "0 -0.003337 -0.000376  0.000312  0.002878  0.000442  0.000024  0.003665   \n",
       "\n",
       "        X_7       X_8      X_9      X_10      X_11      X_12      X_13  \\\n",
       "0 -0.004803 -0.004482  0.00339  0.004925  0.001668 -0.002745 -0.001031   \n",
       "\n",
       "       X_14      X_15      X_16      X_17      X_18      X_19  \n",
       "0  0.000992 -0.005981 -0.002522 -0.000863  0.000206 -0.003104  "
      ]
     },
     "execution_count": 4,
     "metadata": {},
     "output_type": "execute_result"
    }
   ],
   "source": [
    "print(placeholder_embeddings_test.shape)\n",
    "placeholder_embeddings_test.head(1)"
   ]
  },
  {
   "attachments": {},
   "cell_type": "markdown",
   "metadata": {},
   "source": [
    "### Overview of Possible Approches:"
   ]
  },
  {
   "attachments": {},
   "cell_type": "markdown",
   "metadata": {},
   "source": [
    "One basic question:\n",
    "\n",
    "_What will be our output?_"
   ]
  },
  {
   "attachments": {},
   "cell_type": "markdown",
   "metadata": {},
   "source": [
    "#### Approach 1: Similarity Matrix"
   ]
  },
  {
   "attachments": {},
   "cell_type": "markdown",
   "metadata": {},
   "source": [
    "Similarity matrix:\n",
    "\n",
    "Output a dictionary symptoms -> activities\n",
    "\n",
    "How do we define the threshold? Await embedding data\n",
    "\n",
    "Meantime: __similarity problem - what if no activity is near them?__"
   ]
  },
  {
   "attachments": {},
   "cell_type": "markdown",
   "metadata": {},
   "source": [
    "This approach does not use ML models, but can provide uses already."
   ]
  },
  {
   "attachments": {},
   "cell_type": "markdown",
   "metadata": {},
   "source": [
    "#### Approach 2: Clustering"
   ]
  },
  {
   "attachments": {},
   "cell_type": "markdown",
   "metadata": {},
   "source": [
    "422 symptoms - > number of centroids?"
   ]
  },
  {
   "attachments": {},
   "cell_type": "markdown",
   "metadata": {},
   "source": [
    "Approach clustering:\n",
    "\n",
    "Kmeans - groups (soft clustering?) -> groups with soft clustering\n",
    "\n",
    "investigate: k and n classification algorithm \n",
    "\n",
    "Kmeans \n",
    "Partition/Divisive/Aglomerative\n",
    "- Assume Globular data structure\n",
    "- Disconsider outliers\n",
    "- Vary the results according to the inicialization\n",
    " \n",
    "Output -> Groups/ Soft Groups\n",
    "\n",
    "\n",
    "\n",
    "HDBSCAN*\n",
    "It's based on density\n",
    "- It adapts better with different data structures\n",
    "- Classify outliers according to our epslon(parameter)\n",
    "- They are deterministic\n",
    "\n",
    "Output (Group & outliers) / (Soft group & outlier)\n",
    "\n",
    "HDBSCAN"
   ]
  },
  {
   "attachments": {},
   "cell_type": "markdown",
   "metadata": {},
   "source": [
    "#### Approach 3: Classification"
   ]
  },
  {
   "attachments": {},
   "cell_type": "markdown",
   "metadata": {},
   "source": [
    "Requires some of the previous steps to be done already.\n",
    "\n",
    "Supervised classification approach (K n n):\n",
    "\n",
    "embeddings, symptoms as y\n",
    "\n",
    "422 labels (i.e. symptoms) - assign closest symptom possible to each activity\n",
    "\n",
    "A way to \"label\" our data, enforce no null values. Could lead to stupid matches due to this because there's no threshold, so to speak"
   ]
  },
  {
   "attachments": {},
   "cell_type": "markdown",
   "metadata": {},
   "source": [
    "## Approach 1:"
   ]
  },
  {
   "attachments": {},
   "cell_type": "markdown",
   "metadata": {},
   "source": [
    "### Pseudocode:"
   ]
  },
  {
   "cell_type": "code",
   "execution_count": 5,
   "metadata": {},
   "outputs": [],
   "source": [
    "# from typing import Dict, List\n",
    "\n",
    "# def generate_distance_matrix_df(df : pd.DataFrame, # ~2.5k x 300\n",
    "#                 distance_metric : str) -> pd.DataFrame: # 2.5k x 2.5k\n",
    "\n",
    "# def generate_dict(df_dist : pd.DataFrame,\n",
    "#                 threshold : float) -> Dict[str: List[str]]:"
   ]
  },
  {
   "attachments": {},
   "cell_type": "markdown",
   "metadata": {},
   "source": [
    "### Implementation:"
   ]
  },
  {
   "attachments": {},
   "cell_type": "markdown",
   "metadata": {},
   "source": [
    "#### Creating the Distance Matrix:"
   ]
  },
  {
   "cell_type": "code",
   "execution_count": 6,
   "metadata": {},
   "outputs": [],
   "source": [
    "# importing the library\n",
    "from scipy.spatial import distance\n",
    "from scipy.spatial import distance_matrix"
   ]
  },
  {
   "attachments": {},
   "cell_type": "markdown",
   "metadata": {},
   "source": [
    "##### On Distance Metrics:"
   ]
  },
  {
   "attachments": {},
   "cell_type": "markdown",
   "metadata": {},
   "source": [
    "Pulkit Sharma \n",
    "\n",
    "https://www.analyticsvidhya.com/blog/2020/02/4-types-of-distance-metrics-in-machine-learning/"
   ]
  },
  {
   "cell_type": "code",
   "execution_count": 7,
   "metadata": {},
   "outputs": [],
   "source": [
    "# defining the points\n",
    "point_1 = (1, 2, 3)\n",
    "point_2 = (4, 5, 6)"
   ]
  },
  {
   "cell_type": "code",
   "execution_count": 8,
   "metadata": {},
   "outputs": [
    {
     "name": "stdout",
     "output_type": "stream",
     "text": [
      "Euclidean Distance b/w (1, 2, 3) and (4, 5, 6) is:  5.196152422706632\n"
     ]
    }
   ],
   "source": [
    "# computing the euclidean distance\n",
    "manhattan_distance = distance.euclidean(point_1, point_2)\n",
    "print('Euclidean Distance b/w', point_1, 'and', point_2, 'is: ', manhattan_distance)"
   ]
  },
  {
   "cell_type": "code",
   "execution_count": 9,
   "metadata": {},
   "outputs": [
    {
     "name": "stdout",
     "output_type": "stream",
     "text": [
      "Manhattan Distance b/w (1, 2, 3) and (4, 5, 6) is:  9\n"
     ]
    }
   ],
   "source": [
    "# computing the manhattan distance\n",
    "manhattan_distance = distance.cityblock(point_1, point_2)\n",
    "print('Manhattan Distance b/w', point_1, 'and', point_2, 'is: ', manhattan_distance)"
   ]
  },
  {
   "attachments": {},
   "cell_type": "markdown",
   "metadata": {},
   "source": [
    "The p parameter of the Minkowski Distance metric of SciPy represents the order of the norm. When the order(p) is 1, it will represent Manhattan Distance and when the order in the above formula is 2, it will represent Euclidean Distance. 3 is Minkowski distance."
   ]
  },
  {
   "cell_type": "code",
   "execution_count": 10,
   "metadata": {},
   "outputs": [
    {
     "name": "stdout",
     "output_type": "stream",
     "text": [
      "Minkowski Distance b/w (1, 2, 3) and (4, 5, 6) is:  4.3267487109222245\n"
     ]
    }
   ],
   "source": [
    "# computing the minkowski distance\n",
    "minkowski_distance = distance.minkowski(point_1, point_2, p=3)\n",
    "print('Minkowski Distance b/w', point_1, 'and', point_2, 'is: ', minkowski_distance)"
   ]
  },
  {
   "attachments": {},
   "cell_type": "markdown",
   "metadata": {},
   "source": [
    "Hamming Distance measures the similarity between two strings of the same length. The Hamming Distance between two strings of the same length is the number of positions at which the corresponding characters are different."
   ]
  },
  {
   "attachments": {},
   "cell_type": "markdown",
   "metadata": {},
   "source": [
    "“euclidean” and “manhattan”\n",
    "\n",
    "Since the length of these strings is equal, we can calculate the Hamming Distance. We will go character by character and match the strings. The first character of both the strings (e and m, respectively) is different. Similarly, the second character of both the strings (u and a) is different. and so on.\n",
    "\n",
    "Look carefully – seven characters are different, whereas two characters (the last two characters) are similar:"
   ]
  },
  {
   "cell_type": "code",
   "execution_count": 11,
   "metadata": {},
   "outputs": [
    {
     "name": "stdout",
     "output_type": "stream",
     "text": [
      "Hamming Distance b/w euclidean and manhattan is:  7.0\n"
     ]
    }
   ],
   "source": [
    "# defining two strings\n",
    "string_1 = 'euclidean'\n",
    "string_2 = 'manhattan'\n",
    "\n",
    "# computing the hamming distance\n",
    "hamming_distance = distance.hamming(list(string_1), list(string_2))*len(string_1)\n",
    "print('Hamming Distance b/w', string_1, 'and', string_2, 'is: ', hamming_distance)"
   ]
  },
  {
   "cell_type": "code",
   "execution_count": 12,
   "metadata": {},
   "outputs": [],
   "source": [
    "dis_matrix = distance.euclidean(placeholder_embeddings_train.loc[:, \"X_0\"], placeholder_embeddings_train.loc[:, \"X_0\"])"
   ]
  },
  {
   "cell_type": "code",
   "execution_count": 13,
   "metadata": {},
   "outputs": [
    {
     "data": {
      "text/plain": [
       "0.0"
      ]
     },
     "execution_count": 13,
     "metadata": {},
     "output_type": "execute_result"
    }
   ],
   "source": [
    "dis_matrix"
   ]
  },
  {
   "attachments": {},
   "cell_type": "markdown",
   "metadata": {},
   "source": [
    "##### Generating Distance Matrix:"
   ]
  },
  {
   "attachments": {},
   "cell_type": "markdown",
   "metadata": {},
   "source": [
    "distance_matrix from Scipy already is basically like the function we defined up top in Pseudocode, just doesn't return a pandas DFbut an array instead:"
   ]
  },
  {
   "cell_type": "code",
   "execution_count": 14,
   "metadata": {},
   "outputs": [],
   "source": [
    "dis_matrix = distance_matrix(placeholder_embeddings_train[:10].values, placeholder_embeddings_train[:10].values)"
   ]
  },
  {
   "cell_type": "code",
   "execution_count": 15,
   "metadata": {},
   "outputs": [
    {
     "data": {
      "text/plain": [
       "array([[0.        , 0.01833721, 0.02229426, 0.02335984, 0.01876052,\n",
       "        0.0230069 , 0.01400243, 0.01788264, 0.0204466 , 0.02135449],\n",
       "       [0.01833721, 0.        , 0.01937967, 0.01992352, 0.01889556,\n",
       "        0.02113967, 0.01649485, 0.0183124 , 0.01714963, 0.02174769],\n",
       "       [0.02229426, 0.01937967, 0.        , 0.01706631, 0.0174461 ,\n",
       "        0.02115377, 0.01890491, 0.02020323, 0.01590942, 0.02505969],\n",
       "       [0.02335984, 0.01992352, 0.01706631, 0.        , 0.02097703,\n",
       "        0.0173366 , 0.02028638, 0.02210902, 0.02258652, 0.02417481],\n",
       "       [0.01876052, 0.01889556, 0.0174461 , 0.02097703, 0.        ,\n",
       "        0.01924371, 0.015439  , 0.01594135, 0.02023838, 0.02291458],\n",
       "       [0.0230069 , 0.02113967, 0.02115377, 0.0173366 , 0.01924371,\n",
       "        0.        , 0.01940242, 0.02331772, 0.02740677, 0.02187825],\n",
       "       [0.01400243, 0.01649485, 0.01890491, 0.02028638, 0.015439  ,\n",
       "        0.01940242, 0.        , 0.01551348, 0.01838972, 0.01883806],\n",
       "       [0.01788264, 0.0183124 , 0.02020323, 0.02210902, 0.01594135,\n",
       "        0.02331772, 0.01551348, 0.        , 0.02036707, 0.02718696],\n",
       "       [0.0204466 , 0.01714963, 0.01590942, 0.02258652, 0.02023838,\n",
       "        0.02740677, 0.01838972, 0.02036707, 0.        , 0.02537176],\n",
       "       [0.02135449, 0.02174769, 0.02505969, 0.02417481, 0.02291458,\n",
       "        0.02187825, 0.01883806, 0.02718696, 0.02537176, 0.        ]])"
      ]
     },
     "execution_count": 15,
     "metadata": {},
     "output_type": "execute_result"
    }
   ],
   "source": [
    "dis_matrix"
   ]
  },
  {
   "cell_type": "code",
   "execution_count": 16,
   "metadata": {},
   "outputs": [],
   "source": [
    "import math\n",
    "\n",
    "def generate_distance_matrix(df : pd.DataFrame, # ~2.5k x 300\n",
    "                size: int,\n",
    "                distance_metric : str = \"euclidean\") -> pd.DataFrame: # 2.5k x 2.5k\n",
    "    if distance_metric == \"manhattan\":\n",
    "        p = 1\n",
    "    elif distance_metric == \"euclidean\":\n",
    "        p = 2\n",
    "    elif distance_metric == \"chebychev\":\n",
    "        p = math.inf\n",
    "    else:\n",
    "        p = 2\n",
    "    dis_matrix = distance_matrix(df[:size].values, df[:size].values, p)\n",
    "    dis_df = pd.DataFrame(dis_matrix)\n",
    "    return dis_df\n"
   ]
  },
  {
   "cell_type": "code",
   "execution_count": 17,
   "metadata": {},
   "outputs": [
    {
     "data": {
      "text/html": [
       "<div>\n",
       "<style scoped>\n",
       "    .dataframe tbody tr th:only-of-type {\n",
       "        vertical-align: middle;\n",
       "    }\n",
       "\n",
       "    .dataframe tbody tr th {\n",
       "        vertical-align: top;\n",
       "    }\n",
       "\n",
       "    .dataframe thead th {\n",
       "        text-align: right;\n",
       "    }\n",
       "</style>\n",
       "<table border=\"1\" class=\"dataframe\">\n",
       "  <thead>\n",
       "    <tr style=\"text-align: right;\">\n",
       "      <th></th>\n",
       "      <th>0</th>\n",
       "      <th>1</th>\n",
       "      <th>2</th>\n",
       "      <th>3</th>\n",
       "      <th>4</th>\n",
       "      <th>5</th>\n",
       "      <th>6</th>\n",
       "      <th>7</th>\n",
       "      <th>8</th>\n",
       "      <th>9</th>\n",
       "      <th>...</th>\n",
       "      <th>2490</th>\n",
       "      <th>2491</th>\n",
       "      <th>2492</th>\n",
       "      <th>2493</th>\n",
       "      <th>2494</th>\n",
       "      <th>2495</th>\n",
       "      <th>2496</th>\n",
       "      <th>2497</th>\n",
       "      <th>2498</th>\n",
       "      <th>2499</th>\n",
       "    </tr>\n",
       "  </thead>\n",
       "  <tbody>\n",
       "    <tr>\n",
       "      <th>0</th>\n",
       "      <td>0.000000</td>\n",
       "      <td>0.018337</td>\n",
       "      <td>0.022294</td>\n",
       "      <td>0.023360</td>\n",
       "      <td>0.018761</td>\n",
       "      <td>0.023007</td>\n",
       "      <td>0.014002</td>\n",
       "      <td>0.017883</td>\n",
       "      <td>0.020447</td>\n",
       "      <td>0.021354</td>\n",
       "      <td>...</td>\n",
       "      <td>0.019683</td>\n",
       "      <td>0.016055</td>\n",
       "      <td>0.012654</td>\n",
       "      <td>0.013704</td>\n",
       "      <td>0.017819</td>\n",
       "      <td>0.021642</td>\n",
       "      <td>0.015601</td>\n",
       "      <td>0.018090</td>\n",
       "      <td>0.019478</td>\n",
       "      <td>0.022697</td>\n",
       "    </tr>\n",
       "    <tr>\n",
       "      <th>1</th>\n",
       "      <td>0.018337</td>\n",
       "      <td>0.000000</td>\n",
       "      <td>0.019380</td>\n",
       "      <td>0.019924</td>\n",
       "      <td>0.018896</td>\n",
       "      <td>0.021140</td>\n",
       "      <td>0.016495</td>\n",
       "      <td>0.018312</td>\n",
       "      <td>0.017150</td>\n",
       "      <td>0.021748</td>\n",
       "      <td>...</td>\n",
       "      <td>0.016862</td>\n",
       "      <td>0.017062</td>\n",
       "      <td>0.018973</td>\n",
       "      <td>0.017938</td>\n",
       "      <td>0.016172</td>\n",
       "      <td>0.016623</td>\n",
       "      <td>0.015493</td>\n",
       "      <td>0.018303</td>\n",
       "      <td>0.023041</td>\n",
       "      <td>0.020298</td>\n",
       "    </tr>\n",
       "    <tr>\n",
       "      <th>2</th>\n",
       "      <td>0.022294</td>\n",
       "      <td>0.019380</td>\n",
       "      <td>0.000000</td>\n",
       "      <td>0.017066</td>\n",
       "      <td>0.017446</td>\n",
       "      <td>0.021154</td>\n",
       "      <td>0.018905</td>\n",
       "      <td>0.020203</td>\n",
       "      <td>0.015909</td>\n",
       "      <td>0.025060</td>\n",
       "      <td>...</td>\n",
       "      <td>0.016655</td>\n",
       "      <td>0.021222</td>\n",
       "      <td>0.022874</td>\n",
       "      <td>0.018406</td>\n",
       "      <td>0.017896</td>\n",
       "      <td>0.015341</td>\n",
       "      <td>0.017457</td>\n",
       "      <td>0.021428</td>\n",
       "      <td>0.022936</td>\n",
       "      <td>0.025871</td>\n",
       "    </tr>\n",
       "    <tr>\n",
       "      <th>3</th>\n",
       "      <td>0.023360</td>\n",
       "      <td>0.019924</td>\n",
       "      <td>0.017066</td>\n",
       "      <td>0.000000</td>\n",
       "      <td>0.020977</td>\n",
       "      <td>0.017337</td>\n",
       "      <td>0.020286</td>\n",
       "      <td>0.022109</td>\n",
       "      <td>0.022587</td>\n",
       "      <td>0.024175</td>\n",
       "      <td>...</td>\n",
       "      <td>0.017900</td>\n",
       "      <td>0.019122</td>\n",
       "      <td>0.023323</td>\n",
       "      <td>0.017697</td>\n",
       "      <td>0.020562</td>\n",
       "      <td>0.010699</td>\n",
       "      <td>0.018227</td>\n",
       "      <td>0.020388</td>\n",
       "      <td>0.021986</td>\n",
       "      <td>0.021899</td>\n",
       "    </tr>\n",
       "    <tr>\n",
       "      <th>4</th>\n",
       "      <td>0.018761</td>\n",
       "      <td>0.018896</td>\n",
       "      <td>0.017446</td>\n",
       "      <td>0.020977</td>\n",
       "      <td>0.000000</td>\n",
       "      <td>0.019244</td>\n",
       "      <td>0.015439</td>\n",
       "      <td>0.015941</td>\n",
       "      <td>0.020238</td>\n",
       "      <td>0.022915</td>\n",
       "      <td>...</td>\n",
       "      <td>0.015841</td>\n",
       "      <td>0.021323</td>\n",
       "      <td>0.019469</td>\n",
       "      <td>0.013780</td>\n",
       "      <td>0.015469</td>\n",
       "      <td>0.019880</td>\n",
       "      <td>0.017473</td>\n",
       "      <td>0.019232</td>\n",
       "      <td>0.020719</td>\n",
       "      <td>0.021729</td>\n",
       "    </tr>\n",
       "    <tr>\n",
       "      <th>...</th>\n",
       "      <td>...</td>\n",
       "      <td>...</td>\n",
       "      <td>...</td>\n",
       "      <td>...</td>\n",
       "      <td>...</td>\n",
       "      <td>...</td>\n",
       "      <td>...</td>\n",
       "      <td>...</td>\n",
       "      <td>...</td>\n",
       "      <td>...</td>\n",
       "      <td>...</td>\n",
       "      <td>...</td>\n",
       "      <td>...</td>\n",
       "      <td>...</td>\n",
       "      <td>...</td>\n",
       "      <td>...</td>\n",
       "      <td>...</td>\n",
       "      <td>...</td>\n",
       "      <td>...</td>\n",
       "      <td>...</td>\n",
       "      <td>...</td>\n",
       "    </tr>\n",
       "    <tr>\n",
       "      <th>2495</th>\n",
       "      <td>0.021642</td>\n",
       "      <td>0.016623</td>\n",
       "      <td>0.015341</td>\n",
       "      <td>0.010699</td>\n",
       "      <td>0.019880</td>\n",
       "      <td>0.020699</td>\n",
       "      <td>0.019238</td>\n",
       "      <td>0.020034</td>\n",
       "      <td>0.017647</td>\n",
       "      <td>0.024520</td>\n",
       "      <td>...</td>\n",
       "      <td>0.017746</td>\n",
       "      <td>0.017464</td>\n",
       "      <td>0.022954</td>\n",
       "      <td>0.017979</td>\n",
       "      <td>0.015548</td>\n",
       "      <td>0.000000</td>\n",
       "      <td>0.019693</td>\n",
       "      <td>0.020573</td>\n",
       "      <td>0.022701</td>\n",
       "      <td>0.022759</td>\n",
       "    </tr>\n",
       "    <tr>\n",
       "      <th>2496</th>\n",
       "      <td>0.015601</td>\n",
       "      <td>0.015493</td>\n",
       "      <td>0.017457</td>\n",
       "      <td>0.018227</td>\n",
       "      <td>0.017473</td>\n",
       "      <td>0.016619</td>\n",
       "      <td>0.014155</td>\n",
       "      <td>0.017927</td>\n",
       "      <td>0.020330</td>\n",
       "      <td>0.019178</td>\n",
       "      <td>...</td>\n",
       "      <td>0.015454</td>\n",
       "      <td>0.015248</td>\n",
       "      <td>0.016167</td>\n",
       "      <td>0.015261</td>\n",
       "      <td>0.020345</td>\n",
       "      <td>0.019693</td>\n",
       "      <td>0.000000</td>\n",
       "      <td>0.016253</td>\n",
       "      <td>0.016326</td>\n",
       "      <td>0.018418</td>\n",
       "    </tr>\n",
       "    <tr>\n",
       "      <th>2497</th>\n",
       "      <td>0.018090</td>\n",
       "      <td>0.018303</td>\n",
       "      <td>0.021428</td>\n",
       "      <td>0.020388</td>\n",
       "      <td>0.019232</td>\n",
       "      <td>0.021677</td>\n",
       "      <td>0.011484</td>\n",
       "      <td>0.017825</td>\n",
       "      <td>0.022029</td>\n",
       "      <td>0.016044</td>\n",
       "      <td>...</td>\n",
       "      <td>0.019790</td>\n",
       "      <td>0.013730</td>\n",
       "      <td>0.018533</td>\n",
       "      <td>0.021361</td>\n",
       "      <td>0.019769</td>\n",
       "      <td>0.020573</td>\n",
       "      <td>0.016253</td>\n",
       "      <td>0.000000</td>\n",
       "      <td>0.024841</td>\n",
       "      <td>0.024082</td>\n",
       "    </tr>\n",
       "    <tr>\n",
       "      <th>2498</th>\n",
       "      <td>0.019478</td>\n",
       "      <td>0.023041</td>\n",
       "      <td>0.022936</td>\n",
       "      <td>0.021986</td>\n",
       "      <td>0.020719</td>\n",
       "      <td>0.019593</td>\n",
       "      <td>0.017781</td>\n",
       "      <td>0.020926</td>\n",
       "      <td>0.024572</td>\n",
       "      <td>0.025625</td>\n",
       "      <td>...</td>\n",
       "      <td>0.016534</td>\n",
       "      <td>0.022633</td>\n",
       "      <td>0.021300</td>\n",
       "      <td>0.018761</td>\n",
       "      <td>0.022967</td>\n",
       "      <td>0.022701</td>\n",
       "      <td>0.016326</td>\n",
       "      <td>0.024841</td>\n",
       "      <td>0.000000</td>\n",
       "      <td>0.026342</td>\n",
       "    </tr>\n",
       "    <tr>\n",
       "      <th>2499</th>\n",
       "      <td>0.022697</td>\n",
       "      <td>0.020298</td>\n",
       "      <td>0.025871</td>\n",
       "      <td>0.021899</td>\n",
       "      <td>0.021729</td>\n",
       "      <td>0.022077</td>\n",
       "      <td>0.024979</td>\n",
       "      <td>0.024517</td>\n",
       "      <td>0.025680</td>\n",
       "      <td>0.026494</td>\n",
       "      <td>...</td>\n",
       "      <td>0.022095</td>\n",
       "      <td>0.023020</td>\n",
       "      <td>0.026388</td>\n",
       "      <td>0.021384</td>\n",
       "      <td>0.023289</td>\n",
       "      <td>0.022759</td>\n",
       "      <td>0.018418</td>\n",
       "      <td>0.024082</td>\n",
       "      <td>0.026342</td>\n",
       "      <td>0.000000</td>\n",
       "    </tr>\n",
       "  </tbody>\n",
       "</table>\n",
       "<p>2500 rows × 2500 columns</p>\n",
       "</div>"
      ],
      "text/plain": [
       "          0         1         2         3         4         5         6     \\\n",
       "0     0.000000  0.018337  0.022294  0.023360  0.018761  0.023007  0.014002   \n",
       "1     0.018337  0.000000  0.019380  0.019924  0.018896  0.021140  0.016495   \n",
       "2     0.022294  0.019380  0.000000  0.017066  0.017446  0.021154  0.018905   \n",
       "3     0.023360  0.019924  0.017066  0.000000  0.020977  0.017337  0.020286   \n",
       "4     0.018761  0.018896  0.017446  0.020977  0.000000  0.019244  0.015439   \n",
       "...        ...       ...       ...       ...       ...       ...       ...   \n",
       "2495  0.021642  0.016623  0.015341  0.010699  0.019880  0.020699  0.019238   \n",
       "2496  0.015601  0.015493  0.017457  0.018227  0.017473  0.016619  0.014155   \n",
       "2497  0.018090  0.018303  0.021428  0.020388  0.019232  0.021677  0.011484   \n",
       "2498  0.019478  0.023041  0.022936  0.021986  0.020719  0.019593  0.017781   \n",
       "2499  0.022697  0.020298  0.025871  0.021899  0.021729  0.022077  0.024979   \n",
       "\n",
       "          7         8         9     ...      2490      2491      2492  \\\n",
       "0     0.017883  0.020447  0.021354  ...  0.019683  0.016055  0.012654   \n",
       "1     0.018312  0.017150  0.021748  ...  0.016862  0.017062  0.018973   \n",
       "2     0.020203  0.015909  0.025060  ...  0.016655  0.021222  0.022874   \n",
       "3     0.022109  0.022587  0.024175  ...  0.017900  0.019122  0.023323   \n",
       "4     0.015941  0.020238  0.022915  ...  0.015841  0.021323  0.019469   \n",
       "...        ...       ...       ...  ...       ...       ...       ...   \n",
       "2495  0.020034  0.017647  0.024520  ...  0.017746  0.017464  0.022954   \n",
       "2496  0.017927  0.020330  0.019178  ...  0.015454  0.015248  0.016167   \n",
       "2497  0.017825  0.022029  0.016044  ...  0.019790  0.013730  0.018533   \n",
       "2498  0.020926  0.024572  0.025625  ...  0.016534  0.022633  0.021300   \n",
       "2499  0.024517  0.025680  0.026494  ...  0.022095  0.023020  0.026388   \n",
       "\n",
       "          2493      2494      2495      2496      2497      2498      2499  \n",
       "0     0.013704  0.017819  0.021642  0.015601  0.018090  0.019478  0.022697  \n",
       "1     0.017938  0.016172  0.016623  0.015493  0.018303  0.023041  0.020298  \n",
       "2     0.018406  0.017896  0.015341  0.017457  0.021428  0.022936  0.025871  \n",
       "3     0.017697  0.020562  0.010699  0.018227  0.020388  0.021986  0.021899  \n",
       "4     0.013780  0.015469  0.019880  0.017473  0.019232  0.020719  0.021729  \n",
       "...        ...       ...       ...       ...       ...       ...       ...  \n",
       "2495  0.017979  0.015548  0.000000  0.019693  0.020573  0.022701  0.022759  \n",
       "2496  0.015261  0.020345  0.019693  0.000000  0.016253  0.016326  0.018418  \n",
       "2497  0.021361  0.019769  0.020573  0.016253  0.000000  0.024841  0.024082  \n",
       "2498  0.018761  0.022967  0.022701  0.016326  0.024841  0.000000  0.026342  \n",
       "2499  0.021384  0.023289  0.022759  0.018418  0.024082  0.026342  0.000000  \n",
       "\n",
       "[2500 rows x 2500 columns]"
      ]
     },
     "execution_count": 17,
     "metadata": {},
     "output_type": "execute_result"
    }
   ],
   "source": [
    "df_dist = generate_distance_matrix(placeholder_embeddings_train, 2500)\n",
    "df_dist"
   ]
  },
  {
   "attachments": {},
   "cell_type": "markdown",
   "metadata": {},
   "source": [
    "##### Notes/Questions:\n",
    "\n",
    "How does it treat the various columns?\n",
    "\n",
    "As we can see, the initial DF contains columns X_0 to X_19:"
   ]
  },
  {
   "cell_type": "code",
   "execution_count": 18,
   "metadata": {},
   "outputs": [
    {
     "data": {
      "text/html": [
       "<div>\n",
       "<style scoped>\n",
       "    .dataframe tbody tr th:only-of-type {\n",
       "        vertical-align: middle;\n",
       "    }\n",
       "\n",
       "    .dataframe tbody tr th {\n",
       "        vertical-align: top;\n",
       "    }\n",
       "\n",
       "    .dataframe thead th {\n",
       "        text-align: right;\n",
       "    }\n",
       "</style>\n",
       "<table border=\"1\" class=\"dataframe\">\n",
       "  <thead>\n",
       "    <tr style=\"text-align: right;\">\n",
       "      <th></th>\n",
       "      <th>X_0</th>\n",
       "      <th>X_1</th>\n",
       "      <th>X_2</th>\n",
       "      <th>X_3</th>\n",
       "      <th>X_4</th>\n",
       "      <th>X_5</th>\n",
       "      <th>X_6</th>\n",
       "      <th>X_7</th>\n",
       "      <th>X_8</th>\n",
       "      <th>X_9</th>\n",
       "      <th>X_10</th>\n",
       "      <th>X_11</th>\n",
       "      <th>X_12</th>\n",
       "      <th>X_13</th>\n",
       "      <th>X_14</th>\n",
       "      <th>X_15</th>\n",
       "      <th>X_16</th>\n",
       "      <th>X_17</th>\n",
       "      <th>X_18</th>\n",
       "      <th>X_19</th>\n",
       "    </tr>\n",
       "  </thead>\n",
       "  <tbody>\n",
       "    <tr>\n",
       "      <th>0</th>\n",
       "      <td>0.001261</td>\n",
       "      <td>0.002414</td>\n",
       "      <td>0.000249</td>\n",
       "      <td>0.00522</td>\n",
       "      <td>-0.001958</td>\n",
       "      <td>0.000380</td>\n",
       "      <td>-0.002064</td>\n",
       "      <td>-0.001011</td>\n",
       "      <td>0.002508</td>\n",
       "      <td>-0.002613</td>\n",
       "      <td>-0.000296</td>\n",
       "      <td>-0.001507</td>\n",
       "      <td>-0.006224</td>\n",
       "      <td>-0.002091</td>\n",
       "      <td>-0.003988</td>\n",
       "      <td>-0.002253</td>\n",
       "      <td>-0.000157</td>\n",
       "      <td>-0.004382</td>\n",
       "      <td>-0.001747</td>\n",
       "      <td>0.000572</td>\n",
       "    </tr>\n",
       "    <tr>\n",
       "      <th>1</th>\n",
       "      <td>-0.000088</td>\n",
       "      <td>0.001643</td>\n",
       "      <td>0.000621</td>\n",
       "      <td>-0.00249</td>\n",
       "      <td>-0.002422</td>\n",
       "      <td>0.005155</td>\n",
       "      <td>0.001171</td>\n",
       "      <td>-0.000432</td>\n",
       "      <td>0.003041</td>\n",
       "      <td>0.000422</td>\n",
       "      <td>0.005695</td>\n",
       "      <td>0.003395</td>\n",
       "      <td>0.002880</td>\n",
       "      <td>-0.002275</td>\n",
       "      <td>0.000133</td>\n",
       "      <td>0.000864</td>\n",
       "      <td>0.001519</td>\n",
       "      <td>-0.001895</td>\n",
       "      <td>0.002235</td>\n",
       "      <td>-0.005475</td>\n",
       "    </tr>\n",
       "  </tbody>\n",
       "</table>\n",
       "</div>"
      ],
      "text/plain": [
       "        X_0       X_1       X_2      X_3       X_4       X_5       X_6  \\\n",
       "0  0.001261  0.002414  0.000249  0.00522 -0.001958  0.000380 -0.002064   \n",
       "1 -0.000088  0.001643  0.000621 -0.00249 -0.002422  0.005155  0.001171   \n",
       "\n",
       "        X_7       X_8       X_9      X_10      X_11      X_12      X_13  \\\n",
       "0 -0.001011  0.002508 -0.002613 -0.000296 -0.001507 -0.006224 -0.002091   \n",
       "1 -0.000432  0.003041  0.000422  0.005695  0.003395  0.002880 -0.002275   \n",
       "\n",
       "       X_14      X_15      X_16      X_17      X_18      X_19  \n",
       "0 -0.003988 -0.002253 -0.000157 -0.004382 -0.001747  0.000572  \n",
       "1  0.000133  0.000864  0.001519 -0.001895  0.002235 -0.005475  "
      ]
     },
     "execution_count": 18,
     "metadata": {},
     "output_type": "execute_result"
    }
   ],
   "source": [
    "placeholder_embeddings_train.head(2)"
   ]
  },
  {
   "attachments": {},
   "cell_type": "markdown",
   "metadata": {},
   "source": [
    "#### Generating the Final Dictionary:"
   ]
  },
  {
   "attachments": {},
   "cell_type": "markdown",
   "metadata": {},
   "source": [
    "Pseudocode reminder:\n",
    "\n",
    "    def generate_dict(df_dist : pd.DataFrame,\n",
    "                    threshold : float) -> Dict[str: List[str]]:"
   ]
  },
  {
   "attachments": {},
   "cell_type": "markdown",
   "metadata": {},
   "source": [
    "##### A Look at the Current Values:\n",
    "\n",
    "To get an idea of what kind of threshold make sense, let's have a look at what the values for a single column look like:"
   ]
  },
  {
   "cell_type": "code",
   "execution_count": 19,
   "metadata": {},
   "outputs": [
    {
     "data": {
      "text/plain": [
       "0.028964466307144915"
      ]
     },
     "execution_count": 19,
     "metadata": {},
     "output_type": "execute_result"
    }
   ],
   "source": [
    "df_dist.loc[:, 0].max()"
   ]
  },
  {
   "cell_type": "code",
   "execution_count": 20,
   "metadata": {},
   "outputs": [
    {
     "data": {
      "text/plain": [
       "0.0"
      ]
     },
     "execution_count": 20,
     "metadata": {},
     "output_type": "execute_result"
    }
   ],
   "source": [
    "df_dist.loc[:, 0].min()"
   ]
  },
  {
   "cell_type": "code",
   "execution_count": 21,
   "metadata": {},
   "outputs": [
    {
     "data": {
      "text/plain": [
       "0.018915711681037534"
      ]
     },
     "execution_count": 21,
     "metadata": {},
     "output_type": "execute_result"
    }
   ],
   "source": [
    "df_dist.loc[:, 0].mean()"
   ]
  },
  {
   "cell_type": "code",
   "execution_count": 22,
   "metadata": {},
   "outputs": [
    {
     "data": {
      "text/plain": [
       "0.018989220851592256"
      ]
     },
     "execution_count": 22,
     "metadata": {},
     "output_type": "execute_result"
    }
   ],
   "source": [
    "df_dist.loc[:, 0].median()"
   ]
  },
  {
   "cell_type": "code",
   "execution_count": 23,
   "metadata": {},
   "outputs": [
    {
     "data": {
      "text/plain": [
       "0.009865616955502936"
      ]
     },
     "execution_count": 23,
     "metadata": {},
     "output_type": "execute_result"
    }
   ],
   "source": [
    "df_dist.loc[1:, 0].min()"
   ]
  },
  {
   "attachments": {},
   "cell_type": "markdown",
   "metadata": {},
   "source": [
    "The maximum value in the similarity matrix is about 0.02896, the minimum is 0.0. 0.0 indicates absolute similarity and in this similarity matrix happens when rows and columns refer to the same initial data entry (so at (0,0), (1,1), (2,2) and so on).The mean lies at around 0.01892, with the median a bit higher at about 0.01899.\n",
    "\n",
    "Looking at the minimum value where similarity is not referenced relevant to the entry itself, (so in column 0, from row 1 onwards), we have about 0.00987 as a minimum value. We should therefore aim to have a threshold above this."
   ]
  },
  {
   "cell_type": "code",
   "execution_count": 45,
   "metadata": {},
   "outputs": [],
   "source": [
    "def generate_dict(df_dist : pd.DataFrame,\n",
    "                threshold : float) -> dict:\n",
    "    filt = (df_dist[:] > threshold)\n",
    "    df_filt = df_dist.copy()\n",
    "    df_filt[filt] = np.nan\n",
    "    dict_dist = df_filt.to_dict('dict')\n",
    "    for i, dic in dict_dist.items():\n",
    "        to_pop = list()\n",
    "        for key, value in dic.items():\n",
    "            if np.isnan(value):\n",
    "                to_pop.append(key)\n",
    "        for target_key in to_pop:\n",
    "            dic.pop(target_key)\n",
    "        dict_dist[i] = dic\n",
    "    return dict_dist\n"
   ]
  },
  {
   "cell_type": "code",
   "execution_count": 46,
   "metadata": {},
   "outputs": [],
   "source": [
    "dict_dist = generate_dict(df_dist, 0.01)"
   ]
  },
  {
   "attachments": {},
   "cell_type": "markdown",
   "metadata": {},
   "source": [
    "Taking a look at the first three dictionary entries:"
   ]
  },
  {
   "cell_type": "code",
   "execution_count": 69,
   "metadata": {},
   "outputs": [
    {
     "name": "stdout",
     "output_type": "stream",
     "text": [
      "{0: {0: 0.0, 2129: 0.009865616955502936}, 1: {1: 0.0, 1442: 0.009090214144652664}, 2: {2: 0.0, 331: 0.004564570289016823, 519: 0.00807144459771451, 882: 0.009418857621319714, 1295: 0.009711389379776076, 1381: 0.008968525404032446, 1431: 0.009418857621319714}}\n"
     ]
    }
   ],
   "source": [
    "print({k: dict_dist[k] for k in list(dict_dist)[:3]})"
   ]
  },
  {
   "attachments": {},
   "cell_type": "markdown",
   "metadata": {},
   "source": [
    "How do we identify which point is which? By their index position?"
   ]
  },
  {
   "attachments": {},
   "cell_type": "markdown",
   "metadata": {},
   "source": [
    "## Approach 2:"
   ]
  },
  {
   "cell_type": "code",
   "execution_count": 18,
   "metadata": {},
   "outputs": [],
   "source": [
    "def cluster(df : pd.DataFrame):\n",
    "    #do the magic\n",
    "    pass"
   ]
  }
 ],
 "metadata": {
  "kernelspec": {
   "display_name": ".venv",
   "language": "python",
   "name": "python3"
  },
  "language_info": {
   "codemirror_mode": {
    "name": "ipython",
    "version": 3
   },
   "file_extension": ".py",
   "mimetype": "text/x-python",
   "name": "python",
   "nbconvert_exporter": "python",
   "pygments_lexer": "ipython3",
   "version": "3.9.16"
  },
  "orig_nbformat": 4,
  "vscode": {
   "interpreter": {
    "hash": "785f7b46b801e12755c4a2e799e33b6cd27c3f8b3505cbff47f9e4e82338b030"
   }
  }
 },
 "nbformat": 4,
 "nbformat_minor": 2
}
