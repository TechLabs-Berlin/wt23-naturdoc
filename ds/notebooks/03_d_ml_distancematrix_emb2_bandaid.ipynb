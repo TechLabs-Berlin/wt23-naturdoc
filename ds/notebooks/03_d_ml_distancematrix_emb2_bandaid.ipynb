{
 "cells": [
  {
   "cell_type": "code",
   "execution_count": 1,
   "metadata": {},
   "outputs": [],
   "source": [
    "import pandas as pd\n",
    "import numpy as np"
   ]
  },
  {
   "attachments": {},
   "cell_type": "markdown",
   "metadata": {},
   "source": [
    "### NaturDoc - TL BL WT 22-23"
   ]
  },
  {
   "attachments": {},
   "cell_type": "markdown",
   "metadata": {},
   "source": [
    "# Data clustering:"
   ]
  },
  {
   "attachments": {},
   "cell_type": "markdown",
   "metadata": {},
   "source": [
    "## Dealing With the Second Embedding Column:"
   ]
  },
  {
   "attachments": {},
   "cell_type": "markdown",
   "metadata": {},
   "source": [
    "### Loading Embeddings Data:\n"
   ]
  },
  {
   "cell_type": "code",
   "execution_count": 2,
   "metadata": {},
   "outputs": [],
   "source": [
    "symptoms_embeddings = pd.read_csv(\"../data/embeddings/word_embeddings_dataframe.csv\")"
   ]
  },
  {
   "attachments": {},
   "cell_type": "markdown",
   "metadata": {},
   "source": [
    "As a reminder: the dataframe contains three columns: the symptom name (from the Duke dataset and the google symptom data), and one column for the two embedding models each: the first being `all-MiniLM-L6-v2` and the second being `average_word_embeddings_glove.840B.300d`."
   ]
  },
  {
   "cell_type": "code",
   "execution_count": 3,
   "metadata": {},
   "outputs": [
    {
     "name": "stdout",
     "output_type": "stream",
     "text": [
      "(2404, 3)\n"
     ]
    },
    {
     "data": {
      "text/html": [
       "<div>\n",
       "<style scoped>\n",
       "    .dataframe tbody tr th:only-of-type {\n",
       "        vertical-align: middle;\n",
       "    }\n",
       "\n",
       "    .dataframe tbody tr th {\n",
       "        vertical-align: top;\n",
       "    }\n",
       "\n",
       "    .dataframe thead th {\n",
       "        text-align: right;\n",
       "    }\n",
       "</style>\n",
       "<table border=\"1\" class=\"dataframe\">\n",
       "  <thead>\n",
       "    <tr style=\"text-align: right;\">\n",
       "      <th></th>\n",
       "      <th>Symptom</th>\n",
       "      <th>Embedding1</th>\n",
       "      <th>Embedding2</th>\n",
       "    </tr>\n",
       "  </thead>\n",
       "  <tbody>\n",
       "    <tr>\n",
       "      <th>0</th>\n",
       "      <td>Abcess</td>\n",
       "      <td>[-9.81967244e-03  1.01662287e-02  3.75229940e-...</td>\n",
       "      <td>[ 2.1690e-02 -1.8056e-01 -8.5585e-02 -5.6702e-...</td>\n",
       "    </tr>\n",
       "    <tr>\n",
       "      <th>1</th>\n",
       "      <td>Abdomen</td>\n",
       "      <td>[ 5.98840415e-02  1.64022837e-02 -4.90665212e-...</td>\n",
       "      <td>[-0.73936   -0.18636    0.59149    0.47356    ...</td>\n",
       "    </tr>\n",
       "  </tbody>\n",
       "</table>\n",
       "</div>"
      ],
      "text/plain": [
       "   Symptom                                         Embedding1  \\\n",
       "0   Abcess  [-9.81967244e-03  1.01662287e-02  3.75229940e-...   \n",
       "1  Abdomen  [ 5.98840415e-02  1.64022837e-02 -4.90665212e-...   \n",
       "\n",
       "                                          Embedding2  \n",
       "0  [ 2.1690e-02 -1.8056e-01 -8.5585e-02 -5.6702e-...  \n",
       "1  [-0.73936   -0.18636    0.59149    0.47356    ...  "
      ]
     },
     "execution_count": 3,
     "metadata": {},
     "output_type": "execute_result"
    }
   ],
   "source": [
    "print(symptoms_embeddings.shape)\n",
    "symptoms_embeddings.head(2)"
   ]
  },
  {
   "attachments": {},
   "cell_type": "markdown",
   "metadata": {},
   "source": [
    "Extracting a dictionary matching index to symptom name:"
   ]
  },
  {
   "cell_type": "code",
   "execution_count": 4,
   "metadata": {},
   "outputs": [],
   "source": [
    "dict_symptom = symptoms_embeddings[\"Symptom\"].to_dict()"
   ]
  },
  {
   "attachments": {},
   "cell_type": "markdown",
   "metadata": {},
   "source": [
    "#### Transforming:"
   ]
  },
  {
   "attachments": {},
   "cell_type": "markdown",
   "metadata": {},
   "source": [
    "Reading from the csv, it is no longer a proper list but instead a string containing extra characters:"
   ]
  },
  {
   "cell_type": "code",
   "execution_count": 5,
   "metadata": {},
   "outputs": [
    {
     "data": {
      "text/plain": [
       "'[-9.81967244e-03  1.01662287e-02  3.75229940e-02  1.75703913e-02\\n -1.11436069e-01  3.83325890e-02  1'"
      ]
     },
     "execution_count": 5,
     "metadata": {},
     "output_type": "execute_result"
    }
   ],
   "source": [
    "symptoms_embeddings.loc[0, \"Embedding1\"][:100]"
   ]
  },
  {
   "cell_type": "code",
   "execution_count": 6,
   "metadata": {},
   "outputs": [
    {
     "data": {
      "text/plain": [
       "str"
      ]
     },
     "execution_count": 6,
     "metadata": {},
     "output_type": "execute_result"
    }
   ],
   "source": [
    "type(symptoms_embeddings.loc[1, \"Embedding1\"])"
   ]
  },
  {
   "cell_type": "code",
   "execution_count": 7,
   "metadata": {},
   "outputs": [],
   "source": [
    "test_list_1 = symptoms_embeddings.loc[0, \"Embedding1\"].replace(\"\\n\", \"\").replace(\"[\", \"\").replace(\"]\", \"\").split(\" \")\n",
    "test_list_2 = symptoms_embeddings.loc[0, \"Embedding2\"].replace(\"\\n\", \"\").replace(\"[\", \"\").replace(\"]\", \"\").split(\" \")"
   ]
  },
  {
   "cell_type": "code",
   "execution_count": 8,
   "metadata": {},
   "outputs": [
    {
     "data": {
      "text/plain": [
       "['-9.81967244e-03', '', '1.01662287e-02', '', '3.75229940e-02']"
      ]
     },
     "execution_count": 8,
     "metadata": {},
     "output_type": "execute_result"
    }
   ],
   "source": [
    "test_list_1[:5]"
   ]
  },
  {
   "attachments": {},
   "cell_type": "markdown",
   "metadata": {},
   "source": [
    "Removing all empty strings:"
   ]
  },
  {
   "cell_type": "code",
   "execution_count": 9,
   "metadata": {},
   "outputs": [
    {
     "data": {
      "text/plain": [
       "['-9.81967244e-03',\n",
       " '1.01662287e-02',\n",
       " '3.75229940e-02',\n",
       " '1.75703913e-02',\n",
       " '-1.11436069e-01']"
      ]
     },
     "execution_count": 9,
     "metadata": {},
     "output_type": "execute_result"
    }
   ],
   "source": [
    "test_list_1 = [x for x in test_list_1 if x]\n",
    "test_list_2 = [x for x in test_list_2 if x]\n",
    "test_list_1[:5]"
   ]
  },
  {
   "attachments": {},
   "cell_type": "markdown",
   "metadata": {},
   "source": [
    "### Creating useable dataframes:"
   ]
  },
  {
   "cell_type": "code",
   "execution_count": 10,
   "metadata": {},
   "outputs": [],
   "source": [
    "def listify_df_values(df_series: pd.Series):\n",
    "    df_series = df_series.str.replace(\"\\n\", \"\", regex=True)\n",
    "    df_series = df_series.str.replace(\"[\", \"\", regex=True).replace(\"]\", \"\", regex=True)\n",
    "    df_series = df_series.str.split(\" \")\n",
    "    # df_list = df_list.apply(lambda x: x for x in df_list if x)\n",
    "    return df_series"
   ]
  },
  {
   "attachments": {},
   "cell_type": "markdown",
   "metadata": {},
   "source": [
    "#### Embedding 2 column:"
   ]
  },
  {
   "attachments": {},
   "cell_type": "markdown",
   "metadata": {},
   "source": [
    "Creating the basic dataframe:"
   ]
  },
  {
   "cell_type": "code",
   "execution_count": 11,
   "metadata": {},
   "outputs": [
    {
     "data": {
      "text/html": [
       "<div>\n",
       "<style scoped>\n",
       "    .dataframe tbody tr th:only-of-type {\n",
       "        vertical-align: middle;\n",
       "    }\n",
       "\n",
       "    .dataframe tbody tr th {\n",
       "        vertical-align: top;\n",
       "    }\n",
       "\n",
       "    .dataframe thead th {\n",
       "        text-align: right;\n",
       "    }\n",
       "</style>\n",
       "<table border=\"1\" class=\"dataframe\">\n",
       "  <thead>\n",
       "    <tr style=\"text-align: right;\">\n",
       "      <th></th>\n",
       "      <th>Embedding2</th>\n",
       "    </tr>\n",
       "  </thead>\n",
       "  <tbody>\n",
       "    <tr>\n",
       "      <th>0</th>\n",
       "      <td>[2.1690e-02, -1.8056e-01, -8.5585e-02, -5.6702...</td>\n",
       "    </tr>\n",
       "    <tr>\n",
       "      <th>1</th>\n",
       "      <td>[-0.73936, -0.18636, 0.59149, 0.47356, 0.59297...</td>\n",
       "    </tr>\n",
       "    <tr>\n",
       "      <th>2</th>\n",
       "      <td>[0.58928, 0.24762, 0.5015, -0.31308, -0.029607...</td>\n",
       "    </tr>\n",
       "    <tr>\n",
       "      <th>3</th>\n",
       "      <td>[8.2946e-02, 1.6964e-01, -2.1112e-01, 2.1073e-...</td>\n",
       "    </tr>\n",
       "    <tr>\n",
       "      <th>4</th>\n",
       "      <td>[-3.7954e-01, 4.4132e-01, 3.6332e-02, 2.2410e-...</td>\n",
       "    </tr>\n",
       "  </tbody>\n",
       "</table>\n",
       "</div>"
      ],
      "text/plain": [
       "                                          Embedding2\n",
       "0  [2.1690e-02, -1.8056e-01, -8.5585e-02, -5.6702...\n",
       "1  [-0.73936, -0.18636, 0.59149, 0.47356, 0.59297...\n",
       "2  [0.58928, 0.24762, 0.5015, -0.31308, -0.029607...\n",
       "3  [8.2946e-02, 1.6964e-01, -2.1112e-01, 2.1073e-...\n",
       "4  [-3.7954e-01, 4.4132e-01, 3.6332e-02, 2.2410e-..."
      ]
     },
     "execution_count": 11,
     "metadata": {},
     "output_type": "execute_result"
    }
   ],
   "source": [
    "embeddings2_series = listify_df_values(symptoms_embeddings.loc[:, \"Embedding2\"])\n",
    "embeddings2_series = embeddings2_series.apply(lambda row: [val for val in row if val])\n",
    "\n",
    "embeddings2_df = pd.DataFrame(embeddings2_series)\n",
    "embeddings2_df.head()"
   ]
  },
  {
   "attachments": {},
   "cell_type": "markdown",
   "metadata": {},
   "source": [
    "Exploding the lists of values into their own columns so that every cell only contains a single value:"
   ]
  },
  {
   "cell_type": "code",
   "execution_count": 12,
   "metadata": {},
   "outputs": [
    {
     "data": {
      "text/html": [
       "<div>\n",
       "<style scoped>\n",
       "    .dataframe tbody tr th:only-of-type {\n",
       "        vertical-align: middle;\n",
       "    }\n",
       "\n",
       "    .dataframe tbody tr th {\n",
       "        vertical-align: top;\n",
       "    }\n",
       "\n",
       "    .dataframe thead th {\n",
       "        text-align: right;\n",
       "    }\n",
       "</style>\n",
       "<table border=\"1\" class=\"dataframe\">\n",
       "  <thead>\n",
       "    <tr style=\"text-align: right;\">\n",
       "      <th></th>\n",
       "      <th>Embedding2_0</th>\n",
       "      <th>Embedding2_1</th>\n",
       "      <th>Embedding2_2</th>\n",
       "      <th>Embedding2_3</th>\n",
       "      <th>Embedding2_4</th>\n",
       "      <th>Embedding2_5</th>\n",
       "      <th>Embedding2_6</th>\n",
       "      <th>Embedding2_7</th>\n",
       "      <th>Embedding2_8</th>\n",
       "      <th>Embedding2_9</th>\n",
       "      <th>...</th>\n",
       "      <th>Embedding2_290</th>\n",
       "      <th>Embedding2_291</th>\n",
       "      <th>Embedding2_292</th>\n",
       "      <th>Embedding2_293</th>\n",
       "      <th>Embedding2_294</th>\n",
       "      <th>Embedding2_295</th>\n",
       "      <th>Embedding2_296</th>\n",
       "      <th>Embedding2_297</th>\n",
       "      <th>Embedding2_298</th>\n",
       "      <th>Embedding2_299</th>\n",
       "    </tr>\n",
       "  </thead>\n",
       "  <tbody>\n",
       "    <tr>\n",
       "      <th>0</th>\n",
       "      <td>2.1690e-02</td>\n",
       "      <td>-1.8056e-01</td>\n",
       "      <td>-8.5585e-02</td>\n",
       "      <td>-5.6702e-01</td>\n",
       "      <td>-3.7991e-01</td>\n",
       "      <td>7.4952e-01</td>\n",
       "      <td>2.7161e-01</td>\n",
       "      <td>-2.0359e-01</td>\n",
       "      <td>2.8772e-01</td>\n",
       "      <td>-1.4985e+00</td>\n",
       "      <td>...</td>\n",
       "      <td>7.6870e-01</td>\n",
       "      <td>-5.7498e-01</td>\n",
       "      <td>-1.0212e-01</td>\n",
       "      <td>-5.5700e-02</td>\n",
       "      <td>-4.5765e-01</td>\n",
       "      <td>-2.6548e-01</td>\n",
       "      <td>1.9396e-01</td>\n",
       "      <td>3.8276e-01</td>\n",
       "      <td>-1.5735e-02</td>\n",
       "      <td>-3.6918e-02</td>\n",
       "    </tr>\n",
       "    <tr>\n",
       "      <th>1</th>\n",
       "      <td>-0.73936</td>\n",
       "      <td>-0.18636</td>\n",
       "      <td>0.59149</td>\n",
       "      <td>0.47356</td>\n",
       "      <td>0.59297</td>\n",
       "      <td>-0.22319</td>\n",
       "      <td>0.066332</td>\n",
       "      <td>0.35977</td>\n",
       "      <td>0.063273</td>\n",
       "      <td>-1.5661</td>\n",
       "      <td>...</td>\n",
       "      <td>0.78603</td>\n",
       "      <td>0.54811</td>\n",
       "      <td>0.23896</td>\n",
       "      <td>-0.42036</td>\n",
       "      <td>-0.085291</td>\n",
       "      <td>0.64376</td>\n",
       "      <td>0.54307</td>\n",
       "      <td>0.42253</td>\n",
       "      <td>0.61038</td>\n",
       "      <td>-0.75482</td>\n",
       "    </tr>\n",
       "    <tr>\n",
       "      <th>2</th>\n",
       "      <td>0.58928</td>\n",
       "      <td>0.24762</td>\n",
       "      <td>0.5015</td>\n",
       "      <td>-0.31308</td>\n",
       "      <td>-0.029607</td>\n",
       "      <td>0.39451</td>\n",
       "      <td>-0.22913</td>\n",
       "      <td>0.57697</td>\n",
       "      <td>-0.76873</td>\n",
       "      <td>-1.3676</td>\n",
       "      <td>...</td>\n",
       "      <td>-0.42955</td>\n",
       "      <td>-0.14359</td>\n",
       "      <td>0.16626</td>\n",
       "      <td>0.3584</td>\n",
       "      <td>-0.10825</td>\n",
       "      <td>-0.1961</td>\n",
       "      <td>-0.15036</td>\n",
       "      <td>0.13764</td>\n",
       "      <td>-0.41586</td>\n",
       "      <td>-0.72983</td>\n",
       "    </tr>\n",
       "    <tr>\n",
       "      <th>3</th>\n",
       "      <td>8.2946e-02</td>\n",
       "      <td>1.6964e-01</td>\n",
       "      <td>-2.1112e-01</td>\n",
       "      <td>2.1073e-01</td>\n",
       "      <td>-9.4237e-03</td>\n",
       "      <td>3.4631e-01</td>\n",
       "      <td>-2.5166e-01</td>\n",
       "      <td>1.8472e-01</td>\n",
       "      <td>-3.3269e-01</td>\n",
       "      <td>-1.6627e+00</td>\n",
       "      <td>...</td>\n",
       "      <td>3.3283e-01</td>\n",
       "      <td>-1.5003e-01</td>\n",
       "      <td>5.4558e-01</td>\n",
       "      <td>-2.3841e-02</td>\n",
       "      <td>-4.8079e-01</td>\n",
       "      <td>5.1326e-01</td>\n",
       "      <td>-2.8660e-01</td>\n",
       "      <td>4.1394e-02</td>\n",
       "      <td>-6.6671e-02</td>\n",
       "      <td>-3.0770e-01</td>\n",
       "    </tr>\n",
       "    <tr>\n",
       "      <th>4</th>\n",
       "      <td>-3.7954e-01</td>\n",
       "      <td>4.4132e-01</td>\n",
       "      <td>3.6332e-02</td>\n",
       "      <td>2.2410e-01</td>\n",
       "      <td>8.7512e-02</td>\n",
       "      <td>-4.1484e-01</td>\n",
       "      <td>-6.0271e-03</td>\n",
       "      <td>9.8966e-02</td>\n",
       "      <td>-1.1458e-01</td>\n",
       "      <td>-1.7897e+00</td>\n",
       "      <td>...</td>\n",
       "      <td>1.0686e-01</td>\n",
       "      <td>2.7241e-01</td>\n",
       "      <td>-3.1783e-01</td>\n",
       "      <td>1.3302e-01</td>\n",
       "      <td>-1.7751e-01</td>\n",
       "      <td>7.4856e-01</td>\n",
       "      <td>3.6981e-01</td>\n",
       "      <td>3.5658e-01</td>\n",
       "      <td>1.3955e-01</td>\n",
       "      <td>-5.4288e-01</td>\n",
       "    </tr>\n",
       "  </tbody>\n",
       "</table>\n",
       "<p>5 rows × 300 columns</p>\n",
       "</div>"
      ],
      "text/plain": [
       "  Embedding2_0 Embedding2_1 Embedding2_2 Embedding2_3 Embedding2_4  \\\n",
       "0   2.1690e-02  -1.8056e-01  -8.5585e-02  -5.6702e-01  -3.7991e-01   \n",
       "1     -0.73936     -0.18636      0.59149      0.47356      0.59297   \n",
       "2      0.58928      0.24762       0.5015     -0.31308    -0.029607   \n",
       "3   8.2946e-02   1.6964e-01  -2.1112e-01   2.1073e-01  -9.4237e-03   \n",
       "4  -3.7954e-01   4.4132e-01   3.6332e-02   2.2410e-01   8.7512e-02   \n",
       "\n",
       "  Embedding2_5 Embedding2_6 Embedding2_7 Embedding2_8 Embedding2_9  ...  \\\n",
       "0   7.4952e-01   2.7161e-01  -2.0359e-01   2.8772e-01  -1.4985e+00  ...   \n",
       "1     -0.22319     0.066332      0.35977     0.063273      -1.5661  ...   \n",
       "2      0.39451     -0.22913      0.57697     -0.76873      -1.3676  ...   \n",
       "3   3.4631e-01  -2.5166e-01   1.8472e-01  -3.3269e-01  -1.6627e+00  ...   \n",
       "4  -4.1484e-01  -6.0271e-03   9.8966e-02  -1.1458e-01  -1.7897e+00  ...   \n",
       "\n",
       "  Embedding2_290 Embedding2_291 Embedding2_292 Embedding2_293 Embedding2_294  \\\n",
       "0     7.6870e-01    -5.7498e-01    -1.0212e-01    -5.5700e-02    -4.5765e-01   \n",
       "1        0.78603        0.54811        0.23896       -0.42036      -0.085291   \n",
       "2       -0.42955       -0.14359        0.16626         0.3584       -0.10825   \n",
       "3     3.3283e-01    -1.5003e-01     5.4558e-01    -2.3841e-02    -4.8079e-01   \n",
       "4     1.0686e-01     2.7241e-01    -3.1783e-01     1.3302e-01    -1.7751e-01   \n",
       "\n",
       "  Embedding2_295 Embedding2_296 Embedding2_297 Embedding2_298 Embedding2_299  \n",
       "0    -2.6548e-01     1.9396e-01     3.8276e-01    -1.5735e-02    -3.6918e-02  \n",
       "1        0.64376        0.54307        0.42253        0.61038       -0.75482  \n",
       "2        -0.1961       -0.15036        0.13764       -0.41586       -0.72983  \n",
       "3     5.1326e-01    -2.8660e-01     4.1394e-02    -6.6671e-02    -3.0770e-01  \n",
       "4     7.4856e-01     3.6981e-01     3.5658e-01     1.3955e-01    -5.4288e-01  \n",
       "\n",
       "[5 rows x 300 columns]"
      ]
     },
     "execution_count": 12,
     "metadata": {},
     "output_type": "execute_result"
    }
   ],
   "source": [
    "embeddings2_df = pd.concat(\n",
    "    [embeddings2_df[c].apply(pd.Series).add_prefix(c + \"_\") for c in embeddings2_df], axis=1\n",
    ")\n",
    "\n",
    "embeddings2_df.head()"
   ]
  },
  {
   "attachments": {},
   "cell_type": "markdown",
   "metadata": {},
   "source": [
    "Converting the cell values to floats:"
   ]
  },
  {
   "cell_type": "code",
   "execution_count": 13,
   "metadata": {},
   "outputs": [
    {
     "data": {
      "text/plain": [
       "numpy.float64"
      ]
     },
     "execution_count": 13,
     "metadata": {},
     "output_type": "execute_result"
    }
   ],
   "source": [
    "embeddings2_df = embeddings2_df.apply(pd.to_numeric, errors='coerce')\n",
    "type(embeddings2_df.loc[0, \"Embedding2_0\"])"
   ]
  },
  {
   "attachments": {},
   "cell_type": "markdown",
   "metadata": {},
   "source": [
    "### Creating the Distance Matrix:"
   ]
  },
  {
   "cell_type": "code",
   "execution_count": 14,
   "metadata": {},
   "outputs": [],
   "source": [
    "# importing the library\n",
    "from scipy.spatial import distance_matrix"
   ]
  },
  {
   "cell_type": "code",
   "execution_count": 15,
   "metadata": {},
   "outputs": [],
   "source": [
    "import math\n",
    "\n",
    "def generate_distance_matrix(df : pd.DataFrame,\n",
    "                distance_metric : str = \"euclidean\") -> pd.DataFrame: # 2.5k x 2.5k\n",
    "    if distance_metric == \"manhattan\":\n",
    "        p = 1\n",
    "    elif distance_metric == \"euclidean\":\n",
    "        p = 2\n",
    "    elif distance_metric == \"chebychev\":\n",
    "        p = math.inf\n",
    "    else:\n",
    "        p = 2\n",
    "    dis_matrix = distance_matrix(df.values, df.values, p)\n",
    "    dis_df = pd.DataFrame(dis_matrix)\n",
    "    return dis_df\n"
   ]
  },
  {
   "attachments": {},
   "cell_type": "markdown",
   "metadata": {},
   "source": [
    "### Creating the Dictionaries:"
   ]
  },
  {
   "cell_type": "code",
   "execution_count": 16,
   "metadata": {},
   "outputs": [],
   "source": [
    "def generate_dict(df_dist : pd.DataFrame,\n",
    "                threshold : float) -> dict:\n",
    "    filt = (df_dist[:] > threshold)\n",
    "    df_filt = df_dist.copy()\n",
    "    df_filt[filt] = np.nan\n",
    "    dict_dist = df_filt.to_dict('dict')\n",
    "    for i, dic in dict_dist.items():\n",
    "        to_pop = list()\n",
    "        for key, value in dic.items():\n",
    "            if np.isnan(value):\n",
    "                to_pop.append(key)\n",
    "            # elif value == 0.0:\n",
    "            #     to_pop.append(key)\n",
    "        for target_key in to_pop:\n",
    "            dic.pop(target_key)\n",
    "        dict_dist[i] = dic\n",
    "    return dict_dist"
   ]
  },
  {
   "cell_type": "code",
   "execution_count": 17,
   "metadata": {},
   "outputs": [],
   "source": [
    "def generate_dict_match(dict_dist: dict) -> dict:   \n",
    "    dict_match = dict()\n",
    "\n",
    "    for key, value in dict_dist.items():\n",
    "        for sub_key in value.keys():\n",
    "            if dict_symptom[key] not in dict_match:\n",
    "                dict_match[dict_symptom[key]] = [dict_symptom[sub_key]]\n",
    "            else:\n",
    "                dict_match[dict_symptom[key]] = [*dict_match.get(dict_symptom[key]), dict_symptom[sub_key]]\n",
    "                # [*response.get(\"match_partial\"), match_partial[i_partial]]\n",
    "\n",
    "    return dict_match"
   ]
  },
  {
   "cell_type": "code",
   "execution_count": 18,
   "metadata": {},
   "outputs": [
    {
     "data": {
      "text/html": [
       "<div>\n",
       "<style scoped>\n",
       "    .dataframe tbody tr th:only-of-type {\n",
       "        vertical-align: middle;\n",
       "    }\n",
       "\n",
       "    .dataframe tbody tr th {\n",
       "        vertical-align: top;\n",
       "    }\n",
       "\n",
       "    .dataframe thead th {\n",
       "        text-align: right;\n",
       "    }\n",
       "</style>\n",
       "<table border=\"1\" class=\"dataframe\">\n",
       "  <thead>\n",
       "    <tr style=\"text-align: right;\">\n",
       "      <th></th>\n",
       "      <th>symptomName</th>\n",
       "      <th>is_symptom</th>\n",
       "      <th>is_activity</th>\n",
       "    </tr>\n",
       "  </thead>\n",
       "  <tbody>\n",
       "    <tr>\n",
       "      <th>0</th>\n",
       "      <td>Abcess</td>\n",
       "      <td>0</td>\n",
       "      <td>1</td>\n",
       "    </tr>\n",
       "    <tr>\n",
       "      <th>1</th>\n",
       "      <td>Abdomen</td>\n",
       "      <td>0</td>\n",
       "      <td>1</td>\n",
       "    </tr>\n",
       "    <tr>\n",
       "      <th>2</th>\n",
       "      <td>Abortifacient</td>\n",
       "      <td>0</td>\n",
       "      <td>1</td>\n",
       "    </tr>\n",
       "    <tr>\n",
       "      <th>3</th>\n",
       "      <td>Abortive</td>\n",
       "      <td>0</td>\n",
       "      <td>1</td>\n",
       "    </tr>\n",
       "    <tr>\n",
       "      <th>4</th>\n",
       "      <td>Abrasion</td>\n",
       "      <td>0</td>\n",
       "      <td>1</td>\n",
       "    </tr>\n",
       "  </tbody>\n",
       "</table>\n",
       "</div>"
      ],
      "text/plain": [
       "     symptomName  is_symptom  is_activity\n",
       "0         Abcess           0            1\n",
       "1        Abdomen           0            1\n",
       "2  Abortifacient           0            1\n",
       "3       Abortive           0            1\n",
       "4       Abrasion           0            1"
      ]
     },
     "execution_count": 18,
     "metadata": {},
     "output_type": "execute_result"
    }
   ],
   "source": [
    "activities_symptoms_df = pd.read_csv(\"../output/activities_symptoms_bool.csv\")\n",
    "activities_symptoms_df.drop(columns=\"Unnamed: 0\", inplace=True)\n",
    "activities_symptoms_df.head()"
   ]
  },
  {
   "cell_type": "code",
   "execution_count": 19,
   "metadata": {},
   "outputs": [],
   "source": [
    "filt_sym = (activities_symptoms_df[\"is_symptom\"] == 1)\n",
    "filt_sym_df = activities_symptoms_df[filt_sym]\n",
    "filt_sym_list = filt_sym_df[\"symptomName\"].values.tolist()"
   ]
  },
  {
   "cell_type": "code",
   "execution_count": 20,
   "metadata": {},
   "outputs": [],
   "source": [
    "filt_not_act = (activities_symptoms_df[\"is_activity\"] == 0)\n",
    "filt_not_act_df = activities_symptoms_df[filt_not_act]\n",
    "filt_not_act_list = filt_not_act_df[\"symptomName\"].values.tolist()"
   ]
  },
  {
   "cell_type": "code",
   "execution_count": 21,
   "metadata": {},
   "outputs": [],
   "source": [
    "def create_dict_sym(dict_dist):  \n",
    "    dict_sym = dict()\n",
    "\n",
    "    for sym, list_sym in dict_dist.items():\n",
    "        if sym not in filt_sym_list:\n",
    "            continue\n",
    "        for sub_sym in list_sym:\n",
    "            if sub_sym in filt_not_act_list:\n",
    "                continue\n",
    "            if sym not in dict_sym:\n",
    "                dict_sym[sym] = [sub_sym]\n",
    "            else:\n",
    "                dict_sym[sym] = [*dict_sym.get(sym), sub_sym]\n",
    "    \n",
    "    return dict_sym"
   ]
  },
  {
   "attachments": {},
   "cell_type": "markdown",
   "metadata": {},
   "source": [
    "## Creating the Dictionary for the Second Embedding Model:"
   ]
  },
  {
   "attachments": {},
   "cell_type": "markdown",
   "metadata": {},
   "source": [
    "#### Distance Matrix:"
   ]
  },
  {
   "cell_type": "code",
   "execution_count": 22,
   "metadata": {},
   "outputs": [
    {
     "data": {
      "text/html": [
       "<div>\n",
       "<style scoped>\n",
       "    .dataframe tbody tr th:only-of-type {\n",
       "        vertical-align: middle;\n",
       "    }\n",
       "\n",
       "    .dataframe tbody tr th {\n",
       "        vertical-align: top;\n",
       "    }\n",
       "\n",
       "    .dataframe thead th {\n",
       "        text-align: right;\n",
       "    }\n",
       "</style>\n",
       "<table border=\"1\" class=\"dataframe\">\n",
       "  <thead>\n",
       "    <tr style=\"text-align: right;\">\n",
       "      <th></th>\n",
       "      <th>0</th>\n",
       "      <th>1</th>\n",
       "      <th>2</th>\n",
       "      <th>3</th>\n",
       "      <th>4</th>\n",
       "      <th>5</th>\n",
       "      <th>6</th>\n",
       "      <th>7</th>\n",
       "      <th>8</th>\n",
       "      <th>9</th>\n",
       "      <th>...</th>\n",
       "      <th>2394</th>\n",
       "      <th>2395</th>\n",
       "      <th>2396</th>\n",
       "      <th>2397</th>\n",
       "      <th>2398</th>\n",
       "      <th>2399</th>\n",
       "      <th>2400</th>\n",
       "      <th>2401</th>\n",
       "      <th>2402</th>\n",
       "      <th>2403</th>\n",
       "    </tr>\n",
       "  </thead>\n",
       "  <tbody>\n",
       "    <tr>\n",
       "      <th>0</th>\n",
       "      <td>0.000000</td>\n",
       "      <td>9.942843</td>\n",
       "      <td>8.784920</td>\n",
       "      <td>8.232345</td>\n",
       "      <td>9.910264</td>\n",
       "      <td>9.184355</td>\n",
       "      <td>7.202011</td>\n",
       "      <td>9.933517</td>\n",
       "      <td>8.554601</td>\n",
       "      <td>9.013563</td>\n",
       "      <td>...</td>\n",
       "      <td>10.233912</td>\n",
       "      <td>9.314567</td>\n",
       "      <td>9.376453</td>\n",
       "      <td>9.180041</td>\n",
       "      <td>9.993439</td>\n",
       "      <td>10.348576</td>\n",
       "      <td>10.379647</td>\n",
       "      <td>8.481104</td>\n",
       "      <td>11.215959</td>\n",
       "      <td>9.881715</td>\n",
       "    </tr>\n",
       "    <tr>\n",
       "      <th>1</th>\n",
       "      <td>9.942843</td>\n",
       "      <td>0.000000</td>\n",
       "      <td>10.594719</td>\n",
       "      <td>9.092435</td>\n",
       "      <td>9.080341</td>\n",
       "      <td>9.760703</td>\n",
       "      <td>7.240622</td>\n",
       "      <td>9.523623</td>\n",
       "      <td>9.701527</td>\n",
       "      <td>7.085359</td>\n",
       "      <td>...</td>\n",
       "      <td>9.217572</td>\n",
       "      <td>8.534188</td>\n",
       "      <td>8.879009</td>\n",
       "      <td>8.650456</td>\n",
       "      <td>8.355311</td>\n",
       "      <td>11.036702</td>\n",
       "      <td>10.223542</td>\n",
       "      <td>8.380999</td>\n",
       "      <td>11.489306</td>\n",
       "      <td>10.246362</td>\n",
       "    </tr>\n",
       "    <tr>\n",
       "      <th>2</th>\n",
       "      <td>8.784920</td>\n",
       "      <td>10.594719</td>\n",
       "      <td>0.000000</td>\n",
       "      <td>8.911869</td>\n",
       "      <td>9.984212</td>\n",
       "      <td>9.694277</td>\n",
       "      <td>7.788598</td>\n",
       "      <td>10.527021</td>\n",
       "      <td>9.885447</td>\n",
       "      <td>9.483890</td>\n",
       "      <td>...</td>\n",
       "      <td>10.491074</td>\n",
       "      <td>9.849962</td>\n",
       "      <td>9.382018</td>\n",
       "      <td>9.452173</td>\n",
       "      <td>10.308570</td>\n",
       "      <td>10.837974</td>\n",
       "      <td>11.214281</td>\n",
       "      <td>9.132222</td>\n",
       "      <td>11.857727</td>\n",
       "      <td>9.906005</td>\n",
       "    </tr>\n",
       "    <tr>\n",
       "      <th>3</th>\n",
       "      <td>8.232345</td>\n",
       "      <td>9.092435</td>\n",
       "      <td>8.911869</td>\n",
       "      <td>0.000000</td>\n",
       "      <td>9.329214</td>\n",
       "      <td>8.618238</td>\n",
       "      <td>6.308059</td>\n",
       "      <td>9.776170</td>\n",
       "      <td>8.539223</td>\n",
       "      <td>8.399780</td>\n",
       "      <td>...</td>\n",
       "      <td>9.360827</td>\n",
       "      <td>8.679456</td>\n",
       "      <td>8.652150</td>\n",
       "      <td>8.572486</td>\n",
       "      <td>8.727339</td>\n",
       "      <td>9.806711</td>\n",
       "      <td>10.267550</td>\n",
       "      <td>8.039326</td>\n",
       "      <td>11.093683</td>\n",
       "      <td>9.261648</td>\n",
       "    </tr>\n",
       "    <tr>\n",
       "      <th>4</th>\n",
       "      <td>9.910264</td>\n",
       "      <td>9.080341</td>\n",
       "      <td>9.984212</td>\n",
       "      <td>9.329214</td>\n",
       "      <td>0.000000</td>\n",
       "      <td>9.532016</td>\n",
       "      <td>7.203297</td>\n",
       "      <td>8.390142</td>\n",
       "      <td>9.782737</td>\n",
       "      <td>8.664715</td>\n",
       "      <td>...</td>\n",
       "      <td>9.731884</td>\n",
       "      <td>9.167016</td>\n",
       "      <td>8.643785</td>\n",
       "      <td>8.095538</td>\n",
       "      <td>8.852319</td>\n",
       "      <td>11.230354</td>\n",
       "      <td>10.294182</td>\n",
       "      <td>8.781414</td>\n",
       "      <td>10.703237</td>\n",
       "      <td>9.869799</td>\n",
       "    </tr>\n",
       "    <tr>\n",
       "      <th>...</th>\n",
       "      <td>...</td>\n",
       "      <td>...</td>\n",
       "      <td>...</td>\n",
       "      <td>...</td>\n",
       "      <td>...</td>\n",
       "      <td>...</td>\n",
       "      <td>...</td>\n",
       "      <td>...</td>\n",
       "      <td>...</td>\n",
       "      <td>...</td>\n",
       "      <td>...</td>\n",
       "      <td>...</td>\n",
       "      <td>...</td>\n",
       "      <td>...</td>\n",
       "      <td>...</td>\n",
       "      <td>...</td>\n",
       "      <td>...</td>\n",
       "      <td>...</td>\n",
       "      <td>...</td>\n",
       "      <td>...</td>\n",
       "      <td>...</td>\n",
       "    </tr>\n",
       "    <tr>\n",
       "      <th>2399</th>\n",
       "      <td>10.348576</td>\n",
       "      <td>11.036702</td>\n",
       "      <td>10.837974</td>\n",
       "      <td>9.806711</td>\n",
       "      <td>11.230354</td>\n",
       "      <td>10.804562</td>\n",
       "      <td>8.675304</td>\n",
       "      <td>11.606166</td>\n",
       "      <td>10.381668</td>\n",
       "      <td>10.743392</td>\n",
       "      <td>...</td>\n",
       "      <td>10.649502</td>\n",
       "      <td>10.544861</td>\n",
       "      <td>10.239899</td>\n",
       "      <td>10.334715</td>\n",
       "      <td>10.653345</td>\n",
       "      <td>0.000000</td>\n",
       "      <td>12.256771</td>\n",
       "      <td>10.208283</td>\n",
       "      <td>12.240513</td>\n",
       "      <td>10.836945</td>\n",
       "    </tr>\n",
       "    <tr>\n",
       "      <th>2400</th>\n",
       "      <td>10.379647</td>\n",
       "      <td>10.223542</td>\n",
       "      <td>11.214281</td>\n",
       "      <td>10.267550</td>\n",
       "      <td>10.294182</td>\n",
       "      <td>10.384463</td>\n",
       "      <td>8.632461</td>\n",
       "      <td>11.402102</td>\n",
       "      <td>10.012039</td>\n",
       "      <td>9.716490</td>\n",
       "      <td>...</td>\n",
       "      <td>10.498840</td>\n",
       "      <td>10.266239</td>\n",
       "      <td>9.820044</td>\n",
       "      <td>10.444798</td>\n",
       "      <td>10.856580</td>\n",
       "      <td>12.256771</td>\n",
       "      <td>0.000000</td>\n",
       "      <td>10.042034</td>\n",
       "      <td>12.678147</td>\n",
       "      <td>10.458506</td>\n",
       "    </tr>\n",
       "    <tr>\n",
       "      <th>2401</th>\n",
       "      <td>8.481104</td>\n",
       "      <td>8.380999</td>\n",
       "      <td>9.132222</td>\n",
       "      <td>8.039326</td>\n",
       "      <td>8.781414</td>\n",
       "      <td>8.460653</td>\n",
       "      <td>5.594245</td>\n",
       "      <td>8.909344</td>\n",
       "      <td>8.437277</td>\n",
       "      <td>7.433279</td>\n",
       "      <td>...</td>\n",
       "      <td>8.786142</td>\n",
       "      <td>7.539064</td>\n",
       "      <td>7.838269</td>\n",
       "      <td>7.730331</td>\n",
       "      <td>8.045926</td>\n",
       "      <td>10.208283</td>\n",
       "      <td>10.042034</td>\n",
       "      <td>0.000000</td>\n",
       "      <td>10.921098</td>\n",
       "      <td>8.689270</td>\n",
       "    </tr>\n",
       "    <tr>\n",
       "      <th>2402</th>\n",
       "      <td>11.215959</td>\n",
       "      <td>11.489306</td>\n",
       "      <td>11.857727</td>\n",
       "      <td>11.093683</td>\n",
       "      <td>10.703237</td>\n",
       "      <td>11.734419</td>\n",
       "      <td>9.532773</td>\n",
       "      <td>11.079050</td>\n",
       "      <td>11.446188</td>\n",
       "      <td>11.062574</td>\n",
       "      <td>...</td>\n",
       "      <td>12.057926</td>\n",
       "      <td>11.506828</td>\n",
       "      <td>10.885291</td>\n",
       "      <td>10.925064</td>\n",
       "      <td>10.904707</td>\n",
       "      <td>12.240513</td>\n",
       "      <td>12.678147</td>\n",
       "      <td>10.921098</td>\n",
       "      <td>0.000000</td>\n",
       "      <td>11.735542</td>\n",
       "    </tr>\n",
       "    <tr>\n",
       "      <th>2403</th>\n",
       "      <td>9.881715</td>\n",
       "      <td>10.246362</td>\n",
       "      <td>9.906005</td>\n",
       "      <td>9.261648</td>\n",
       "      <td>9.869799</td>\n",
       "      <td>9.461697</td>\n",
       "      <td>7.147895</td>\n",
       "      <td>10.361511</td>\n",
       "      <td>9.439114</td>\n",
       "      <td>9.753306</td>\n",
       "      <td>...</td>\n",
       "      <td>10.122686</td>\n",
       "      <td>9.121529</td>\n",
       "      <td>7.956418</td>\n",
       "      <td>9.291970</td>\n",
       "      <td>9.412368</td>\n",
       "      <td>10.836945</td>\n",
       "      <td>10.458506</td>\n",
       "      <td>8.689270</td>\n",
       "      <td>11.735542</td>\n",
       "      <td>0.000000</td>\n",
       "    </tr>\n",
       "  </tbody>\n",
       "</table>\n",
       "<p>2404 rows × 2404 columns</p>\n",
       "</div>"
      ],
      "text/plain": [
       "           0          1          2          3          4          5     \\\n",
       "0      0.000000   9.942843   8.784920   8.232345   9.910264   9.184355   \n",
       "1      9.942843   0.000000  10.594719   9.092435   9.080341   9.760703   \n",
       "2      8.784920  10.594719   0.000000   8.911869   9.984212   9.694277   \n",
       "3      8.232345   9.092435   8.911869   0.000000   9.329214   8.618238   \n",
       "4      9.910264   9.080341   9.984212   9.329214   0.000000   9.532016   \n",
       "...         ...        ...        ...        ...        ...        ...   \n",
       "2399  10.348576  11.036702  10.837974   9.806711  11.230354  10.804562   \n",
       "2400  10.379647  10.223542  11.214281  10.267550  10.294182  10.384463   \n",
       "2401   8.481104   8.380999   9.132222   8.039326   8.781414   8.460653   \n",
       "2402  11.215959  11.489306  11.857727  11.093683  10.703237  11.734419   \n",
       "2403   9.881715  10.246362   9.906005   9.261648   9.869799   9.461697   \n",
       "\n",
       "          6          7          8          9     ...       2394       2395  \\\n",
       "0     7.202011   9.933517   8.554601   9.013563  ...  10.233912   9.314567   \n",
       "1     7.240622   9.523623   9.701527   7.085359  ...   9.217572   8.534188   \n",
       "2     7.788598  10.527021   9.885447   9.483890  ...  10.491074   9.849962   \n",
       "3     6.308059   9.776170   8.539223   8.399780  ...   9.360827   8.679456   \n",
       "4     7.203297   8.390142   9.782737   8.664715  ...   9.731884   9.167016   \n",
       "...        ...        ...        ...        ...  ...        ...        ...   \n",
       "2399  8.675304  11.606166  10.381668  10.743392  ...  10.649502  10.544861   \n",
       "2400  8.632461  11.402102  10.012039   9.716490  ...  10.498840  10.266239   \n",
       "2401  5.594245   8.909344   8.437277   7.433279  ...   8.786142   7.539064   \n",
       "2402  9.532773  11.079050  11.446188  11.062574  ...  12.057926  11.506828   \n",
       "2403  7.147895  10.361511   9.439114   9.753306  ...  10.122686   9.121529   \n",
       "\n",
       "           2396       2397       2398       2399       2400       2401  \\\n",
       "0      9.376453   9.180041   9.993439  10.348576  10.379647   8.481104   \n",
       "1      8.879009   8.650456   8.355311  11.036702  10.223542   8.380999   \n",
       "2      9.382018   9.452173  10.308570  10.837974  11.214281   9.132222   \n",
       "3      8.652150   8.572486   8.727339   9.806711  10.267550   8.039326   \n",
       "4      8.643785   8.095538   8.852319  11.230354  10.294182   8.781414   \n",
       "...         ...        ...        ...        ...        ...        ...   \n",
       "2399  10.239899  10.334715  10.653345   0.000000  12.256771  10.208283   \n",
       "2400   9.820044  10.444798  10.856580  12.256771   0.000000  10.042034   \n",
       "2401   7.838269   7.730331   8.045926  10.208283  10.042034   0.000000   \n",
       "2402  10.885291  10.925064  10.904707  12.240513  12.678147  10.921098   \n",
       "2403   7.956418   9.291970   9.412368  10.836945  10.458506   8.689270   \n",
       "\n",
       "           2402       2403  \n",
       "0     11.215959   9.881715  \n",
       "1     11.489306  10.246362  \n",
       "2     11.857727   9.906005  \n",
       "3     11.093683   9.261648  \n",
       "4     10.703237   9.869799  \n",
       "...         ...        ...  \n",
       "2399  12.240513  10.836945  \n",
       "2400  12.678147  10.458506  \n",
       "2401  10.921098   8.689270  \n",
       "2402   0.000000  11.735542  \n",
       "2403  11.735542   0.000000  \n",
       "\n",
       "[2404 rows x 2404 columns]"
      ]
     },
     "execution_count": 22,
     "metadata": {},
     "output_type": "execute_result"
    }
   ],
   "source": [
    "df_dist_2 = generate_distance_matrix(embeddings2_df)\n",
    "df_dist_2"
   ]
  },
  {
   "attachments": {},
   "cell_type": "markdown",
   "metadata": {},
   "source": [
    "Several entries seem to have matched to an absurd amount of activities:"
   ]
  },
  {
   "cell_type": "code",
   "execution_count": 23,
   "metadata": {},
   "outputs": [
    {
     "name": "stdout",
     "output_type": "stream",
     "text": [
      "Value counts: 7.240622     830\n",
      "8.358644       3\n",
      "9.079539       2\n",
      "10.997180      2\n",
      "10.270435      2\n",
      "            ... \n",
      "9.093840       1\n",
      "10.213916      1\n",
      "11.291925      1\n",
      "8.894402       1\n",
      "10.246362      1\n",
      "Name: 1, Length: 1554, dtype: int64\n"
     ]
    }
   ],
   "source": [
    "print(\"Value counts:\", df_dist_2.loc[:, 1].value_counts())"
   ]
  },
  {
   "cell_type": "code",
   "execution_count": 24,
   "metadata": {},
   "outputs": [
    {
     "name": "stdout",
     "output_type": "stream",
     "text": [
      "Value counts: 0.000000    830\n",
      "7.467473      3\n",
      "7.259116      2\n",
      "9.168405      2\n",
      "7.789581      2\n",
      "           ... \n",
      "8.068840      1\n",
      "7.136250      1\n",
      "8.165595      1\n",
      "8.418919      1\n",
      "7.147895      1\n",
      "Name: 6, Length: 1554, dtype: int64\n"
     ]
    }
   ],
   "source": [
    "print(\"Value counts:\", df_dist_2.loc[:, 6].value_counts())"
   ]
  },
  {
   "attachments": {},
   "cell_type": "markdown",
   "metadata": {},
   "source": [
    "Trying other distance metrics results in similar results:"
   ]
  },
  {
   "cell_type": "code",
   "execution_count": 25,
   "metadata": {},
   "outputs": [],
   "source": [
    "df_dist_2_manhattan = generate_distance_matrix(embeddings2_df, 1)"
   ]
  },
  {
   "cell_type": "code",
   "execution_count": 26,
   "metadata": {},
   "outputs": [],
   "source": [
    "df_dist_2_chebychev = generate_distance_matrix(embeddings2_df, 3)"
   ]
  },
  {
   "cell_type": "code",
   "execution_count": 27,
   "metadata": {},
   "outputs": [
    {
     "name": "stdout",
     "output_type": "stream",
     "text": [
      "Value counts: 7.240622     830\n",
      "8.358644       3\n",
      "9.079539       2\n",
      "10.997180      2\n",
      "10.270435      2\n",
      "            ... \n",
      "9.093840       1\n",
      "10.213916      1\n",
      "11.291925      1\n",
      "8.894402       1\n",
      "10.246362      1\n",
      "Name: 1, Length: 1554, dtype: int64\n"
     ]
    }
   ],
   "source": [
    "print(\"Value counts:\", df_dist_2_manhattan.loc[:, 1].value_counts())"
   ]
  },
  {
   "cell_type": "code",
   "execution_count": 28,
   "metadata": {},
   "outputs": [
    {
     "name": "stdout",
     "output_type": "stream",
     "text": [
      "Value counts: 7.240622     830\n",
      "8.358644       3\n",
      "9.079539       2\n",
      "10.997180      2\n",
      "10.270435      2\n",
      "            ... \n",
      "9.093840       1\n",
      "10.213916      1\n",
      "11.291925      1\n",
      "8.894402       1\n",
      "10.246362      1\n",
      "Name: 1, Length: 1554, dtype: int64\n"
     ]
    }
   ],
   "source": [
    "print(\"Value counts:\", df_dist_2_chebychev.loc[:, 1].value_counts())"
   ]
  },
  {
   "attachments": {},
   "cell_type": "markdown",
   "metadata": {},
   "source": [
    "### Final Dictionaries:"
   ]
  },
  {
   "attachments": {},
   "cell_type": "markdown",
   "metadata": {},
   "source": [
    "#### Trying Different Threshold:\n",
    "\n",
    "##### Threshold 2.0:"
   ]
  },
  {
   "cell_type": "code",
   "execution_count": 29,
   "metadata": {},
   "outputs": [
    {
     "name": "stdout",
     "output_type": "stream",
     "text": [
      "132\n"
     ]
    },
    {
     "data": {
      "text/plain": [
       "[('Acne', ['Acne']),\n",
       " ('Alcoholism', ['Alcoholism']),\n",
       " ('Allergy', ['Allergy']),\n",
       " ('Amblyopia', ['Amblyopia']),\n",
       " ('Amenorrhea', ['Amenorrhea'])]"
      ]
     },
     "execution_count": 29,
     "metadata": {},
     "output_type": "execute_result"
    }
   ],
   "source": [
    "dict_dist_20 = generate_dict(df_dist_2, 2)\n",
    "dict_20 = generate_dict_match(dict_dist_20)\n",
    "dict_20_sym = create_dict_sym(dict_20)\n",
    "print(len(dict_20_sym))\n",
    "list(dict_20_sym.items())[:5]"
   ]
  },
  {
   "cell_type": "code",
   "execution_count": 30,
   "metadata": {},
   "outputs": [
    {
     "name": "stdout",
     "output_type": "stream",
     "text": [
      "False\n",
      "False\n",
      "False\n"
     ]
    }
   ],
   "source": [
    "print(\"Abdominal pain\" in dict_20_sym.keys())\n",
    "print(\"Eye pain\" in dict_20_sym.keys())\n",
    "print(\"Common cold\" in dict_20_sym.keys())"
   ]
  },
  {
   "attachments": {},
   "cell_type": "markdown",
   "metadata": {},
   "source": [
    "##### Threshold 5.0:"
   ]
  },
  {
   "cell_type": "code",
   "execution_count": 31,
   "metadata": {},
   "outputs": [
    {
     "name": "stdout",
     "output_type": "stream",
     "text": [
      "226\n"
     ]
    },
    {
     "data": {
      "text/plain": [
       "[('Acne', ['Acne']),\n",
       " ('Alcoholism', ['Alcoholism']),\n",
       " ('Allergy', ['Allergy']),\n",
       " ('Amblyopia',\n",
       "  ['Amblyopia', 'Anorectic', 'Antacid', 'Carcinogenic', 'Dullness']),\n",
       " ('Amenorrhea', ['Amenorrhea'])]"
      ]
     },
     "execution_count": 31,
     "metadata": {},
     "output_type": "execute_result"
    }
   ],
   "source": [
    "dict_dist_50 = generate_dict(df_dist_2, 5)\n",
    "dict_50 = generate_dict_match(dict_dist_50)\n",
    "dict_50_sym = create_dict_sym(dict_50)\n",
    "print(len(dict_50_sym))\n",
    "list(dict_50_sym.items())[:5]"
   ]
  },
  {
   "cell_type": "code",
   "execution_count": 44,
   "metadata": {},
   "outputs": [
    {
     "name": "stdout",
     "output_type": "stream",
     "text": [
      "False\n",
      "True\n",
      "True\n"
     ]
    }
   ],
   "source": [
    "print(\"Abdominal pain\" in dict_50_sym.keys())\n",
    "print(\"Eye pain\" in dict_50_sym.keys())\n",
    "print(\"Common cold\" in dict_50_sym.keys())"
   ]
  },
  {
   "attachments": {},
   "cell_type": "markdown",
   "metadata": {},
   "source": [
    "Due to the erroneous values in the distance matrix, some symptoms match an absurd amount of activities:"
   ]
  },
  {
   "cell_type": "code",
   "execution_count": 36,
   "metadata": {},
   "outputs": [
    {
     "name": "stdout",
     "output_type": "stream",
     "text": [
      "['Ear drop', 'Evil eye', 'Eye', 'Eye drop', 'Pain', 'Cold sore']\n",
      "827\n",
      "['Abscess(Breast)', 'Anal-Eversion', 'Antidote(Pithecellobium)', 'Antidote(Cyanide)', 'Antidote(Mushroom)', 'Antidote(Vermillion)', 'Antisudorific', 'Atheromasia', 'Bite(Tiger)', 'Cancer(Brain)', 'Cancer(Mouth)', 'Cardiodynia', 'Circulation-Tonic', 'Decoagulant', 'Enterorrhagia', 'Food-Dye', 'Guineaworms', 'Hepatosis', 'Intestinal-Ailments', 'Leukopenic', 'Morphinism', 'Odontectomy', 'Parasympatholytic', 'Polyp(Bladder)', 'Preventitive(Elephantiasis)', 'Prickly-Heat', 'Rectitis', 'Rodent-Ulcer', 'Sclerosis(Stomach)', 'Sterilizant', 'Syphilis(3)', 'Tumor(Armpit)', 'Tumor(Leg)', 'Tumor(Thyroid)', 'Vermifuge(Cattle)', 'Polypus(Nose)', 'Preventitive(Measless)', 'Antidote(Tarantula)', 'Dyslactea', 'Oxyuris', 'Thrombosis(Venous)', 'Ochititis']\n"
     ]
    }
   ],
   "source": [
    "print(dict_50_sym[\"Eye pain\"])\n",
    "print(len(dict_50_sym[\"Common cold\"]))\n",
    "print(dict_50_sym[\"Common cold\"][::20])"
   ]
  },
  {
   "cell_type": "code",
   "execution_count": 38,
   "metadata": {},
   "outputs": [
    {
     "name": "stdout",
     "output_type": "stream",
     "text": [
      "['Abscess(Breast)', 'Anal-Eversion', 'Antidote(Pithecellobium)', 'Antidote(Cyanide)', 'Antidote(Mushroom)', 'Antidote(Vermillion)', 'Antisudorific', 'Atheromasia', 'Bite(Tiger)', 'Cancer(Brain)', 'Cancer(Mouth)', 'Cardiodynia', 'Circulation-Tonic', 'Decoagulant', 'Enterorrhagia', 'Food-Dye', 'Guineaworms', 'Hepatosis', 'Intestinal-Ailments', 'Leukopenic', 'Morphinism', 'Odontectomy', 'Parasympatholytic', 'Polyp(Bladder)', 'Preventitive(Elephantiasis)', 'Prickly-Heat', 'Rectitis', 'Rodent-Ulcer', 'Sclerosis(Stomach)', 'Sterilizant', 'Syphilis(3)', 'Tumor(Armpit)', 'Tumor(Leg)', 'Tumor(Thyroid)', 'Vermifuge(Cattle)', 'Polypus(Nose)', 'Preventitive(Measless)', 'Antidote(Tarantula)', 'Dyslactea', 'Oxyuris', 'Thrombosis(Venous)', 'Lymphitis']\n"
     ]
    }
   ],
   "source": [
    "print(dict_50_sym[\"Avoidant personality disorder\"][::20])"
   ]
  },
  {
   "attachments": {},
   "cell_type": "markdown",
   "metadata": {},
   "source": [
    "## A Bandaid Solution (?):"
   ]
  },
  {
   "attachments": {},
   "cell_type": "markdown",
   "metadata": {},
   "source": [
    "As a bandaid, we tried to modify the initial dictionary generating code. Unproblematic nested dictionaries are added to a new dictionary, and then the problematic ones will be further processed. This did not really work out too well and is a bad approach anyway:"
   ]
  },
  {
   "cell_type": "code",
   "execution_count": 39,
   "metadata": {},
   "outputs": [],
   "source": [
    "def generate_dict_patch(df_dist : pd.DataFrame,\n",
    "                threshold : float) -> dict:\n",
    "    filt = (df_dist[:] > threshold)\n",
    "    df_filt = df_dist.copy()\n",
    "    df_filt[filt] = np.nan\n",
    "    dict_dist = df_filt.to_dict('dict')\n",
    "    for i, dic in dict_dist.items():\n",
    "        to_pop = list()\n",
    "        for key, value in dic.items():\n",
    "            if np.isnan(value):\n",
    "                to_pop.append(key)\n",
    "        for target_key in to_pop:\n",
    "            dic.pop(target_key)\n",
    "        dict_dist[i] = dic\n",
    "    dict_clear = dict()\n",
    "    for key, dic in dict_dist.items():\n",
    "        \n",
    "# first, add unproblematic dictionaries to dict_clear:\n",
    "        if len(dic) <= 100:\n",
    "            dict_clear[key] = dic\n",
    "            continue\n",
    "\n",
    "# a new dict lists the indices for each value:\n",
    "        count_dict = dict()\n",
    "        for sub_key, val_dis in dic.items():\n",
    "            if val_dis not in count_dict:\n",
    "                count_dict[val_dis] = [sub_key]\n",
    "            else:\n",
    "                count_dict[val_dis] = [*count_dict.get(val_dis), sub_key]\n",
    "\n",
    "# checking the count_dict: \n",
    "# if a certain key has too many indices as its value, it will be skipped:\n",
    "        for val, val_i in count_dict.items():\n",
    "            if len(val_i) > 100:\n",
    "                continue\n",
    "\n",
    "# in reverse:\n",
    "# remaining values will be assigned to correct index keys in dict_clear:\n",
    "            for i in val_i:\n",
    "                if i not in dict_clear:\n",
    "                    dict_clear[i] = {i: val}\n",
    "                else:\n",
    "                    dict_clear[i][i] = val\n",
    "\n",
    "# in case self referencing 0.0 value was removed, add it again:\n",
    "    target_i = list()\n",
    "    for key, value in dict_clear.items():\n",
    "        if key not in value:\n",
    "            target_i.append(key)\n",
    "    for i in target_i:\n",
    "        dict_clear[i] = 0.0\n",
    "\n",
    "    return dict_clear"
   ]
  },
  {
   "cell_type": "code",
   "execution_count": 45,
   "metadata": {},
   "outputs": [
    {
     "name": "stdout",
     "output_type": "stream",
     "text": [
      "[(6, 0.0), (53, 0.0), (99, 0.0), (122, 0.0), (142, 0.0), (163, 0.0), (196, 0.0), (246, 0.0), (293, 0.0), (357, 0.0), (377, 0.0), (407, 0.0), (468, 0.0), (534, 0.0), (629, 0.0), (711, 0.0), (785, 0.0), (850, 0.0), (914, 0.0), (988, 0.0), (1055, 0.0), (1140, 0.0), (1198, 4.695847538646427), (1253, 0.0), (1311, 0.0), (1343, 0.0), (1363, 0.0), (1428, 0.0), (1467, 0.0), (1506, 0.0), (1578, 0.0), (1635, 0.0), (1709, 0.0), (1729, 0.0), (1749, 0.0), (1806, 0.0), (1867, 0.0), (1894, 0.0), (1934, 0.0), (1955, 0.0), (1991, 4.848344020092718), (2037, 0.0), (2074, 0.0), (2140, 4.303535052716567), (2291, 4.831098821251361)]\n"
     ]
    }
   ],
   "source": [
    "print(list(dict_dist_50[6].items())[::20])"
   ]
  },
  {
   "cell_type": "code",
   "execution_count": 46,
   "metadata": {},
   "outputs": [],
   "source": [
    "dict_dist_patch_50 = generate_dict_patch(df_dist_2, 5)"
   ]
  },
  {
   "cell_type": "code",
   "execution_count": 48,
   "metadata": {},
   "outputs": [
    {
     "name": "stdout",
     "output_type": "stream",
     "text": [
      "[(0, {0: 0.0}), (1198, {1198: 4.695847538646427}), (2140, {2140: 4.303535052716567}), (2291, {2291: 4.831098821251361}), (23, {23: 0.0}), (48, {48: 0.0}), (80, {80: 0.0}), (187, {187: 0.0}), (223, {223: 0.0}), (256, {256: 3.935557761883537, 2132: 3.935557761883537}), (277, {277: 0.0}), (322, {322: 0.0}), (349, {349: 0.0}), (414, {414: 0.0}), (440, {440: 0.0}), (472, {472: 0.0}), (494, {494: 0.0}), (520, {520: 0.0}), (550, {550: 0.0}), (574, {574: 0.0, 970: 4.226506207860805}), (596, {596: 0.0}), (620, {620: 0.0}), (646, {646: 0.0}), (674, {674: 3.9358604723234465, 675: 3.9358604723234465, 1173: 4.953613275781259}), (699, {699: 0.0}), (730, {730: 0.0}), (755, {755: 0.0}), (779, {779: 0.0}), (809, {809: 0.0}), (841, {841: 4.320528044933689, 842: 4.320528044933689, 2223: 4.527226442929275, 2224: 4.564068628190037}), (866, {866: 0.0}), (896, {896: 0.0}), (925, {925: 0.0}), (947, {947: 0.0}), (978, {978: 0.0}), (1009, {1009: 0.0}), (1035, {1035: 0.0}), (1061, {1061: 0.0}), (1085, {1085: 0.0}), (1111, {1111: 0.0}), (1143, {1143: 0.0}), (1165, {1165: 0.0}), (1203, {1203: 0.0}), (1234, {1234: 0.0}), (1260, {1260: 0.0}), (1290, {1290: 0.0}), (1323, {1323: 0.0}), (1385, {1385: 0.0}), (1417, {1417: 0.0}), (1454, {1454: 0.0}), (1481, {1481: 0.0}), (1524, {1524: 0.0}), (1547, {1547: 0.0}), (1576, {1576: 0.0}), (1609, {1609: 0.0}), (1639, {1639: 0.0}), (1664, {1664: 0.0}), (1685, {1037: 4.651797641146841, 1647: 4.119730832706539, 1685: 0.0}), (1765, {1764: 0.0, 1765: 0.0, 2065: 0.0}), (1795, {1795: 0.0}), (1819, {1819: 0.0}), (1847, {1847: 0.0}), (1898, {1898: 0.0}), (1964, {1964: 0.0}), (2001, {2001: 0.0}), (2040, {2040: 0.0}), (2085, {2085: 0.0}), (2116, {2116: 0.0}), (2162, {446: 4.422919272186007, 2110: 3.673513119363077, 2132: 3.4297609226219326, 2152: 4.166907383012078, 2154: 2.74736425433675, 2155: 4.617200965328998, 2162: 4.252532611568342, 2163: 4.341739179570946, 2175: 4.825087771181397, 2186: 4.19269256037977, 2193: 4.145052190805741, 2228: 3.9326447920519305, 2262: 3.7257240633048543, 2265: 4.593601492387839, 2268: 4.19620583335573, 2276: 4.547882012929568, 2292: 3.5236889430199545, 2335: 4.406707885588054, 2339: 4.900591872975648, 2342: 4.479506198273172, 2351: 4.252532611568342, 2376: 4.720947174198859}), (2144, {2144: 0.0}), (2161, {2161: 0.0}), (2184, {2184: 0.0}), (2213, {789: 3.6706975329710967, 2213: 0.0}), (2238, {2238: 0.0}), (2263, {2263: 0.0}), (2302, {2302: 0.0}), (2327, {2327: 0.0}), (2354, {2354: 0.0}), (2388, {1780: 4.656034736816495, 1781: 4.6522096181014, 2388: 0.0})]\n"
     ]
    }
   ],
   "source": [
    "print(list(dict_dist_patch_50.items())[::20])"
   ]
  },
  {
   "cell_type": "code",
   "execution_count": 54,
   "metadata": {},
   "outputs": [
    {
     "name": "stdout",
     "output_type": "stream",
     "text": [
      "183\n",
      "[('Acne', ['Acne']), ('Cataract', ['Cataract']), ('Diabetes', ['Diabetes', 'Diabetes Mellitis']), ('Halitosis', ['Halitosis']), ('Inflammation', ['Inflammation']), ('Perspiration', ['Perspiration']), ('Telangiectasia', ['Telangiectasia']), ('Breast pain', ['Breast', 'Pain']), ('Muscle atrophy', ['Muscle']), ('Urinary urgency', ['Urinary'])]\n"
     ]
    }
   ],
   "source": [
    "dict_patch_50 = generate_dict_match(dict_dist_patch_50)\n",
    "dict_dist_patch_50_sym = create_dict_sym(dict_patch_50)\n",
    "print(len(dict_dist_patch_50_sym))\n",
    "print(list(dict_dist_patch_50_sym.items())[::20])"
   ]
  },
  {
   "cell_type": "code",
   "execution_count": 50,
   "metadata": {},
   "outputs": [
    {
     "name": "stdout",
     "output_type": "stream",
     "text": [
      "False\n",
      "True\n",
      "False\n"
     ]
    }
   ],
   "source": [
    "print(\"Abdominal pain\" in dict_dist_patch_50_sym.keys())\n",
    "print(\"Eye pain\" in dict_dist_patch_50_sym.keys())\n",
    "print(\"Common cold\" in dict_dist_patch_50_sym.keys())"
   ]
  },
  {
   "attachments": {},
   "cell_type": "markdown",
   "metadata": {},
   "source": [
    "Changing thresholds somehow results in keys being removed (maybe they slipped into a territory of having too many matches):"
   ]
  },
  {
   "cell_type": "code",
   "execution_count": 51,
   "metadata": {},
   "outputs": [
    {
     "name": "stdout",
     "output_type": "stream",
     "text": [
      "128\n",
      "False\n",
      "False\n",
      "False\n"
     ]
    }
   ],
   "source": [
    "dict_dist_patch_80 = generate_dict_patch(df_dist_2, 8)\n",
    "dict_patch_80 = generate_dict_match(dict_dist_patch_80)\n",
    "dict_dist_patch_80_sym = create_dict_sym(dict_patch_80)\n",
    "print(len(dict_dist_patch_80_sym))\n",
    "print(\"Abdominal pain\" in dict_dist_patch_80_sym.keys())\n",
    "print(\"Eye pain\" in dict_dist_patch_80_sym.keys())\n",
    "print(\"Common cold\" in dict_dist_patch_80_sym.keys())"
   ]
  },
  {
   "cell_type": "code",
   "execution_count": 55,
   "metadata": {},
   "outputs": [
    {
     "name": "stdout",
     "output_type": "stream",
     "text": [
      "[('Inflammation', ['Inflammation']), ('Burn', ['Burn']), ('Encephalitis', ['Encephalitis']), ('Infection', ['Infection']), ('Tinnitus', ['Tinnitus']), ('Chancre', ['Chancre']), ('Pyelonephritis', ['Pyelonephritis'])]\n"
     ]
    }
   ],
   "source": [
    "print(list(dict_dist_patch_80_sym.items())[::20])"
   ]
  },
  {
   "attachments": {},
   "cell_type": "markdown",
   "metadata": {},
   "source": [
    "After more cautious threshold changes, 5.1 seems the best so far:"
   ]
  },
  {
   "cell_type": "code",
   "execution_count": 53,
   "metadata": {},
   "outputs": [
    {
     "name": "stdout",
     "output_type": "stream",
     "text": [
      "186\n",
      "True\n",
      "True\n",
      "False\n"
     ]
    }
   ],
   "source": [
    "dict_dist_patch_51 = generate_dict_patch(df_dist_2, 5.1)\n",
    "dict_patch_51 = generate_dict_match(dict_dist_patch_51)\n",
    "dict_dist_patch_51_sym = create_dict_sym(dict_patch_51)\n",
    "print(len(dict_dist_patch_51_sym))\n",
    "print(\"Abdominal pain\" in dict_dist_patch_51_sym.keys())\n",
    "print(\"Eye pain\" in dict_dist_patch_51_sym.keys())\n",
    "print(\"Common cold\" in dict_dist_patch_51_sym.keys())"
   ]
  },
  {
   "cell_type": "code",
   "execution_count": 56,
   "metadata": {},
   "outputs": [
    {
     "name": "stdout",
     "output_type": "stream",
     "text": [
      "[('Acne', ['Acne']), ('Burn', ['Burn']), ('Depression', ['Depression']), ('Gout', ['Gout']), ('Infection', ['Infection']), ('Pericarditis', ['Pericarditis']), ('Tachycardia', ['Tachycardia']), ('Neck pain', ['Neck', 'Pain', 'Cold sore']), ('Pelvic inflammatory disease', ['Digestive disease', 'Skin diseases']), ('Thyroid nodule', ['Thyroid'])]\n"
     ]
    }
   ],
   "source": [
    "print(list(dict_dist_patch_51_sym.items())[::20])"
   ]
  },
  {
   "cell_type": "code",
   "execution_count": 57,
   "metadata": {},
   "outputs": [
    {
     "name": "stdout",
     "output_type": "stream",
     "text": [
      "['Pain']\n",
      "['Cosmetic (Grey hair)', 'Ear drop', 'Evil eye', 'Eye', 'Eye drop', 'Pain', 'Skin diseases', 'Cold sore']\n"
     ]
    }
   ],
   "source": [
    "print(dict_dist_patch_51_sym[\"Abdominal pain\"])\n",
    "print(dict_dist_patch_51_sym[\"Eye pain\"])"
   ]
  },
  {
   "attachments": {},
   "cell_type": "markdown",
   "metadata": {},
   "source": [
    "### Closing thoughts:\n",
    "\n",
    "In any case, as we can see above, the results are not particularly great so there are probably issues with our initial approach to creating or processing the second set of embeddings.\n",
    "\n",
    "We should proceed with _Embeddings1_ values for now and see if we can pinpoint the issues in the second set of vectors."
   ]
  }
 ],
 "metadata": {
  "kernelspec": {
   "display_name": ".venv",
   "language": "python",
   "name": "python3"
  },
  "language_info": {
   "codemirror_mode": {
    "name": "ipython",
    "version": 3
   },
   "file_extension": ".py",
   "mimetype": "text/x-python",
   "name": "python",
   "nbconvert_exporter": "python",
   "pygments_lexer": "ipython3",
   "version": "3.8.10"
  },
  "orig_nbformat": 4,
  "vscode": {
   "interpreter": {
    "hash": "9a29d814ff9867b1bca3070bc77419176db06fa129a33d01f96cbf77dd5fcb2e"
   }
  }
 },
 "nbformat": 4,
 "nbformat_minor": 2
}
