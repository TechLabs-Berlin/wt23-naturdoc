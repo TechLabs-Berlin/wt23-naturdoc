{
 "cells": [
  {
   "cell_type": "markdown",
   "id": "7e858458-59b5-42b4-b158-1f563e187b66",
   "metadata": {},
   "source": [
    " Our focus is to find the most popular herbs from the . In this case we used  pytrends.\n",
    " \n",
    " "
   ]
  },
  {
   "cell_type": "code",
   "execution_count": 1,
   "id": "2da236b3-b80b-44bf-a215-1b36c5dc7669",
   "metadata": {},
   "outputs": [
    {
     "name": "stdout",
     "output_type": "stream",
     "text": [
      "/Users/annaster/Documents/TechLabs/NaturDoc/anna_code/notebooks\n",
      "['/Users/annaster/Documents/TechLabs/NaturDoc/anna_code/notebooks', '/Users/annaster/Documents/TechLabs/NaturDoc/anna_code/notebooks', '/Users/annaster/opt/anaconda3/lib/python39.zip', '/Users/annaster/opt/anaconda3/lib/python3.9', '/Users/annaster/opt/anaconda3/lib/python3.9/lib-dynload', '', '/Users/annaster/opt/anaconda3/lib/python3.9/site-packages', '/Users/annaster/opt/anaconda3/lib/python3.9/site-packages/aeosa', '/Users/annaster/opt/anaconda3/lib/python3.9/site-packages/IPython/extensions', '/Users/annaster/.ipython']\n"
     ]
    }
   ],
   "source": [
    "import os\n",
    "#os.chdir('pytrends/')\n",
    "\n",
    "import sys\n",
    "sys.path.insert(0,os.getcwd())\n",
    "\n",
    "print(os.getcwd())\n",
    "print(sys.path)\n",
    "\n",
    "import numpy as np\n",
    "import pandas as pd\n",
    "import matplotlib.pyplot as plt\n",
    "import random\n",
    "from typing import List, Dict\n",
    "\n",
    "from pytrends.request import TrendReq\n",
    "\n",
    "from tqdm import tqdm\n",
    "from itertools import islice\n",
    "from IPython.display import display\n",
    "import time\n",
    "\n",
    "from warnings import warn"
   ]
  },
  {
   "cell_type": "markdown",
   "id": "c3da2810-8448-4063-b7a0-a635271055d2",
   "metadata": {},
   "source": [
    "**Pytrend_score_group**\n",
    "This function takes a list of terms, builds a payload with the TrendReq object from the pytrends library nd retrieves the average interest over time for each term. The function returns a dictionary of the ranks of the terms based on their interest over time."
   ]
  },
  {
   "cell_type": "code",
   "execution_count": 2,
   "id": "2092e589-48af-4e7d-9aa1-58b1cd482e9c",
   "metadata": {},
   "outputs": [],
   "source": [
    "def pytrend_score_group(terms : list, print_table : bool = False) -> Dict[str,int]:\n",
    "    pt = TrendReq(retries=5)\n",
    "    pt.build_payload(terms)\n",
    "    tmp_df = pt.interest_over_time()\n",
    "    tmp_df = tmp_df[terms].mean()\n",
    "    \n",
    "    if print_table:\n",
    "        display(tmp_df)\n",
    "        \n",
    "    ranks = tmp_df.rank().to_dict()\n",
    "    return ranks \n",
    "\n",
    "def break_into_groups(my_list : list, times : int):\n",
    "    \"\"\"times is the size of the group\"\"\"\n",
    "    sublists = []\n",
    "    for i in range(0, len(my_list), times):\n",
    "        sublists.append(my_list[i:i+5])\n",
    "    return sublists\n",
    "\n",
    "def rank_by_popularity(group: List[List[str]], debug = True) -> List[Dict[str, int]]:\n",
    "    ranked_groups = []\n",
    "    for herbs in group:\n",
    "        ranked_herbs = {}\n",
    "        \n",
    "        if debug:\n",
    "            for herb in herbs:\n",
    "                score = random.randint(1, 5)\n",
    "                ranked_herbs[herb] = score\n",
    "        \n",
    "        else:\n",
    "            ranked_herbs = pytrend_score_group(herbs)\n",
    "            \n",
    "        #print(ranked_herbs)\n",
    "        ranked_groups.append(ranked_herbs)\n",
    "    return ranked_groups"
   ]
  },
  {
   "cell_type": "markdown",
   "id": "f641afd0-37cd-41d3-a6f3-518661510dcc",
   "metadata": {},
   "source": [
    "The code first creates a test list of herbs and then breaks it into groups of 5 using the break_into_groups function.Then, it ranks each group of herbs by popularity using the rank_by_popularity function, which can use either a random score or Google Trends data depending on the debug parameter. The debug parameter is set to False, so Google Trends data will be used. The final output will be a list of dictionaries where each dictionary contains the ranking scores for each herb in a group."
   ]
  },
  {
   "cell_type": "code",
   "execution_count": 3,
   "id": "e19269a9-5d15-41db-8c00-bcdff0d4cee0",
   "metadata": {},
   "outputs": [
    {
     "name": "stdout",
     "output_type": "stream",
     "text": [
      "Phase 1 - Break into groups:\n",
      "[[\"St. John's Wort\", 'Cranberry', 'Agrimony', 'Cherry stalks', 'Cannabis flowering tops'], ['Herbal tea combinations for use in cough and cold', \"St. Benedict's thistle (also blessed thistle, holy thistle or spotted thistle)\", 'Lime flower', 'Guarana', 'Rosemary Oil'], ['Rosemary leaf', 'Sweet Fennel']]\n",
      "Phase 2 - Rank by popularity:\n"
     ]
    },
    {
     "data": {
      "text/plain": [
       "[{\"St. John's Wort\": 2.5,\n",
       "  'Cranberry': 5.0,\n",
       "  'Agrimony': 2.5,\n",
       "  'Cherry stalks': 2.5,\n",
       "  'Cannabis flowering tops': 2.5},\n",
       " {'Herbal tea combinations for use in cough and cold': 1.5,\n",
       "  \"St. Benedict's thistle (also blessed thistle, holy thistle or spotted thistle)\": 1.5,\n",
       "  'Lime flower': 3.0,\n",
       "  'Guarana': 5.0,\n",
       "  'Rosemary Oil': 4.0},\n",
       " {'Rosemary leaf': 2.0, 'Sweet Fennel': 1.0}]"
      ]
     },
     "execution_count": 3,
     "metadata": {},
     "output_type": "execute_result"
    }
   ],
   "source": [
    "\n",
    "#test list of herbs and then breaks it into groups of 5 \n",
    "test_herbs = [\"St. John's Wort\",\n",
    "'Cranberry',\n",
    "'Agrimony',\n",
    "'Cherry stalks',\n",
    "'Cannabis flowering tops',\n",
    "'Herbal tea combinations for use in cough and cold',\n",
    "\"St. Benedict's thistle (also blessed thistle, holy thistle or spotted thistle)\",\n",
    "'Lime flower',\n",
    "'Guarana',\n",
    "'Rosemary Oil',\n",
    "'Rosemary leaf',\n",
    "'Sweet Fennel']\n",
    "\n",
    "print(\"Phase 1 - Break into groups:\")\n",
    "print(break_into_groups(test_herbs,times=5))\n",
    "\n",
    "print(\"Phase 2 - Rank by popularity:\")\n",
    "rank_by_popularity(break_into_groups(test_herbs,times=5), debug=False)"
   ]
  },
  {
   "cell_type": "code",
   "execution_count": 8,
   "id": "ad6d47b1-e6ba-41ae-86e1-5a5c6759bbf9",
   "metadata": {},
   "outputs": [],
   "source": [
    "import json\n",
    "\n",
    "# Load the JSON file\n",
    "with open('remedies.json', 'r') as f:\n",
    "    remedies = json.load(f)\n",
    "\n"
   ]
  },
  {
   "cell_type": "code",
   "execution_count": 12,
   "id": "27122738-91ef-45c2-a2c7-700f7a100c5c",
   "metadata": {},
   "outputs": [],
   "source": [
    " #Filter remedies by vernacularNames/VERNAC\n",
    "enriched_remedies = [r for r in remedies if r.get('vernacularNames', {}).get('VERNAC')]\n",
    "\n",
    "# Filter remedies by commonNames/CNAME and take every 6th item\n",
    "filtered_remedies = [r for i, r in enumerate(remedies) if r.get('commonNames', {}).get('CNAME') and i % 6 == 0]\n",
    "\n",
    "# Remove duplicates\n",
    "unique_remedies = [dict(t) for t in {tuple(r.items()) for r in filtered_remedies}]\n",
    "\n",
    "# Save the filtered remedies as a new JSON file\n",
    "with open('filtered_remedies.json', 'w') as f:\n",
    "    json.dump(unique_remedies, f)\n"
   ]
  },
  {
   "cell_type": "code",
   "execution_count": 13,
   "id": "97b97a07-a577-4cff-9b5b-b6bd8d07794b",
   "metadata": {},
   "outputs": [],
   "source": [
    "# Filter remedies by commonNames/CNAME and take every 6th item\n",
    "filtered_remedies = [r for i, r in enumerate(remedies) if r.get('commonNames', {}).get('CNAME') and i % 6 == 0]\n"
   ]
  },
  {
   "cell_type": "code",
   "execution_count": 14,
   "id": "af1bc283-4dfa-4370-918f-287e0b118354",
   "metadata": {},
   "outputs": [],
   "source": [
    "#Remove duplicates\n",
    "unique_remedies = [dict(t) for t in {tuple(r.items()) for r in filtered_remedies}]\n"
   ]
  },
  {
   "cell_type": "code",
   "execution_count": 15,
   "id": "f95cbd65-2b4c-4351-8926-aa66a3e46149",
   "metadata": {},
   "outputs": [],
   "source": [
    "\n",
    "# Save the filtered remedies as a new JSON file\n",
    "with open('filtered_remedies.json', 'w') as f:\n",
    "    json.dump(unique_remedies, f)\n"
   ]
  },
  {
   "cell_type": "code",
   "execution_count": null,
   "id": "e238f43f-0166-40dd-b07e-7d00de0c9279",
   "metadata": {},
   "outputs": [],
   "source": []
  },
  {
   "cell_type": "code",
   "execution_count": null,
   "id": "85b1fb78-557b-492e-b4ba-58c6f88ccb97",
   "metadata": {},
   "outputs": [],
   "source": []
  }
 ],
 "metadata": {
  "kernelspec": {
   "display_name": "Python 3 (ipykernel)",
   "language": "python",
   "name": "python3"
  },
  "language_info": {
   "codemirror_mode": {
    "name": "ipython",
    "version": 3
   },
   "file_extension": ".py",
   "mimetype": "text/x-python",
   "name": "python",
   "nbconvert_exporter": "python",
   "pygments_lexer": "ipython3",
   "version": "3.9.13"
  }
 },
 "nbformat": 4,
 "nbformat_minor": 5
}
