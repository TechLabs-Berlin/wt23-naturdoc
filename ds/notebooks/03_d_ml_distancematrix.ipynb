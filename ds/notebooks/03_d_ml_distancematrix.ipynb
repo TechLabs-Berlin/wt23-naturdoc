{
 "cells": [
  {
   "cell_type": "code",
   "execution_count": 2,
   "metadata": {},
   "outputs": [],
   "source": [
    "import pandas as pd\n",
    "import numpy as np\n",
    "import matplotlib.pyplot as plt\n",
    "import seaborn as sns\n",
    "%matplotlib inline"
   ]
  },
  {
   "attachments": {},
   "cell_type": "markdown",
   "metadata": {},
   "source": [
    "### NaturDoc - TL BL WT 22-23"
   ]
  },
  {
   "attachments": {},
   "cell_type": "markdown",
   "metadata": {},
   "source": [
    "# Data clustering:"
   ]
  },
  {
   "attachments": {},
   "cell_type": "markdown",
   "metadata": {},
   "source": [
    "## Generating Distance Matrices and a Symptom-Activity Matching Dictionary:"
   ]
  },
  {
   "attachments": {},
   "cell_type": "markdown",
   "metadata": {},
   "source": [
    "## Loading Embeddings Data:\n"
   ]
  },
  {
   "cell_type": "code",
   "execution_count": 3,
   "metadata": {},
   "outputs": [],
   "source": [
    "symptoms_embeddings = pd.read_csv(\"../data/embeddings/word_embeddings_dataframe.csv\")"
   ]
  },
  {
   "attachments": {},
   "cell_type": "markdown",
   "metadata": {},
   "source": [
    "The dataframe contains three columns: the symptom name (from the Duke dataset and the google symptom data), and one column for the two embedding models each: the first being `all-MiniLM-L6-v2` and the second being `average_word_embeddings_glove.840B.300d`."
   ]
  },
  {
   "cell_type": "code",
   "execution_count": 4,
   "metadata": {},
   "outputs": [
    {
     "name": "stdout",
     "output_type": "stream",
     "text": [
      "(2404, 3)\n"
     ]
    },
    {
     "data": {
      "text/html": [
       "<div>\n",
       "<style scoped>\n",
       "    .dataframe tbody tr th:only-of-type {\n",
       "        vertical-align: middle;\n",
       "    }\n",
       "\n",
       "    .dataframe tbody tr th {\n",
       "        vertical-align: top;\n",
       "    }\n",
       "\n",
       "    .dataframe thead th {\n",
       "        text-align: right;\n",
       "    }\n",
       "</style>\n",
       "<table border=\"1\" class=\"dataframe\">\n",
       "  <thead>\n",
       "    <tr style=\"text-align: right;\">\n",
       "      <th></th>\n",
       "      <th>Symptom</th>\n",
       "      <th>Embedding1</th>\n",
       "      <th>Embedding2</th>\n",
       "    </tr>\n",
       "  </thead>\n",
       "  <tbody>\n",
       "    <tr>\n",
       "      <th>0</th>\n",
       "      <td>Abcess</td>\n",
       "      <td>[-9.81967244e-03  1.01662287e-02  3.75229940e-...</td>\n",
       "      <td>[ 2.1690e-02 -1.8056e-01 -8.5585e-02 -5.6702e-...</td>\n",
       "    </tr>\n",
       "    <tr>\n",
       "      <th>1</th>\n",
       "      <td>Abdomen</td>\n",
       "      <td>[ 5.98840415e-02  1.64022837e-02 -4.90665212e-...</td>\n",
       "      <td>[-0.73936   -0.18636    0.59149    0.47356    ...</td>\n",
       "    </tr>\n",
       "  </tbody>\n",
       "</table>\n",
       "</div>"
      ],
      "text/plain": [
       "   Symptom                                         Embedding1  \\\n",
       "0   Abcess  [-9.81967244e-03  1.01662287e-02  3.75229940e-...   \n",
       "1  Abdomen  [ 5.98840415e-02  1.64022837e-02 -4.90665212e-...   \n",
       "\n",
       "                                          Embedding2  \n",
       "0  [ 2.1690e-02 -1.8056e-01 -8.5585e-02 -5.6702e-...  \n",
       "1  [-0.73936   -0.18636    0.59149    0.47356    ...  "
      ]
     },
     "execution_count": 4,
     "metadata": {},
     "output_type": "execute_result"
    }
   ],
   "source": [
    "print(symptoms_embeddings.shape)\n",
    "symptoms_embeddings.head(2)"
   ]
  },
  {
   "attachments": {},
   "cell_type": "markdown",
   "metadata": {},
   "source": [
    "Extracting a dictionary matching index to symptom name:"
   ]
  },
  {
   "cell_type": "code",
   "execution_count": 5,
   "metadata": {},
   "outputs": [
    {
     "data": {
      "text/plain": [
       "[(0, 'Abcess'),\n",
       " (1, 'Abdomen'),\n",
       " (2, 'Abortifacient'),\n",
       " (3, 'Abortive'),\n",
       " (4, 'Abrasion')]"
      ]
     },
     "execution_count": 5,
     "metadata": {},
     "output_type": "execute_result"
    }
   ],
   "source": [
    "dict_symptom = symptoms_embeddings[\"Symptom\"].to_dict()\n",
    "list(dict_symptom.items())[:5]"
   ]
  },
  {
   "attachments": {},
   "cell_type": "markdown",
   "metadata": {},
   "source": [
    "#### Transforming:"
   ]
  },
  {
   "attachments": {},
   "cell_type": "markdown",
   "metadata": {},
   "source": [
    "Reading from the csv, it is no longer a proper list but instead a string containing extra characters:"
   ]
  },
  {
   "cell_type": "code",
   "execution_count": 6,
   "metadata": {},
   "outputs": [
    {
     "data": {
      "text/plain": [
       "'[-9.81967244e-03  1.01662287e-02  3.75229940e-02  1.75703913e-02\\n -1.11436069e-01  3.83325890e-02  1'"
      ]
     },
     "execution_count": 6,
     "metadata": {},
     "output_type": "execute_result"
    }
   ],
   "source": [
    "symptoms_embeddings.loc[0, \"Embedding1\"][:100]"
   ]
  },
  {
   "cell_type": "code",
   "execution_count": 7,
   "metadata": {},
   "outputs": [
    {
     "data": {
      "text/plain": [
       "str"
      ]
     },
     "execution_count": 7,
     "metadata": {},
     "output_type": "execute_result"
    }
   ],
   "source": [
    "type(symptoms_embeddings.loc[1, \"Embedding1\"])"
   ]
  },
  {
   "cell_type": "code",
   "execution_count": 8,
   "metadata": {},
   "outputs": [],
   "source": [
    "test_list_1 = symptoms_embeddings.loc[0, \"Embedding1\"].replace(\"\\n\", \"\").replace(\"[\", \"\").replace(\"]\", \"\").split(\" \")\n",
    "test_list_2 = symptoms_embeddings.loc[0, \"Embedding2\"].replace(\"\\n\", \"\").replace(\"[\", \"\").replace(\"]\", \"\").split(\" \")"
   ]
  },
  {
   "cell_type": "code",
   "execution_count": 9,
   "metadata": {},
   "outputs": [
    {
     "data": {
      "text/plain": [
       "['-9.81967244e-03', '', '1.01662287e-02', '', '3.75229940e-02']"
      ]
     },
     "execution_count": 9,
     "metadata": {},
     "output_type": "execute_result"
    }
   ],
   "source": [
    "test_list_1[:5]"
   ]
  },
  {
   "attachments": {},
   "cell_type": "markdown",
   "metadata": {},
   "source": [
    "Removing all empty strings:"
   ]
  },
  {
   "cell_type": "code",
   "execution_count": 10,
   "metadata": {},
   "outputs": [
    {
     "data": {
      "text/plain": [
       "['-9.81967244e-03',\n",
       " '1.01662287e-02',\n",
       " '3.75229940e-02',\n",
       " '1.75703913e-02',\n",
       " '-1.11436069e-01']"
      ]
     },
     "execution_count": 10,
     "metadata": {},
     "output_type": "execute_result"
    }
   ],
   "source": [
    "test_list_1 = [x for x in test_list_1 if x]\n",
    "test_list_2 = [x for x in test_list_2 if x]\n",
    "test_list_1[:5]"
   ]
  },
  {
   "cell_type": "code",
   "execution_count": 11,
   "metadata": {},
   "outputs": [
    {
     "data": {
      "text/plain": [
       "384"
      ]
     },
     "execution_count": 11,
     "metadata": {},
     "output_type": "execute_result"
    }
   ],
   "source": [
    "len(test_list_1)"
   ]
  },
  {
   "cell_type": "code",
   "execution_count": 12,
   "metadata": {},
   "outputs": [
    {
     "data": {
      "text/plain": [
       "300"
      ]
     },
     "execution_count": 12,
     "metadata": {},
     "output_type": "execute_result"
    }
   ],
   "source": [
    "len(test_list_2)"
   ]
  },
  {
   "attachments": {},
   "cell_type": "markdown",
   "metadata": {},
   "source": [
    "### Creating useable dataframes:"
   ]
  },
  {
   "attachments": {},
   "cell_type": "markdown",
   "metadata": {},
   "source": [
    "#### Embedding 1 column:\n",
    "\n",
    "First, transform content of rows from strings to lists:"
   ]
  },
  {
   "cell_type": "code",
   "execution_count": 13,
   "metadata": {},
   "outputs": [
    {
     "data": {
      "text/plain": [
       "['',\n",
       " '5.98840415e-02',\n",
       " '',\n",
       " '1.64022837e-02',\n",
       " '-4.90665212e-02',\n",
       " '',\n",
       " '4.81191762e-02\\n',\n",
       " '-9.69780684e-02',\n",
       " '-1.16978601e-01',\n",
       " '']"
      ]
     },
     "execution_count": 13,
     "metadata": {},
     "output_type": "execute_result"
    }
   ],
   "source": [
    "symptoms_embeddings.loc[:, \"Embedding1\"].str.replace(\"[\", \"\", regex=True).replace(\"]\", \"\", regex=True).str.split(\" \")[1][:10]"
   ]
  },
  {
   "cell_type": "code",
   "execution_count": 14,
   "metadata": {},
   "outputs": [],
   "source": [
    "def listify_df_values(df_series: pd.Series):\n",
    "    df_series = df_series.str.replace(\"\\n\", \"\", regex=True)\n",
    "    df_series = df_series.str.replace(\"[\", \"\", regex=True).replace(\"]\", \"\", regex=True)\n",
    "    df_series = df_series.str.split(\" \")\n",
    "    # df_list = df_list.apply(lambda x: x for x in df_list if x)\n",
    "    return df_series"
   ]
  },
  {
   "cell_type": "code",
   "execution_count": 15,
   "metadata": {},
   "outputs": [],
   "source": [
    "embeddings1_series = listify_df_values(symptoms_embeddings.loc[:, \"Embedding1\"])\n",
    "# symptoms_embeddings.loc[:, \"Embedding1\"] = symptoms_embeddings.loc[:, \"Embedding1\"]"
   ]
  },
  {
   "cell_type": "code",
   "execution_count": 16,
   "metadata": {},
   "outputs": [],
   "source": [
    "embeddings1_series = embeddings1_series.apply(lambda row: [val for val in row if val])"
   ]
  },
  {
   "attachments": {},
   "cell_type": "markdown",
   "metadata": {},
   "source": [
    "https://stackoverflow.com/questions/67442107/pandas-expand-explode-dataframe-horizontally"
   ]
  },
  {
   "cell_type": "code",
   "execution_count": 17,
   "metadata": {},
   "outputs": [
    {
     "data": {
      "text/html": [
       "<div>\n",
       "<style scoped>\n",
       "    .dataframe tbody tr th:only-of-type {\n",
       "        vertical-align: middle;\n",
       "    }\n",
       "\n",
       "    .dataframe tbody tr th {\n",
       "        vertical-align: top;\n",
       "    }\n",
       "\n",
       "    .dataframe thead th {\n",
       "        text-align: right;\n",
       "    }\n",
       "</style>\n",
       "<table border=\"1\" class=\"dataframe\">\n",
       "  <thead>\n",
       "    <tr style=\"text-align: right;\">\n",
       "      <th></th>\n",
       "      <th>Embedding1</th>\n",
       "    </tr>\n",
       "  </thead>\n",
       "  <tbody>\n",
       "    <tr>\n",
       "      <th>0</th>\n",
       "      <td>[-9.81967244e-03, 1.01662287e-02, 3.75229940e-...</td>\n",
       "    </tr>\n",
       "    <tr>\n",
       "      <th>1</th>\n",
       "      <td>[5.98840415e-02, 1.64022837e-02, -4.90665212e-...</td>\n",
       "    </tr>\n",
       "    <tr>\n",
       "      <th>2</th>\n",
       "      <td>[6.30832557e-03, 6.94514960e-02, 9.17118881e-0...</td>\n",
       "    </tr>\n",
       "    <tr>\n",
       "      <th>3</th>\n",
       "      <td>[-1.41132241e-02, 7.76526034e-02, -8.35783686e...</td>\n",
       "    </tr>\n",
       "    <tr>\n",
       "      <th>4</th>\n",
       "      <td>[-7.86128864e-02, -2.58876905e-02, 3.46109122e...</td>\n",
       "    </tr>\n",
       "  </tbody>\n",
       "</table>\n",
       "</div>"
      ],
      "text/plain": [
       "                                          Embedding1\n",
       "0  [-9.81967244e-03, 1.01662287e-02, 3.75229940e-...\n",
       "1  [5.98840415e-02, 1.64022837e-02, -4.90665212e-...\n",
       "2  [6.30832557e-03, 6.94514960e-02, 9.17118881e-0...\n",
       "3  [-1.41132241e-02, 7.76526034e-02, -8.35783686e...\n",
       "4  [-7.86128864e-02, -2.58876905e-02, 3.46109122e..."
      ]
     },
     "execution_count": 17,
     "metadata": {},
     "output_type": "execute_result"
    }
   ],
   "source": [
    "embeddings1_df = pd.DataFrame(embeddings1_series)\n",
    "embeddings1_df.head(5)"
   ]
  },
  {
   "cell_type": "code",
   "execution_count": 18,
   "metadata": {},
   "outputs": [
    {
     "data": {
      "text/html": [
       "<div>\n",
       "<style scoped>\n",
       "    .dataframe tbody tr th:only-of-type {\n",
       "        vertical-align: middle;\n",
       "    }\n",
       "\n",
       "    .dataframe tbody tr th {\n",
       "        vertical-align: top;\n",
       "    }\n",
       "\n",
       "    .dataframe thead th {\n",
       "        text-align: right;\n",
       "    }\n",
       "</style>\n",
       "<table border=\"1\" class=\"dataframe\">\n",
       "  <thead>\n",
       "    <tr style=\"text-align: right;\">\n",
       "      <th></th>\n",
       "      <th>Embedding1_0</th>\n",
       "      <th>Embedding1_1</th>\n",
       "      <th>Embedding1_2</th>\n",
       "      <th>Embedding1_3</th>\n",
       "      <th>Embedding1_4</th>\n",
       "      <th>Embedding1_5</th>\n",
       "      <th>Embedding1_6</th>\n",
       "      <th>Embedding1_7</th>\n",
       "      <th>Embedding1_8</th>\n",
       "      <th>Embedding1_9</th>\n",
       "      <th>...</th>\n",
       "      <th>Embedding1_374</th>\n",
       "      <th>Embedding1_375</th>\n",
       "      <th>Embedding1_376</th>\n",
       "      <th>Embedding1_377</th>\n",
       "      <th>Embedding1_378</th>\n",
       "      <th>Embedding1_379</th>\n",
       "      <th>Embedding1_380</th>\n",
       "      <th>Embedding1_381</th>\n",
       "      <th>Embedding1_382</th>\n",
       "      <th>Embedding1_383</th>\n",
       "    </tr>\n",
       "  </thead>\n",
       "  <tbody>\n",
       "    <tr>\n",
       "      <th>0</th>\n",
       "      <td>-9.81967244e-03</td>\n",
       "      <td>1.01662287e-02</td>\n",
       "      <td>3.75229940e-02</td>\n",
       "      <td>1.75703913e-02</td>\n",
       "      <td>-1.11436069e-01</td>\n",
       "      <td>3.83325890e-02</td>\n",
       "      <td>1.48906738e-01</td>\n",
       "      <td>4.44466770e-02</td>\n",
       "      <td>5.77533916e-02</td>\n",
       "      <td>-1.21526700e-02</td>\n",
       "      <td>...</td>\n",
       "      <td>6.11344092e-02</td>\n",
       "      <td>1.98782869e-02</td>\n",
       "      <td>1.33477971e-02</td>\n",
       "      <td>3.86779606e-02</td>\n",
       "      <td>-4.79677059e-02</td>\n",
       "      <td>3.42200510e-02</td>\n",
       "      <td>4.26308662e-02</td>\n",
       "      <td>3.78118306e-02</td>\n",
       "      <td>6.95859119e-02</td>\n",
       "      <td>-4.20008637e-02</td>\n",
       "    </tr>\n",
       "    <tr>\n",
       "      <th>1</th>\n",
       "      <td>5.98840415e-02</td>\n",
       "      <td>1.64022837e-02</td>\n",
       "      <td>-4.90665212e-02</td>\n",
       "      <td>4.81191762e-02</td>\n",
       "      <td>-9.69780684e-02</td>\n",
       "      <td>-1.16978601e-01</td>\n",
       "      <td>1.07039817e-01</td>\n",
       "      <td>2.18950473e-02</td>\n",
       "      <td>4.59282361e-02</td>\n",
       "      <td>-6.05028607e-02</td>\n",
       "      <td>...</td>\n",
       "      <td>4.86743562e-02</td>\n",
       "      <td>1.04232021e-02</td>\n",
       "      <td>1.38152717e-02</td>\n",
       "      <td>-5.32790925e-03</td>\n",
       "      <td>-1.77161284e-02</td>\n",
       "      <td>1.04324900e-01</td>\n",
       "      <td>9.65044126e-02</td>\n",
       "      <td>7.19451010e-02</td>\n",
       "      <td>1.72711313e-02</td>\n",
       "      <td>6.24693604e-03</td>\n",
       "    </tr>\n",
       "    <tr>\n",
       "      <th>2</th>\n",
       "      <td>6.30832557e-03</td>\n",
       "      <td>6.94514960e-02</td>\n",
       "      <td>9.17118881e-03</td>\n",
       "      <td>-4.25593607e-04</td>\n",
       "      <td>3.68529968e-02</td>\n",
       "      <td>2.88750455e-02</td>\n",
       "      <td>9.93606523e-02</td>\n",
       "      <td>1.99077209e-03</td>\n",
       "      <td>3.11414283e-02</td>\n",
       "      <td>3.83325480e-02</td>\n",
       "      <td>...</td>\n",
       "      <td>2.25946605e-02</td>\n",
       "      <td>-3.91616262e-02</td>\n",
       "      <td>1.23729361e-02</td>\n",
       "      <td>-2.83677857e-02</td>\n",
       "      <td>-8.51575360e-02</td>\n",
       "      <td>7.25132674e-02</td>\n",
       "      <td>6.53430074e-02</td>\n",
       "      <td>2.26758630e-03</td>\n",
       "      <td>6.07209243e-02</td>\n",
       "      <td>-2.46002264e-02</td>\n",
       "    </tr>\n",
       "    <tr>\n",
       "      <th>3</th>\n",
       "      <td>-1.41132241e-02</td>\n",
       "      <td>7.76526034e-02</td>\n",
       "      <td>-8.35783686e-03</td>\n",
       "      <td>2.37053819e-02</td>\n",
       "      <td>5.61783165e-02</td>\n",
       "      <td>3.36992592e-02</td>\n",
       "      <td>1.19458653e-01</td>\n",
       "      <td>-2.01092865e-02</td>\n",
       "      <td>3.62723432e-02</td>\n",
       "      <td>4.82863858e-02</td>\n",
       "      <td>...</td>\n",
       "      <td>6.69673532e-02</td>\n",
       "      <td>1.13059739e-02</td>\n",
       "      <td>-1.16295973e-02</td>\n",
       "      <td>-2.42045093e-02</td>\n",
       "      <td>-5.78260906e-02</td>\n",
       "      <td>3.89332138e-02</td>\n",
       "      <td>1.18804961e-01</td>\n",
       "      <td>-2.96259206e-02</td>\n",
       "      <td>3.69524844e-02</td>\n",
       "      <td>-9.53654386e-03</td>\n",
       "    </tr>\n",
       "    <tr>\n",
       "      <th>4</th>\n",
       "      <td>-7.86128864e-02</td>\n",
       "      <td>-2.58876905e-02</td>\n",
       "      <td>3.46109122e-02</td>\n",
       "      <td>5.58277592e-02</td>\n",
       "      <td>-3.87978852e-02</td>\n",
       "      <td>-5.56877032e-02</td>\n",
       "      <td>1.44394651e-01</td>\n",
       "      <td>2.46080924e-02</td>\n",
       "      <td>-7.19921589e-02</td>\n",
       "      <td>-4.99793142e-02</td>\n",
       "      <td>...</td>\n",
       "      <td>2.83698123e-02</td>\n",
       "      <td>-3.49769071e-02</td>\n",
       "      <td>-2.14673597e-02</td>\n",
       "      <td>1.45020243e-02</td>\n",
       "      <td>5.76726533e-02</td>\n",
       "      <td>3.32759731e-02</td>\n",
       "      <td>1.09838024e-01</td>\n",
       "      <td>-7.57560134e-02</td>\n",
       "      <td>2.23050658e-02</td>\n",
       "      <td>-4.70947437e-02</td>\n",
       "    </tr>\n",
       "  </tbody>\n",
       "</table>\n",
       "<p>5 rows × 384 columns</p>\n",
       "</div>"
      ],
      "text/plain": [
       "      Embedding1_0     Embedding1_1     Embedding1_2     Embedding1_3  \\\n",
       "0  -9.81967244e-03   1.01662287e-02   3.75229940e-02   1.75703913e-02   \n",
       "1   5.98840415e-02   1.64022837e-02  -4.90665212e-02   4.81191762e-02   \n",
       "2   6.30832557e-03   6.94514960e-02   9.17118881e-03  -4.25593607e-04   \n",
       "3  -1.41132241e-02   7.76526034e-02  -8.35783686e-03   2.37053819e-02   \n",
       "4  -7.86128864e-02  -2.58876905e-02   3.46109122e-02   5.58277592e-02   \n",
       "\n",
       "      Embedding1_4     Embedding1_5    Embedding1_6     Embedding1_7  \\\n",
       "0  -1.11436069e-01   3.83325890e-02  1.48906738e-01   4.44466770e-02   \n",
       "1  -9.69780684e-02  -1.16978601e-01  1.07039817e-01   2.18950473e-02   \n",
       "2   3.68529968e-02   2.88750455e-02  9.93606523e-02   1.99077209e-03   \n",
       "3   5.61783165e-02   3.36992592e-02  1.19458653e-01  -2.01092865e-02   \n",
       "4  -3.87978852e-02  -5.56877032e-02  1.44394651e-01   2.46080924e-02   \n",
       "\n",
       "      Embedding1_8     Embedding1_9  ...  Embedding1_374   Embedding1_375  \\\n",
       "0   5.77533916e-02  -1.21526700e-02  ...  6.11344092e-02   1.98782869e-02   \n",
       "1   4.59282361e-02  -6.05028607e-02  ...  4.86743562e-02   1.04232021e-02   \n",
       "2   3.11414283e-02   3.83325480e-02  ...  2.25946605e-02  -3.91616262e-02   \n",
       "3   3.62723432e-02   4.82863858e-02  ...  6.69673532e-02   1.13059739e-02   \n",
       "4  -7.19921589e-02  -4.99793142e-02  ...  2.83698123e-02  -3.49769071e-02   \n",
       "\n",
       "    Embedding1_376   Embedding1_377   Embedding1_378  Embedding1_379  \\\n",
       "0   1.33477971e-02   3.86779606e-02  -4.79677059e-02  3.42200510e-02   \n",
       "1   1.38152717e-02  -5.32790925e-03  -1.77161284e-02  1.04324900e-01   \n",
       "2   1.23729361e-02  -2.83677857e-02  -8.51575360e-02  7.25132674e-02   \n",
       "3  -1.16295973e-02  -2.42045093e-02  -5.78260906e-02  3.89332138e-02   \n",
       "4  -2.14673597e-02   1.45020243e-02   5.76726533e-02  3.32759731e-02   \n",
       "\n",
       "   Embedding1_380   Embedding1_381  Embedding1_382   Embedding1_383  \n",
       "0  4.26308662e-02   3.78118306e-02  6.95859119e-02  -4.20008637e-02  \n",
       "1  9.65044126e-02   7.19451010e-02  1.72711313e-02   6.24693604e-03  \n",
       "2  6.53430074e-02   2.26758630e-03  6.07209243e-02  -2.46002264e-02  \n",
       "3  1.18804961e-01  -2.96259206e-02  3.69524844e-02  -9.53654386e-03  \n",
       "4  1.09838024e-01  -7.57560134e-02  2.23050658e-02  -4.70947437e-02  \n",
       "\n",
       "[5 rows x 384 columns]"
      ]
     },
     "execution_count": 18,
     "metadata": {},
     "output_type": "execute_result"
    }
   ],
   "source": [
    "embeddings1_df = pd.concat(\n",
    "    [embeddings1_df[c].apply(pd.Series).add_prefix(c + \"_\") for c in embeddings1_df], axis=1\n",
    ")\n",
    "\n",
    "embeddings1_df.head(5)"
   ]
  },
  {
   "attachments": {},
   "cell_type": "markdown",
   "metadata": {},
   "source": [
    "Wrong data type:"
   ]
  },
  {
   "cell_type": "code",
   "execution_count": 19,
   "metadata": {},
   "outputs": [
    {
     "data": {
      "text/plain": [
       "'-9.81967244e-03'"
      ]
     },
     "execution_count": 19,
     "metadata": {},
     "output_type": "execute_result"
    }
   ],
   "source": [
    "embeddings1_df.loc[0, \"Embedding1_0\"]"
   ]
  },
  {
   "cell_type": "code",
   "execution_count": 20,
   "metadata": {},
   "outputs": [
    {
     "data": {
      "text/plain": [
       "str"
      ]
     },
     "execution_count": 20,
     "metadata": {},
     "output_type": "execute_result"
    }
   ],
   "source": [
    "type(embeddings1_df.loc[0, \"Embedding1_0\"])"
   ]
  },
  {
   "cell_type": "code",
   "execution_count": 21,
   "metadata": {},
   "outputs": [],
   "source": [
    "embeddings1_df = embeddings1_df.apply(pd.to_numeric, errors='coerce')"
   ]
  },
  {
   "cell_type": "code",
   "execution_count": 22,
   "metadata": {},
   "outputs": [
    {
     "data": {
      "text/plain": [
       "numpy.float64"
      ]
     },
     "execution_count": 22,
     "metadata": {},
     "output_type": "execute_result"
    }
   ],
   "source": [
    "type(embeddings1_df.loc[0, \"Embedding1_0\"])"
   ]
  },
  {
   "attachments": {},
   "cell_type": "markdown",
   "metadata": {},
   "source": [
    "#### Embedding 2 column:\n",
    "\n",
    "Repeat the above steps for the Embedding_2 column:"
   ]
  },
  {
   "attachments": {},
   "cell_type": "markdown",
   "metadata": {},
   "source": [
    "Creating the basic dataframe:"
   ]
  },
  {
   "cell_type": "code",
   "execution_count": 23,
   "metadata": {},
   "outputs": [
    {
     "data": {
      "text/html": [
       "<div>\n",
       "<style scoped>\n",
       "    .dataframe tbody tr th:only-of-type {\n",
       "        vertical-align: middle;\n",
       "    }\n",
       "\n",
       "    .dataframe tbody tr th {\n",
       "        vertical-align: top;\n",
       "    }\n",
       "\n",
       "    .dataframe thead th {\n",
       "        text-align: right;\n",
       "    }\n",
       "</style>\n",
       "<table border=\"1\" class=\"dataframe\">\n",
       "  <thead>\n",
       "    <tr style=\"text-align: right;\">\n",
       "      <th></th>\n",
       "      <th>Embedding2</th>\n",
       "    </tr>\n",
       "  </thead>\n",
       "  <tbody>\n",
       "    <tr>\n",
       "      <th>0</th>\n",
       "      <td>[2.1690e-02, -1.8056e-01, -8.5585e-02, -5.6702...</td>\n",
       "    </tr>\n",
       "    <tr>\n",
       "      <th>1</th>\n",
       "      <td>[-0.73936, -0.18636, 0.59149, 0.47356, 0.59297...</td>\n",
       "    </tr>\n",
       "    <tr>\n",
       "      <th>2</th>\n",
       "      <td>[0.58928, 0.24762, 0.5015, -0.31308, -0.029607...</td>\n",
       "    </tr>\n",
       "    <tr>\n",
       "      <th>3</th>\n",
       "      <td>[8.2946e-02, 1.6964e-01, -2.1112e-01, 2.1073e-...</td>\n",
       "    </tr>\n",
       "    <tr>\n",
       "      <th>4</th>\n",
       "      <td>[-3.7954e-01, 4.4132e-01, 3.6332e-02, 2.2410e-...</td>\n",
       "    </tr>\n",
       "  </tbody>\n",
       "</table>\n",
       "</div>"
      ],
      "text/plain": [
       "                                          Embedding2\n",
       "0  [2.1690e-02, -1.8056e-01, -8.5585e-02, -5.6702...\n",
       "1  [-0.73936, -0.18636, 0.59149, 0.47356, 0.59297...\n",
       "2  [0.58928, 0.24762, 0.5015, -0.31308, -0.029607...\n",
       "3  [8.2946e-02, 1.6964e-01, -2.1112e-01, 2.1073e-...\n",
       "4  [-3.7954e-01, 4.4132e-01, 3.6332e-02, 2.2410e-..."
      ]
     },
     "execution_count": 23,
     "metadata": {},
     "output_type": "execute_result"
    }
   ],
   "source": [
    "embeddings2_series = listify_df_values(symptoms_embeddings.loc[:, \"Embedding2\"])\n",
    "embeddings2_series = embeddings2_series.apply(lambda row: [val for val in row if val])\n",
    "\n",
    "embeddings2_df = pd.DataFrame(embeddings2_series)\n",
    "embeddings2_df.head()"
   ]
  },
  {
   "attachments": {},
   "cell_type": "markdown",
   "metadata": {},
   "source": [
    "Exploding the lists of values into their own columns so that every cell only contains a single value:"
   ]
  },
  {
   "cell_type": "code",
   "execution_count": 24,
   "metadata": {},
   "outputs": [
    {
     "data": {
      "text/html": [
       "<div>\n",
       "<style scoped>\n",
       "    .dataframe tbody tr th:only-of-type {\n",
       "        vertical-align: middle;\n",
       "    }\n",
       "\n",
       "    .dataframe tbody tr th {\n",
       "        vertical-align: top;\n",
       "    }\n",
       "\n",
       "    .dataframe thead th {\n",
       "        text-align: right;\n",
       "    }\n",
       "</style>\n",
       "<table border=\"1\" class=\"dataframe\">\n",
       "  <thead>\n",
       "    <tr style=\"text-align: right;\">\n",
       "      <th></th>\n",
       "      <th>Embedding2_0</th>\n",
       "      <th>Embedding2_1</th>\n",
       "      <th>Embedding2_2</th>\n",
       "      <th>Embedding2_3</th>\n",
       "      <th>Embedding2_4</th>\n",
       "      <th>Embedding2_5</th>\n",
       "      <th>Embedding2_6</th>\n",
       "      <th>Embedding2_7</th>\n",
       "      <th>Embedding2_8</th>\n",
       "      <th>Embedding2_9</th>\n",
       "      <th>...</th>\n",
       "      <th>Embedding2_290</th>\n",
       "      <th>Embedding2_291</th>\n",
       "      <th>Embedding2_292</th>\n",
       "      <th>Embedding2_293</th>\n",
       "      <th>Embedding2_294</th>\n",
       "      <th>Embedding2_295</th>\n",
       "      <th>Embedding2_296</th>\n",
       "      <th>Embedding2_297</th>\n",
       "      <th>Embedding2_298</th>\n",
       "      <th>Embedding2_299</th>\n",
       "    </tr>\n",
       "  </thead>\n",
       "  <tbody>\n",
       "    <tr>\n",
       "      <th>0</th>\n",
       "      <td>2.1690e-02</td>\n",
       "      <td>-1.8056e-01</td>\n",
       "      <td>-8.5585e-02</td>\n",
       "      <td>-5.6702e-01</td>\n",
       "      <td>-3.7991e-01</td>\n",
       "      <td>7.4952e-01</td>\n",
       "      <td>2.7161e-01</td>\n",
       "      <td>-2.0359e-01</td>\n",
       "      <td>2.8772e-01</td>\n",
       "      <td>-1.4985e+00</td>\n",
       "      <td>...</td>\n",
       "      <td>7.6870e-01</td>\n",
       "      <td>-5.7498e-01</td>\n",
       "      <td>-1.0212e-01</td>\n",
       "      <td>-5.5700e-02</td>\n",
       "      <td>-4.5765e-01</td>\n",
       "      <td>-2.6548e-01</td>\n",
       "      <td>1.9396e-01</td>\n",
       "      <td>3.8276e-01</td>\n",
       "      <td>-1.5735e-02</td>\n",
       "      <td>-3.6918e-02</td>\n",
       "    </tr>\n",
       "    <tr>\n",
       "      <th>1</th>\n",
       "      <td>-0.73936</td>\n",
       "      <td>-0.18636</td>\n",
       "      <td>0.59149</td>\n",
       "      <td>0.47356</td>\n",
       "      <td>0.59297</td>\n",
       "      <td>-0.22319</td>\n",
       "      <td>0.066332</td>\n",
       "      <td>0.35977</td>\n",
       "      <td>0.063273</td>\n",
       "      <td>-1.5661</td>\n",
       "      <td>...</td>\n",
       "      <td>0.78603</td>\n",
       "      <td>0.54811</td>\n",
       "      <td>0.23896</td>\n",
       "      <td>-0.42036</td>\n",
       "      <td>-0.085291</td>\n",
       "      <td>0.64376</td>\n",
       "      <td>0.54307</td>\n",
       "      <td>0.42253</td>\n",
       "      <td>0.61038</td>\n",
       "      <td>-0.75482</td>\n",
       "    </tr>\n",
       "    <tr>\n",
       "      <th>2</th>\n",
       "      <td>0.58928</td>\n",
       "      <td>0.24762</td>\n",
       "      <td>0.5015</td>\n",
       "      <td>-0.31308</td>\n",
       "      <td>-0.029607</td>\n",
       "      <td>0.39451</td>\n",
       "      <td>-0.22913</td>\n",
       "      <td>0.57697</td>\n",
       "      <td>-0.76873</td>\n",
       "      <td>-1.3676</td>\n",
       "      <td>...</td>\n",
       "      <td>-0.42955</td>\n",
       "      <td>-0.14359</td>\n",
       "      <td>0.16626</td>\n",
       "      <td>0.3584</td>\n",
       "      <td>-0.10825</td>\n",
       "      <td>-0.1961</td>\n",
       "      <td>-0.15036</td>\n",
       "      <td>0.13764</td>\n",
       "      <td>-0.41586</td>\n",
       "      <td>-0.72983</td>\n",
       "    </tr>\n",
       "    <tr>\n",
       "      <th>3</th>\n",
       "      <td>8.2946e-02</td>\n",
       "      <td>1.6964e-01</td>\n",
       "      <td>-2.1112e-01</td>\n",
       "      <td>2.1073e-01</td>\n",
       "      <td>-9.4237e-03</td>\n",
       "      <td>3.4631e-01</td>\n",
       "      <td>-2.5166e-01</td>\n",
       "      <td>1.8472e-01</td>\n",
       "      <td>-3.3269e-01</td>\n",
       "      <td>-1.6627e+00</td>\n",
       "      <td>...</td>\n",
       "      <td>3.3283e-01</td>\n",
       "      <td>-1.5003e-01</td>\n",
       "      <td>5.4558e-01</td>\n",
       "      <td>-2.3841e-02</td>\n",
       "      <td>-4.8079e-01</td>\n",
       "      <td>5.1326e-01</td>\n",
       "      <td>-2.8660e-01</td>\n",
       "      <td>4.1394e-02</td>\n",
       "      <td>-6.6671e-02</td>\n",
       "      <td>-3.0770e-01</td>\n",
       "    </tr>\n",
       "    <tr>\n",
       "      <th>4</th>\n",
       "      <td>-3.7954e-01</td>\n",
       "      <td>4.4132e-01</td>\n",
       "      <td>3.6332e-02</td>\n",
       "      <td>2.2410e-01</td>\n",
       "      <td>8.7512e-02</td>\n",
       "      <td>-4.1484e-01</td>\n",
       "      <td>-6.0271e-03</td>\n",
       "      <td>9.8966e-02</td>\n",
       "      <td>-1.1458e-01</td>\n",
       "      <td>-1.7897e+00</td>\n",
       "      <td>...</td>\n",
       "      <td>1.0686e-01</td>\n",
       "      <td>2.7241e-01</td>\n",
       "      <td>-3.1783e-01</td>\n",
       "      <td>1.3302e-01</td>\n",
       "      <td>-1.7751e-01</td>\n",
       "      <td>7.4856e-01</td>\n",
       "      <td>3.6981e-01</td>\n",
       "      <td>3.5658e-01</td>\n",
       "      <td>1.3955e-01</td>\n",
       "      <td>-5.4288e-01</td>\n",
       "    </tr>\n",
       "  </tbody>\n",
       "</table>\n",
       "<p>5 rows × 300 columns</p>\n",
       "</div>"
      ],
      "text/plain": [
       "  Embedding2_0 Embedding2_1 Embedding2_2 Embedding2_3 Embedding2_4  \\\n",
       "0   2.1690e-02  -1.8056e-01  -8.5585e-02  -5.6702e-01  -3.7991e-01   \n",
       "1     -0.73936     -0.18636      0.59149      0.47356      0.59297   \n",
       "2      0.58928      0.24762       0.5015     -0.31308    -0.029607   \n",
       "3   8.2946e-02   1.6964e-01  -2.1112e-01   2.1073e-01  -9.4237e-03   \n",
       "4  -3.7954e-01   4.4132e-01   3.6332e-02   2.2410e-01   8.7512e-02   \n",
       "\n",
       "  Embedding2_5 Embedding2_6 Embedding2_7 Embedding2_8 Embedding2_9  ...  \\\n",
       "0   7.4952e-01   2.7161e-01  -2.0359e-01   2.8772e-01  -1.4985e+00  ...   \n",
       "1     -0.22319     0.066332      0.35977     0.063273      -1.5661  ...   \n",
       "2      0.39451     -0.22913      0.57697     -0.76873      -1.3676  ...   \n",
       "3   3.4631e-01  -2.5166e-01   1.8472e-01  -3.3269e-01  -1.6627e+00  ...   \n",
       "4  -4.1484e-01  -6.0271e-03   9.8966e-02  -1.1458e-01  -1.7897e+00  ...   \n",
       "\n",
       "  Embedding2_290 Embedding2_291 Embedding2_292 Embedding2_293 Embedding2_294  \\\n",
       "0     7.6870e-01    -5.7498e-01    -1.0212e-01    -5.5700e-02    -4.5765e-01   \n",
       "1        0.78603        0.54811        0.23896       -0.42036      -0.085291   \n",
       "2       -0.42955       -0.14359        0.16626         0.3584       -0.10825   \n",
       "3     3.3283e-01    -1.5003e-01     5.4558e-01    -2.3841e-02    -4.8079e-01   \n",
       "4     1.0686e-01     2.7241e-01    -3.1783e-01     1.3302e-01    -1.7751e-01   \n",
       "\n",
       "  Embedding2_295 Embedding2_296 Embedding2_297 Embedding2_298 Embedding2_299  \n",
       "0    -2.6548e-01     1.9396e-01     3.8276e-01    -1.5735e-02    -3.6918e-02  \n",
       "1        0.64376        0.54307        0.42253        0.61038       -0.75482  \n",
       "2        -0.1961       -0.15036        0.13764       -0.41586       -0.72983  \n",
       "3     5.1326e-01    -2.8660e-01     4.1394e-02    -6.6671e-02    -3.0770e-01  \n",
       "4     7.4856e-01     3.6981e-01     3.5658e-01     1.3955e-01    -5.4288e-01  \n",
       "\n",
       "[5 rows x 300 columns]"
      ]
     },
     "execution_count": 24,
     "metadata": {},
     "output_type": "execute_result"
    }
   ],
   "source": [
    "embeddings2_df = pd.concat(\n",
    "    [embeddings2_df[c].apply(pd.Series).add_prefix(c + \"_\") for c in embeddings2_df], axis=1\n",
    ")\n",
    "\n",
    "embeddings2_df.head()"
   ]
  },
  {
   "attachments": {},
   "cell_type": "markdown",
   "metadata": {},
   "source": [
    "Converting the cell values to floats:"
   ]
  },
  {
   "cell_type": "code",
   "execution_count": 25,
   "metadata": {},
   "outputs": [
    {
     "data": {
      "text/plain": [
       "numpy.float64"
      ]
     },
     "execution_count": 25,
     "metadata": {},
     "output_type": "execute_result"
    }
   ],
   "source": [
    "embeddings2_df = embeddings2_df.apply(pd.to_numeric, errors='coerce')\n",
    "type(embeddings2_df.loc[0, \"Embedding2_0\"])"
   ]
  },
  {
   "attachments": {},
   "cell_type": "markdown",
   "metadata": {},
   "source": [
    "## Creating the Distance Matrix:"
   ]
  },
  {
   "cell_type": "code",
   "execution_count": 26,
   "metadata": {},
   "outputs": [],
   "source": [
    "# importing the library\n",
    "from scipy.spatial import distance_matrix"
   ]
  },
  {
   "cell_type": "code",
   "execution_count": 27,
   "metadata": {},
   "outputs": [],
   "source": [
    "import math\n",
    "\n",
    "def generate_distance_matrix(df : pd.DataFrame,\n",
    "                distance_metric : str = \"euclidean\") -> pd.DataFrame: # 2.5k x 2.5k\n",
    "    if distance_metric == \"manhattan\":\n",
    "        p = 1\n",
    "    elif distance_metric == \"euclidean\":\n",
    "        p = 2\n",
    "    elif distance_metric == \"chebychev\":\n",
    "        p = math.inf\n",
    "    else:\n",
    "        p = 2\n",
    "    dis_matrix = distance_matrix(df.values, df.values, p)\n",
    "    dis_df = pd.DataFrame(dis_matrix)\n",
    "    return dis_df\n"
   ]
  },
  {
   "cell_type": "code",
   "execution_count": 28,
   "metadata": {},
   "outputs": [
    {
     "data": {
      "text/html": [
       "<div>\n",
       "<style scoped>\n",
       "    .dataframe tbody tr th:only-of-type {\n",
       "        vertical-align: middle;\n",
       "    }\n",
       "\n",
       "    .dataframe tbody tr th {\n",
       "        vertical-align: top;\n",
       "    }\n",
       "\n",
       "    .dataframe thead th {\n",
       "        text-align: right;\n",
       "    }\n",
       "</style>\n",
       "<table border=\"1\" class=\"dataframe\">\n",
       "  <thead>\n",
       "    <tr style=\"text-align: right;\">\n",
       "      <th></th>\n",
       "      <th>0</th>\n",
       "      <th>1</th>\n",
       "      <th>2</th>\n",
       "      <th>3</th>\n",
       "      <th>4</th>\n",
       "      <th>5</th>\n",
       "      <th>6</th>\n",
       "      <th>7</th>\n",
       "      <th>8</th>\n",
       "      <th>9</th>\n",
       "      <th>...</th>\n",
       "      <th>2394</th>\n",
       "      <th>2395</th>\n",
       "      <th>2396</th>\n",
       "      <th>2397</th>\n",
       "      <th>2398</th>\n",
       "      <th>2399</th>\n",
       "      <th>2400</th>\n",
       "      <th>2401</th>\n",
       "      <th>2402</th>\n",
       "      <th>2403</th>\n",
       "    </tr>\n",
       "  </thead>\n",
       "  <tbody>\n",
       "    <tr>\n",
       "      <th>0</th>\n",
       "      <td>0.000000</td>\n",
       "      <td>1.172835</td>\n",
       "      <td>1.230569</td>\n",
       "      <td>1.202147</td>\n",
       "      <td>1.068863</td>\n",
       "      <td>1.102719</td>\n",
       "      <td>1.213488</td>\n",
       "      <td>1.227862</td>\n",
       "      <td>1.129428</td>\n",
       "      <td>1.118084</td>\n",
       "      <td>...</td>\n",
       "      <td>1.387558</td>\n",
       "      <td>1.259721</td>\n",
       "      <td>1.314804</td>\n",
       "      <td>1.312847</td>\n",
       "      <td>1.368299</td>\n",
       "      <td>1.229228</td>\n",
       "      <td>1.269921</td>\n",
       "      <td>1.238341</td>\n",
       "      <td>1.326879</td>\n",
       "      <td>1.321452</td>\n",
       "    </tr>\n",
       "    <tr>\n",
       "      <th>1</th>\n",
       "      <td>1.172835</td>\n",
       "      <td>0.000000</td>\n",
       "      <td>1.308356</td>\n",
       "      <td>1.177216</td>\n",
       "      <td>1.158076</td>\n",
       "      <td>0.999987</td>\n",
       "      <td>1.074094</td>\n",
       "      <td>1.098266</td>\n",
       "      <td>1.247356</td>\n",
       "      <td>1.068514</td>\n",
       "      <td>...</td>\n",
       "      <td>1.311162</td>\n",
       "      <td>1.283786</td>\n",
       "      <td>1.350499</td>\n",
       "      <td>1.214172</td>\n",
       "      <td>1.252881</td>\n",
       "      <td>1.200630</td>\n",
       "      <td>1.159814</td>\n",
       "      <td>1.350562</td>\n",
       "      <td>1.248203</td>\n",
       "      <td>1.022531</td>\n",
       "    </tr>\n",
       "    <tr>\n",
       "      <th>2</th>\n",
       "      <td>1.230569</td>\n",
       "      <td>1.308356</td>\n",
       "      <td>0.000000</td>\n",
       "      <td>0.662869</td>\n",
       "      <td>1.238897</td>\n",
       "      <td>1.226645</td>\n",
       "      <td>1.240566</td>\n",
       "      <td>1.260014</td>\n",
       "      <td>1.054402</td>\n",
       "      <td>1.326170</td>\n",
       "      <td>...</td>\n",
       "      <td>1.361361</td>\n",
       "      <td>1.321046</td>\n",
       "      <td>1.303957</td>\n",
       "      <td>1.323953</td>\n",
       "      <td>1.452224</td>\n",
       "      <td>1.300060</td>\n",
       "      <td>1.313569</td>\n",
       "      <td>1.299467</td>\n",
       "      <td>1.382976</td>\n",
       "      <td>1.290404</td>\n",
       "    </tr>\n",
       "    <tr>\n",
       "      <th>3</th>\n",
       "      <td>1.202147</td>\n",
       "      <td>1.177216</td>\n",
       "      <td>0.662869</td>\n",
       "      <td>0.000000</td>\n",
       "      <td>1.123468</td>\n",
       "      <td>1.144537</td>\n",
       "      <td>1.210960</td>\n",
       "      <td>1.234160</td>\n",
       "      <td>1.030969</td>\n",
       "      <td>1.265411</td>\n",
       "      <td>...</td>\n",
       "      <td>1.385154</td>\n",
       "      <td>1.344453</td>\n",
       "      <td>1.356146</td>\n",
       "      <td>1.278151</td>\n",
       "      <td>1.396429</td>\n",
       "      <td>1.251390</td>\n",
       "      <td>1.286678</td>\n",
       "      <td>1.263937</td>\n",
       "      <td>1.389592</td>\n",
       "      <td>1.217563</td>\n",
       "    </tr>\n",
       "    <tr>\n",
       "      <th>4</th>\n",
       "      <td>1.068863</td>\n",
       "      <td>1.158076</td>\n",
       "      <td>1.238897</td>\n",
       "      <td>1.123468</td>\n",
       "      <td>0.000000</td>\n",
       "      <td>1.006659</td>\n",
       "      <td>1.118275</td>\n",
       "      <td>1.032273</td>\n",
       "      <td>1.103120</td>\n",
       "      <td>1.115403</td>\n",
       "      <td>...</td>\n",
       "      <td>1.402944</td>\n",
       "      <td>1.334073</td>\n",
       "      <td>1.277256</td>\n",
       "      <td>1.159948</td>\n",
       "      <td>1.333937</td>\n",
       "      <td>1.217910</td>\n",
       "      <td>1.272939</td>\n",
       "      <td>1.227224</td>\n",
       "      <td>1.202582</td>\n",
       "      <td>1.270807</td>\n",
       "    </tr>\n",
       "    <tr>\n",
       "      <th>...</th>\n",
       "      <td>...</td>\n",
       "      <td>...</td>\n",
       "      <td>...</td>\n",
       "      <td>...</td>\n",
       "      <td>...</td>\n",
       "      <td>...</td>\n",
       "      <td>...</td>\n",
       "      <td>...</td>\n",
       "      <td>...</td>\n",
       "      <td>...</td>\n",
       "      <td>...</td>\n",
       "      <td>...</td>\n",
       "      <td>...</td>\n",
       "      <td>...</td>\n",
       "      <td>...</td>\n",
       "      <td>...</td>\n",
       "      <td>...</td>\n",
       "      <td>...</td>\n",
       "      <td>...</td>\n",
       "      <td>...</td>\n",
       "      <td>...</td>\n",
       "    </tr>\n",
       "    <tr>\n",
       "      <th>2399</th>\n",
       "      <td>1.229228</td>\n",
       "      <td>1.200630</td>\n",
       "      <td>1.300060</td>\n",
       "      <td>1.251390</td>\n",
       "      <td>1.217910</td>\n",
       "      <td>1.257878</td>\n",
       "      <td>1.302735</td>\n",
       "      <td>1.295551</td>\n",
       "      <td>1.209389</td>\n",
       "      <td>1.270752</td>\n",
       "      <td>...</td>\n",
       "      <td>1.276127</td>\n",
       "      <td>1.325131</td>\n",
       "      <td>1.325960</td>\n",
       "      <td>1.332267</td>\n",
       "      <td>1.309440</td>\n",
       "      <td>0.000000</td>\n",
       "      <td>0.803892</td>\n",
       "      <td>1.283610</td>\n",
       "      <td>1.181490</td>\n",
       "      <td>1.231146</td>\n",
       "    </tr>\n",
       "    <tr>\n",
       "      <th>2400</th>\n",
       "      <td>1.269921</td>\n",
       "      <td>1.159814</td>\n",
       "      <td>1.313569</td>\n",
       "      <td>1.286678</td>\n",
       "      <td>1.272939</td>\n",
       "      <td>1.285842</td>\n",
       "      <td>1.289375</td>\n",
       "      <td>1.324865</td>\n",
       "      <td>1.274088</td>\n",
       "      <td>1.307315</td>\n",
       "      <td>...</td>\n",
       "      <td>1.255466</td>\n",
       "      <td>1.445945</td>\n",
       "      <td>1.235505</td>\n",
       "      <td>1.316208</td>\n",
       "      <td>1.296076</td>\n",
       "      <td>0.803892</td>\n",
       "      <td>0.000000</td>\n",
       "      <td>1.284518</td>\n",
       "      <td>1.180191</td>\n",
       "      <td>1.259903</td>\n",
       "    </tr>\n",
       "    <tr>\n",
       "      <th>2401</th>\n",
       "      <td>1.238341</td>\n",
       "      <td>1.350562</td>\n",
       "      <td>1.299467</td>\n",
       "      <td>1.263937</td>\n",
       "      <td>1.227224</td>\n",
       "      <td>1.362247</td>\n",
       "      <td>1.375149</td>\n",
       "      <td>1.326699</td>\n",
       "      <td>1.266961</td>\n",
       "      <td>1.191208</td>\n",
       "      <td>...</td>\n",
       "      <td>1.370138</td>\n",
       "      <td>1.345567</td>\n",
       "      <td>1.320906</td>\n",
       "      <td>1.285295</td>\n",
       "      <td>1.383062</td>\n",
       "      <td>1.283610</td>\n",
       "      <td>1.284518</td>\n",
       "      <td>0.000000</td>\n",
       "      <td>1.357254</td>\n",
       "      <td>1.457786</td>\n",
       "    </tr>\n",
       "    <tr>\n",
       "      <th>2402</th>\n",
       "      <td>1.326879</td>\n",
       "      <td>1.248203</td>\n",
       "      <td>1.382976</td>\n",
       "      <td>1.389592</td>\n",
       "      <td>1.202582</td>\n",
       "      <td>1.206832</td>\n",
       "      <td>1.273774</td>\n",
       "      <td>1.289590</td>\n",
       "      <td>1.201103</td>\n",
       "      <td>1.269518</td>\n",
       "      <td>...</td>\n",
       "      <td>1.348097</td>\n",
       "      <td>1.274635</td>\n",
       "      <td>1.316166</td>\n",
       "      <td>1.246534</td>\n",
       "      <td>1.354974</td>\n",
       "      <td>1.181490</td>\n",
       "      <td>1.180191</td>\n",
       "      <td>1.357254</td>\n",
       "      <td>0.000000</td>\n",
       "      <td>1.275877</td>\n",
       "    </tr>\n",
       "    <tr>\n",
       "      <th>2403</th>\n",
       "      <td>1.321452</td>\n",
       "      <td>1.022531</td>\n",
       "      <td>1.290404</td>\n",
       "      <td>1.217563</td>\n",
       "      <td>1.270807</td>\n",
       "      <td>1.167902</td>\n",
       "      <td>1.242380</td>\n",
       "      <td>1.329070</td>\n",
       "      <td>1.255640</td>\n",
       "      <td>1.252103</td>\n",
       "      <td>...</td>\n",
       "      <td>1.291017</td>\n",
       "      <td>1.216625</td>\n",
       "      <td>1.372149</td>\n",
       "      <td>1.310984</td>\n",
       "      <td>1.300771</td>\n",
       "      <td>1.231146</td>\n",
       "      <td>1.259903</td>\n",
       "      <td>1.457786</td>\n",
       "      <td>1.275877</td>\n",
       "      <td>0.000000</td>\n",
       "    </tr>\n",
       "  </tbody>\n",
       "</table>\n",
       "<p>2404 rows × 2404 columns</p>\n",
       "</div>"
      ],
      "text/plain": [
       "          0         1         2         3         4         5         6     \\\n",
       "0     0.000000  1.172835  1.230569  1.202147  1.068863  1.102719  1.213488   \n",
       "1     1.172835  0.000000  1.308356  1.177216  1.158076  0.999987  1.074094   \n",
       "2     1.230569  1.308356  0.000000  0.662869  1.238897  1.226645  1.240566   \n",
       "3     1.202147  1.177216  0.662869  0.000000  1.123468  1.144537  1.210960   \n",
       "4     1.068863  1.158076  1.238897  1.123468  0.000000  1.006659  1.118275   \n",
       "...        ...       ...       ...       ...       ...       ...       ...   \n",
       "2399  1.229228  1.200630  1.300060  1.251390  1.217910  1.257878  1.302735   \n",
       "2400  1.269921  1.159814  1.313569  1.286678  1.272939  1.285842  1.289375   \n",
       "2401  1.238341  1.350562  1.299467  1.263937  1.227224  1.362247  1.375149   \n",
       "2402  1.326879  1.248203  1.382976  1.389592  1.202582  1.206832  1.273774   \n",
       "2403  1.321452  1.022531  1.290404  1.217563  1.270807  1.167902  1.242380   \n",
       "\n",
       "          7         8         9     ...      2394      2395      2396  \\\n",
       "0     1.227862  1.129428  1.118084  ...  1.387558  1.259721  1.314804   \n",
       "1     1.098266  1.247356  1.068514  ...  1.311162  1.283786  1.350499   \n",
       "2     1.260014  1.054402  1.326170  ...  1.361361  1.321046  1.303957   \n",
       "3     1.234160  1.030969  1.265411  ...  1.385154  1.344453  1.356146   \n",
       "4     1.032273  1.103120  1.115403  ...  1.402944  1.334073  1.277256   \n",
       "...        ...       ...       ...  ...       ...       ...       ...   \n",
       "2399  1.295551  1.209389  1.270752  ...  1.276127  1.325131  1.325960   \n",
       "2400  1.324865  1.274088  1.307315  ...  1.255466  1.445945  1.235505   \n",
       "2401  1.326699  1.266961  1.191208  ...  1.370138  1.345567  1.320906   \n",
       "2402  1.289590  1.201103  1.269518  ...  1.348097  1.274635  1.316166   \n",
       "2403  1.329070  1.255640  1.252103  ...  1.291017  1.216625  1.372149   \n",
       "\n",
       "          2397      2398      2399      2400      2401      2402      2403  \n",
       "0     1.312847  1.368299  1.229228  1.269921  1.238341  1.326879  1.321452  \n",
       "1     1.214172  1.252881  1.200630  1.159814  1.350562  1.248203  1.022531  \n",
       "2     1.323953  1.452224  1.300060  1.313569  1.299467  1.382976  1.290404  \n",
       "3     1.278151  1.396429  1.251390  1.286678  1.263937  1.389592  1.217563  \n",
       "4     1.159948  1.333937  1.217910  1.272939  1.227224  1.202582  1.270807  \n",
       "...        ...       ...       ...       ...       ...       ...       ...  \n",
       "2399  1.332267  1.309440  0.000000  0.803892  1.283610  1.181490  1.231146  \n",
       "2400  1.316208  1.296076  0.803892  0.000000  1.284518  1.180191  1.259903  \n",
       "2401  1.285295  1.383062  1.283610  1.284518  0.000000  1.357254  1.457786  \n",
       "2402  1.246534  1.354974  1.181490  1.180191  1.357254  0.000000  1.275877  \n",
       "2403  1.310984  1.300771  1.231146  1.259903  1.457786  1.275877  0.000000  \n",
       "\n",
       "[2404 rows x 2404 columns]"
      ]
     },
     "execution_count": 28,
     "metadata": {},
     "output_type": "execute_result"
    }
   ],
   "source": [
    "df_dist_1 = generate_distance_matrix(embeddings1_df)\n",
    "df_dist_1"
   ]
  },
  {
   "attachments": {},
   "cell_type": "markdown",
   "metadata": {},
   "source": [
    "## Generating the Final Dictionary:"
   ]
  },
  {
   "attachments": {},
   "cell_type": "markdown",
   "metadata": {},
   "source": [
    "### A Dictionary of All Symptoms and Activities and their Related Terms:"
   ]
  },
  {
   "attachments": {},
   "cell_type": "markdown",
   "metadata": {},
   "source": [
    "Pseudocode reminder:\n",
    "\n",
    "    def generate_dict(df_dist : pd.DataFrame,\n",
    "                    threshold : float) -> Dict[str: List[str]]:"
   ]
  },
  {
   "attachments": {},
   "cell_type": "markdown",
   "metadata": {},
   "source": [
    "#### A Look at the Current Values:\n",
    "\n",
    "To get an idea of what kind of threshold make sense, let's have a look at what the values for a single column look like:"
   ]
  },
  {
   "cell_type": "code",
   "execution_count": 29,
   "metadata": {},
   "outputs": [
    {
     "data": {
      "text/plain": [
       "1.4425400157357833"
      ]
     },
     "execution_count": 29,
     "metadata": {},
     "output_type": "execute_result"
    }
   ],
   "source": [
    "df_dist_1.loc[:, 0].max()"
   ]
  },
  {
   "cell_type": "code",
   "execution_count": 30,
   "metadata": {},
   "outputs": [
    {
     "data": {
      "text/plain": [
       "0.0"
      ]
     },
     "execution_count": 30,
     "metadata": {},
     "output_type": "execute_result"
    }
   ],
   "source": [
    "df_dist_1.loc[:, 0].min()"
   ]
  },
  {
   "cell_type": "code",
   "execution_count": 31,
   "metadata": {},
   "outputs": [
    {
     "data": {
      "text/plain": [
       "1.2302958968753164"
      ]
     },
     "execution_count": 31,
     "metadata": {},
     "output_type": "execute_result"
    }
   ],
   "source": [
    "df_dist_1.loc[:, 0].mean()"
   ]
  },
  {
   "cell_type": "code",
   "execution_count": 32,
   "metadata": {},
   "outputs": [
    {
     "data": {
      "text/plain": [
       "1.2282502265314303"
      ]
     },
     "execution_count": 32,
     "metadata": {},
     "output_type": "execute_result"
    }
   ],
   "source": [
    "df_dist_1.loc[:, 0].median()"
   ]
  },
  {
   "cell_type": "code",
   "execution_count": 33,
   "metadata": {},
   "outputs": [
    {
     "data": {
      "text/plain": [
       "1.033265852919092"
      ]
     },
     "execution_count": 33,
     "metadata": {},
     "output_type": "execute_result"
    }
   ],
   "source": [
    "df_dist_1.loc[1:, 0].min()"
   ]
  },
  {
   "attachments": {},
   "cell_type": "markdown",
   "metadata": {},
   "source": [
    "A look at min and max values across the entire dataframe: "
   ]
  },
  {
   "cell_type": "code",
   "execution_count": 34,
   "metadata": {},
   "outputs": [
    {
     "name": "stdout",
     "output_type": "stream",
     "text": [
      "0       1.442540\n",
      "1       1.432538\n",
      "2       1.485387\n",
      "3       1.454778\n",
      "4       1.413604\n",
      "          ...   \n",
      "2399    1.427753\n",
      "2400    1.445945\n",
      "2401    1.468315\n",
      "2402    1.475749\n",
      "2403    1.503820\n",
      "Length: 2404, dtype: float64\n"
     ]
    },
    {
     "data": {
      "text/plain": [
       "1.541120350374177"
      ]
     },
     "execution_count": 34,
     "metadata": {},
     "output_type": "execute_result"
    }
   ],
   "source": [
    "print(df_dist_1.max())\n",
    "df_dist_1.max().max()"
   ]
  },
  {
   "cell_type": "code",
   "execution_count": 35,
   "metadata": {},
   "outputs": [
    {
     "name": "stdout",
     "output_type": "stream",
     "text": [
      "0       1.033266\n",
      "1       0.572948\n",
      "2       0.608119\n",
      "3       0.388080\n",
      "4       0.964157\n",
      "          ...   \n",
      "2399    0.803892\n",
      "2400    0.803892\n",
      "2401    0.897608\n",
      "2402    0.883082\n",
      "2403    0.558493\n",
      "Length: 2404, dtype: float64\n"
     ]
    },
    {
     "data": {
      "text/plain": [
       "0.1283884804575315"
      ]
     },
     "execution_count": 35,
     "metadata": {},
     "output_type": "execute_result"
    }
   ],
   "source": [
    "print(df_dist_1.copy().replace(0.0, 10).min())\n",
    "df_dist_1.copy().replace(0.0, 10).min().min()"
   ]
  },
  {
   "attachments": {},
   "cell_type": "markdown",
   "metadata": {},
   "source": [
    "The maximum value in the similarity matrix is about 1.44254, the minimum is 0.0. 0.0 indicates absolute similarity and in this similarity matrix happens when rows and columns refer to the same initial data entry (so at (0,0), (1,1), (2,2) and so on).The mean lies at around 1.23030, with the median a bit lower at about 1.22825.\n",
    "\n",
    "Looking at the minimum value where similarity is not referenced relevant to the entry itself, (so in column 0, from row 1 onwards), we have about 1.03327 as a minimum value. We should therefore aim to have a threshold above this."
   ]
  },
  {
   "cell_type": "code",
   "execution_count": 36,
   "metadata": {},
   "outputs": [],
   "source": [
    "def generate_dict(df_dist: pd.DataFrame,\n",
    "                threshold: float) -> dict:\n",
    "    filt = (df_dist[:] > threshold)\n",
    "    df_filt = df_dist.copy()\n",
    "    df_filt[filt] = np.nan\n",
    "    dict_dist = df_filt.to_dict('dict')\n",
    "    for i, dic in dict_dist.items():\n",
    "        to_pop = list()\n",
    "        for key, value in dic.items():\n",
    "            if np.isnan(value):\n",
    "                to_pop.append(key)\n",
    "            # elif value == 0.0:\n",
    "            #     to_pop.append(key)\n",
    "        for target_key in to_pop:\n",
    "            dic.pop(target_key)\n",
    "        dict_dist[i] = dic\n",
    "    return dict_dist"
   ]
  },
  {
   "cell_type": "code",
   "execution_count": 37,
   "metadata": {},
   "outputs": [],
   "source": [
    "dict_dist = generate_dict(df_dist_1, 0.5)"
   ]
  },
  {
   "attachments": {},
   "cell_type": "markdown",
   "metadata": {},
   "source": [
    "Taking a look at the first three dictionary entries:"
   ]
  },
  {
   "cell_type": "code",
   "execution_count": 38,
   "metadata": {},
   "outputs": [
    {
     "name": "stdout",
     "output_type": "stream",
     "text": [
      "{0: {0: 0.0}, 1: {1: 0.0}, 2: {2: 0.0}}\n"
     ]
    }
   ],
   "source": [
    "print({k: dict_dist[k] for k in list(dict_dist)[:3]})"
   ]
  },
  {
   "cell_type": "code",
   "execution_count": 39,
   "metadata": {},
   "outputs": [
    {
     "data": {
      "text/plain": [
       "{0: 0.0}"
      ]
     },
     "execution_count": 39,
     "metadata": {},
     "output_type": "execute_result"
    }
   ],
   "source": [
    "dict_dist[0]"
   ]
  },
  {
   "cell_type": "code",
   "execution_count": 40,
   "metadata": {},
   "outputs": [
    {
     "data": {
      "text/plain": [
       "'Abcess'"
      ]
     },
     "execution_count": 40,
     "metadata": {},
     "output_type": "execute_result"
    }
   ],
   "source": [
    "dict_symptom[0]"
   ]
  },
  {
   "cell_type": "code",
   "execution_count": 41,
   "metadata": {},
   "outputs": [],
   "source": [
    "def generate_dict_match(dict_dist: dict) -> dict:   \n",
    "    dict_match = dict()\n",
    "\n",
    "    for key, value in dict_dist.items():\n",
    "        for sub_key in value.keys():\n",
    "            if dict_symptom[key] not in dict_match:\n",
    "                dict_match[dict_symptom[key]] = [dict_symptom[sub_key]]\n",
    "            else:\n",
    "                dict_match[dict_symptom[key]] = [*dict_match.get(dict_symptom[key]), dict_symptom[sub_key]]\n",
    "                # [*response.get(\"match_partial\"), match_partial[i_partial]]\n",
    "\n",
    "    return dict_match"
   ]
  },
  {
   "attachments": {},
   "cell_type": "markdown",
   "metadata": {},
   "source": [
    "##### Threshold 0.5:\n",
    "\n",
    "Much too restrictive."
   ]
  },
  {
   "cell_type": "code",
   "execution_count": 45,
   "metadata": {},
   "outputs": [
    {
     "data": {
      "text/plain": [
       "[('Abcess', ['Abcess']),\n",
       " ('Abdomen', ['Abdomen']),\n",
       " ('Abortifacient', ['Abortifacient']),\n",
       " ('Abortive', ['Abortive', 'Abortive?']),\n",
       " ('Abrasion', ['Abrasion'])]"
      ]
     },
     "execution_count": 45,
     "metadata": {},
     "output_type": "execute_result"
    }
   ],
   "source": [
    "dict_dist = generate_dict(df_dist_1, 0.5)\n",
    "dict_match = generate_dict_match(dict_dist)\n",
    "list(dict_match.items())[:5]"
   ]
  },
  {
   "attachments": {},
   "cell_type": "markdown",
   "metadata": {},
   "source": [
    "##### Threshold 0.8:\n",
    "\n",
    "This threshold already seems to provide really good results, albeit maybe a bit too narrow."
   ]
  },
  {
   "cell_type": "code",
   "execution_count": 46,
   "metadata": {},
   "outputs": [
    {
     "data": {
      "text/plain": [
       "[('Abcess', ['Abcess']),\n",
       " ('Abdomen',\n",
       "  ['Abdomen',\n",
       "   'Cancer(Abdomen)',\n",
       "   'Stomachic',\n",
       "   'Stomach',\n",
       "   'Tumor(Abdomen)',\n",
       "   'Abdominal pain']),\n",
       " ('Abortifacient',\n",
       "  ['Abortifacient',\n",
       "   'Abortive',\n",
       "   'Antiabortifacient',\n",
       "   'Preventitive(Abortifacient)',\n",
       "   'Abortive?']),\n",
       " ('Abortive', ['Abortifacient', 'Abortive', 'Abortive?']),\n",
       " ('Abrasion', ['Abrasion'])]"
      ]
     },
     "execution_count": 46,
     "metadata": {},
     "output_type": "execute_result"
    }
   ],
   "source": [
    "dict_dist = generate_dict(df_dist_1, 0.8)\n",
    "dict_match = generate_dict_match(dict_dist)\n",
    "list(dict_match.items())[:5]"
   ]
  },
  {
   "attachments": {},
   "cell_type": "markdown",
   "metadata": {},
   "source": [
    "##### Threshold 1.0:\n",
    "\n",
    "A threshold of 1.0 also provides good results, although in this case the scope might be a little bit too broad. This could be a great threshold for a future functionality proposing remedies for related symptoms."
   ]
  },
  {
   "cell_type": "code",
   "execution_count": 49,
   "metadata": {},
   "outputs": [],
   "source": [
    "dict_dist = generate_dict(df_dist_1, 1.0)\n",
    "dict_match = generate_dict_match(dict_dist)"
   ]
  },
  {
   "attachments": {},
   "cell_type": "markdown",
   "metadata": {},
   "source": [
    "Taking a closer look at \"Abdomen\" in particular, the threshold does in fact appear to be a bit too open."
   ]
  },
  {
   "cell_type": "code",
   "execution_count": 44,
   "metadata": {},
   "outputs": [
    {
     "name": "stdout",
     "output_type": "stream",
     "text": [
      "['Abdomen', 'Abscess', 'Ache(Stomach)', 'Appendicitis', 'Bile', 'Bowel', 'Cancer(Abdomen)', 'Cancer(Stomach)', 'Digestion', 'Digestive', 'Duodenum', 'Gall Bladder', 'Gall-Bladder', 'Gallbladder', 'Gallstones', 'Gastritis', 'Gastrodynia', 'Gastrointestinal', 'Groin', 'Hepatic', 'Hernia', 'Intestinal', 'Intestinal-Troubles', 'Intestine', 'Liver', 'Lung', 'Navel', 'Pelvis', 'Peritonitis', 'Polyp(Abdomen)', 'Polyp(Stomach)', 'Sclerosis(Abdomen)', 'Sclerosis(Belly)', 'Sclerosis(Stomach)', 'Scrotum', 'Stomachic', 'Stomach', 'Thigh', 'Tumor(Abdomen)', 'Tumor(Groin)', 'Tumor(Intestine)', 'Tumor(Stomach)', 'Uterine', 'Uterine Organs', 'Uterus', 'Waist', 'Womb', 'Gastric', 'Tumor(Digestive)', 'Gastric-Ulcer', 'Tumor(Belly)', 'Vomiting', 'Muscle(Uterus)', 'Abdominal obesity', 'Abdominal pain', 'Stomach rumble']\n"
     ]
    }
   ],
   "source": [
    "print(generate_dict_match(dict_dist)[\"Abdomen\"])"
   ]
  },
  {
   "attachments": {},
   "cell_type": "markdown",
   "metadata": {},
   "source": [
    "##### Threshold 0.9:\n",
    "\n",
    "A threshold of 0.9 yields similar results as a 1.0 threshold:"
   ]
  },
  {
   "cell_type": "code",
   "execution_count": 45,
   "metadata": {},
   "outputs": [
    {
     "name": "stdout",
     "output_type": "stream",
     "text": [
      "['Abdomen', 'Ache(Stomach)', 'Cancer(Abdomen)', 'Cancer(Stomach)', 'Hernia', 'Intestinal', 'Navel', 'Pelvis', 'Polyp(Abdomen)', 'Sclerosis(Abdomen)', 'Stomachic', 'Stomach', 'Tumor(Abdomen)', 'Tumor(Stomach)', 'Uterus', 'Gastric', 'Tumor(Belly)', 'Abdominal obesity', 'Abdominal pain', 'Stomach rumble']\n",
      "['Chest-Cold', 'Cold', 'Cold(Head)', 'Heat', 'Cold Feet', 'Cold sore', 'Common cold', 'Shivering']\n",
      "['Abdomen', 'Ache(Stomach)', 'Cancer(Abdomen)', 'Stomach', 'Tumor(Abdomen)', 'Abdominal obesity', 'Abdominal pain']\n",
      "['Xeroderma', 'Xerostomia']\n"
     ]
    }
   ],
   "source": [
    "dict_dist = generate_dict(df_dist_1, 0.9)\n",
    "print(generate_dict_match(dict_dist)[\"Abdomen\"])\n",
    "print(generate_dict_match(dict_dist)[\"Cold\"])\n",
    "print(generate_dict_match(dict_dist)[\"Abdominal pain\"])\n",
    "print(generate_dict_match(dict_dist)[\"Xerostomia\"])"
   ]
  },
  {
   "attachments": {},
   "cell_type": "markdown",
   "metadata": {},
   "source": [
    "### A Dictionary of Symptoms Only and their Related Terms from the Duke Activities:\n",
    "\n",
    "For the sake of the Naturedoc web application, our goal is to provide the users with a more intuitive range of symptoms. As previously discussed, the Duke Database's _Activity_ column contains not just symptoms but also other forms of use (such as _tea_, _spice_, _abortifacient_ etc.). Additionally, these terms are often formatted in a way that is different from how most users are expected to input their symptoms: e.g., various aches are always written as _Ache(Stomach)_ and so on.\n",
    "\n",
    "For now, we will use the list of symptoms extracted from the Google Symptoms Database. Ideally, this set of symptoms should be further modified and enriched - with specific diseases, synonyms etc. for an optimised user experience. \n",
    "\n",
    "For the sake of Naturedoc's proof of concept, we will focus on the 422 symptoms as they exist in the google Database:"
   ]
  },
  {
   "cell_type": "code",
   "execution_count": 50,
   "metadata": {},
   "outputs": [
    {
     "data": {
      "text/html": [
       "<div>\n",
       "<style scoped>\n",
       "    .dataframe tbody tr th:only-of-type {\n",
       "        vertical-align: middle;\n",
       "    }\n",
       "\n",
       "    .dataframe tbody tr th {\n",
       "        vertical-align: top;\n",
       "    }\n",
       "\n",
       "    .dataframe thead th {\n",
       "        text-align: right;\n",
       "    }\n",
       "</style>\n",
       "<table border=\"1\" class=\"dataframe\">\n",
       "  <thead>\n",
       "    <tr style=\"text-align: right;\">\n",
       "      <th></th>\n",
       "      <th>symptomName</th>\n",
       "      <th>is_symptom</th>\n",
       "      <th>is_activity</th>\n",
       "    </tr>\n",
       "  </thead>\n",
       "  <tbody>\n",
       "    <tr>\n",
       "      <th>0</th>\n",
       "      <td>Abcess</td>\n",
       "      <td>0</td>\n",
       "      <td>1</td>\n",
       "    </tr>\n",
       "    <tr>\n",
       "      <th>1</th>\n",
       "      <td>Abdomen</td>\n",
       "      <td>0</td>\n",
       "      <td>1</td>\n",
       "    </tr>\n",
       "    <tr>\n",
       "      <th>2</th>\n",
       "      <td>Abortifacient</td>\n",
       "      <td>0</td>\n",
       "      <td>1</td>\n",
       "    </tr>\n",
       "    <tr>\n",
       "      <th>3</th>\n",
       "      <td>Abortive</td>\n",
       "      <td>0</td>\n",
       "      <td>1</td>\n",
       "    </tr>\n",
       "    <tr>\n",
       "      <th>4</th>\n",
       "      <td>Abrasion</td>\n",
       "      <td>0</td>\n",
       "      <td>1</td>\n",
       "    </tr>\n",
       "  </tbody>\n",
       "</table>\n",
       "</div>"
      ],
      "text/plain": [
       "     symptomName  is_symptom  is_activity\n",
       "0         Abcess           0            1\n",
       "1        Abdomen           0            1\n",
       "2  Abortifacient           0            1\n",
       "3       Abortive           0            1\n",
       "4       Abrasion           0            1"
      ]
     },
     "execution_count": 50,
     "metadata": {},
     "output_type": "execute_result"
    }
   ],
   "source": [
    "activities_symptoms_df = pd.read_csv(\"../output/activities_symptoms_bool.csv\")\n",
    "activities_symptoms_df.drop(columns=\"Unnamed: 0\", inplace=True)\n",
    "activities_symptoms_df.head()"
   ]
  },
  {
   "attachments": {},
   "cell_type": "markdown",
   "metadata": {},
   "source": [
    "This dataframe contains all symptoms and activities from both the Google Dataset and Duke's Database. The _is_symptom_ and _is_activity_ columns indicate which of these sources they originate from."
   ]
  },
  {
   "cell_type": "code",
   "execution_count": 51,
   "metadata": {},
   "outputs": [],
   "source": [
    "filt_sym = (activities_symptoms_df[\"is_symptom\"] == 1)\n",
    "filt_sym_df = activities_symptoms_df[filt_sym]\n",
    "filt_sym_list = filt_sym_df[\"symptomName\"].values.tolist()"
   ]
  },
  {
   "attachments": {},
   "cell_type": "markdown",
   "metadata": {},
   "source": [
    "Some symptoms were matched to just themselves or other symptoms that only exist in the Google Dataset, but not Duke's Database.\n",
    "\n",
    "These should be removed."
   ]
  },
  {
   "cell_type": "code",
   "execution_count": 52,
   "metadata": {},
   "outputs": [
    {
     "data": {
      "text/html": [
       "<div>\n",
       "<style scoped>\n",
       "    .dataframe tbody tr th:only-of-type {\n",
       "        vertical-align: middle;\n",
       "    }\n",
       "\n",
       "    .dataframe tbody tr th {\n",
       "        vertical-align: top;\n",
       "    }\n",
       "\n",
       "    .dataframe thead th {\n",
       "        text-align: right;\n",
       "    }\n",
       "</style>\n",
       "<table border=\"1\" class=\"dataframe\">\n",
       "  <thead>\n",
       "    <tr style=\"text-align: right;\">\n",
       "      <th></th>\n",
       "      <th>symptomName</th>\n",
       "      <th>is_symptom</th>\n",
       "      <th>is_activity</th>\n",
       "    </tr>\n",
       "  </thead>\n",
       "  <tbody>\n",
       "    <tr>\n",
       "      <th>2400</th>\n",
       "      <td>Xerostomia</td>\n",
       "      <td>1</td>\n",
       "      <td>0</td>\n",
       "    </tr>\n",
       "  </tbody>\n",
       "</table>\n",
       "</div>"
      ],
      "text/plain": [
       "     symptomName  is_symptom  is_activity\n",
       "2400  Xerostomia           1            0"
      ]
     },
     "execution_count": 52,
     "metadata": {},
     "output_type": "execute_result"
    }
   ],
   "source": [
    "filt = (activities_symptoms_df[\"symptomName\"] == \"Xerostomia\")\n",
    "filt_df = activities_symptoms_df[filt]\n",
    "filt_df"
   ]
  },
  {
   "attachments": {},
   "cell_type": "markdown",
   "metadata": {},
   "source": [
    "In general, symptoms originating from the Google Dataset should probably be removed from the dictionary values, as the might cause issues when querying the database.\n",
    "\n",
    "To eventually exclude not-activities from the dictionary, we also create a list of entries not in the activities:"
   ]
  },
  {
   "cell_type": "code",
   "execution_count": 53,
   "metadata": {},
   "outputs": [],
   "source": [
    "filt_not_act = (activities_symptoms_df[\"is_activity\"] == 0)\n",
    "filt_not_act_df = activities_symptoms_df[filt_not_act]\n",
    "filt_not_act_list = filt_not_act_df[\"symptomName\"].values.tolist()"
   ]
  },
  {
   "attachments": {},
   "cell_type": "markdown",
   "metadata": {},
   "source": [
    "We generate the dictionary using a threshold of 0.9:"
   ]
  },
  {
   "cell_type": "code",
   "execution_count": 54,
   "metadata": {},
   "outputs": [],
   "source": [
    "dict_dist_09 = generate_dict(df_dist_1, 0.9)\n",
    "dict_09 = generate_dict_match(dict_dist_09)"
   ]
  },
  {
   "attachments": {},
   "cell_type": "markdown",
   "metadata": {},
   "source": [
    "Keys that exist in the list of Google Symptoms are added to a new dictionary, alongside their values:"
   ]
  },
  {
   "cell_type": "code",
   "execution_count": 55,
   "metadata": {},
   "outputs": [],
   "source": [
    "dict_09_sym = dict()\n",
    "\n",
    "for key in dict_09.keys():\n",
    "    if key in filt_sym_list:\n",
    "        dict_09_sym[key] = dict_09[key]"
   ]
  },
  {
   "cell_type": "code",
   "execution_count": 56,
   "metadata": {},
   "outputs": [
    {
     "name": "stdout",
     "output_type": "stream",
     "text": [
      "422\n"
     ]
    },
    {
     "data": {
      "text/plain": [
       "[('Acne', ['Acne', 'Complexion', 'Pimple']),\n",
       " ('Alcoholism', ['Alcoholism', 'Beer', 'Beverage', 'Drunkenness']),\n",
       " ('Allergy', ['Allergenic', 'Allergy']),\n",
       " ('Amblyopia', ['Amblyopia', 'Nyctalopia']),\n",
       " ('Amenorrhea', ['Amenorrhea'])]"
      ]
     },
     "execution_count": 56,
     "metadata": {},
     "output_type": "execute_result"
    }
   ],
   "source": [
    "print(len(dict_09_sym))\n",
    "list(dict_09_sym.items())[:5]"
   ]
  },
  {
   "attachments": {},
   "cell_type": "markdown",
   "metadata": {},
   "source": [
    "Generate the dictionary while removing Google Symptoms from the values inside the dictionary:"
   ]
  },
  {
   "cell_type": "code",
   "execution_count": 57,
   "metadata": {},
   "outputs": [],
   "source": [
    "def create_dict_sym(dict_dist):  \n",
    "    dict_sym = dict()\n",
    "\n",
    "    for sym, list_sym in dict_dist.items():\n",
    "        if sym not in filt_sym_list:\n",
    "            continue\n",
    "        for sub_sym in list_sym:\n",
    "            if sub_sym in filt_not_act_list:\n",
    "                continue\n",
    "            if sym not in dict_sym:\n",
    "                dict_sym[sym] = [sub_sym]\n",
    "            else:\n",
    "                dict_sym[sym] = [*dict_sym.get(sym), sub_sym]\n",
    "    \n",
    "    return dict_sym"
   ]
  },
  {
   "cell_type": "code",
   "execution_count": 58,
   "metadata": {},
   "outputs": [],
   "source": [
    "dict_09_sym = create_dict_sym(dict_09)"
   ]
  },
  {
   "cell_type": "code",
   "execution_count": 59,
   "metadata": {},
   "outputs": [
    {
     "name": "stdout",
     "output_type": "stream",
     "text": [
      "341\n"
     ]
    },
    {
     "data": {
      "text/plain": [
       "[('Acne', ['Acne', 'Complexion', 'Pimple']),\n",
       " ('Alcoholism', ['Alcoholism', 'Beer', 'Beverage', 'Drunkenness']),\n",
       " ('Allergy', ['Allergenic', 'Allergy']),\n",
       " ('Amblyopia', ['Amblyopia', 'Nyctalopia']),\n",
       " ('Amenorrhea', ['Amenorrhea'])]"
      ]
     },
     "execution_count": 59,
     "metadata": {},
     "output_type": "execute_result"
    }
   ],
   "source": [
    "print(len(dict_09_sym))\n",
    "list(dict_09_sym.items())[:5]"
   ]
  },
  {
   "attachments": {},
   "cell_type": "markdown",
   "metadata": {},
   "source": [
    "A few too many hits for cancers and tumors?"
   ]
  },
  {
   "cell_type": "code",
   "execution_count": 60,
   "metadata": {},
   "outputs": [
    {
     "name": "stdout",
     "output_type": "stream",
     "text": [
      "['Abdomen', 'Ache(Stomach)', 'Cancer(Abdomen)', 'Stomach', 'Tumor(Abdomen)']\n",
      "['Cancer(Eye)', 'Eye', 'Eye drop', 'Eyeball', 'Eyelid', 'Pain', 'Sclerosis(Eyelid)', 'Sore(Eye)', 'Tumor(Eye)', 'Ache(Eye)']\n"
     ]
    }
   ],
   "source": [
    "print(dict_09_sym[\"Abdominal pain\"])\n",
    "print(dict_09_sym[\"Eye pain\"])"
   ]
  },
  {
   "cell_type": "code",
   "execution_count": 61,
   "metadata": {},
   "outputs": [
    {
     "name": "stdout",
     "output_type": "stream",
     "text": [
      "306\n"
     ]
    },
    {
     "data": {
      "text/plain": [
       "[('Acne', ['Acne', 'Pimple']),\n",
       " ('Alcoholism', ['Alcoholism', 'Beer', 'Beverage', 'Drunkenness']),\n",
       " ('Allergy', ['Allergenic', 'Allergy']),\n",
       " ('Amblyopia', ['Amblyopia']),\n",
       " ('Amenorrhea', ['Amenorrhea'])]"
      ]
     },
     "execution_count": 61,
     "metadata": {},
     "output_type": "execute_result"
    }
   ],
   "source": [
    "dict_dist_085 = generate_dict(df_dist_1, 0.85)\n",
    "dict_085 = generate_dict_match(dict_dist_085)\n",
    "dict_085_sym = create_dict_sym(dict_085)\n",
    "print(len(dict_085_sym))\n",
    "list(dict_085_sym.items())[:5]"
   ]
  },
  {
   "attachments": {},
   "cell_type": "markdown",
   "metadata": {},
   "source": [
    "This already removes some of the cancer/tumor matches - however, symptoms like \"Common cold\" also drop out:"
   ]
  },
  {
   "cell_type": "code",
   "execution_count": 62,
   "metadata": {},
   "outputs": [
    {
     "name": "stdout",
     "output_type": "stream",
     "text": [
      "['Abdomen', 'Ache(Stomach)', 'Cancer(Abdomen)']\n",
      "['Eye', 'Eye drop', 'Sore(Eye)', 'Ache(Eye)']\n",
      "False\n"
     ]
    }
   ],
   "source": [
    "print(dict_085_sym[\"Abdominal pain\"])\n",
    "print(dict_085_sym[\"Eye pain\"])\n",
    "print(\"Common cold\" in dict_085_sym.keys())"
   ]
  },
  {
   "attachments": {},
   "cell_type": "markdown",
   "metadata": {},
   "source": [
    "A threshold of .86 looks like an appropriate compromise for now:"
   ]
  },
  {
   "cell_type": "code",
   "execution_count": 63,
   "metadata": {},
   "outputs": [
    {
     "name": "stdout",
     "output_type": "stream",
     "text": [
      "314\n"
     ]
    },
    {
     "data": {
      "text/plain": [
       "[('Acne', ['Acne', 'Pimple']),\n",
       " ('Alcoholism', ['Alcoholism', 'Beer', 'Beverage', 'Drunkenness']),\n",
       " ('Allergy', ['Allergenic', 'Allergy']),\n",
       " ('Amblyopia', ['Amblyopia']),\n",
       " ('Amenorrhea', ['Amenorrhea'])]"
      ]
     },
     "execution_count": 63,
     "metadata": {},
     "output_type": "execute_result"
    }
   ],
   "source": [
    "dict_dist_086 = generate_dict(df_dist_1, 0.86)\n",
    "dict_086 = generate_dict_match(dict_dist_086)\n",
    "dict_086_sym = create_dict_sym(dict_086)\n",
    "print(len(dict_086_sym))\n",
    "list(dict_086_sym.items())[:5]"
   ]
  },
  {
   "cell_type": "code",
   "execution_count": 60,
   "metadata": {},
   "outputs": [
    {
     "name": "stdout",
     "output_type": "stream",
     "text": [
      "['Abdomen', 'Ache(Stomach)', 'Cancer(Abdomen)']\n",
      "['Eye', 'Eye drop', 'Sore(Eye)', 'Ache(Eye)']\n",
      "True\n"
     ]
    }
   ],
   "source": [
    "print(dict_086_sym[\"Abdominal pain\"])\n",
    "print(dict_086_sym[\"Eye pain\"])\n",
    "print(\"Common cold\" in dict_086_sym.keys())"
   ]
  },
  {
   "attachments": {},
   "cell_type": "markdown",
   "metadata": {},
   "source": [
    "Create a new df containing the symptoms from the dictionary to export them to a json:"
   ]
  },
  {
   "cell_type": "code",
   "execution_count": 61,
   "metadata": {},
   "outputs": [
    {
     "data": {
      "text/html": [
       "<div>\n",
       "<style scoped>\n",
       "    .dataframe tbody tr th:only-of-type {\n",
       "        vertical-align: middle;\n",
       "    }\n",
       "\n",
       "    .dataframe tbody tr th {\n",
       "        vertical-align: top;\n",
       "    }\n",
       "\n",
       "    .dataframe thead th {\n",
       "        text-align: right;\n",
       "    }\n",
       "</style>\n",
       "<table border=\"1\" class=\"dataframe\">\n",
       "  <thead>\n",
       "    <tr style=\"text-align: right;\">\n",
       "      <th></th>\n",
       "      <th>symptomName</th>\n",
       "    </tr>\n",
       "  </thead>\n",
       "  <tbody>\n",
       "    <tr>\n",
       "      <th>0</th>\n",
       "      <td>Abdominal obesity</td>\n",
       "    </tr>\n",
       "    <tr>\n",
       "      <th>1</th>\n",
       "      <td>Abdominal pain</td>\n",
       "    </tr>\n",
       "    <tr>\n",
       "      <th>2</th>\n",
       "      <td>Acne</td>\n",
       "    </tr>\n",
       "    <tr>\n",
       "      <th>3</th>\n",
       "      <td>Actinic keratosis</td>\n",
       "    </tr>\n",
       "    <tr>\n",
       "      <th>4</th>\n",
       "      <td>Acute bronchitis</td>\n",
       "    </tr>\n",
       "  </tbody>\n",
       "</table>\n",
       "</div>"
      ],
      "text/plain": [
       "         symptomName\n",
       "0  Abdominal obesity\n",
       "1     Abdominal pain\n",
       "2               Acne\n",
       "3  Actinic keratosis\n",
       "4   Acute bronchitis"
      ]
     },
     "execution_count": 61,
     "metadata": {},
     "output_type": "execute_result"
    }
   ],
   "source": [
    "final_syms_df = pd.DataFrame(sorted(dict_086_sym.keys())).rename(columns = {0: \"symptomName\"})\n",
    "final_syms_df.head()"
   ]
  },
  {
   "cell_type": "code",
   "execution_count": 63,
   "metadata": {},
   "outputs": [],
   "source": [
    "# final_syms_df.to_json(\"../output/symptoms.json\", orient=\"records\")"
   ]
  },
  {
   "attachments": {},
   "cell_type": "markdown",
   "metadata": {},
   "source": [
    "Export the symptom and matching activities as json:"
   ]
  },
  {
   "cell_type": "code",
   "execution_count": 64,
   "metadata": {},
   "outputs": [],
   "source": [
    "# import json\n",
    "\n",
    "# with open(\"../output/symptom_matches.json\", \"w\") as outfile:\n",
    "#     json.dump(dict_086_sym, outfile)"
   ]
  },
  {
   "attachments": {},
   "cell_type": "markdown",
   "metadata": {},
   "source": [
    "### Creating the Dictionary for the Second Embedding Model:\n",
    "\n",
    "The values of the second embedding model are not usable in the current state. Several of the symptoms end up being matched with with a disproportionate amount of other symptoms and activities. As can be seen in the example of a specific row's value counts below, the exact same value is present 830 times."
   ]
  },
  {
   "attachments": {},
   "cell_type": "markdown",
   "metadata": {},
   "source": [
    "#### Distance Matrix:"
   ]
  },
  {
   "cell_type": "code",
   "execution_count": 65,
   "metadata": {},
   "outputs": [],
   "source": [
    "df_dist_2 = generate_distance_matrix(embeddings2_df)"
   ]
  },
  {
   "cell_type": "code",
   "execution_count": 66,
   "metadata": {},
   "outputs": [
    {
     "name": "stdout",
     "output_type": "stream",
     "text": [
      "Value counts: 7.240622     830\n",
      "8.358644       3\n",
      "9.079539       2\n",
      "10.997180      2\n",
      "10.270435      2\n",
      "            ... \n",
      "9.093840       1\n",
      "10.213916      1\n",
      "11.291925      1\n",
      "8.894402       1\n",
      "10.246362      1\n",
      "Name: 1, Length: 1554, dtype: int64\n"
     ]
    }
   ],
   "source": [
    "print(\"Value counts:\", df_dist_2.loc[:, 1].value_counts())"
   ]
  },
  {
   "attachments": {},
   "cell_type": "markdown",
   "metadata": {},
   "source": [
    "This issue was further explored in the notebook __03_d_ml_distancematrix_emb2_bandaid.ipynb__."
   ]
  },
  {
   "attachments": {},
   "cell_type": "markdown",
   "metadata": {},
   "source": [
    "## Looking Ahead:\n",
    "\n",
    "After the next notebook exploring the errors with generating a distance matrix from the second embedding model, we will dive into clusters using the HDBSCAN* library."
   ]
  }
 ],
 "metadata": {
  "kernelspec": {
   "display_name": ".venv",
   "language": "python",
   "name": "python3"
  },
  "language_info": {
   "codemirror_mode": {
    "name": "ipython",
    "version": 3
   },
   "file_extension": ".py",
   "mimetype": "text/x-python",
   "name": "python",
   "nbconvert_exporter": "python",
   "pygments_lexer": "ipython3",
   "version": "3.8.10"
  },
  "orig_nbformat": 4,
  "vscode": {
   "interpreter": {
    "hash": "9a29d814ff9867b1bca3070bc77419176db06fa129a33d01f96cbf77dd5fcb2e"
   }
  }
 },
 "nbformat": 4,
 "nbformat_minor": 2
}
