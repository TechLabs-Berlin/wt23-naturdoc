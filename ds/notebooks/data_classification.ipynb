{
 "cells": [
  {
   "cell_type": "code",
   "execution_count": 4,
   "metadata": {},
   "outputs": [],
   "source": [
    "import re\n",
    "import pandas as pd\n",
    "import numpy as np\n",
    "import PyPDF2\n",
    "import nltk"
   ]
  },
  {
   "cell_type": "code",
   "execution_count": 5,
   "metadata": {},
   "outputs": [
    {
     "name": "stderr",
     "output_type": "stream",
     "text": [
      "[nltk_data] Downloading package wordnet to /home/user/nltk_data...\n"
     ]
    },
    {
     "data": {
      "text/plain": [
       "True"
      ]
     },
     "execution_count": 5,
     "metadata": {},
     "output_type": "execute_result"
    }
   ],
   "source": [
    "nltk.download('wordnet')"
   ]
  },
  {
   "cell_type": "code",
   "execution_count": 6,
   "metadata": {},
   "outputs": [],
   "source": [
    "from nltk.corpus import wordnet\n"
   ]
  },
  {
   "attachments": {},
   "cell_type": "markdown",
   "metadata": {},
   "source": [
    "text embeddings\n",
    "responsabitlity -> get a column of text data points and generate a vector for each of data points\n",
    "Malaria -> [0.2, 0.992, 0.000...]"
   ]
  },
  {
   "cell_type": "code",
   "execution_count": 10,
   "metadata": {},
   "outputs": [
    {
     "name": "stdout",
     "output_type": "stream",
     "text": [
      "{'brook', 'tummy', 'abdomen', 'belly', 'endure', 'digest', 'venter', 'bear', 'stand', 'abide', 'put_up', 'stick_out', 'breadbasket', 'tum', 'stomach', 'support', 'suffer', 'tolerate'}\n",
      "set()\n"
     ]
    }
   ],
   "source": [
    "#import gensim\n",
    "\n",
    "synonyms = []\n",
    "antonyms = []\n",
    "\n",
    "for syn in wordnet.synsets(\"stomach\"):\n",
    "    for l in syn.lemmas():\n",
    "        synonyms.append(l.name())\n",
    "        if l.antonyms():\n",
    "             antonyms.append(l.antonyms()[0].name())\n",
    "\n",
    "print(set(synonyms))\n",
    "print(set(antonyms))"
   ]
  },
  {
   "attachments": {},
   "cell_type": "markdown",
   "metadata": {},
   "source": [
    "clustering\n",
    "group the data points\n",
    "[0.2, 0.992, 0.000...] -> 1\n",
    "[0.2, 0.992, 0.100...] -> 1\n",
    "...\n",
    "[0.9, 0., 0.31...] -> 21"
   ]
  },
  {
   "attachments": {},
   "cell_type": "markdown",
   "metadata": {},
   "source": [
    "Distance matrix"
   ]
  },
  {
   "attachments": {},
   "cell_type": "markdown",
   "metadata": {},
   "source": [
    "### NaturDoc - TL BL WT 22-23"
   ]
  },
  {
   "attachments": {},
   "cell_type": "markdown",
   "metadata": {},
   "source": [
    "# Data classification:"
   ]
  },
  {
   "attachments": {},
   "cell_type": "markdown",
   "metadata": {},
   "source": [
    "Diseases and symptoms\n",
    "\n",
    "Kaggle etc notebooks on disease prediction based on symptoms\n",
    "\n",
    "Inside Duke dataset right now: Activity column contains both diseases and symptoms without differentiating between them\n",
    "\n",
    "-> ML: disease prediction based on simple symptoms mentioned, so that the app could also propose herbs that treat the underlying disease instead of just treating the symptoms"
   ]
  },
  {
   "attachments": {},
   "cell_type": "markdown",
   "metadata": {},
   "source": [
    "### Analysis:\n",
    "\n",
    "Embeddings to generate data -> use that to train our classification models\n",
    "\n",
    "Embedding of herbs - proximity/clustering of herbs based on their similarity (_what is \"similar\"_?)\n",
    "\n",
    "Output: groups of herbs, have similar family/genus (?) but do they also have similar uses?"
   ]
  },
  {
   "attachments": {},
   "cell_type": "markdown",
   "metadata": {},
   "source": [
    "ML approach:\n",
    "1. find lists of symptoms/values that are more human friendly\n",
    "2. generate synonyms/word mapping associated with these symptoms\n",
    "    * group these into different categories based on \"linguistic distance\"?\n",
    "3. compare to activities\n",
    "    * maybe first also generate synonyms/word mapping of terms in activities\n",
    "4. an accuracy score of match between symptom and synonyms compared to activity\n",
    "\n",
    "* is this considered ML?\n",
    "* supervised/unsupervised? We don't exactly have access to labelled data, do we?\n",
    "\n",
    "Could we create our own labelled data by associating a symptom with its synonyms? Maybe these features could not just be synonyms but based on semantic proximity? Get this \"semantic proximity\" from wordmapping libraries/unsupervised ML scripts?\n",
    "\n",
    "| label | symptom | synonyms (including the symptom itself?) | related terms | least related term (largest distance within set of data) |\n",
    "| --- | --- | --- | --- | --- |\n",
    "| 1 | stomach ache | stomach ache, stomach pain, abdominal pain,... | stomach, abdomen, stomach cancer, intestine,... | sore throat, ... |"
   ]
  },
  {
   "attachments": {},
   "cell_type": "markdown",
   "metadata": {},
   "source": [
    "f: X -> y\n",
    "\n",
    "What do we want here?\n",
    "\n",
    "We want the input of a \"symptom\" to match the \"medicinal use\" of a given herb (initially referred to as \"ACTIVITY\" in the Duke dataset).\n",
    "\n",
    "Symptoms are a pre-defined list of terms that users can choose from (autocomplete).\n",
    "\n",
    "E.g. a user chooses \"stomach ache\" which should match relevant terms in the Duke dataset, such as \"Ache(Stomach)\", \"Abdomen\" and so on. "
   ]
  },
  {
   "attachments": {},
   "cell_type": "markdown",
   "metadata": {},
   "source": [
    "__We want to train a model to be given a symptom, recognise related terms from \"medicinal uses\".__"
   ]
  },
  {
   "attachments": {},
   "cell_type": "markdown",
   "metadata": {},
   "source": [
    "f: X -> y\n",
    "\n",
    "f: Symptom -> Activities \n",
    "\n",
    "f: \"stomach ache\" -> \"Ache(Stomach)\", \"Abdomen\", \"Stomach\" \n",
    "\n",
    "-> more distant matches: intestine, polyps, cancers etc. in the stomach"
   ]
  },
  {
   "attachments": {},
   "cell_type": "markdown",
   "metadata": {},
   "source": [
    "Or cluster data? Unsupervised. \n",
    "\n",
    "Cluster symptoms, synonyms and cluster activity "
   ]
  },
  {
   "attachments": {},
   "cell_type": "markdown",
   "metadata": {},
   "source": [
    "CLUSTERS:\n",
    "\n",
    "Use word embeddings for symptoms and activities each\n",
    "\n",
    "cluster results of embeddings\n",
    "\n",
    "compare the clusters, group proximity"
   ]
  },
  {
   "cell_type": "code",
   "execution_count": 46,
   "metadata": {},
   "outputs": [
    {
     "name": "stdout",
     "output_type": "stream",
     "text": [
      "['Abcess', 'Alcoholism', 'Antacid', 'Antidote(Cicuta)', 'Antidote(Stingray)', 'Antismoking', 'Arthritis', 'Bilharzia', 'Bloodshot', 'Caligo', 'Cancer(Thyroid)', 'Celialgia', 'Chyluria', 'Contusion', 'Death', 'Digestive disease', 'Earring', 'Enuresis', 'Fatality', 'Flu', 'Gall Bladder', 'Gout', 'Heat rash', 'Herpes', 'Hypotherbia', 'Intestinal-Troubles', 'Larvicide(Veterinary)', 'Longevity', 'Mastitis', 'Molluscicide', 'Necklace', 'Odontalgic', 'Palate', 'Pertussis', 'Poison(Veterinary)', 'Preventitive(Disease)', 'Psoriasis', 'Reconstructive', 'Rheumatism(Veterinary)', 'Sclerosis(Abdomen)', 'Shortwindedness', 'Spiderlick', 'Stress', 'Tachycardia*(Veterinary)', 'Tinnitus?', 'Tumor(Feet)', 'Tumor(Viscera)', 'Vaginitis', 'Water vine', 'Tuberculosia', 'Narcotic(Veterinary)', 'Antidote(Laportea)', 'Dyspepsia(Veterinary)', 'Love-Charm', 'Sclerosis(Anus)', 'Weariness']\n"
     ]
    }
   ],
   "source": [
    "duke = pd.read_csv(\"../data/DUKE/ETHNOBOT.csv\")\n",
    "print(duke.ACTIVITY.unique().tolist()[::40])"
   ]
  },
  {
   "cell_type": "code",
   "execution_count": 29,
   "metadata": {},
   "outputs": [],
   "source": [
    "filter = duke.ACTIVITY.str.contains(\"Stomach\")\n",
    "filt_df = duke[filter]\n",
    "val_stomach = filt_df.ACTIVITY.unique().tolist()"
   ]
  },
  {
   "attachments": {},
   "cell_type": "markdown",
   "metadata": {},
   "source": [
    "Adomen and Abdominal with \"Abdom\":"
   ]
  },
  {
   "cell_type": "code",
   "execution_count": 30,
   "metadata": {},
   "outputs": [],
   "source": [
    "filter = duke.ACTIVITY.str.contains(\"Abdom\")\n",
    "filt_df = duke[filter]\n",
    "val_abdom = filt_df.ACTIVITY.unique().tolist()"
   ]
  },
  {
   "attachments": {},
   "cell_type": "markdown",
   "metadata": {},
   "source": [
    "Intestine and Intestinal with \"Intestin\":"
   ]
  },
  {
   "cell_type": "code",
   "execution_count": 34,
   "metadata": {},
   "outputs": [],
   "source": [
    "filter = duke.ACTIVITY.str.contains(\"Intestin\")\n",
    "filt_df = duke[filter]\n",
    "val_intestin = filt_df.ACTIVITY.unique().tolist()"
   ]
  },
  {
   "cell_type": "code",
   "execution_count": 35,
   "metadata": {},
   "outputs": [],
   "source": [
    "filter = duke.ACTIVITY.str.contains(\"Belly\")\n",
    "filt_df = duke[filter]\n",
    "val_belly = filt_df.ACTIVITY.unique().tolist()"
   ]
  },
  {
   "cell_type": "code",
   "execution_count": 36,
   "metadata": {},
   "outputs": [],
   "source": [
    "filter = duke.ACTIVITY.str.contains(\"Digest\")\n",
    "filt_df = duke[filter]\n",
    "val_digest = filt_df.ACTIVITY.unique().tolist()"
   ]
  },
  {
   "cell_type": "code",
   "execution_count": 44,
   "metadata": {},
   "outputs": [
    {
     "name": "stdout",
     "output_type": "stream",
     "text": [
      "['Ache(Stomach)', 'Ache(Stomach)(Veterinary)', 'Cancer(Stomach)', 'Polyp(Stomach)', 'Sclerosis(Stomach)', 'Stomachic', 'Stomach', 'Stomach(Veterinary)', 'Stomachic(Veterinary)', 'Tumor(Stomach)']\n",
      "['Abdomen', 'Cancer(Abdomen)', 'Polyp(Abdomen)', 'Sclerosis(Abdomen)', 'Tumor(Abdomen)', 'Tumor(Abdomen)(Veterinary)']\n",
      "['Cancer(Intestine)', 'Intestinal', 'Intestinal-Ailments', 'Intestinal-Catarrh', 'Intestinal tonic', 'Intestinal-Troubles', 'Intestine', 'Polyp(Intestine)', 'Tumor(Intestine)', 'Intestine(Veterinary)', 'Intestinal worms']\n",
      "['Sclerosis(Belly)', 'Tumor(Belly)']\n",
      "['Cancer(Digestive)', 'Digestion', 'Digestive', 'Digestive disease', 'Tumor(Digestive)']\n"
     ]
    }
   ],
   "source": [
    "print(val_stomach)\n",
    "print(val_abdom)\n",
    "print(val_intestin)\n",
    "print(val_belly)\n",
    "print(val_digest)"
   ]
  },
  {
   "attachments": {},
   "cell_type": "markdown",
   "metadata": {},
   "source": [
    "# Data classification:"
   ]
  },
  {
   "attachments": {},
   "cell_type": "markdown",
   "metadata": {},
   "source": [
    "Activities - symptoms\n",
    "\n",
    "More user friendly/human input\n",
    "\n",
    "Provide a list of actual symptoms for query input"
   ]
  },
  {
   "attachments": {},
   "cell_type": "markdown",
   "metadata": {},
   "source": [
    "## Sourcing Symptoms:"
   ]
  },
  {
   "cell_type": "code",
   "execution_count": 38,
   "metadata": {},
   "outputs": [],
   "source": [
    "gb_symptoms_df = pd.read_csv(\"../data/GOOGLE_SYMPTOMS/2022_country_weekly_2022_GB_weekly_symptoms_dataset.csv\")\n",
    "us_symptoms_df = pd.read_csv(\"../data/GOOGLE_SYMPTOMS/2022_country_weekly_2022_US_weekly_symptoms_dataset.csv\")\n"
   ]
  },
  {
   "cell_type": "code",
   "execution_count": 39,
   "metadata": {},
   "outputs": [
    {
     "data": {
      "text/html": [
       "<div>\n",
       "<style scoped>\n",
       "    .dataframe tbody tr th:only-of-type {\n",
       "        vertical-align: middle;\n",
       "    }\n",
       "\n",
       "    .dataframe tbody tr th {\n",
       "        vertical-align: top;\n",
       "    }\n",
       "\n",
       "    .dataframe thead th {\n",
       "        text-align: right;\n",
       "    }\n",
       "</style>\n",
       "<table border=\"1\" class=\"dataframe\">\n",
       "  <thead>\n",
       "    <tr style=\"text-align: right;\">\n",
       "      <th></th>\n",
       "      <th>country_region_code</th>\n",
       "      <th>country_region</th>\n",
       "      <th>sub_region_1</th>\n",
       "      <th>sub_region_1_code</th>\n",
       "      <th>sub_region_2</th>\n",
       "      <th>sub_region_2_code</th>\n",
       "      <th>place_id</th>\n",
       "      <th>date</th>\n",
       "      <th>symptom:Abdominal obesity</th>\n",
       "      <th>symptom:Abdominal pain</th>\n",
       "      <th>...</th>\n",
       "      <th>symptom:Wart</th>\n",
       "      <th>symptom:Water retention</th>\n",
       "      <th>symptom:Weakness</th>\n",
       "      <th>symptom:Weight gain</th>\n",
       "      <th>symptom:Wheeze</th>\n",
       "      <th>symptom:Xeroderma</th>\n",
       "      <th>symptom:Xerostomia</th>\n",
       "      <th>symptom:Yawn</th>\n",
       "      <th>symptom:hyperhidrosis</th>\n",
       "      <th>symptom:pancreatitis</th>\n",
       "    </tr>\n",
       "  </thead>\n",
       "  <tbody>\n",
       "    <tr>\n",
       "      <th>0</th>\n",
       "      <td>GB</td>\n",
       "      <td>United Kingdom</td>\n",
       "      <td>NaN</td>\n",
       "      <td>NaN</td>\n",
       "      <td>NaN</td>\n",
       "      <td>NaN</td>\n",
       "      <td>ChIJqZHHQhE7WgIReiWIMkOg-MQ</td>\n",
       "      <td>2022-01-03</td>\n",
       "      <td>3.28</td>\n",
       "      <td>7.08</td>\n",
       "      <td>...</td>\n",
       "      <td>1.83</td>\n",
       "      <td>0.34</td>\n",
       "      <td>0.67</td>\n",
       "      <td>4.32</td>\n",
       "      <td>0.51</td>\n",
       "      <td>4.33</td>\n",
       "      <td>0.65</td>\n",
       "      <td>0.21</td>\n",
       "      <td>0.63</td>\n",
       "      <td>0.47</td>\n",
       "    </tr>\n",
       "    <tr>\n",
       "      <th>1</th>\n",
       "      <td>GB</td>\n",
       "      <td>United Kingdom</td>\n",
       "      <td>NaN</td>\n",
       "      <td>NaN</td>\n",
       "      <td>NaN</td>\n",
       "      <td>NaN</td>\n",
       "      <td>ChIJqZHHQhE7WgIReiWIMkOg-MQ</td>\n",
       "      <td>2022-01-10</td>\n",
       "      <td>3.16</td>\n",
       "      <td>6.82</td>\n",
       "      <td>...</td>\n",
       "      <td>1.82</td>\n",
       "      <td>0.37</td>\n",
       "      <td>0.67</td>\n",
       "      <td>4.36</td>\n",
       "      <td>0.49</td>\n",
       "      <td>4.29</td>\n",
       "      <td>0.62</td>\n",
       "      <td>0.22</td>\n",
       "      <td>0.64</td>\n",
       "      <td>0.49</td>\n",
       "    </tr>\n",
       "    <tr>\n",
       "      <th>2</th>\n",
       "      <td>GB</td>\n",
       "      <td>United Kingdom</td>\n",
       "      <td>NaN</td>\n",
       "      <td>NaN</td>\n",
       "      <td>NaN</td>\n",
       "      <td>NaN</td>\n",
       "      <td>ChIJqZHHQhE7WgIReiWIMkOg-MQ</td>\n",
       "      <td>2022-01-17</td>\n",
       "      <td>3.13</td>\n",
       "      <td>7.02</td>\n",
       "      <td>...</td>\n",
       "      <td>1.85</td>\n",
       "      <td>0.38</td>\n",
       "      <td>0.65</td>\n",
       "      <td>4.33</td>\n",
       "      <td>0.51</td>\n",
       "      <td>4.33</td>\n",
       "      <td>0.62</td>\n",
       "      <td>0.21</td>\n",
       "      <td>0.70</td>\n",
       "      <td>0.45</td>\n",
       "    </tr>\n",
       "    <tr>\n",
       "      <th>3</th>\n",
       "      <td>GB</td>\n",
       "      <td>United Kingdom</td>\n",
       "      <td>NaN</td>\n",
       "      <td>NaN</td>\n",
       "      <td>NaN</td>\n",
       "      <td>NaN</td>\n",
       "      <td>ChIJqZHHQhE7WgIReiWIMkOg-MQ</td>\n",
       "      <td>2022-01-24</td>\n",
       "      <td>3.15</td>\n",
       "      <td>7.12</td>\n",
       "      <td>...</td>\n",
       "      <td>1.86</td>\n",
       "      <td>0.39</td>\n",
       "      <td>0.65</td>\n",
       "      <td>4.28</td>\n",
       "      <td>0.52</td>\n",
       "      <td>4.39</td>\n",
       "      <td>0.65</td>\n",
       "      <td>0.22</td>\n",
       "      <td>0.65</td>\n",
       "      <td>0.46</td>\n",
       "    </tr>\n",
       "    <tr>\n",
       "      <th>4</th>\n",
       "      <td>GB</td>\n",
       "      <td>United Kingdom</td>\n",
       "      <td>NaN</td>\n",
       "      <td>NaN</td>\n",
       "      <td>NaN</td>\n",
       "      <td>NaN</td>\n",
       "      <td>ChIJqZHHQhE7WgIReiWIMkOg-MQ</td>\n",
       "      <td>2022-01-31</td>\n",
       "      <td>3.17</td>\n",
       "      <td>7.07</td>\n",
       "      <td>...</td>\n",
       "      <td>1.91</td>\n",
       "      <td>0.39</td>\n",
       "      <td>0.66</td>\n",
       "      <td>4.21</td>\n",
       "      <td>0.49</td>\n",
       "      <td>4.22</td>\n",
       "      <td>0.66</td>\n",
       "      <td>0.22</td>\n",
       "      <td>0.67</td>\n",
       "      <td>0.46</td>\n",
       "    </tr>\n",
       "  </tbody>\n",
       "</table>\n",
       "<p>5 rows × 430 columns</p>\n",
       "</div>"
      ],
      "text/plain": [
       "  country_region_code  country_region sub_region_1 sub_region_1_code  \\\n",
       "0                  GB  United Kingdom          NaN               NaN   \n",
       "1                  GB  United Kingdom          NaN               NaN   \n",
       "2                  GB  United Kingdom          NaN               NaN   \n",
       "3                  GB  United Kingdom          NaN               NaN   \n",
       "4                  GB  United Kingdom          NaN               NaN   \n",
       "\n",
       "   sub_region_2  sub_region_2_code                     place_id        date  \\\n",
       "0           NaN                NaN  ChIJqZHHQhE7WgIReiWIMkOg-MQ  2022-01-03   \n",
       "1           NaN                NaN  ChIJqZHHQhE7WgIReiWIMkOg-MQ  2022-01-10   \n",
       "2           NaN                NaN  ChIJqZHHQhE7WgIReiWIMkOg-MQ  2022-01-17   \n",
       "3           NaN                NaN  ChIJqZHHQhE7WgIReiWIMkOg-MQ  2022-01-24   \n",
       "4           NaN                NaN  ChIJqZHHQhE7WgIReiWIMkOg-MQ  2022-01-31   \n",
       "\n",
       "   symptom:Abdominal obesity  symptom:Abdominal pain  ...  symptom:Wart  \\\n",
       "0                       3.28                    7.08  ...          1.83   \n",
       "1                       3.16                    6.82  ...          1.82   \n",
       "2                       3.13                    7.02  ...          1.85   \n",
       "3                       3.15                    7.12  ...          1.86   \n",
       "4                       3.17                    7.07  ...          1.91   \n",
       "\n",
       "   symptom:Water retention  symptom:Weakness  symptom:Weight gain  \\\n",
       "0                     0.34              0.67                 4.32   \n",
       "1                     0.37              0.67                 4.36   \n",
       "2                     0.38              0.65                 4.33   \n",
       "3                     0.39              0.65                 4.28   \n",
       "4                     0.39              0.66                 4.21   \n",
       "\n",
       "   symptom:Wheeze  symptom:Xeroderma  symptom:Xerostomia  symptom:Yawn  \\\n",
       "0            0.51               4.33                0.65          0.21   \n",
       "1            0.49               4.29                0.62          0.22   \n",
       "2            0.51               4.33                0.62          0.21   \n",
       "3            0.52               4.39                0.65          0.22   \n",
       "4            0.49               4.22                0.66          0.22   \n",
       "\n",
       "   symptom:hyperhidrosis  symptom:pancreatitis  \n",
       "0                   0.63                  0.47  \n",
       "1                   0.64                  0.49  \n",
       "2                   0.70                  0.45  \n",
       "3                   0.65                  0.46  \n",
       "4                   0.67                  0.46  \n",
       "\n",
       "[5 rows x 430 columns]"
      ]
     },
     "execution_count": 39,
     "metadata": {},
     "output_type": "execute_result"
    }
   ],
   "source": [
    "gb_symptoms_df.head()"
   ]
  },
  {
   "cell_type": "code",
   "execution_count": 40,
   "metadata": {},
   "outputs": [
    {
     "data": {
      "text/html": [
       "<div>\n",
       "<style scoped>\n",
       "    .dataframe tbody tr th:only-of-type {\n",
       "        vertical-align: middle;\n",
       "    }\n",
       "\n",
       "    .dataframe tbody tr th {\n",
       "        vertical-align: top;\n",
       "    }\n",
       "\n",
       "    .dataframe thead th {\n",
       "        text-align: right;\n",
       "    }\n",
       "</style>\n",
       "<table border=\"1\" class=\"dataframe\">\n",
       "  <thead>\n",
       "    <tr style=\"text-align: right;\">\n",
       "      <th></th>\n",
       "      <th>country_region_code</th>\n",
       "      <th>country_region</th>\n",
       "      <th>sub_region_1</th>\n",
       "      <th>sub_region_1_code</th>\n",
       "      <th>sub_region_2</th>\n",
       "      <th>sub_region_2_code</th>\n",
       "      <th>place_id</th>\n",
       "      <th>date</th>\n",
       "      <th>symptom:Abdominal obesity</th>\n",
       "      <th>symptom:Abdominal pain</th>\n",
       "      <th>...</th>\n",
       "      <th>symptom:Wart</th>\n",
       "      <th>symptom:Water retention</th>\n",
       "      <th>symptom:Weakness</th>\n",
       "      <th>symptom:Weight gain</th>\n",
       "      <th>symptom:Wheeze</th>\n",
       "      <th>symptom:Xeroderma</th>\n",
       "      <th>symptom:Xerostomia</th>\n",
       "      <th>symptom:Yawn</th>\n",
       "      <th>symptom:hyperhidrosis</th>\n",
       "      <th>symptom:pancreatitis</th>\n",
       "    </tr>\n",
       "  </thead>\n",
       "  <tbody>\n",
       "    <tr>\n",
       "      <th>0</th>\n",
       "      <td>US</td>\n",
       "      <td>United States</td>\n",
       "      <td>NaN</td>\n",
       "      <td>NaN</td>\n",
       "      <td>NaN</td>\n",
       "      <td>NaN</td>\n",
       "      <td>ChIJCzYy5IS16lQRQrfeQ5K5Oxw</td>\n",
       "      <td>2022-01-03</td>\n",
       "      <td>2.48</td>\n",
       "      <td>5.64</td>\n",
       "      <td>...</td>\n",
       "      <td>1.39</td>\n",
       "      <td>0.29</td>\n",
       "      <td>0.53</td>\n",
       "      <td>3.92</td>\n",
       "      <td>0.37</td>\n",
       "      <td>3.46</td>\n",
       "      <td>0.57</td>\n",
       "      <td>0.19</td>\n",
       "      <td>0.60</td>\n",
       "      <td>0.44</td>\n",
       "    </tr>\n",
       "    <tr>\n",
       "      <th>1</th>\n",
       "      <td>US</td>\n",
       "      <td>United States</td>\n",
       "      <td>NaN</td>\n",
       "      <td>NaN</td>\n",
       "      <td>NaN</td>\n",
       "      <td>NaN</td>\n",
       "      <td>ChIJCzYy5IS16lQRQrfeQ5K5Oxw</td>\n",
       "      <td>2022-01-10</td>\n",
       "      <td>2.41</td>\n",
       "      <td>5.47</td>\n",
       "      <td>...</td>\n",
       "      <td>1.36</td>\n",
       "      <td>0.30</td>\n",
       "      <td>0.62</td>\n",
       "      <td>3.85</td>\n",
       "      <td>0.37</td>\n",
       "      <td>3.53</td>\n",
       "      <td>0.57</td>\n",
       "      <td>0.20</td>\n",
       "      <td>0.62</td>\n",
       "      <td>0.53</td>\n",
       "    </tr>\n",
       "    <tr>\n",
       "      <th>2</th>\n",
       "      <td>US</td>\n",
       "      <td>United States</td>\n",
       "      <td>NaN</td>\n",
       "      <td>NaN</td>\n",
       "      <td>NaN</td>\n",
       "      <td>NaN</td>\n",
       "      <td>ChIJCzYy5IS16lQRQrfeQ5K5Oxw</td>\n",
       "      <td>2022-01-17</td>\n",
       "      <td>2.52</td>\n",
       "      <td>5.54</td>\n",
       "      <td>...</td>\n",
       "      <td>1.40</td>\n",
       "      <td>0.32</td>\n",
       "      <td>0.59</td>\n",
       "      <td>3.91</td>\n",
       "      <td>0.36</td>\n",
       "      <td>3.69</td>\n",
       "      <td>0.58</td>\n",
       "      <td>0.20</td>\n",
       "      <td>0.61</td>\n",
       "      <td>0.45</td>\n",
       "    </tr>\n",
       "    <tr>\n",
       "      <th>3</th>\n",
       "      <td>US</td>\n",
       "      <td>United States</td>\n",
       "      <td>NaN</td>\n",
       "      <td>NaN</td>\n",
       "      <td>NaN</td>\n",
       "      <td>NaN</td>\n",
       "      <td>ChIJCzYy5IS16lQRQrfeQ5K5Oxw</td>\n",
       "      <td>2022-01-24</td>\n",
       "      <td>2.48</td>\n",
       "      <td>5.50</td>\n",
       "      <td>...</td>\n",
       "      <td>1.40</td>\n",
       "      <td>0.33</td>\n",
       "      <td>0.55</td>\n",
       "      <td>3.93</td>\n",
       "      <td>0.36</td>\n",
       "      <td>3.80</td>\n",
       "      <td>0.59</td>\n",
       "      <td>0.20</td>\n",
       "      <td>0.62</td>\n",
       "      <td>0.46</td>\n",
       "    </tr>\n",
       "    <tr>\n",
       "      <th>4</th>\n",
       "      <td>US</td>\n",
       "      <td>United States</td>\n",
       "      <td>NaN</td>\n",
       "      <td>NaN</td>\n",
       "      <td>NaN</td>\n",
       "      <td>NaN</td>\n",
       "      <td>ChIJCzYy5IS16lQRQrfeQ5K5Oxw</td>\n",
       "      <td>2022-01-31</td>\n",
       "      <td>2.50</td>\n",
       "      <td>5.48</td>\n",
       "      <td>...</td>\n",
       "      <td>1.40</td>\n",
       "      <td>0.34</td>\n",
       "      <td>0.53</td>\n",
       "      <td>3.90</td>\n",
       "      <td>0.35</td>\n",
       "      <td>3.59</td>\n",
       "      <td>0.56</td>\n",
       "      <td>0.20</td>\n",
       "      <td>0.60</td>\n",
       "      <td>0.44</td>\n",
       "    </tr>\n",
       "  </tbody>\n",
       "</table>\n",
       "<p>5 rows × 430 columns</p>\n",
       "</div>"
      ],
      "text/plain": [
       "  country_region_code country_region sub_region_1 sub_region_1_code  \\\n",
       "0                  US  United States          NaN               NaN   \n",
       "1                  US  United States          NaN               NaN   \n",
       "2                  US  United States          NaN               NaN   \n",
       "3                  US  United States          NaN               NaN   \n",
       "4                  US  United States          NaN               NaN   \n",
       "\n",
       "   sub_region_2  sub_region_2_code                     place_id        date  \\\n",
       "0           NaN                NaN  ChIJCzYy5IS16lQRQrfeQ5K5Oxw  2022-01-03   \n",
       "1           NaN                NaN  ChIJCzYy5IS16lQRQrfeQ5K5Oxw  2022-01-10   \n",
       "2           NaN                NaN  ChIJCzYy5IS16lQRQrfeQ5K5Oxw  2022-01-17   \n",
       "3           NaN                NaN  ChIJCzYy5IS16lQRQrfeQ5K5Oxw  2022-01-24   \n",
       "4           NaN                NaN  ChIJCzYy5IS16lQRQrfeQ5K5Oxw  2022-01-31   \n",
       "\n",
       "   symptom:Abdominal obesity  symptom:Abdominal pain  ...  symptom:Wart  \\\n",
       "0                       2.48                    5.64  ...          1.39   \n",
       "1                       2.41                    5.47  ...          1.36   \n",
       "2                       2.52                    5.54  ...          1.40   \n",
       "3                       2.48                    5.50  ...          1.40   \n",
       "4                       2.50                    5.48  ...          1.40   \n",
       "\n",
       "   symptom:Water retention  symptom:Weakness  symptom:Weight gain  \\\n",
       "0                     0.29              0.53                 3.92   \n",
       "1                     0.30              0.62                 3.85   \n",
       "2                     0.32              0.59                 3.91   \n",
       "3                     0.33              0.55                 3.93   \n",
       "4                     0.34              0.53                 3.90   \n",
       "\n",
       "   symptom:Wheeze  symptom:Xeroderma  symptom:Xerostomia  symptom:Yawn  \\\n",
       "0            0.37               3.46                0.57          0.19   \n",
       "1            0.37               3.53                0.57          0.20   \n",
       "2            0.36               3.69                0.58          0.20   \n",
       "3            0.36               3.80                0.59          0.20   \n",
       "4            0.35               3.59                0.56          0.20   \n",
       "\n",
       "   symptom:hyperhidrosis  symptom:pancreatitis  \n",
       "0                   0.60                  0.44  \n",
       "1                   0.62                  0.53  \n",
       "2                   0.61                  0.45  \n",
       "3                   0.62                  0.46  \n",
       "4                   0.60                  0.44  \n",
       "\n",
       "[5 rows x 430 columns]"
      ]
     },
     "execution_count": 40,
     "metadata": {},
     "output_type": "execute_result"
    }
   ],
   "source": [
    "us_symptoms_df.head()"
   ]
  },
  {
   "attachments": {},
   "cell_type": "markdown",
   "metadata": {},
   "source": [
    "Both have 430 columns."
   ]
  },
  {
   "cell_type": "code",
   "execution_count": 41,
   "metadata": {},
   "outputs": [
    {
     "name": "stdout",
     "output_type": "stream",
     "text": [
      "['country_region_code', 'country_region', 'sub_region_1', 'sub_region_1_code', 'sub_region_2', 'sub_region_2_code', 'place_id', 'date', 'symptom:Abdominal obesity', 'symptom:Abdominal pain', 'symptom:Acne', 'symptom:Actinic keratosis', 'symptom:Acute bronchitis', 'symptom:Adrenal crisis', 'symptom:Ageusia']\n"
     ]
    }
   ],
   "source": [
    "df_columns = list(us_symptoms_df.columns)\n",
    "print(df_columns[:15])"
   ]
  },
  {
   "cell_type": "code",
   "execution_count": 42,
   "metadata": {},
   "outputs": [],
   "source": [
    "symptoms = list()\n",
    "\n",
    "for col in df_columns:\n",
    "    if \"symptom:\" not in col:\n",
    "        continue\n",
    "    col = col.replace(\"symptom:\", \"\")\n",
    "    col = col.capitalize()\n",
    "    symptoms.append(col)"
   ]
  },
  {
   "cell_type": "code",
   "execution_count": 43,
   "metadata": {},
   "outputs": [
    {
     "name": "stdout",
     "output_type": "stream",
     "text": [
      "['Abdominal obesity', 'Amblyopia', 'Anxiety', 'Astigmatism', \"Beau's lines\", 'Blushing', 'Bruise', 'Cataplexy', 'Clouding of consciousness', 'Constipation', 'Dementia', 'Dizziness', 'Ear pain', 'Erythema chronicum migrans', 'Fecal incontinence', 'Food intolerance', 'Goitre', 'Heart murmur', 'Hepatotoxicity', 'Hyperglycemia', 'Hypertrophy', 'Hypothyroidism', 'Ingrown hair', 'Kidney stone', 'Low-grade fever', 'Middle back pain', 'Muscle weakness', 'Neonatal jaundice', 'Obesity', 'Pain', 'Peripheral neuropathy', 'Podalgia', 'Pruritus ani', 'Rectal prolapse', 'Scar', 'Shortness of breath', 'Snoring', 'Stuttering', 'Tenderness', 'Trichoptilosis', 'Uterine contraction', 'Visual acuity', 'Hyperhidrosis']\n"
     ]
    }
   ],
   "source": [
    "print(symptoms[::10])"
   ]
  }
 ],
 "metadata": {
  "kernelspec": {
   "display_name": ".venv",
   "language": "python",
   "name": "python3"
  },
  "language_info": {
   "codemirror_mode": {
    "name": "ipython",
    "version": 3
   },
   "file_extension": ".py",
   "mimetype": "text/x-python",
   "name": "python",
   "nbconvert_exporter": "python",
   "pygments_lexer": "ipython3",
   "version": "3.8.10"
  },
  "orig_nbformat": 4,
  "vscode": {
   "interpreter": {
    "hash": "9a29d814ff9867b1bca3070bc77419176db06fa129a33d01f96cbf77dd5fcb2e"
   }
  }
 },
 "nbformat": 4,
 "nbformat_minor": 2
}
