{
 "cells": [
  {
   "cell_type": "code",
   "execution_count": 1,
   "metadata": {},
   "outputs": [],
   "source": [
    "import re\n",
    "import pandas as pd\n",
    "import numpy as np\n",
    "import PyPDF2"
   ]
  },
  {
   "attachments": {},
   "cell_type": "markdown",
   "metadata": {},
   "source": [
    "### NaturDoc - TL BL WT 22-23"
   ]
  },
  {
   "attachments": {},
   "cell_type": "markdown",
   "metadata": {},
   "source": [
    "# Data transformation:"
   ]
  },
  {
   "attachments": {},
   "cell_type": "markdown",
   "metadata": {},
   "source": [
    "Datasets we have explored:\n",
    "* not useable by themselves\n",
    "* not matching visions of team for information that the app should provide\n",
    "\n",
    "So we delve deeper into the datasets and try to manipulate them to extract the information we need, in hopes of creating a final enriched dataset at the end."
   ]
  },
  {
   "attachments": {},
   "cell_type": "markdown",
   "metadata": {},
   "source": [
    "## Imports:"
   ]
  },
  {
   "attachments": {},
   "cell_type": "markdown",
   "metadata": {},
   "source": [
    "### Duke:"
   ]
  },
  {
   "cell_type": "code",
   "execution_count": 2,
   "metadata": {},
   "outputs": [],
   "source": [
    "duke_df = pd.read_csv(\"../data/DUKE/ETHNOBOT.csv\")"
   ]
  },
  {
   "attachments": {},
   "cell_type": "markdown",
   "metadata": {},
   "source": [
    "### KEW:"
   ]
  },
  {
   "attachments": {},
   "cell_type": "markdown",
   "metadata": {},
   "source": [
    "The two KEW datasets with the most promising geographic data.\n",
    "\n",
    "_Note: both of these csv files were too large to be pushed to GitHub. We will modify them in this notebook to export to csv with a reduced file size and make them more useable for us as well, as some code can be very time-consuming to run with the way the files are set up right now._"
   ]
  },
  {
   "cell_type": "code",
   "execution_count": 5,
   "metadata": {},
   "outputs": [
    {
     "name": "stderr",
     "output_type": "stream",
     "text": [
      "/tmp/ipykernel_12162/3174618310.py:2: DtypeWarning: Columns (26) have mixed types. Specify dtype option on import or set low_memory=False.\n",
      "  wcvp_names_df = pd.read_csv(\"../data/WCVP/.wcvp_names.csv\", sep=\"|\")\n"
     ]
    }
   ],
   "source": [
    "wcvp_dis_df = pd.read_csv(\"../data/WCVP/.wcvp_distribution.csv\", sep=\"|\")\n",
    "wcvp_names_df = pd.read_csv(\"../data/WCVP/.wcvp_names.csv\", sep=\"|\")"
   ]
  },
  {
   "attachments": {},
   "cell_type": "markdown",
   "metadata": {},
   "source": [
    "### WHO Monograph 1:"
   ]
  },
  {
   "cell_type": "code",
   "execution_count": null,
   "metadata": {},
   "outputs": [],
   "source": [
    "who_01_pdf = open('../data/WHO/monograph_01.pdf', 'rb')\n",
    "\n",
    "who_01_reader = PyPDF2.PdfReader(who_01_pdf)\n",
    "\n",
    "who_01_pages = list()\n",
    "\n",
    "pattern_fi = re.compile(\"ﬁ\")\n",
    "pattern_fl = re.compile(\"ﬂ\")\n",
    "pattern_minus = re.compile(\"–\")\n",
    "pattern_brackets = re.compile(\"\\([\\s0-9,-]+\\)\")\n",
    "pattern_spacedot = re.compile(\" \\.\")\n",
    "pattern_spacecomma = re.compile(\" ,\")\n",
    "pattern_spacequotesingle = re.compile(\" ’\")\n",
    "pattern_spacequotedouble = re.compile(\" ”\")\n",
    "pattern_doublespace = re.compile(\"\\s\\s+\")\n",
    "pattern_dashspace = re.compile(\"-\\s+\")\n",
    "  \n",
    "for page in range(len(who_01_reader.pages)):\n",
    "    page_obj = who_01_reader.pages[page]\n",
    "    text = page_obj.extract_text()\n",
    "    text = re.sub(pattern_fi, \"fi\", text)\n",
    "    text = re.sub(pattern_fl, \"fl\", text)\n",
    "    text = re.sub(pattern_minus, \"-\", text)\n",
    "    text = re.sub(pattern_brackets, \"\", text)\n",
    "    text = re.sub(pattern_spacedot, \".\", text)\n",
    "    text = re.sub(pattern_spacecomma, \",\", text)\n",
    "    text = re.sub(pattern_spacequotesingle, \"’\", text)\n",
    "    text = re.sub(pattern_spacequotedouble, \"”\", text)\n",
    "    text = re.sub(pattern_doublespace, \" \", text)\n",
    "    text = re.sub(pattern_dashspace, \"\", text)\n",
    "    lines = text.split(\"\\n\")\n",
    "    who_01_pages.append(lines)\n",
    "    \n",
    "who_01_pdf.close()"
   ]
  },
  {
   "cell_type": "code",
   "execution_count": null,
   "metadata": {},
   "outputs": [],
   "source": [
    "p_01_50 = who_01_pages[7 : 57]\n",
    "p_51_58 = who_01_pages[75 : 83]\n",
    "p_59_60 = who_01_pages[57 : 59]\n",
    "p_61_66 = who_01_pages[69 : 75]\n",
    "p_67_76 = who_01_pages[59 : 69]\n",
    "p_77_end = who_01_pages[83 : ]\n",
    "\n",
    "who_01_pages_corrected = p_01_50 + p_51_58 + p_59_60 + p_61_66 + p_67_76 + p_77_end"
   ]
  },
  {
   "attachments": {},
   "cell_type": "markdown",
   "metadata": {},
   "source": [
    "## Transforming the DUKE dataset:"
   ]
  },
  {
   "attachments": {},
   "cell_type": "markdown",
   "metadata": {},
   "source": [
    "The original Dataset of the _Dr. Duke's Phytochemical and Ethnobotanical Databases_ contains a lot of information that we do not need for the scope of our app. Currently the dataset pairs unique herbs with a single \"activity\", linked to relevant research and other data, but for our needs it makes sense to pivot the dataframe by each herb, aggregating their data all in a single row.\n",
    "\n",
    "As np.NaN values cause issues when joining the aggregated values subsequently, all np.NaN values will first be replaced with a custom nan string value."
   ]
  },
  {
   "cell_type": "code",
   "execution_count": 3,
   "metadata": {},
   "outputs": [
    {
     "data": {
      "text/html": [
       "<div>\n",
       "<style scoped>\n",
       "    .dataframe tbody tr th:only-of-type {\n",
       "        vertical-align: middle;\n",
       "    }\n",
       "\n",
       "    .dataframe tbody tr th {\n",
       "        vertical-align: top;\n",
       "    }\n",
       "\n",
       "    .dataframe thead th {\n",
       "        text-align: right;\n",
       "    }\n",
       "</style>\n",
       "<table border=\"1\" class=\"dataframe\">\n",
       "  <thead>\n",
       "    <tr style=\"text-align: right;\">\n",
       "      <th></th>\n",
       "      <th>ACTIVITY</th>\n",
       "      <th>CNAME</th>\n",
       "      <th>FAMILY</th>\n",
       "      <th>GENUS</th>\n",
       "      <th>SPECIES</th>\n",
       "    </tr>\n",
       "    <tr>\n",
       "      <th>TAXON</th>\n",
       "      <th></th>\n",
       "      <th></th>\n",
       "      <th></th>\n",
       "      <th></th>\n",
       "      <th></th>\n",
       "    </tr>\n",
       "  </thead>\n",
       "  <tbody>\n",
       "    <tr>\n",
       "      <th>Abelmoschus esculentus</th>\n",
       "      <td>[Abortifacient, Antidote, Boil, Burn, Catarrh,...</td>\n",
       "      <td>[nan, Huang Shu K'Uei, Bamia, Molondron, Quiab...</td>\n",
       "      <td>[Malvaceae]</td>\n",
       "      <td>[Abelmoschus]</td>\n",
       "      <td>[esculentus]</td>\n",
       "    </tr>\n",
       "    <tr>\n",
       "      <th>Abelmoschus manihot</th>\n",
       "      <td>[Antitussive, Boil, Cancer, Cancer(Stomach), C...</td>\n",
       "      <td>[Tororo-Aoi, nan, Kastuli]</td>\n",
       "      <td>[Malvaceae]</td>\n",
       "      <td>[Abelmoschus]</td>\n",
       "      <td>[manihot]</td>\n",
       "    </tr>\n",
       "    <tr>\n",
       "      <th>Abelmoschus moschatus</th>\n",
       "      <td>[Aphrodisiac, Asthma, Bite(Snake), Boil, Cance...</td>\n",
       "      <td>[Musk Mallow, nan, Moskus, Muskus, Mushk Dana,...</td>\n",
       "      <td>[Malvaceae]</td>\n",
       "      <td>[Abelmoschus]</td>\n",
       "      <td>[moschatus]</td>\n",
       "    </tr>\n",
       "    <tr>\n",
       "      <th>Abies alba</th>\n",
       "      <td>[Bronchitis, Bruise, Calculus, Catarrh, Cough,...</td>\n",
       "      <td>[Abeto, Edeltanne, Beyaz Koknar, Silver Fir, A...</td>\n",
       "      <td>[Pinaceae]</td>\n",
       "      <td>[Abies]</td>\n",
       "      <td>[alba]</td>\n",
       "    </tr>\n",
       "    <tr>\n",
       "      <th>Abies balsamea</th>\n",
       "      <td>[Burn, Cancer, Cold, Cough, Heart, Masticatory...</td>\n",
       "      <td>[nan, Balsam,Canada, Balsam Fir, Fir]</td>\n",
       "      <td>[Pinaceae]</td>\n",
       "      <td>[Abies]</td>\n",
       "      <td>[balsamea]</td>\n",
       "    </tr>\n",
       "  </tbody>\n",
       "</table>\n",
       "</div>"
      ],
      "text/plain": [
       "                                                                 ACTIVITY  \\\n",
       "TAXON                                                                       \n",
       "Abelmoschus esculentus  [Abortifacient, Antidote, Boil, Burn, Catarrh,...   \n",
       "Abelmoschus manihot     [Antitussive, Boil, Cancer, Cancer(Stomach), C...   \n",
       "Abelmoschus moschatus   [Aphrodisiac, Asthma, Bite(Snake), Boil, Cance...   \n",
       "Abies alba              [Bronchitis, Bruise, Calculus, Catarrh, Cough,...   \n",
       "Abies balsamea          [Burn, Cancer, Cold, Cough, Heart, Masticatory...   \n",
       "\n",
       "                                                                    CNAME  \\\n",
       "TAXON                                                                       \n",
       "Abelmoschus esculentus  [nan, Huang Shu K'Uei, Bamia, Molondron, Quiab...   \n",
       "Abelmoschus manihot                            [Tororo-Aoi, nan, Kastuli]   \n",
       "Abelmoschus moschatus   [Musk Mallow, nan, Moskus, Muskus, Mushk Dana,...   \n",
       "Abies alba              [Abeto, Edeltanne, Beyaz Koknar, Silver Fir, A...   \n",
       "Abies balsamea                      [nan, Balsam,Canada, Balsam Fir, Fir]   \n",
       "\n",
       "                             FAMILY          GENUS       SPECIES  \n",
       "TAXON                                                             \n",
       "Abelmoschus esculentus  [Malvaceae]  [Abelmoschus]  [esculentus]  \n",
       "Abelmoschus manihot     [Malvaceae]  [Abelmoschus]     [manihot]  \n",
       "Abelmoschus moschatus   [Malvaceae]  [Abelmoschus]   [moschatus]  \n",
       "Abies alba               [Pinaceae]        [Abies]        [alba]  \n",
       "Abies balsamea           [Pinaceae]        [Abies]    [balsamea]  "
      ]
     },
     "execution_count": 3,
     "metadata": {},
     "output_type": "execute_result"
    }
   ],
   "source": [
    "target_cols = [\"TAXON\", \"ACTIVITY\", \"CNAME\", \"FAMILY\", \"GENUS\", \"SPECIES\"]\n",
    "mod_duke_df = duke_df[target_cols].replace(np.NaN, \"nan\").pivot_table(index='TAXON', aggfunc=pd.unique)\n",
    "mod_duke_df.head()"
   ]
  },
  {
   "attachments": {},
   "cell_type": "markdown",
   "metadata": {},
   "source": [
    "While multiple values are stored in a list for now, exporting and later re-importing this dataframe as a csv causes issues (the list will instead be treated as a string). This will be further explored in the \"Pivoting\" as well as the \"Comparing output of these new csv files\" subchapters of the section transforming the KEW datasets.\n",
    "\n",
    "The following code instead joins the multiples values in a comma separated string:"
   ]
  },
  {
   "cell_type": "code",
   "execution_count": null,
   "metadata": {},
   "outputs": [
    {
     "data": {
      "text/html": [
       "<div>\n",
       "<style scoped>\n",
       "    .dataframe tbody tr th:only-of-type {\n",
       "        vertical-align: middle;\n",
       "    }\n",
       "\n",
       "    .dataframe tbody tr th {\n",
       "        vertical-align: top;\n",
       "    }\n",
       "\n",
       "    .dataframe thead th {\n",
       "        text-align: right;\n",
       "    }\n",
       "</style>\n",
       "<table border=\"1\" class=\"dataframe\">\n",
       "  <thead>\n",
       "    <tr style=\"text-align: right;\">\n",
       "      <th></th>\n",
       "      <th>ACTIVITY</th>\n",
       "      <th>CNAME</th>\n",
       "      <th>FAMILY</th>\n",
       "      <th>GENUS</th>\n",
       "      <th>SPECIES</th>\n",
       "    </tr>\n",
       "    <tr>\n",
       "      <th>TAXON</th>\n",
       "      <th></th>\n",
       "      <th></th>\n",
       "      <th></th>\n",
       "      <th></th>\n",
       "      <th></th>\n",
       "    </tr>\n",
       "  </thead>\n",
       "  <tbody>\n",
       "    <tr>\n",
       "      <th>Abelmoschus esculentus</th>\n",
       "      <td>Abortifacient,Antidote,Boil,Burn,Catarrh,Coffe...</td>\n",
       "      <td>nan,Huang Shu K'Uei,Bamia,Molondron,Quiabeiro,...</td>\n",
       "      <td>Malvaceae</td>\n",
       "      <td>Abelmoschus</td>\n",
       "      <td>esculentus</td>\n",
       "    </tr>\n",
       "    <tr>\n",
       "      <th>Abelmoschus manihot</th>\n",
       "      <td>Antitussive,Boil,Cancer,Cancer(Stomach),Catarr...</td>\n",
       "      <td>Tororo-Aoi,nan,Kastuli</td>\n",
       "      <td>Malvaceae</td>\n",
       "      <td>Abelmoschus</td>\n",
       "      <td>manihot</td>\n",
       "    </tr>\n",
       "    <tr>\n",
       "      <th>Abelmoschus moschatus</th>\n",
       "      <td>Aphrodisiac,Asthma,Bite(Snake),Boil,Cancer,Car...</td>\n",
       "      <td>Musk Mallow,nan,Moskus,Muskus,Mushk Dana,Amber...</td>\n",
       "      <td>Malvaceae</td>\n",
       "      <td>Abelmoschus</td>\n",
       "      <td>moschatus</td>\n",
       "    </tr>\n",
       "    <tr>\n",
       "      <th>Abies alba</th>\n",
       "      <td>Bronchitis,Bruise,Calculus,Catarrh,Cough,Diure...</td>\n",
       "      <td>Abeto,Edeltanne,Beyaz Koknar,Silver Fir,Abeto ...</td>\n",
       "      <td>Pinaceae</td>\n",
       "      <td>Abies</td>\n",
       "      <td>alba</td>\n",
       "    </tr>\n",
       "    <tr>\n",
       "      <th>Abies balsamea</th>\n",
       "      <td>Burn,Cancer,Cold,Cough,Heart,Masticatory,Sore,...</td>\n",
       "      <td>nan,Balsam,Canada,Balsam Fir,Fir</td>\n",
       "      <td>Pinaceae</td>\n",
       "      <td>Abies</td>\n",
       "      <td>balsamea</td>\n",
       "    </tr>\n",
       "  </tbody>\n",
       "</table>\n",
       "</div>"
      ],
      "text/plain": [
       "                                                                 ACTIVITY  \\\n",
       "TAXON                                                                       \n",
       "Abelmoschus esculentus  Abortifacient,Antidote,Boil,Burn,Catarrh,Coffe...   \n",
       "Abelmoschus manihot     Antitussive,Boil,Cancer,Cancer(Stomach),Catarr...   \n",
       "Abelmoschus moschatus   Aphrodisiac,Asthma,Bite(Snake),Boil,Cancer,Car...   \n",
       "Abies alba              Bronchitis,Bruise,Calculus,Catarrh,Cough,Diure...   \n",
       "Abies balsamea          Burn,Cancer,Cold,Cough,Heart,Masticatory,Sore,...   \n",
       "\n",
       "                                                                    CNAME  \\\n",
       "TAXON                                                                       \n",
       "Abelmoschus esculentus  nan,Huang Shu K'Uei,Bamia,Molondron,Quiabeiro,...   \n",
       "Abelmoschus manihot                                Tororo-Aoi,nan,Kastuli   \n",
       "Abelmoschus moschatus   Musk Mallow,nan,Moskus,Muskus,Mushk Dana,Amber...   \n",
       "Abies alba              Abeto,Edeltanne,Beyaz Koknar,Silver Fir,Abeto ...   \n",
       "Abies balsamea                           nan,Balsam,Canada,Balsam Fir,Fir   \n",
       "\n",
       "                           FAMILY        GENUS     SPECIES  \n",
       "TAXON                                                       \n",
       "Abelmoschus esculentus  Malvaceae  Abelmoschus  esculentus  \n",
       "Abelmoschus manihot     Malvaceae  Abelmoschus     manihot  \n",
       "Abelmoschus moschatus   Malvaceae  Abelmoschus   moschatus  \n",
       "Abies alba               Pinaceae        Abies        alba  \n",
       "Abies balsamea           Pinaceae        Abies    balsamea  "
      ]
     },
     "execution_count": 5,
     "metadata": {},
     "output_type": "execute_result"
    }
   ],
   "source": [
    "mod_duke_df[\"ACTIVITY\"] = mod_duke_df[\"ACTIVITY\"].str.join(\",\")\n",
    "mod_duke_df[\"CNAME\"] = mod_duke_df[\"CNAME\"].str.join(\",\")\n",
    "mod_duke_df[\"FAMILY\"] = mod_duke_df[\"FAMILY\"].str.join(\",\")\n",
    "mod_duke_df[\"GENUS\"] = mod_duke_df[\"GENUS\"].str.join(\",\")\n",
    "mod_duke_df[\"SPECIES\"] = mod_duke_df[\"SPECIES\"].str.join(\",\")\n",
    "mod_duke_df.head()"
   ]
  },
  {
   "attachments": {},
   "cell_type": "markdown",
   "metadata": {},
   "source": [
    "_Note: later, it is important to remember to remove the null values when they appear as part of a list._"
   ]
  },
  {
   "attachments": {},
   "cell_type": "markdown",
   "metadata": {},
   "source": [
    "The dataframe is now indexed by the unique taxonomic name. If necessary, a regular serial index can be created by executing reset_index(). This is helpful in that \"TAXON\" will then become a normal column again and can therefore be targeted with .loc.\n",
    "\n",
    "_Edit: when exporting the dataframe to a new CSV, another serial index gets added upon reading it again later so this is not necessary._"
   ]
  },
  {
   "cell_type": "code",
   "execution_count": null,
   "metadata": {},
   "outputs": [
    {
     "data": {
      "text/html": [
       "<div>\n",
       "<style scoped>\n",
       "    .dataframe tbody tr th:only-of-type {\n",
       "        vertical-align: middle;\n",
       "    }\n",
       "\n",
       "    .dataframe tbody tr th {\n",
       "        vertical-align: top;\n",
       "    }\n",
       "\n",
       "    .dataframe thead th {\n",
       "        text-align: right;\n",
       "    }\n",
       "</style>\n",
       "<table border=\"1\" class=\"dataframe\">\n",
       "  <thead>\n",
       "    <tr style=\"text-align: right;\">\n",
       "      <th></th>\n",
       "      <th>TAXON</th>\n",
       "      <th>ACTIVITY</th>\n",
       "      <th>CNAME</th>\n",
       "      <th>FAMILY</th>\n",
       "      <th>GENUS</th>\n",
       "      <th>SPECIES</th>\n",
       "    </tr>\n",
       "  </thead>\n",
       "  <tbody>\n",
       "    <tr>\n",
       "      <th>0</th>\n",
       "      <td>Abelmoschus esculentus</td>\n",
       "      <td>Abortifacient,Antidote,Boil,Burn,Catarrh,Coffe...</td>\n",
       "      <td>nan,Huang Shu K'Uei,Bamia,Molondron,Quiabeiro,...</td>\n",
       "      <td>Malvaceae</td>\n",
       "      <td>Abelmoschus</td>\n",
       "      <td>esculentus</td>\n",
       "    </tr>\n",
       "    <tr>\n",
       "      <th>1</th>\n",
       "      <td>Abelmoschus manihot</td>\n",
       "      <td>Antitussive,Boil,Cancer,Cancer(Stomach),Catarr...</td>\n",
       "      <td>Tororo-Aoi,nan,Kastuli</td>\n",
       "      <td>Malvaceae</td>\n",
       "      <td>Abelmoschus</td>\n",
       "      <td>manihot</td>\n",
       "    </tr>\n",
       "    <tr>\n",
       "      <th>2</th>\n",
       "      <td>Abelmoschus moschatus</td>\n",
       "      <td>Aphrodisiac,Asthma,Bite(Snake),Boil,Cancer,Car...</td>\n",
       "      <td>Musk Mallow,nan,Moskus,Muskus,Mushk Dana,Amber...</td>\n",
       "      <td>Malvaceae</td>\n",
       "      <td>Abelmoschus</td>\n",
       "      <td>moschatus</td>\n",
       "    </tr>\n",
       "    <tr>\n",
       "      <th>3</th>\n",
       "      <td>Abies alba</td>\n",
       "      <td>Bronchitis,Bruise,Calculus,Catarrh,Cough,Diure...</td>\n",
       "      <td>Abeto,Edeltanne,Beyaz Koknar,Silver Fir,Abeto ...</td>\n",
       "      <td>Pinaceae</td>\n",
       "      <td>Abies</td>\n",
       "      <td>alba</td>\n",
       "    </tr>\n",
       "    <tr>\n",
       "      <th>4</th>\n",
       "      <td>Abies balsamea</td>\n",
       "      <td>Burn,Cancer,Cold,Cough,Heart,Masticatory,Sore,...</td>\n",
       "      <td>nan,Balsam,Canada,Balsam Fir,Fir</td>\n",
       "      <td>Pinaceae</td>\n",
       "      <td>Abies</td>\n",
       "      <td>balsamea</td>\n",
       "    </tr>\n",
       "  </tbody>\n",
       "</table>\n",
       "</div>"
      ],
      "text/plain": [
       "                    TAXON                                           ACTIVITY  \\\n",
       "0  Abelmoschus esculentus  Abortifacient,Antidote,Boil,Burn,Catarrh,Coffe...   \n",
       "1     Abelmoschus manihot  Antitussive,Boil,Cancer,Cancer(Stomach),Catarr...   \n",
       "2   Abelmoschus moschatus  Aphrodisiac,Asthma,Bite(Snake),Boil,Cancer,Car...   \n",
       "3              Abies alba  Bronchitis,Bruise,Calculus,Catarrh,Cough,Diure...   \n",
       "4          Abies balsamea  Burn,Cancer,Cold,Cough,Heart,Masticatory,Sore,...   \n",
       "\n",
       "                                               CNAME     FAMILY        GENUS  \\\n",
       "0  nan,Huang Shu K'Uei,Bamia,Molondron,Quiabeiro,...  Malvaceae  Abelmoschus   \n",
       "1                             Tororo-Aoi,nan,Kastuli  Malvaceae  Abelmoschus   \n",
       "2  Musk Mallow,nan,Moskus,Muskus,Mushk Dana,Amber...  Malvaceae  Abelmoschus   \n",
       "3  Abeto,Edeltanne,Beyaz Koknar,Silver Fir,Abeto ...   Pinaceae        Abies   \n",
       "4                   nan,Balsam,Canada,Balsam Fir,Fir   Pinaceae        Abies   \n",
       "\n",
       "      SPECIES  \n",
       "0  esculentus  \n",
       "1     manihot  \n",
       "2   moschatus  \n",
       "3        alba  \n",
       "4    balsamea  "
      ]
     },
     "execution_count": 6,
     "metadata": {},
     "output_type": "execute_result"
    }
   ],
   "source": [
    "mod_duke_df = mod_duke_df.reset_index()\n",
    "mod_duke_df.head()"
   ]
  },
  {
   "attachments": {},
   "cell_type": "markdown",
   "metadata": {},
   "source": [
    "Exporting the transformed dataset for later use:"
   ]
  },
  {
   "cell_type": "code",
   "execution_count": null,
   "metadata": {},
   "outputs": [],
   "source": [
    "# mod_duke_df.to_csv(\"../data/DUKE/PIVOT_ETHNOBOT.csv\")"
   ]
  },
  {
   "attachments": {},
   "cell_type": "markdown",
   "metadata": {},
   "source": [
    "### Targeting only the activities to create a placeholder collection of symptoms:"
   ]
  },
  {
   "cell_type": "code",
   "execution_count": 27,
   "metadata": {},
   "outputs": [
    {
     "name": "stderr",
     "output_type": "stream",
     "text": [
      "/tmp/ipykernel_23926/433113371.py:4: UserWarning: This pattern is interpreted as a regular expression, and has match groups. To actually get the groups, use str.extract.\n",
      "  filt = (symptoms_df.symptomName.str.contains(\"(Veterinary)\") == False)\n"
     ]
    },
    {
     "data": {
      "text/html": [
       "<div>\n",
       "<style scoped>\n",
       "    .dataframe tbody tr th:only-of-type {\n",
       "        vertical-align: middle;\n",
       "    }\n",
       "\n",
       "    .dataframe tbody tr th {\n",
       "        vertical-align: top;\n",
       "    }\n",
       "\n",
       "    .dataframe thead th {\n",
       "        text-align: right;\n",
       "    }\n",
       "</style>\n",
       "<table border=\"1\" class=\"dataframe\">\n",
       "  <thead>\n",
       "    <tr style=\"text-align: right;\">\n",
       "      <th></th>\n",
       "      <th>symptomName</th>\n",
       "    </tr>\n",
       "  </thead>\n",
       "  <tbody>\n",
       "    <tr>\n",
       "      <th>0</th>\n",
       "      <td>Abcess</td>\n",
       "    </tr>\n",
       "    <tr>\n",
       "      <th>1</th>\n",
       "      <td>Abdomen</td>\n",
       "    </tr>\n",
       "    <tr>\n",
       "      <th>2</th>\n",
       "      <td>Abortifacient</td>\n",
       "    </tr>\n",
       "    <tr>\n",
       "      <th>4</th>\n",
       "      <td>Abortive</td>\n",
       "    </tr>\n",
       "    <tr>\n",
       "      <th>5</th>\n",
       "      <td>Abrasion</td>\n",
       "    </tr>\n",
       "  </tbody>\n",
       "</table>\n",
       "</div>"
      ],
      "text/plain": [
       "     symptomName\n",
       "0         Abcess\n",
       "1        Abdomen\n",
       "2  Abortifacient\n",
       "4       Abortive\n",
       "5       Abrasion"
      ]
     },
     "execution_count": 27,
     "metadata": {},
     "output_type": "execute_result"
    }
   ],
   "source": [
    "symptoms = duke_df[\"ACTIVITY\"].unique()\n",
    "symptoms_df = pd.DataFrame(symptoms)\n",
    "symptoms_df.rename(columns={0: \"symptomName\"}, inplace=True)\n",
    "filt = (symptoms_df.symptomName.str.contains(\"(Veterinary)\") == False)\n",
    "reduced_symptoms_df = symptoms_df[filt]\n",
    "reduced_symptoms_df.head()"
   ]
  },
  {
   "attachments": {},
   "cell_type": "markdown",
   "metadata": {},
   "source": [
    "For placeholder json: requires ids"
   ]
  },
  {
   "cell_type": "code",
   "execution_count": 28,
   "metadata": {},
   "outputs": [
    {
     "name": "stderr",
     "output_type": "stream",
     "text": [
      "/tmp/ipykernel_23926/1559873215.py:2: SettingWithCopyWarning: \n",
      "A value is trying to be set on a copy of a slice from a DataFrame.\n",
      "Try using .loc[row_indexer,col_indexer] = value instead\n",
      "\n",
      "See the caveats in the documentation: https://pandas.pydata.org/pandas-docs/stable/user_guide/indexing.html#returning-a-view-versus-a-copy\n",
      "  reduced_symptoms_df.loc[:, \"_id\"] = id_df.index\n"
     ]
    },
    {
     "data": {
      "text/html": [
       "<div>\n",
       "<style scoped>\n",
       "    .dataframe tbody tr th:only-of-type {\n",
       "        vertical-align: middle;\n",
       "    }\n",
       "\n",
       "    .dataframe tbody tr th {\n",
       "        vertical-align: top;\n",
       "    }\n",
       "\n",
       "    .dataframe thead th {\n",
       "        text-align: right;\n",
       "    }\n",
       "</style>\n",
       "<table border=\"1\" class=\"dataframe\">\n",
       "  <thead>\n",
       "    <tr style=\"text-align: right;\">\n",
       "      <th></th>\n",
       "      <th>symptomName</th>\n",
       "      <th>_id</th>\n",
       "    </tr>\n",
       "  </thead>\n",
       "  <tbody>\n",
       "    <tr>\n",
       "      <th>0</th>\n",
       "      <td>Abcess</td>\n",
       "      <td>0</td>\n",
       "    </tr>\n",
       "    <tr>\n",
       "      <th>1</th>\n",
       "      <td>Abdomen</td>\n",
       "      <td>1</td>\n",
       "    </tr>\n",
       "    <tr>\n",
       "      <th>2</th>\n",
       "      <td>Abortifacient</td>\n",
       "      <td>2</td>\n",
       "    </tr>\n",
       "    <tr>\n",
       "      <th>4</th>\n",
       "      <td>Abortive</td>\n",
       "      <td>4</td>\n",
       "    </tr>\n",
       "    <tr>\n",
       "      <th>5</th>\n",
       "      <td>Abrasion</td>\n",
       "      <td>5</td>\n",
       "    </tr>\n",
       "  </tbody>\n",
       "</table>\n",
       "</div>"
      ],
      "text/plain": [
       "     symptomName  _id\n",
       "0         Abcess    0\n",
       "1        Abdomen    1\n",
       "2  Abortifacient    2\n",
       "4       Abortive    4\n",
       "5       Abrasion    5"
      ]
     },
     "execution_count": 28,
     "metadata": {},
     "output_type": "execute_result"
    }
   ],
   "source": [
    "id_df = reduced_symptoms_df.copy()\n",
    "reduced_symptoms_df.loc[:, \"_id\"] = id_df.index\n",
    "reduced_symptoms_df.head()"
   ]
  },
  {
   "cell_type": "code",
   "execution_count": 29,
   "metadata": {},
   "outputs": [],
   "source": [
    "reduced_symptoms_df.to_json(\"../output/symptoms.json\", orient=\"records\")"
   ]
  },
  {
   "cell_type": "code",
   "execution_count": 31,
   "metadata": {},
   "outputs": [
    {
     "data": {
      "text/html": [
       "<div>\n",
       "<style scoped>\n",
       "    .dataframe tbody tr th:only-of-type {\n",
       "        vertical-align: middle;\n",
       "    }\n",
       "\n",
       "    .dataframe tbody tr th {\n",
       "        vertical-align: top;\n",
       "    }\n",
       "\n",
       "    .dataframe thead th {\n",
       "        text-align: right;\n",
       "    }\n",
       "</style>\n",
       "<table border=\"1\" class=\"dataframe\">\n",
       "  <thead>\n",
       "    <tr style=\"text-align: right;\">\n",
       "      <th></th>\n",
       "      <th>symptomName</th>\n",
       "      <th>_id</th>\n",
       "    </tr>\n",
       "  </thead>\n",
       "  <tbody>\n",
       "    <tr>\n",
       "      <th>0</th>\n",
       "      <td>Abcess</td>\n",
       "      <td>0</td>\n",
       "    </tr>\n",
       "    <tr>\n",
       "      <th>1</th>\n",
       "      <td>Abdomen</td>\n",
       "      <td>1</td>\n",
       "    </tr>\n",
       "    <tr>\n",
       "      <th>2</th>\n",
       "      <td>Abortifacient</td>\n",
       "      <td>2</td>\n",
       "    </tr>\n",
       "    <tr>\n",
       "      <th>3</th>\n",
       "      <td>Abortive</td>\n",
       "      <td>4</td>\n",
       "    </tr>\n",
       "    <tr>\n",
       "      <th>4</th>\n",
       "      <td>Abrasion</td>\n",
       "      <td>5</td>\n",
       "    </tr>\n",
       "  </tbody>\n",
       "</table>\n",
       "</div>"
      ],
      "text/plain": [
       "     symptomName  _id\n",
       "0         Abcess    0\n",
       "1        Abdomen    1\n",
       "2  Abortifacient    2\n",
       "3       Abortive    4\n",
       "4       Abrasion    5"
      ]
     },
     "execution_count": 31,
     "metadata": {},
     "output_type": "execute_result"
    }
   ],
   "source": [
    "check_df = pd.read_json(\"../output/symptoms.json\")\n",
    "check_df.head()"
   ]
  },
  {
   "attachments": {},
   "cell_type": "markdown",
   "metadata": {},
   "source": [
    "## Transforming the KEW dataset:"
   ]
  },
  {
   "attachments": {},
   "cell_type": "markdown",
   "metadata": {},
   "source": [
    "### wcvp_names.csv:"
   ]
  },
  {
   "cell_type": "code",
   "execution_count": 10,
   "metadata": {},
   "outputs": [
    {
     "data": {
      "text/plain": [
       "(1414666, 31)"
      ]
     },
     "execution_count": 10,
     "metadata": {},
     "output_type": "execute_result"
    }
   ],
   "source": [
    "wcvp_names_df.shape"
   ]
  },
  {
   "attachments": {},
   "cell_type": "markdown",
   "metadata": {},
   "source": [
    "As we can see, the wcvp_names_df has 1.414.666 rows of data and 31 columns. "
   ]
  },
  {
   "cell_type": "code",
   "execution_count": 11,
   "metadata": {},
   "outputs": [
    {
     "data": {
      "text/html": [
       "<div>\n",
       "<style scoped>\n",
       "    .dataframe tbody tr th:only-of-type {\n",
       "        vertical-align: middle;\n",
       "    }\n",
       "\n",
       "    .dataframe tbody tr th {\n",
       "        vertical-align: top;\n",
       "    }\n",
       "\n",
       "    .dataframe thead th {\n",
       "        text-align: right;\n",
       "    }\n",
       "</style>\n",
       "<table border=\"1\" class=\"dataframe\">\n",
       "  <thead>\n",
       "    <tr style=\"text-align: right;\">\n",
       "      <th></th>\n",
       "      <th>plant_name_id</th>\n",
       "      <th>ipni_id</th>\n",
       "      <th>taxon_rank</th>\n",
       "      <th>taxon_status</th>\n",
       "      <th>family</th>\n",
       "      <th>genus_hybrid</th>\n",
       "      <th>genus</th>\n",
       "      <th>species_hybrid</th>\n",
       "      <th>species</th>\n",
       "      <th>infraspecific_rank</th>\n",
       "      <th>...</th>\n",
       "      <th>taxon_name</th>\n",
       "      <th>taxon_authors</th>\n",
       "      <th>accepted_plant_name_id</th>\n",
       "      <th>basionym_plant_name_id</th>\n",
       "      <th>replaced_synonym_author</th>\n",
       "      <th>homotypic_synonym</th>\n",
       "      <th>parent_plant_name_id</th>\n",
       "      <th>powo_id</th>\n",
       "      <th>hybrid_formula</th>\n",
       "      <th>reviewed</th>\n",
       "    </tr>\n",
       "  </thead>\n",
       "  <tbody>\n",
       "    <tr>\n",
       "      <th>0</th>\n",
       "      <td>250443</td>\n",
       "      <td>309465-1</td>\n",
       "      <td>Species</td>\n",
       "      <td>Unplaced</td>\n",
       "      <td>Cyperaceae</td>\n",
       "      <td>NaN</td>\n",
       "      <td>Isolepis</td>\n",
       "      <td>NaN</td>\n",
       "      <td>panamensis</td>\n",
       "      <td>NaN</td>\n",
       "      <td>...</td>\n",
       "      <td>Isolepis panamensis</td>\n",
       "      <td>J.Presl &amp; C.Presl</td>\n",
       "      <td>NaN</td>\n",
       "      <td>250232.0</td>\n",
       "      <td>J.Presl &amp; C.Presl</td>\n",
       "      <td>NaN</td>\n",
       "      <td>250129.0</td>\n",
       "      <td>309465-1</td>\n",
       "      <td>NaN</td>\n",
       "      <td>Y</td>\n",
       "    </tr>\n",
       "    <tr>\n",
       "      <th>1</th>\n",
       "      <td>345888</td>\n",
       "      <td>77078885-1</td>\n",
       "      <td>nothosubsp.</td>\n",
       "      <td>Unplaced</td>\n",
       "      <td>Orchidaceae</td>\n",
       "      <td>NaN</td>\n",
       "      <td>Anacamptis</td>\n",
       "      <td>×</td>\n",
       "      <td>gennarii</td>\n",
       "      <td>nothosubsp.</td>\n",
       "      <td>...</td>\n",
       "      <td>Anacamptis × gennarii nothosubsp. bornemanniae</td>\n",
       "      <td>(Asch.) H.Kretzschmar, Eccarius &amp; H.Dietr.</td>\n",
       "      <td>NaN</td>\n",
       "      <td>142282.0</td>\n",
       "      <td>NaN</td>\n",
       "      <td>NaN</td>\n",
       "      <td>8578.0</td>\n",
       "      <td>77078885-1</td>\n",
       "      <td>A. morio subsp. longicornu × A. papilionacea</td>\n",
       "      <td>Y</td>\n",
       "    </tr>\n",
       "    <tr>\n",
       "      <th>2</th>\n",
       "      <td>2490178</td>\n",
       "      <td>231532-2</td>\n",
       "      <td>Species</td>\n",
       "      <td>Unplaced</td>\n",
       "      <td>Cucurbitaceae</td>\n",
       "      <td>NaN</td>\n",
       "      <td>Sechium</td>\n",
       "      <td>NaN</td>\n",
       "      <td>tacaco</td>\n",
       "      <td>NaN</td>\n",
       "      <td>...</td>\n",
       "      <td>Sechium tacaco</td>\n",
       "      <td>(Pittier) C.Jeffrey</td>\n",
       "      <td>NaN</td>\n",
       "      <td>2409709.0</td>\n",
       "      <td>NaN</td>\n",
       "      <td>NaN</td>\n",
       "      <td>2490165.0</td>\n",
       "      <td>231532-2</td>\n",
       "      <td>NaN</td>\n",
       "      <td>N</td>\n",
       "    </tr>\n",
       "    <tr>\n",
       "      <th>3</th>\n",
       "      <td>2602950</td>\n",
       "      <td>582307-1</td>\n",
       "      <td>Species</td>\n",
       "      <td>Synonym</td>\n",
       "      <td>Siparunaceae</td>\n",
       "      <td>NaN</td>\n",
       "      <td>Siparuna</td>\n",
       "      <td>NaN</td>\n",
       "      <td>lindenii</td>\n",
       "      <td>NaN</td>\n",
       "      <td>...</td>\n",
       "      <td>Siparuna lindenii</td>\n",
       "      <td>(Seem.) A.DC.</td>\n",
       "      <td>NaN</td>\n",
       "      <td>2723851.0</td>\n",
       "      <td>NaN</td>\n",
       "      <td>NaN</td>\n",
       "      <td>NaN</td>\n",
       "      <td>582307-1</td>\n",
       "      <td>NaN</td>\n",
       "      <td>N</td>\n",
       "    </tr>\n",
       "    <tr>\n",
       "      <th>4</th>\n",
       "      <td>3143990</td>\n",
       "      <td>17540160-1</td>\n",
       "      <td>Subspecies</td>\n",
       "      <td>Unplaced</td>\n",
       "      <td>Pteridaceae</td>\n",
       "      <td>NaN</td>\n",
       "      <td>Pentagramma</td>\n",
       "      <td>NaN</td>\n",
       "      <td>triangularis</td>\n",
       "      <td>subsp.</td>\n",
       "      <td>...</td>\n",
       "      <td>Pentagramma triangularis subsp. maxonii</td>\n",
       "      <td>(Weath.) Yatsk., Windham &amp; E.Wollenw.</td>\n",
       "      <td>NaN</td>\n",
       "      <td>3164043.0</td>\n",
       "      <td>NaN</td>\n",
       "      <td>NaN</td>\n",
       "      <td>3143986.0</td>\n",
       "      <td>17540160-1</td>\n",
       "      <td>NaN</td>\n",
       "      <td>N</td>\n",
       "    </tr>\n",
       "  </tbody>\n",
       "</table>\n",
       "<p>5 rows × 31 columns</p>\n",
       "</div>"
      ],
      "text/plain": [
       "   plant_name_id     ipni_id   taxon_rank taxon_status         family  \\\n",
       "0         250443    309465-1      Species     Unplaced     Cyperaceae   \n",
       "1         345888  77078885-1  nothosubsp.     Unplaced    Orchidaceae   \n",
       "2        2490178    231532-2      Species     Unplaced  Cucurbitaceae   \n",
       "3        2602950    582307-1      Species      Synonym   Siparunaceae   \n",
       "4        3143990  17540160-1   Subspecies     Unplaced    Pteridaceae   \n",
       "\n",
       "  genus_hybrid        genus species_hybrid       species infraspecific_rank  \\\n",
       "0          NaN     Isolepis            NaN    panamensis                NaN   \n",
       "1          NaN   Anacamptis              ×      gennarii        nothosubsp.   \n",
       "2          NaN      Sechium            NaN        tacaco                NaN   \n",
       "3          NaN     Siparuna            NaN      lindenii                NaN   \n",
       "4          NaN  Pentagramma            NaN  triangularis             subsp.   \n",
       "\n",
       "   ...                                      taxon_name  \\\n",
       "0  ...                             Isolepis panamensis   \n",
       "1  ...  Anacamptis × gennarii nothosubsp. bornemanniae   \n",
       "2  ...                                  Sechium tacaco   \n",
       "3  ...                               Siparuna lindenii   \n",
       "4  ...         Pentagramma triangularis subsp. maxonii   \n",
       "\n",
       "                                taxon_authors accepted_plant_name_id  \\\n",
       "0                           J.Presl & C.Presl                    NaN   \n",
       "1  (Asch.) H.Kretzschmar, Eccarius & H.Dietr.                    NaN   \n",
       "2                         (Pittier) C.Jeffrey                    NaN   \n",
       "3                               (Seem.) A.DC.                    NaN   \n",
       "4       (Weath.) Yatsk., Windham & E.Wollenw.                    NaN   \n",
       "\n",
       "  basionym_plant_name_id replaced_synonym_author homotypic_synonym  \\\n",
       "0               250232.0       J.Presl & C.Presl               NaN   \n",
       "1               142282.0                     NaN               NaN   \n",
       "2              2409709.0                     NaN               NaN   \n",
       "3              2723851.0                     NaN               NaN   \n",
       "4              3164043.0                     NaN               NaN   \n",
       "\n",
       "  parent_plant_name_id     powo_id  \\\n",
       "0             250129.0    309465-1   \n",
       "1               8578.0  77078885-1   \n",
       "2            2490165.0    231532-2   \n",
       "3                  NaN    582307-1   \n",
       "4            3143986.0  17540160-1   \n",
       "\n",
       "                                 hybrid_formula reviewed  \n",
       "0                                           NaN        Y  \n",
       "1  A. morio subsp. longicornu × A. papilionacea        Y  \n",
       "2                                           NaN        N  \n",
       "3                                           NaN        N  \n",
       "4                                           NaN        N  \n",
       "\n",
       "[5 rows x 31 columns]"
      ]
     },
     "execution_count": 11,
     "metadata": {},
     "output_type": "execute_result"
    }
   ],
   "source": [
    "wcvp_names_df.head()"
   ]
  },
  {
   "attachments": {},
   "cell_type": "markdown",
   "metadata": {},
   "source": [
    "Taking a look at the contents of the dataframe, the following transformations seem plausible:\n",
    "* columns we care about are plant_name_id and the taxonomic name so that we can properly identify the plants from the KEW datasets\n",
    "* the existing taxon_name column contains information on hybridisation and so on, so it makes sense to create a new, simplified taxon column from genus and species"
   ]
  },
  {
   "attachments": {},
   "cell_type": "markdown",
   "metadata": {},
   "source": [
    "#### New \"taxon\" column:"
   ]
  },
  {
   "cell_type": "code",
   "execution_count": 12,
   "metadata": {},
   "outputs": [],
   "source": [
    "wcvp_names_df[\"taxon\"] = wcvp_names_df[\"genus\"] + \" \" + wcvp_names_df[\"species\"].str.lower()"
   ]
  },
  {
   "cell_type": "code",
   "execution_count": 13,
   "metadata": {},
   "outputs": [
    {
     "data": {
      "text/plain": [
       "0         Isolepis panamensis\n",
       "1         Anacamptis gennarii\n",
       "2              Sechium tacaco\n",
       "3           Siparuna lindenii\n",
       "4    Pentagramma triangularis\n",
       "5         Suregada glandulosa\n",
       "6              Hosta undulata\n",
       "7            Molinia caerulea\n",
       "8                Rubus omalus\n",
       "9              Teline pallida\n",
       "Name: taxon, dtype: object"
      ]
     },
     "execution_count": 13,
     "metadata": {},
     "output_type": "execute_result"
    }
   ],
   "source": [
    "wcvp_names_df.loc[:9, \"taxon\"]"
   ]
  },
  {
   "attachments": {},
   "cell_type": "markdown",
   "metadata": {},
   "source": [
    "#### Reducing dataframe to only the columns we need:"
   ]
  },
  {
   "cell_type": "code",
   "execution_count": 14,
   "metadata": {},
   "outputs": [
    {
     "data": {
      "text/html": [
       "<div>\n",
       "<style scoped>\n",
       "    .dataframe tbody tr th:only-of-type {\n",
       "        vertical-align: middle;\n",
       "    }\n",
       "\n",
       "    .dataframe tbody tr th {\n",
       "        vertical-align: top;\n",
       "    }\n",
       "\n",
       "    .dataframe thead th {\n",
       "        text-align: right;\n",
       "    }\n",
       "</style>\n",
       "<table border=\"1\" class=\"dataframe\">\n",
       "  <thead>\n",
       "    <tr style=\"text-align: right;\">\n",
       "      <th></th>\n",
       "      <th>taxon</th>\n",
       "    </tr>\n",
       "    <tr>\n",
       "      <th>plant_name_id</th>\n",
       "      <th></th>\n",
       "    </tr>\n",
       "  </thead>\n",
       "  <tbody>\n",
       "    <tr>\n",
       "      <th>250443</th>\n",
       "      <td>Isolepis panamensis</td>\n",
       "    </tr>\n",
       "    <tr>\n",
       "      <th>345888</th>\n",
       "      <td>Anacamptis gennarii</td>\n",
       "    </tr>\n",
       "    <tr>\n",
       "      <th>2490178</th>\n",
       "      <td>Sechium tacaco</td>\n",
       "    </tr>\n",
       "    <tr>\n",
       "      <th>2602950</th>\n",
       "      <td>Siparuna lindenii</td>\n",
       "    </tr>\n",
       "    <tr>\n",
       "      <th>3143990</th>\n",
       "      <td>Pentagramma triangularis</td>\n",
       "    </tr>\n",
       "    <tr>\n",
       "      <th>...</th>\n",
       "      <td>...</td>\n",
       "    </tr>\n",
       "    <tr>\n",
       "      <th>3287185</th>\n",
       "      <td>Hieracium valdepilosum</td>\n",
       "    </tr>\n",
       "    <tr>\n",
       "      <th>3287191</th>\n",
       "      <td>Hieracium valdepilosum</td>\n",
       "    </tr>\n",
       "    <tr>\n",
       "      <th>3287208</th>\n",
       "      <td>Hieracium valoddae</td>\n",
       "    </tr>\n",
       "    <tr>\n",
       "      <th>3287314</th>\n",
       "      <td>Hieracium wilczekianum</td>\n",
       "    </tr>\n",
       "    <tr>\n",
       "      <th>3287475</th>\n",
       "      <td>Ozoroa obovata</td>\n",
       "    </tr>\n",
       "  </tbody>\n",
       "</table>\n",
       "<p>1414666 rows × 1 columns</p>\n",
       "</div>"
      ],
      "text/plain": [
       "                                  taxon\n",
       "plant_name_id                          \n",
       "250443              Isolepis panamensis\n",
       "345888              Anacamptis gennarii\n",
       "2490178                  Sechium tacaco\n",
       "2602950               Siparuna lindenii\n",
       "3143990        Pentagramma triangularis\n",
       "...                                 ...\n",
       "3287185          Hieracium valdepilosum\n",
       "3287191          Hieracium valdepilosum\n",
       "3287208              Hieracium valoddae\n",
       "3287314          Hieracium wilczekianum\n",
       "3287475                  Ozoroa obovata\n",
       "\n",
       "[1414666 rows x 1 columns]"
      ]
     },
     "execution_count": 14,
     "metadata": {},
     "output_type": "execute_result"
    }
   ],
   "source": [
    "reduced_names_df = wcvp_names_df[[\"plant_name_id\", \"taxon\"]].set_index(\"plant_name_id\")\n",
    "reduced_names_df"
   ]
  },
  {
   "attachments": {},
   "cell_type": "markdown",
   "metadata": {},
   "source": [
    "#### Exporting a new, lightweight csv file to upload to GitHub and use for further manipulations:"
   ]
  },
  {
   "cell_type": "code",
   "execution_count": 15,
   "metadata": {},
   "outputs": [],
   "source": [
    "reduced_names_df.to_csv(r\"../data/WCVP/REDUCED_wcvp_names.csv\")"
   ]
  },
  {
   "attachments": {},
   "cell_type": "markdown",
   "metadata": {},
   "source": [
    "### wcvp_distribution.csv"
   ]
  },
  {
   "cell_type": "code",
   "execution_count": 16,
   "metadata": {},
   "outputs": [
    {
     "data": {
      "text/plain": [
       "(1950339, 11)"
      ]
     },
     "execution_count": 16,
     "metadata": {},
     "output_type": "execute_result"
    }
   ],
   "source": [
    "wcvp_dis_df.shape"
   ]
  },
  {
   "attachments": {},
   "cell_type": "markdown",
   "metadata": {},
   "source": [
    "As we can see, the wcvp_dis_df has an astounding 1.950.339 rows of data for 11 columns. "
   ]
  },
  {
   "cell_type": "code",
   "execution_count": 17,
   "metadata": {},
   "outputs": [
    {
     "data": {
      "text/html": [
       "<div>\n",
       "<style scoped>\n",
       "    .dataframe tbody tr th:only-of-type {\n",
       "        vertical-align: middle;\n",
       "    }\n",
       "\n",
       "    .dataframe tbody tr th {\n",
       "        vertical-align: top;\n",
       "    }\n",
       "\n",
       "    .dataframe thead th {\n",
       "        text-align: right;\n",
       "    }\n",
       "</style>\n",
       "<table border=\"1\" class=\"dataframe\">\n",
       "  <thead>\n",
       "    <tr style=\"text-align: right;\">\n",
       "      <th></th>\n",
       "      <th>plant_locality_id</th>\n",
       "      <th>plant_name_id</th>\n",
       "      <th>continent_code_l1</th>\n",
       "      <th>continent</th>\n",
       "      <th>region_code_l2</th>\n",
       "      <th>region</th>\n",
       "      <th>area_code_l3</th>\n",
       "      <th>area</th>\n",
       "      <th>introduced</th>\n",
       "      <th>extinct</th>\n",
       "      <th>location_doubtful</th>\n",
       "    </tr>\n",
       "  </thead>\n",
       "  <tbody>\n",
       "    <tr>\n",
       "      <th>0</th>\n",
       "      <td>1394111</td>\n",
       "      <td>1</td>\n",
       "      <td>8</td>\n",
       "      <td>SOUTHERN AMERICA</td>\n",
       "      <td>80.0</td>\n",
       "      <td>Central America</td>\n",
       "      <td>COS</td>\n",
       "      <td>Costa Rica</td>\n",
       "      <td>0</td>\n",
       "      <td>0</td>\n",
       "      <td>0</td>\n",
       "    </tr>\n",
       "    <tr>\n",
       "      <th>1</th>\n",
       "      <td>1394112</td>\n",
       "      <td>1</td>\n",
       "      <td>8</td>\n",
       "      <td>SOUTHERN AMERICA</td>\n",
       "      <td>82.0</td>\n",
       "      <td>Northern South America</td>\n",
       "      <td>VEN</td>\n",
       "      <td>Venezuela</td>\n",
       "      <td>0</td>\n",
       "      <td>0</td>\n",
       "      <td>0</td>\n",
       "    </tr>\n",
       "    <tr>\n",
       "      <th>2</th>\n",
       "      <td>1394113</td>\n",
       "      <td>1</td>\n",
       "      <td>8</td>\n",
       "      <td>SOUTHERN AMERICA</td>\n",
       "      <td>83.0</td>\n",
       "      <td>Western South America</td>\n",
       "      <td>BOL</td>\n",
       "      <td>Bolivia</td>\n",
       "      <td>0</td>\n",
       "      <td>0</td>\n",
       "      <td>0</td>\n",
       "    </tr>\n",
       "    <tr>\n",
       "      <th>3</th>\n",
       "      <td>1394114</td>\n",
       "      <td>1</td>\n",
       "      <td>8</td>\n",
       "      <td>SOUTHERN AMERICA</td>\n",
       "      <td>83.0</td>\n",
       "      <td>Western South America</td>\n",
       "      <td>CLM</td>\n",
       "      <td>Colombia</td>\n",
       "      <td>0</td>\n",
       "      <td>0</td>\n",
       "      <td>0</td>\n",
       "    </tr>\n",
       "    <tr>\n",
       "      <th>4</th>\n",
       "      <td>1394115</td>\n",
       "      <td>1</td>\n",
       "      <td>8</td>\n",
       "      <td>SOUTHERN AMERICA</td>\n",
       "      <td>83.0</td>\n",
       "      <td>Western South America</td>\n",
       "      <td>ECU</td>\n",
       "      <td>Ecuador</td>\n",
       "      <td>0</td>\n",
       "      <td>0</td>\n",
       "      <td>0</td>\n",
       "    </tr>\n",
       "  </tbody>\n",
       "</table>\n",
       "</div>"
      ],
      "text/plain": [
       "   plant_locality_id  plant_name_id  continent_code_l1         continent  \\\n",
       "0            1394111              1                  8  SOUTHERN AMERICA   \n",
       "1            1394112              1                  8  SOUTHERN AMERICA   \n",
       "2            1394113              1                  8  SOUTHERN AMERICA   \n",
       "3            1394114              1                  8  SOUTHERN AMERICA   \n",
       "4            1394115              1                  8  SOUTHERN AMERICA   \n",
       "\n",
       "   region_code_l2                  region area_code_l3        area  \\\n",
       "0            80.0         Central America          COS  Costa Rica   \n",
       "1            82.0  Northern South America          VEN   Venezuela   \n",
       "2            83.0   Western South America          BOL     Bolivia   \n",
       "3            83.0   Western South America          CLM    Colombia   \n",
       "4            83.0   Western South America          ECU     Ecuador   \n",
       "\n",
       "   introduced  extinct  location_doubtful  \n",
       "0           0        0                  0  \n",
       "1           0        0                  0  \n",
       "2           0        0                  0  \n",
       "3           0        0                  0  \n",
       "4           0        0                  0  "
      ]
     },
     "execution_count": 17,
     "metadata": {},
     "output_type": "execute_result"
    }
   ],
   "source": [
    "wcvp_dis_df.head()"
   ]
  },
  {
   "attachments": {},
   "cell_type": "markdown",
   "metadata": {},
   "source": [
    "Taking a look at the contents of the dataframe, the following transformations seem plausible:\n",
    "* columns we care about are plant_name_id (for matching to the names dataframe) and continent, region, area (although not all three are necessary)\n",
    "* instead of unique pairings of plant_locality_id and plant_name_id, we can pivot the dataframe by unique plant_name_id instead"
   ]
  },
  {
   "attachments": {},
   "cell_type": "markdown",
   "metadata": {},
   "source": [
    "#### Reducing dataframe to only the columns we need:"
   ]
  },
  {
   "cell_type": "code",
   "execution_count": 18,
   "metadata": {},
   "outputs": [
    {
     "data": {
      "text/html": [
       "<div>\n",
       "<style scoped>\n",
       "    .dataframe tbody tr th:only-of-type {\n",
       "        vertical-align: middle;\n",
       "    }\n",
       "\n",
       "    .dataframe tbody tr th {\n",
       "        vertical-align: top;\n",
       "    }\n",
       "\n",
       "    .dataframe thead th {\n",
       "        text-align: right;\n",
       "    }\n",
       "</style>\n",
       "<table border=\"1\" class=\"dataframe\">\n",
       "  <thead>\n",
       "    <tr style=\"text-align: right;\">\n",
       "      <th></th>\n",
       "      <th>plant_name_id</th>\n",
       "      <th>continent</th>\n",
       "      <th>region</th>\n",
       "      <th>area</th>\n",
       "    </tr>\n",
       "  </thead>\n",
       "  <tbody>\n",
       "    <tr>\n",
       "      <th>0</th>\n",
       "      <td>1</td>\n",
       "      <td>SOUTHERN AMERICA</td>\n",
       "      <td>Central America</td>\n",
       "      <td>Costa Rica</td>\n",
       "    </tr>\n",
       "    <tr>\n",
       "      <th>1</th>\n",
       "      <td>1</td>\n",
       "      <td>SOUTHERN AMERICA</td>\n",
       "      <td>Northern South America</td>\n",
       "      <td>Venezuela</td>\n",
       "    </tr>\n",
       "    <tr>\n",
       "      <th>2</th>\n",
       "      <td>1</td>\n",
       "      <td>SOUTHERN AMERICA</td>\n",
       "      <td>Western South America</td>\n",
       "      <td>Bolivia</td>\n",
       "    </tr>\n",
       "    <tr>\n",
       "      <th>3</th>\n",
       "      <td>1</td>\n",
       "      <td>SOUTHERN AMERICA</td>\n",
       "      <td>Western South America</td>\n",
       "      <td>Colombia</td>\n",
       "    </tr>\n",
       "    <tr>\n",
       "      <th>4</th>\n",
       "      <td>1</td>\n",
       "      <td>SOUTHERN AMERICA</td>\n",
       "      <td>Western South America</td>\n",
       "      <td>Ecuador</td>\n",
       "    </tr>\n",
       "    <tr>\n",
       "      <th>...</th>\n",
       "      <td>...</td>\n",
       "      <td>...</td>\n",
       "      <td>...</td>\n",
       "      <td>...</td>\n",
       "    </tr>\n",
       "    <tr>\n",
       "      <th>1950334</th>\n",
       "      <td>3287516</td>\n",
       "      <td>AFRICA</td>\n",
       "      <td>West-Central Tropical Africa</td>\n",
       "      <td>Cameroon</td>\n",
       "    </tr>\n",
       "    <tr>\n",
       "      <th>1950335</th>\n",
       "      <td>3287542</td>\n",
       "      <td>ASIA-TROPICAL</td>\n",
       "      <td>Malesia</td>\n",
       "      <td>Borneo</td>\n",
       "    </tr>\n",
       "    <tr>\n",
       "      <th>1950336</th>\n",
       "      <td>3287543</td>\n",
       "      <td>ASIA-TROPICAL</td>\n",
       "      <td>Malesia</td>\n",
       "      <td>Borneo</td>\n",
       "    </tr>\n",
       "    <tr>\n",
       "      <th>1950337</th>\n",
       "      <td>3287544</td>\n",
       "      <td>EUROPE</td>\n",
       "      <td>Northern Europe</td>\n",
       "      <td>Finland</td>\n",
       "    </tr>\n",
       "    <tr>\n",
       "      <th>1950338</th>\n",
       "      <td>3287570</td>\n",
       "      <td>AFRICA</td>\n",
       "      <td>Southern Africa</td>\n",
       "      <td>Cape Provinces</td>\n",
       "    </tr>\n",
       "  </tbody>\n",
       "</table>\n",
       "<p>1950339 rows × 4 columns</p>\n",
       "</div>"
      ],
      "text/plain": [
       "         plant_name_id         continent                        region  \\\n",
       "0                    1  SOUTHERN AMERICA               Central America   \n",
       "1                    1  SOUTHERN AMERICA        Northern South America   \n",
       "2                    1  SOUTHERN AMERICA         Western South America   \n",
       "3                    1  SOUTHERN AMERICA         Western South America   \n",
       "4                    1  SOUTHERN AMERICA         Western South America   \n",
       "...                ...               ...                           ...   \n",
       "1950334        3287516            AFRICA  West-Central Tropical Africa   \n",
       "1950335        3287542     ASIA-TROPICAL                       Malesia   \n",
       "1950336        3287543     ASIA-TROPICAL                       Malesia   \n",
       "1950337        3287544            EUROPE               Northern Europe   \n",
       "1950338        3287570            AFRICA               Southern Africa   \n",
       "\n",
       "                   area  \n",
       "0            Costa Rica  \n",
       "1             Venezuela  \n",
       "2               Bolivia  \n",
       "3              Colombia  \n",
       "4               Ecuador  \n",
       "...                 ...  \n",
       "1950334        Cameroon  \n",
       "1950335          Borneo  \n",
       "1950336          Borneo  \n",
       "1950337         Finland  \n",
       "1950338  Cape Provinces  \n",
       "\n",
       "[1950339 rows x 4 columns]"
      ]
     },
     "execution_count": 18,
     "metadata": {},
     "output_type": "execute_result"
    }
   ],
   "source": [
    "reduced_dis_df = wcvp_dis_df[[\"plant_name_id\", \"continent\", \"region\", \"area\"]]\n",
    "reduced_dis_df"
   ]
  },
  {
   "attachments": {},
   "cell_type": "markdown",
   "metadata": {},
   "source": [
    "In testing, this has already brought the file size from 138MB down to 106MB."
   ]
  },
  {
   "attachments": {},
   "cell_type": "markdown",
   "metadata": {},
   "source": [
    "#### Pivoting:"
   ]
  },
  {
   "cell_type": "code",
   "execution_count": 19,
   "metadata": {},
   "outputs": [
    {
     "data": {
      "text/html": [
       "<div>\n",
       "<style scoped>\n",
       "    .dataframe tbody tr th:only-of-type {\n",
       "        vertical-align: middle;\n",
       "    }\n",
       "\n",
       "    .dataframe tbody tr th {\n",
       "        vertical-align: top;\n",
       "    }\n",
       "\n",
       "    .dataframe thead th {\n",
       "        text-align: right;\n",
       "    }\n",
       "</style>\n",
       "<table border=\"1\" class=\"dataframe\">\n",
       "  <thead>\n",
       "    <tr style=\"text-align: right;\">\n",
       "      <th></th>\n",
       "      <th>area</th>\n",
       "      <th>continent</th>\n",
       "      <th>region</th>\n",
       "    </tr>\n",
       "    <tr>\n",
       "      <th>plant_name_id</th>\n",
       "      <th></th>\n",
       "      <th></th>\n",
       "      <th></th>\n",
       "    </tr>\n",
       "  </thead>\n",
       "  <tbody>\n",
       "    <tr>\n",
       "      <th>1</th>\n",
       "      <td>[Costa Rica, Venezuela, Bolivia, Colombia, Ecu...</td>\n",
       "      <td>[SOUTHERN AMERICA]</td>\n",
       "      <td>[Central America, Northern South America, West...</td>\n",
       "    </tr>\n",
       "    <tr>\n",
       "      <th>2</th>\n",
       "      <td>[Argentina Northeast, Argentina Northwest]</td>\n",
       "      <td>[SOUTHERN AMERICA]</td>\n",
       "      <td>[Southern South America]</td>\n",
       "    </tr>\n",
       "    <tr>\n",
       "      <th>3</th>\n",
       "      <td>[Colombia, Ecuador, Peru, Brazil North]</td>\n",
       "      <td>[SOUTHERN AMERICA]</td>\n",
       "      <td>[Western South America, Brazil]</td>\n",
       "    </tr>\n",
       "    <tr>\n",
       "      <th>5</th>\n",
       "      <td>[Bolivia, Peru]</td>\n",
       "      <td>[SOUTHERN AMERICA]</td>\n",
       "      <td>[Western South America]</td>\n",
       "    </tr>\n",
       "    <tr>\n",
       "      <th>7</th>\n",
       "      <td>[Colombia, Ecuador]</td>\n",
       "      <td>[SOUTHERN AMERICA]</td>\n",
       "      <td>[Western South America]</td>\n",
       "    </tr>\n",
       "    <tr>\n",
       "      <th>...</th>\n",
       "      <td>...</td>\n",
       "      <td>...</td>\n",
       "      <td>...</td>\n",
       "    </tr>\n",
       "    <tr>\n",
       "      <th>3287516</th>\n",
       "      <td>[Cameroon]</td>\n",
       "      <td>[AFRICA]</td>\n",
       "      <td>[West-Central Tropical Africa]</td>\n",
       "    </tr>\n",
       "    <tr>\n",
       "      <th>3287542</th>\n",
       "      <td>[Borneo]</td>\n",
       "      <td>[ASIA-TROPICAL]</td>\n",
       "      <td>[Malesia]</td>\n",
       "    </tr>\n",
       "    <tr>\n",
       "      <th>3287543</th>\n",
       "      <td>[Borneo]</td>\n",
       "      <td>[ASIA-TROPICAL]</td>\n",
       "      <td>[Malesia]</td>\n",
       "    </tr>\n",
       "    <tr>\n",
       "      <th>3287544</th>\n",
       "      <td>[Finland]</td>\n",
       "      <td>[EUROPE]</td>\n",
       "      <td>[Northern Europe]</td>\n",
       "    </tr>\n",
       "    <tr>\n",
       "      <th>3287570</th>\n",
       "      <td>[Cape Provinces]</td>\n",
       "      <td>[AFRICA]</td>\n",
       "      <td>[Southern Africa]</td>\n",
       "    </tr>\n",
       "  </tbody>\n",
       "</table>\n",
       "<p>435009 rows × 3 columns</p>\n",
       "</div>"
      ],
      "text/plain": [
       "                                                            area  \\\n",
       "plant_name_id                                                      \n",
       "1              [Costa Rica, Venezuela, Bolivia, Colombia, Ecu...   \n",
       "2                     [Argentina Northeast, Argentina Northwest]   \n",
       "3                        [Colombia, Ecuador, Peru, Brazil North]   \n",
       "5                                                [Bolivia, Peru]   \n",
       "7                                            [Colombia, Ecuador]   \n",
       "...                                                          ...   \n",
       "3287516                                               [Cameroon]   \n",
       "3287542                                                 [Borneo]   \n",
       "3287543                                                 [Borneo]   \n",
       "3287544                                                [Finland]   \n",
       "3287570                                         [Cape Provinces]   \n",
       "\n",
       "                        continent  \\\n",
       "plant_name_id                       \n",
       "1              [SOUTHERN AMERICA]   \n",
       "2              [SOUTHERN AMERICA]   \n",
       "3              [SOUTHERN AMERICA]   \n",
       "5              [SOUTHERN AMERICA]   \n",
       "7              [SOUTHERN AMERICA]   \n",
       "...                           ...   \n",
       "3287516                  [AFRICA]   \n",
       "3287542           [ASIA-TROPICAL]   \n",
       "3287543           [ASIA-TROPICAL]   \n",
       "3287544                  [EUROPE]   \n",
       "3287570                  [AFRICA]   \n",
       "\n",
       "                                                          region  \n",
       "plant_name_id                                                     \n",
       "1              [Central America, Northern South America, West...  \n",
       "2                                       [Southern South America]  \n",
       "3                                [Western South America, Brazil]  \n",
       "5                                        [Western South America]  \n",
       "7                                        [Western South America]  \n",
       "...                                                          ...  \n",
       "3287516                           [West-Central Tropical Africa]  \n",
       "3287542                                                [Malesia]  \n",
       "3287543                                                [Malesia]  \n",
       "3287544                                        [Northern Europe]  \n",
       "3287570                                        [Southern Africa]  \n",
       "\n",
       "[435009 rows x 3 columns]"
      ]
     },
     "execution_count": 19,
     "metadata": {},
     "output_type": "execute_result"
    }
   ],
   "source": [
    "pivot_dis_df = reduced_dis_df.pivot_table(index='plant_name_id', aggfunc=pd.unique)\n",
    "pivot_dis_df"
   ]
  },
  {
   "attachments": {},
   "cell_type": "markdown",
   "metadata": {},
   "source": [
    "1,950,339 rows down to 435,009 rows.\n",
    "\n",
    "In testing, this brought the file size further down to 58MB (which is still too large for default GitHub uploads). Upon further consideration, the region column in particular seems the least useful and will therefore also be excluded in the final transformation:"
   ]
  },
  {
   "cell_type": "code",
   "execution_count": 20,
   "metadata": {},
   "outputs": [
    {
     "data": {
      "text/html": [
       "<div>\n",
       "<style scoped>\n",
       "    .dataframe tbody tr th:only-of-type {\n",
       "        vertical-align: middle;\n",
       "    }\n",
       "\n",
       "    .dataframe tbody tr th {\n",
       "        vertical-align: top;\n",
       "    }\n",
       "\n",
       "    .dataframe thead th {\n",
       "        text-align: right;\n",
       "    }\n",
       "</style>\n",
       "<table border=\"1\" class=\"dataframe\">\n",
       "  <thead>\n",
       "    <tr style=\"text-align: right;\">\n",
       "      <th></th>\n",
       "      <th>area</th>\n",
       "      <th>continent</th>\n",
       "    </tr>\n",
       "    <tr>\n",
       "      <th>plant_name_id</th>\n",
       "      <th></th>\n",
       "      <th></th>\n",
       "    </tr>\n",
       "  </thead>\n",
       "  <tbody>\n",
       "    <tr>\n",
       "      <th>1</th>\n",
       "      <td>[Costa Rica, Venezuela, Bolivia, Colombia, Ecu...</td>\n",
       "      <td>[SOUTHERN AMERICA]</td>\n",
       "    </tr>\n",
       "    <tr>\n",
       "      <th>2</th>\n",
       "      <td>[Argentina Northeast, Argentina Northwest]</td>\n",
       "      <td>[SOUTHERN AMERICA]</td>\n",
       "    </tr>\n",
       "    <tr>\n",
       "      <th>3</th>\n",
       "      <td>[Colombia, Ecuador, Peru, Brazil North]</td>\n",
       "      <td>[SOUTHERN AMERICA]</td>\n",
       "    </tr>\n",
       "    <tr>\n",
       "      <th>5</th>\n",
       "      <td>[Bolivia, Peru]</td>\n",
       "      <td>[SOUTHERN AMERICA]</td>\n",
       "    </tr>\n",
       "    <tr>\n",
       "      <th>7</th>\n",
       "      <td>[Colombia, Ecuador]</td>\n",
       "      <td>[SOUTHERN AMERICA]</td>\n",
       "    </tr>\n",
       "    <tr>\n",
       "      <th>...</th>\n",
       "      <td>...</td>\n",
       "      <td>...</td>\n",
       "    </tr>\n",
       "    <tr>\n",
       "      <th>3287516</th>\n",
       "      <td>[Cameroon]</td>\n",
       "      <td>[AFRICA]</td>\n",
       "    </tr>\n",
       "    <tr>\n",
       "      <th>3287542</th>\n",
       "      <td>[Borneo]</td>\n",
       "      <td>[ASIA-TROPICAL]</td>\n",
       "    </tr>\n",
       "    <tr>\n",
       "      <th>3287543</th>\n",
       "      <td>[Borneo]</td>\n",
       "      <td>[ASIA-TROPICAL]</td>\n",
       "    </tr>\n",
       "    <tr>\n",
       "      <th>3287544</th>\n",
       "      <td>[Finland]</td>\n",
       "      <td>[EUROPE]</td>\n",
       "    </tr>\n",
       "    <tr>\n",
       "      <th>3287570</th>\n",
       "      <td>[Cape Provinces]</td>\n",
       "      <td>[AFRICA]</td>\n",
       "    </tr>\n",
       "  </tbody>\n",
       "</table>\n",
       "<p>435009 rows × 2 columns</p>\n",
       "</div>"
      ],
      "text/plain": [
       "                                                            area  \\\n",
       "plant_name_id                                                      \n",
       "1              [Costa Rica, Venezuela, Bolivia, Colombia, Ecu...   \n",
       "2                     [Argentina Northeast, Argentina Northwest]   \n",
       "3                        [Colombia, Ecuador, Peru, Brazil North]   \n",
       "5                                                [Bolivia, Peru]   \n",
       "7                                            [Colombia, Ecuador]   \n",
       "...                                                          ...   \n",
       "3287516                                               [Cameroon]   \n",
       "3287542                                                 [Borneo]   \n",
       "3287543                                                 [Borneo]   \n",
       "3287544                                                [Finland]   \n",
       "3287570                                         [Cape Provinces]   \n",
       "\n",
       "                        continent  \n",
       "plant_name_id                      \n",
       "1              [SOUTHERN AMERICA]  \n",
       "2              [SOUTHERN AMERICA]  \n",
       "3              [SOUTHERN AMERICA]  \n",
       "5              [SOUTHERN AMERICA]  \n",
       "7              [SOUTHERN AMERICA]  \n",
       "...                           ...  \n",
       "3287516                  [AFRICA]  \n",
       "3287542           [ASIA-TROPICAL]  \n",
       "3287543           [ASIA-TROPICAL]  \n",
       "3287544                  [EUROPE]  \n",
       "3287570                  [AFRICA]  \n",
       "\n",
       "[435009 rows x 2 columns]"
      ]
     },
     "execution_count": 20,
     "metadata": {},
     "output_type": "execute_result"
    }
   ],
   "source": [
    "reduced_dis_df = wcvp_dis_df[[\"plant_name_id\", \"continent\", \"area\"]]\n",
    "pivot_dis_df = reduced_dis_df.pivot_table(index='plant_name_id', aggfunc=pd.unique)\n",
    "pivot_dis_df"
   ]
  },
  {
   "cell_type": "code",
   "execution_count": 21,
   "metadata": {},
   "outputs": [],
   "source": [
    "# pivot_dis_df.to_csv(r\"../data/WCVP/REDUCED_PIVOT_wcvp_distribution.csv\")"
   ]
  },
  {
   "attachments": {},
   "cell_type": "markdown",
   "metadata": {},
   "source": [
    "##### Alternative to storing an array: \n",
    "\n",
    "Instead of aggregating values in a list (which causes issues with how the csv will be read later on), save it in a comma separated string. \n",
    "\n",
    "This throws an error and causes the area column to be dropped:\n",
    "\n",
    "_['area'] did not aggregate successfully. If any error is raised this will raise in a future version of pandas. Drop these columns/ops to avoid this warning._"
   ]
  },
  {
   "cell_type": "code",
   "execution_count": 22,
   "metadata": {},
   "outputs": [],
   "source": [
    "agg_func = lambda x: \",\".join(x.unique())"
   ]
  },
  {
   "cell_type": "code",
   "execution_count": 23,
   "metadata": {},
   "outputs": [],
   "source": [
    "# pivot_dis_df = reduced_dis_df.pivot_table(index='plant_name_id', aggfunc=agg_func)\n",
    "# pivot_dis_df"
   ]
  },
  {
   "attachments": {},
   "cell_type": "markdown",
   "metadata": {},
   "source": [
    "##### Alternative 2 to storing an array: \n",
    "\n",
    "Transform values saved in pivot_dis_df after the fact:"
   ]
  },
  {
   "cell_type": "code",
   "execution_count": 24,
   "metadata": {},
   "outputs": [
    {
     "data": {
      "text/html": [
       "<div>\n",
       "<style scoped>\n",
       "    .dataframe tbody tr th:only-of-type {\n",
       "        vertical-align: middle;\n",
       "    }\n",
       "\n",
       "    .dataframe tbody tr th {\n",
       "        vertical-align: top;\n",
       "    }\n",
       "\n",
       "    .dataframe thead th {\n",
       "        text-align: right;\n",
       "    }\n",
       "</style>\n",
       "<table border=\"1\" class=\"dataframe\">\n",
       "  <thead>\n",
       "    <tr style=\"text-align: right;\">\n",
       "      <th></th>\n",
       "      <th>area</th>\n",
       "      <th>continent</th>\n",
       "    </tr>\n",
       "    <tr>\n",
       "      <th>plant_name_id</th>\n",
       "      <th></th>\n",
       "      <th></th>\n",
       "    </tr>\n",
       "  </thead>\n",
       "  <tbody>\n",
       "    <tr>\n",
       "      <th>1</th>\n",
       "      <td>Costa Rica,Venezuela,Bolivia,Colombia,Ecuador,...</td>\n",
       "      <td>SOUTHERN AMERICA</td>\n",
       "    </tr>\n",
       "    <tr>\n",
       "      <th>2</th>\n",
       "      <td>Argentina Northeast,Argentina Northwest</td>\n",
       "      <td>SOUTHERN AMERICA</td>\n",
       "    </tr>\n",
       "    <tr>\n",
       "      <th>3</th>\n",
       "      <td>Colombia,Ecuador,Peru,Brazil North</td>\n",
       "      <td>SOUTHERN AMERICA</td>\n",
       "    </tr>\n",
       "    <tr>\n",
       "      <th>5</th>\n",
       "      <td>Bolivia,Peru</td>\n",
       "      <td>SOUTHERN AMERICA</td>\n",
       "    </tr>\n",
       "    <tr>\n",
       "      <th>7</th>\n",
       "      <td>Colombia,Ecuador</td>\n",
       "      <td>SOUTHERN AMERICA</td>\n",
       "    </tr>\n",
       "    <tr>\n",
       "      <th>...</th>\n",
       "      <td>...</td>\n",
       "      <td>...</td>\n",
       "    </tr>\n",
       "    <tr>\n",
       "      <th>3287516</th>\n",
       "      <td>Cameroon</td>\n",
       "      <td>AFRICA</td>\n",
       "    </tr>\n",
       "    <tr>\n",
       "      <th>3287542</th>\n",
       "      <td>Borneo</td>\n",
       "      <td>ASIA-TROPICAL</td>\n",
       "    </tr>\n",
       "    <tr>\n",
       "      <th>3287543</th>\n",
       "      <td>Borneo</td>\n",
       "      <td>ASIA-TROPICAL</td>\n",
       "    </tr>\n",
       "    <tr>\n",
       "      <th>3287544</th>\n",
       "      <td>Finland</td>\n",
       "      <td>EUROPE</td>\n",
       "    </tr>\n",
       "    <tr>\n",
       "      <th>3287570</th>\n",
       "      <td>Cape Provinces</td>\n",
       "      <td>AFRICA</td>\n",
       "    </tr>\n",
       "  </tbody>\n",
       "</table>\n",
       "<p>435009 rows × 2 columns</p>\n",
       "</div>"
      ],
      "text/plain": [
       "                                                            area  \\\n",
       "plant_name_id                                                      \n",
       "1              Costa Rica,Venezuela,Bolivia,Colombia,Ecuador,...   \n",
       "2                        Argentina Northeast,Argentina Northwest   \n",
       "3                             Colombia,Ecuador,Peru,Brazil North   \n",
       "5                                                   Bolivia,Peru   \n",
       "7                                               Colombia,Ecuador   \n",
       "...                                                          ...   \n",
       "3287516                                                 Cameroon   \n",
       "3287542                                                   Borneo   \n",
       "3287543                                                   Borneo   \n",
       "3287544                                                  Finland   \n",
       "3287570                                           Cape Provinces   \n",
       "\n",
       "                      continent  \n",
       "plant_name_id                    \n",
       "1              SOUTHERN AMERICA  \n",
       "2              SOUTHERN AMERICA  \n",
       "3              SOUTHERN AMERICA  \n",
       "5              SOUTHERN AMERICA  \n",
       "7              SOUTHERN AMERICA  \n",
       "...                         ...  \n",
       "3287516                  AFRICA  \n",
       "3287542           ASIA-TROPICAL  \n",
       "3287543           ASIA-TROPICAL  \n",
       "3287544                  EUROPE  \n",
       "3287570                  AFRICA  \n",
       "\n",
       "[435009 rows x 2 columns]"
      ]
     },
     "execution_count": 24,
     "metadata": {},
     "output_type": "execute_result"
    }
   ],
   "source": [
    "pivot_dis_df_copy = pivot_dis_df.copy()\n",
    "pivot_dis_df_copy[\"continent\"] = pivot_dis_df_copy[\"continent\"].str.join(\",\")\n",
    "pivot_dis_df_copy[\"area\"] = pivot_dis_df_copy[\"area\"].str.join(\",\")\n",
    "pivot_dis_df_copy"
   ]
  },
  {
   "cell_type": "code",
   "execution_count": 25,
   "metadata": {},
   "outputs": [],
   "source": [
    "# pivot_dis_df_copy.to_csv(r\"../data/WCVP/STR_REDUCED_PIVOT_wcvp_distribution.csv\")"
   ]
  },
  {
   "attachments": {},
   "cell_type": "markdown",
   "metadata": {},
   "source": [
    "This actually further reduced the file size to 31MB."
   ]
  },
  {
   "attachments": {},
   "cell_type": "markdown",
   "metadata": {},
   "source": [
    "#### Comparing output of these new csv files:"
   ]
  },
  {
   "cell_type": "code",
   "execution_count": 26,
   "metadata": {},
   "outputs": [],
   "source": [
    "dis_df_a = pd.read_csv(\"../data/WCVP/REDUCED_PIVOT_wcvp_distribution.csv\", sep=\",\")\n",
    "dis_df_b = pd.read_csv(\"../data/WCVP/STR_REDUCED_PIVOT_wcvp_distribution.csv\", sep=\",\")"
   ]
  },
  {
   "attachments": {},
   "cell_type": "markdown",
   "metadata": {},
   "source": [
    "Looking at the dataframes, the one generated from the initial approach seems to store the area in a [] list with each individual string surrounded by single quotation marks (spoiler: it's actually not a list/array).\n",
    "\n",
    "The alternative approach of transforming entries from a list into a joined string stores the values separated by commas, without any brackets and quotation marks appearing at all."
   ]
  },
  {
   "cell_type": "code",
   "execution_count": 27,
   "metadata": {},
   "outputs": [
    {
     "data": {
      "text/html": [
       "<div>\n",
       "<style scoped>\n",
       "    .dataframe tbody tr th:only-of-type {\n",
       "        vertical-align: middle;\n",
       "    }\n",
       "\n",
       "    .dataframe tbody tr th {\n",
       "        vertical-align: top;\n",
       "    }\n",
       "\n",
       "    .dataframe thead th {\n",
       "        text-align: right;\n",
       "    }\n",
       "</style>\n",
       "<table border=\"1\" class=\"dataframe\">\n",
       "  <thead>\n",
       "    <tr style=\"text-align: right;\">\n",
       "      <th></th>\n",
       "      <th>plant_name_id</th>\n",
       "      <th>area</th>\n",
       "      <th>continent</th>\n",
       "    </tr>\n",
       "  </thead>\n",
       "  <tbody>\n",
       "    <tr>\n",
       "      <th>0</th>\n",
       "      <td>1</td>\n",
       "      <td>['Costa Rica' 'Venezuela' 'Bolivia' 'Colombia'...</td>\n",
       "      <td>['SOUTHERN AMERICA']</td>\n",
       "    </tr>\n",
       "    <tr>\n",
       "      <th>1</th>\n",
       "      <td>2</td>\n",
       "      <td>['Argentina Northeast' 'Argentina Northwest']</td>\n",
       "      <td>['SOUTHERN AMERICA']</td>\n",
       "    </tr>\n",
       "    <tr>\n",
       "      <th>2</th>\n",
       "      <td>3</td>\n",
       "      <td>['Colombia' 'Ecuador' 'Peru' 'Brazil North']</td>\n",
       "      <td>['SOUTHERN AMERICA']</td>\n",
       "    </tr>\n",
       "    <tr>\n",
       "      <th>3</th>\n",
       "      <td>5</td>\n",
       "      <td>['Bolivia' 'Peru']</td>\n",
       "      <td>['SOUTHERN AMERICA']</td>\n",
       "    </tr>\n",
       "    <tr>\n",
       "      <th>4</th>\n",
       "      <td>7</td>\n",
       "      <td>['Colombia' 'Ecuador']</td>\n",
       "      <td>['SOUTHERN AMERICA']</td>\n",
       "    </tr>\n",
       "  </tbody>\n",
       "</table>\n",
       "</div>"
      ],
      "text/plain": [
       "   plant_name_id                                               area  \\\n",
       "0              1  ['Costa Rica' 'Venezuela' 'Bolivia' 'Colombia'...   \n",
       "1              2      ['Argentina Northeast' 'Argentina Northwest']   \n",
       "2              3       ['Colombia' 'Ecuador' 'Peru' 'Brazil North']   \n",
       "3              5                                 ['Bolivia' 'Peru']   \n",
       "4              7                             ['Colombia' 'Ecuador']   \n",
       "\n",
       "              continent  \n",
       "0  ['SOUTHERN AMERICA']  \n",
       "1  ['SOUTHERN AMERICA']  \n",
       "2  ['SOUTHERN AMERICA']  \n",
       "3  ['SOUTHERN AMERICA']  \n",
       "4  ['SOUTHERN AMERICA']  "
      ]
     },
     "execution_count": 27,
     "metadata": {},
     "output_type": "execute_result"
    }
   ],
   "source": [
    "dis_df_a.head()"
   ]
  },
  {
   "cell_type": "code",
   "execution_count": 28,
   "metadata": {},
   "outputs": [
    {
     "data": {
      "text/html": [
       "<div>\n",
       "<style scoped>\n",
       "    .dataframe tbody tr th:only-of-type {\n",
       "        vertical-align: middle;\n",
       "    }\n",
       "\n",
       "    .dataframe tbody tr th {\n",
       "        vertical-align: top;\n",
       "    }\n",
       "\n",
       "    .dataframe thead th {\n",
       "        text-align: right;\n",
       "    }\n",
       "</style>\n",
       "<table border=\"1\" class=\"dataframe\">\n",
       "  <thead>\n",
       "    <tr style=\"text-align: right;\">\n",
       "      <th></th>\n",
       "      <th>plant_name_id</th>\n",
       "      <th>area</th>\n",
       "      <th>continent</th>\n",
       "    </tr>\n",
       "  </thead>\n",
       "  <tbody>\n",
       "    <tr>\n",
       "      <th>0</th>\n",
       "      <td>1</td>\n",
       "      <td>Costa Rica,Venezuela,Bolivia,Colombia,Ecuador,...</td>\n",
       "      <td>SOUTHERN AMERICA</td>\n",
       "    </tr>\n",
       "    <tr>\n",
       "      <th>1</th>\n",
       "      <td>2</td>\n",
       "      <td>Argentina Northeast,Argentina Northwest</td>\n",
       "      <td>SOUTHERN AMERICA</td>\n",
       "    </tr>\n",
       "    <tr>\n",
       "      <th>2</th>\n",
       "      <td>3</td>\n",
       "      <td>Colombia,Ecuador,Peru,Brazil North</td>\n",
       "      <td>SOUTHERN AMERICA</td>\n",
       "    </tr>\n",
       "    <tr>\n",
       "      <th>3</th>\n",
       "      <td>5</td>\n",
       "      <td>Bolivia,Peru</td>\n",
       "      <td>SOUTHERN AMERICA</td>\n",
       "    </tr>\n",
       "    <tr>\n",
       "      <th>4</th>\n",
       "      <td>7</td>\n",
       "      <td>Colombia,Ecuador</td>\n",
       "      <td>SOUTHERN AMERICA</td>\n",
       "    </tr>\n",
       "  </tbody>\n",
       "</table>\n",
       "</div>"
      ],
      "text/plain": [
       "   plant_name_id                                               area  \\\n",
       "0              1  Costa Rica,Venezuela,Bolivia,Colombia,Ecuador,...   \n",
       "1              2            Argentina Northeast,Argentina Northwest   \n",
       "2              3                 Colombia,Ecuador,Peru,Brazil North   \n",
       "3              5                                       Bolivia,Peru   \n",
       "4              7                                   Colombia,Ecuador   \n",
       "\n",
       "          continent  \n",
       "0  SOUTHERN AMERICA  \n",
       "1  SOUTHERN AMERICA  \n",
       "2  SOUTHERN AMERICA  \n",
       "3  SOUTHERN AMERICA  \n",
       "4  SOUTHERN AMERICA  "
      ]
     },
     "execution_count": 28,
     "metadata": {},
     "output_type": "execute_result"
    }
   ],
   "source": [
    "dis_df_b.head()"
   ]
  },
  {
   "attachments": {},
   "cell_type": "markdown",
   "metadata": {},
   "source": [
    "When we take a look at an individual entry, however, we can see why the alternative approach is a lot more useable. The \"list\" of the initial approach is not a list at all, but rather a string containing brackets and quotation marks. __Extracting individual entries in a useable way therefore requires a lot of extra steps.__"
   ]
  },
  {
   "cell_type": "code",
   "execution_count": 29,
   "metadata": {},
   "outputs": [
    {
     "name": "stdout",
     "output_type": "stream",
     "text": [
      "<class 'str'>\n",
      "['Costa Rica', 'Venezuela', 'Bolivia', 'Colombia', 'Ecuador', 'Peru', 'Brazil North', 'Argentina Northeast', 'Argentina Northwest']\n",
      "<class 'list'>\n"
     ]
    }
   ],
   "source": [
    "print(type(dis_df_a.loc[0, \"area\"]))\n",
    "\n",
    "# trying to store individual entries in an actual python list:\n",
    "a_values = dis_df_a.loc[0, \"area\"]\n",
    "a_values = a_values.split(\"'\")\n",
    "\n",
    "# splitting like this leaves nonsensical entries in the list, such as '[', ' ', \n",
    "# and even '\\n '\n",
    "bad_entries = [\"[\", \"]\", \" \", \"\\n \"]\n",
    "for entry in bad_entries:\n",
    "# recursive, since \" \" appears several times\n",
    "    while entry in a_values:\n",
    "        a_values.remove(entry)\n",
    "\n",
    "print(a_values)\n",
    "print(type(a_values))"
   ]
  },
  {
   "attachments": {},
   "cell_type": "markdown",
   "metadata": {},
   "source": [
    "Compared to extracting a useable list from the alternative csv file:"
   ]
  },
  {
   "cell_type": "code",
   "execution_count": 30,
   "metadata": {},
   "outputs": [
    {
     "name": "stdout",
     "output_type": "stream",
     "text": [
      "<class 'str'>\n",
      "['Costa Rica', 'Venezuela', 'Bolivia', 'Colombia', 'Ecuador', 'Peru', 'Brazil North', 'Argentina Northeast', 'Argentina Northwest']\n",
      "<class 'list'>\n"
     ]
    }
   ],
   "source": [
    "print(type(dis_df_b.loc[0, \"area\"]))\n",
    "\n",
    "b_values = dis_df_b.loc[0, \"area\"]\n",
    "b_values = b_values.split(\",\")\n",
    "\n",
    "print(b_values)\n",
    "print(type(b_values))"
   ]
  },
  {
   "attachments": {},
   "cell_type": "markdown",
   "metadata": {},
   "source": [
    "## Extracting useable data from the WHO monograph:"
   ]
  },
  {
   "attachments": {},
   "cell_type": "markdown",
   "metadata": {},
   "source": [
    "### Reading the Monograph and generating lists, as per the data exploration notebook:"
   ]
  },
  {
   "cell_type": "code",
   "execution_count": 54,
   "metadata": {},
   "outputs": [],
   "source": [
    "duke_names = duke_df[\"TAXON\"].unique().tolist()"
   ]
  },
  {
   "cell_type": "code",
   "execution_count": 55,
   "metadata": {},
   "outputs": [],
   "source": [
    "pattern_formula = re.compile(r\"\\.[A-Za-z0-9]+.*\")\n",
    "\n",
    "# Definitions with in-keyword:\n",
    "\n",
    "who_01_def = list()\n",
    "  \n",
    "for page in who_01_pages_corrected[3:]:\n",
    "    max_len = len(page) - 1\n",
    "    for i, line in enumerate(page):\n",
    "        if \"Definition\" in line:\n",
    "            n_lines = 1\n",
    "            while page[i + n_lines] != \"Synonyms\" and i + n_lines < max_len:\n",
    "                n_lines += 1\n",
    "            who_01_def.append(\" \".join(page[i + 1 : i + n_lines]))\n",
    "\n",
    "# Vernacular names with in-keyword:\n",
    "\n",
    "who_01_vernacular = list()\n",
    "reg_pattern = re.compile(r\"\\.\")\n",
    "  \n",
    "for page in who_01_pages_corrected[3:]:\n",
    "    max_len = len(page) - 1\n",
    "    for i, line in enumerate(page):\n",
    "        if \"Selected vernacular names\" in line:\n",
    "            n_lines = 1\n",
    "            while page[i + n_lines] != \"Description\" and i + n_lines < max_len:\n",
    "                n_lines += 1\n",
    "            if i + n_lines == max_len:\n",
    "                output = \" \".join(page[i + 1 : i + n_lines + 1])\n",
    "            else:\n",
    "                output = \" \".join(page[i + 1 : i + n_lines])\n",
    "            \n",
    "            output =  output.replace(\".\", \",\")\n",
    "            \n",
    "            # Sometimes taxonomic names appear in the WHO document names as a header of sorts:\n",
    "            for name in duke_names:\n",
    "                output = output.replace(name, \",\")\n",
    "            \n",
    "            output =  output.replace(\", \", \",\")\n",
    "\n",
    "            who_01_vernacular.append(output)\n",
    "\n",
    "# Clinical medicine with in-keyword:\n",
    "\n",
    "who_01_clinical = list()\n",
    "  \n",
    "for page in who_01_pages_corrected[3:]:\n",
    "    max_len = len(page) - 1\n",
    "    for i, line in enumerate(page):\n",
    "        if \"Uses supported by clinical data\" in line:\n",
    "            n_lines = 1\n",
    "            while \"Uses described in pharmacopoeias and in traditional\" not in page[i + n_lines] and i + n_lines < max_len:\n",
    "                n_lines += 1\n",
    "            if i + n_lines == max_len:\n",
    "                output = \" \".join(page[i + 1 : i + n_lines + 1])\n",
    "                output = re.sub(pattern_formula, \".\", output)\n",
    "            else:\n",
    "                output = \" \".join(page[i + 1 : i + n_lines])\n",
    "                output = re.sub(pattern_formula, \".\", output)\n",
    "\n",
    "            # in case the description gets cut off, drop the incomplete sentence:\n",
    "            if \".\" != output[-1]:\n",
    "                output = output.split(\".\")\n",
    "                output = output[:-1]\n",
    "                output = \".\".join(output)\n",
    "                output = output + \".\"\n",
    "            \n",
    "            who_01_clinical.append(output)\n",
    "\n",
    "# Traditional medicine with in-keyword:\n",
    "\n",
    "who_01_traditional = list()\n",
    "  \n",
    "for page in who_01_pages_corrected[3:]:\n",
    "    max_len = len(page) - 1\n",
    "    for i, line in enumerate(page):\n",
    "        if \"Uses described in pharmacopoeias and in traditional\" in line:\n",
    "            n_lines = 2\n",
    "            while \"Uses described in folk medicine\" not in page[i + n_lines] and i + n_lines < max_len:\n",
    "                n_lines += 1\n",
    "            if i + n_lines == max_len:\n",
    "                output = \" \".join(page[i + 2 : i + n_lines + 1])\n",
    "                output = re.sub(pattern_formula, \".\", output)\n",
    "            else:\n",
    "                output = \" \".join(page[i + 2 : i + n_lines])\n",
    "                output = re.sub(pattern_formula, \".\", output)\n",
    "\n",
    "            if \".\" != output[-1]:\n",
    "                output = output.split(\".\")\n",
    "                output = output[:-1]\n",
    "                output = \".\".join(output)\n",
    "                output = output + \".\"\n",
    "\n",
    "            who_01_traditional.append(output)\n",
    "\n",
    "# Folk with in-keyword:\n",
    "\n",
    "who_01_folk = list()\n",
    "  \n",
    "for page in who_01_pages_corrected[3:]:\n",
    "    max_len = len(page) - 1\n",
    "    for i, line in enumerate(page):\n",
    "        if \"Uses described in folk medicine\" in line:\n",
    "            n_lines = 2\n",
    "            while page[i + n_lines] != \"Pharmacology\" and i + n_lines < max_len:\n",
    "                n_lines += 1\n",
    "            if i + n_lines == max_len:\n",
    "                output = \" \".join(page[i + 2 : i + n_lines + 1])\n",
    "                output = re.sub(pattern_formula, \".\", output)\n",
    "            else:\n",
    "                output = \" \".join(page[i + 2 : i + n_lines])\n",
    "                output = re.sub(pattern_formula, \".\", output)\n",
    "\n",
    "            if \".\" != output[-1]:\n",
    "                output = output.split(\".\")\n",
    "                output = output[:-1]\n",
    "                output = \".\".join(output)\n",
    "                output = output + \".\"\n",
    "\n",
    "            who_01_folk.append(output)\n",
    "\n",
    "who_01_con = list()\n",
    "  \n",
    "for page in who_01_pages_corrected[4:]:\n",
    "    max_len = len(page) - 1\n",
    "    for i, line in enumerate(page):\n",
    "        if \"Contraindications\" in line and \"see\" not in line.lower():\n",
    "            n_lines = 1\n",
    "            while page[i + n_lines] != \"Warnings\" and i + n_lines < max_len:\n",
    "                n_lines += 1\n",
    "            if i + n_lines == max_len:\n",
    "                output = \" \".join(page[i + 1 : i + n_lines + 1])\n",
    "                output = re.sub(pattern_formula, \".\", output)\n",
    "            else:\n",
    "                output = \" \".join(page[i + 1 : i + n_lines])\n",
    "                output = re.sub(pattern_formula, \".\", output)\n",
    "\n",
    "            if \".\" != output[-1]:\n",
    "                output = output.split(\".\")\n",
    "                output = output[:-1]\n",
    "                output = \".\".join(output)\n",
    "                output = output + \".\"\n",
    "\n",
    "            who_01_con.append(output)\n",
    "            \n",
    "who_01_warn = list()\n",
    "  \n",
    "for page in who_01_pages_corrected[4:]:\n",
    "    max_len = len(page) - 1\n",
    "    for i, line in enumerate(page):\n",
    "        if \"Warnings\" in line and \"see\" not in line.lower():\n",
    "            n_lines = 1\n",
    "            while page[i + n_lines] != \"Precautions\" and i + n_lines < max_len:\n",
    "                n_lines += 1\n",
    "            if i + n_lines == max_len:\n",
    "                output = \" \".join(page[i + 1 : i + n_lines + 1])\n",
    "                output = re.sub(pattern_formula, \".\", output)\n",
    "            else:\n",
    "                output = \" \".join(page[i + 1 : i + n_lines])\n",
    "                output = re.sub(pattern_formula, \".\", output)\n",
    "\n",
    "            if \".\" != output[-1]:\n",
    "                output = output.split(\".\")\n",
    "                output = output[:-1]\n",
    "                output = \".\".join(output)\n",
    "                output = output + \".\"\n",
    "\n",
    "            who_01_warn.append(output)\n",
    "            \n",
    "who_01_adv = list()\n",
    "\n",
    "ref_pattern = re.compile(r\"[0-9]+\\.\")  \n",
    "\n",
    "for page in who_01_pages_corrected[4:]:\n",
    "    max_len = len(page) - 1\n",
    "    for i, line in enumerate(page):\n",
    "        if \"Adverse reactions\" in line and \"see\" not in line.lower() and not re.search(ref_pattern, line):\n",
    "            n_lines = 1\n",
    "            while page[i + n_lines] != \"Posology\" and i + n_lines < max_len:\n",
    "                n_lines += 1\n",
    "            if i + n_lines == max_len:\n",
    "                output = \" \".join(page[i + 1 : i + n_lines + 1])\n",
    "                output = re.sub(pattern_formula, \".\", output)\n",
    "            else:\n",
    "                output = \" \".join(page[i + 1 : i + n_lines])\n",
    "                output = re.sub(pattern_formula, \".\", output)\n",
    "\n",
    "            if \".\" != output[-1]:\n",
    "                output = output.split(\".\")\n",
    "                output = output[:-1]\n",
    "                output = \".\".join(output)\n",
    "                output = output + \".\"\n",
    "\n",
    "            who_01_adv.append(output)\n",
    "\n",
    "who_01_pos = list()\n",
    "  \n",
    "for page in who_01_pages_corrected[4:]:\n",
    "    max_len = len(page) - 1\n",
    "    for i, line in enumerate(page):\n",
    "        if \"Posology\" in line and \"and\" not in line.lower():\n",
    "            n_lines = 1\n",
    "            while page[i + n_lines] != \"References\" and i + n_lines < max_len:\n",
    "                n_lines += 1\n",
    "            if i + n_lines == max_len:\n",
    "                output = \" \".join(page[i + 1 : i + n_lines + 1])\n",
    "                # output = re.sub(pattern_formula, \".\", output)\n",
    "            else:\n",
    "                output = \" \".join(page[i + 1 : i + n_lines])\n",
    "                # output = re.sub(pattern_formula, \".\", output)\n",
    "\n",
    "            if \".\" != output[-1]:\n",
    "                output = output.split(\".\")\n",
    "                output = output[:-1]\n",
    "                output = \".\".join(output)\n",
    "                output = output + \".\"\n",
    "\n",
    "            who_01_pos.append(output)"
   ]
  },
  {
   "attachments": {},
   "cell_type": "markdown",
   "metadata": {},
   "source": [
    "Replace WHO null values with empty string:"
   ]
  },
  {
   "cell_type": "code",
   "execution_count": 56,
   "metadata": {},
   "outputs": [],
   "source": [
    "null_values = [\"No information available.\", \"None.\"]\n",
    "\n",
    "def make_nan(target_list: list):\n",
    "    for i, value in enumerate(target_list):\n",
    "        if value in null_values:\n",
    "            target_list[i] = \"\""
   ]
  },
  {
   "cell_type": "code",
   "execution_count": 57,
   "metadata": {},
   "outputs": [],
   "source": [
    "make_nan(who_01_clinical)\n",
    "make_nan(who_01_traditional)\n",
    "make_nan(who_01_folk)\n",
    "make_nan(who_01_con)\n",
    "make_nan(who_01_warn)\n",
    "make_nan(who_01_adv)\n",
    "make_nan(who_01_pos)"
   ]
  },
  {
   "attachments": {},
   "cell_type": "markdown",
   "metadata": {},
   "source": [
    "## Cross-reference DUKE:"
   ]
  },
  {
   "attachments": {},
   "cell_type": "markdown",
   "metadata": {},
   "source": [
    "It is possible to compare entries to DUKE dataset. When it is a match, we append a dictionary with name, definition etc. keys for the matched herb to a list.\n",
    "\n",
    "The idea is to eventually add columns to the DUKE dataframe that includes some of this information."
   ]
  },
  {
   "attachments": {},
   "cell_type": "markdown",
   "metadata": {},
   "source": [
    "### List of dictionaries:"
   ]
  },
  {
   "cell_type": "code",
   "execution_count": 58,
   "metadata": {},
   "outputs": [],
   "source": [
    "who_01_remedies = list()\n",
    "\n",
    "for i, definition in enumerate(who_01_def):\n",
    "\n",
    "    remedy_dict = dict()\n",
    "\n",
    "    for name in duke_names:\n",
    "        if name in definition:\n",
    "            remedy_dict[\"NAME\"] = name\n",
    "            remedy_dict[\"DEF\"] = definition\n",
    "            remedy_dict[\"VERNAC\"] = who_01_vernacular[i]\n",
    "            remedy_dict[\"CLINICAL\"] = who_01_clinical[i]\n",
    "            remedy_dict[\"TRADITIONAL\"] = who_01_traditional[i]\n",
    "            remedy_dict[\"FOLK\"] = who_01_folk[i]\n",
    "\n",
    "    if remedy_dict:\n",
    "        who_01_remedies.append(remedy_dict)\n"
   ]
  },
  {
   "attachments": {},
   "cell_type": "markdown",
   "metadata": {},
   "source": [
    "#### Missing herbs:"
   ]
  },
  {
   "attachments": {},
   "cell_type": "markdown",
   "metadata": {},
   "source": [
    "We know that all the lists now have a length of 28 entries, however the dictionary created only contains 26:"
   ]
  },
  {
   "cell_type": "code",
   "execution_count": 71,
   "metadata": {},
   "outputs": [
    {
     "name": "stdout",
     "output_type": "stream",
     "text": [
      "Length of a list: 28 \n",
      "Length of the dictionary: 26\n"
     ]
    }
   ],
   "source": [
    "print(\"Length of a list:\", len(who_01_def), \"\\nLength of the dictionary:\", len(who_01_remedies))"
   ]
  },
  {
   "attachments": {},
   "cell_type": "markdown",
   "metadata": {},
   "source": [
    "We will run a quick algorithm to see which two herbs were not included because their names did not return a match with the current dictionary generation code:"
   ]
  },
  {
   "cell_type": "code",
   "execution_count": 63,
   "metadata": {},
   "outputs": [],
   "source": [
    "matches = list()\n",
    "\n",
    "for definition in who_01_def:\n",
    "    for herb in who_01_remedies:\n",
    "        if definition in herb[\"DEF\"]:\n",
    "            matches.append(definition)\n",
    "\n",
    "rest = list()\n",
    "\n",
    "for definition in who_01_def:\n",
    "    if definition not in matches:\n",
    "        rest.append(definition)"
   ]
  },
  {
   "cell_type": "code",
   "execution_count": 68,
   "metadata": {},
   "outputs": [
    {
     "name": "stdout",
     "output_type": "stream",
     "text": [
      "Length of matches: 26 \n",
      "Length of rest: 2\n",
      "\n",
      "Flos Chamomillae consists of the dried flowering heads of Chamomilla recutita (L.) Rauschert (Asteraceae).\n",
      "Semen Plantaginis is the dried, ripe seed of Plantago afra L., P. indica L., P. ovata Forsk., or P. asiatica L. (Plantaginaceae).\n"
     ]
    }
   ],
   "source": [
    "print(\"Length of matches:\", len(matches), \"\\nLength of rest:\", len(rest), end=\"\\n\\n\")\n",
    "print(*rest, sep=\"\\n\")"
   ]
  },
  {
   "attachments": {},
   "cell_type": "markdown",
   "metadata": {},
   "source": [
    "Excluded herbs were:\n",
    "* Chamomilla recutita\n",
    "* Plantago afra"
   ]
  },
  {
   "attachments": {},
   "cell_type": "markdown",
   "metadata": {},
   "source": [
    "Filtering the Duke dataframe for \"Chamomilla\":"
   ]
  },
  {
   "cell_type": "code",
   "execution_count": 69,
   "metadata": {},
   "outputs": [
    {
     "data": {
      "text/plain": [
       "Series([], Name: TAXON, dtype: object)"
      ]
     },
     "execution_count": 69,
     "metadata": {},
     "output_type": "execute_result"
    }
   ],
   "source": [
    "filt = (duke_df[\"TAXON\"].str.contains(\"Chamomilla\"))\n",
    "duke_df[filt][\"TAXON\"]"
   ]
  },
  {
   "attachments": {},
   "cell_type": "markdown",
   "metadata": {},
   "source": [
    "Trying the lowercase \"chamomilla\" instead:"
   ]
  },
  {
   "cell_type": "code",
   "execution_count": 70,
   "metadata": {},
   "outputs": [
    {
     "data": {
      "text/plain": [
       "array(['Matricaria chamomilla'], dtype=object)"
      ]
     },
     "execution_count": 70,
     "metadata": {},
     "output_type": "execute_result"
    }
   ],
   "source": [
    "filt = (duke_df[\"TAXON\"].str.contains(\"chamomilla\"))\n",
    "duke_df[filt][\"TAXON\"].unique()"
   ]
  },
  {
   "attachments": {},
   "cell_type": "markdown",
   "metadata": {},
   "source": [
    "From __Wikipedia, The Free Encyclopedia__: \"Matricaria chamomilla (synonym: Matricaria recutita), commonly known as chamomile\"\n",
    "\n",
    "The WHO monograph and Duke's Phytochemical and Ethnobotanical Database refer to the same herb by different names."
   ]
  },
  {
   "attachments": {},
   "cell_type": "markdown",
   "metadata": {},
   "source": [
    "Filtering the Duke dataframe for \"Plantago afra\":"
   ]
  },
  {
   "cell_type": "code",
   "execution_count": 72,
   "metadata": {},
   "outputs": [
    {
     "data": {
      "text/plain": [
       "array([], dtype=object)"
      ]
     },
     "execution_count": 72,
     "metadata": {},
     "output_type": "execute_result"
    }
   ],
   "source": [
    "filt = (duke_df[\"TAXON\"].str.contains(\"Plantago afra\"))\n",
    "duke_df[filt][\"TAXON\"].unique()"
   ]
  },
  {
   "attachments": {},
   "cell_type": "markdown",
   "metadata": {},
   "source": [
    "Trying just \"Plantago\" instead to find similar matches:"
   ]
  },
  {
   "cell_type": "code",
   "execution_count": 73,
   "metadata": {},
   "outputs": [
    {
     "data": {
      "text/plain": [
       "array(['Plantago asiatica', 'Plantago major', 'Plantago erosa',\n",
       "       'Plantago insularis', 'Plantago lanceolata', 'Plantago ovata',\n",
       "       'Plantago majorvar.asiatica', 'Plantago psyllium',\n",
       "       'Plantago media', 'Plantago sp', 'Plantago cordata',\n",
       "       'Plantago depressa', 'Plantago coronopus',\n",
       "       'Plantago amplexicaulis', 'Plantago cynops', 'Plantago rugelii',\n",
       "       'Plantago griesebachii', 'Plantago lagopus', 'Plantago rocae',\n",
       "       'Plantago sericea', 'Plantago ureades', 'Plantago ispagula',\n",
       "       'Plantago macrostachys', 'Plantago minor', 'Plantago ciliata',\n",
       "       'Plantago mexicana', 'Plantago tomentosa', 'Plantago coronopus?'],\n",
       "      dtype=object)"
      ]
     },
     "execution_count": 73,
     "metadata": {},
     "output_type": "execute_result"
    }
   ],
   "source": [
    "filt = (duke_df[\"TAXON\"].str.contains(\"Plantago\"))\n",
    "duke_df[filt][\"TAXON\"].unique()"
   ]
  },
  {
   "attachments": {},
   "cell_type": "markdown",
   "metadata": {},
   "source": [
    "From its definition, we know that \"Plantago afra\" has the following synonyms: \n",
    "\n",
    "\"_Plantago afra L., P. indica L., P. ovata Forsk., or P. asiatica_\"\n",
    "\n",
    "As we can see in the above array returned by the Duke dataframe, both _Plantago ovata_ and _Plantago asiatica_ are in fact part of the Duke dataset."
   ]
  },
  {
   "attachments": {},
   "cell_type": "markdown",
   "metadata": {},
   "source": [
    "#### Conclusion:"
   ]
  },
  {
   "attachments": {},
   "cell_type": "markdown",
   "metadata": {},
   "source": [
    "Both _Chamomilla recutita_ and _Plantago afra_ will have to have their entries corrected manually.\n",
    "\n",
    "For _Plantago afra_, maybe a solution when initially checking for the name: check if the split name is in the definition."
   ]
  },
  {
   "cell_type": "code",
   "execution_count": 74,
   "metadata": {},
   "outputs": [
    {
     "name": "stdout",
     "output_type": "stream",
     "text": [
      "Allium sativum - Platycodon grandiflorum - Aloe vera - Rheum palmatum - Coptis chinensis - Panax ginseng - Thymus vulgaris - Zingiber officinale - Echinacea pallida - Thymus zygis - Ginkgo biloba - Coptis sp - Valeriana officinalis - Echinacea purpurea - Aloe africana - Curcuma longa - Echinacea angustifolia - Paeonia lactiflora - Cassia senna - Aloe sp - Brucea javanica - Glycyrrhiza uralensis - Zingiber sp - Plantago ovata - Plantago asiatica - Glycyrrhiza glabra - Allium cepa - Aloe spicata - Astragalus mongholicus - Ephedra sinica - Glycyrrhiza ralensis - Cinnamomum cassia - Amomum sp - Cinnamomum verum - Coptis japonica - Bupleurum falcatum - Astragalus membranaceus - Rheum officinale - Centella asiatica - Ephedra sp - Rauvolfia serpentina - Aloe ferox\n"
     ]
    },
    {
     "data": {
      "text/plain": [
       "44"
      ]
     },
     "execution_count": 74,
     "metadata": {},
     "output_type": "execute_result"
    }
   ],
   "source": [
    "matches = list()\n",
    "\n",
    "for definition in who_01_def:\n",
    "    for name in duke_names:\n",
    "        name = name.split(\" \")\n",
    "\n",
    "        # some taxonomic names have an \"x\", indicating hybrids\n",
    "        if \"x\" in name: \n",
    "            name.remove(\"x\")\n",
    "\n",
    "        if name[0] in definition and name[1] in definition:\n",
    "            matches.append(\" \".join(name))\n",
    "\n",
    "print(*set(matches), sep=\" - \")\n",
    "len(matches)"
   ]
  },
  {
   "attachments": {},
   "cell_type": "markdown",
   "metadata": {},
   "source": [
    "What is especially interesting to see is that we now actually have 44 matches.\n",
    "\n",
    "The definition often includes synonyms (such as we saw with _Plantago Afra_) so the subsequent information is relevant for a number of herbs in the Duke dataset. "
   ]
  },
  {
   "cell_type": "code",
   "execution_count": 75,
   "metadata": {},
   "outputs": [
    {
     "name": "stdout",
     "output_type": "stream",
     "text": [
      "Plantago asiatica\n",
      "Plantago ovata\n"
     ]
    }
   ],
   "source": [
    "for match in matches:\n",
    "    if \"Plantago\" in match:\n",
    "        print(match)"
   ]
  },
  {
   "attachments": {},
   "cell_type": "markdown",
   "metadata": {},
   "source": [
    "But still no matches for \"Chamomille\", as its definition did not include a synonym that matched with the Duke dataset:"
   ]
  },
  {
   "cell_type": "code",
   "execution_count": 76,
   "metadata": {},
   "outputs": [],
   "source": [
    "for match in matches:\n",
    "    if \"chamomilla\" in match:\n",
    "        print(match)"
   ]
  },
  {
   "attachments": {},
   "cell_type": "markdown",
   "metadata": {},
   "source": [
    "### Final dictionary generation code:"
   ]
  },
  {
   "cell_type": "code",
   "execution_count": 79,
   "metadata": {},
   "outputs": [
    {
     "data": {
      "text/plain": [
       "44"
      ]
     },
     "execution_count": 79,
     "metadata": {},
     "output_type": "execute_result"
    }
   ],
   "source": [
    "who_01_remedies = list()\n",
    "\n",
    "for i, definition in enumerate(who_01_def):\n",
    "\n",
    "    for name in duke_names:\n",
    "\n",
    "        remedy_dict = dict()\n",
    "        name = name.split(\" \")\n",
    "\n",
    "        # some taxonomic names have an \"x\", indicating hybrids\n",
    "        if \"x\" in name: \n",
    "            name.remove(\"x\")\n",
    "\n",
    "        if name[0] in definition and name[1] in definition:\n",
    "            remedy_dict[\"NAME\"] = \" \".join(name)\n",
    "            remedy_dict[\"DEF\"] = definition\n",
    "            remedy_dict[\"VERNAC\"] = who_01_vernacular[i]\n",
    "            remedy_dict[\"CLINICAL\"] = who_01_clinical[i]\n",
    "            remedy_dict[\"TRADITIONAL\"] = who_01_traditional[i] \n",
    "            remedy_dict[\"FOLK\"] = who_01_folk[i]\n",
    "            remedy_dict[\"CONTRAINDICATION\"] = who_01_con[i]\n",
    "            remedy_dict[\"WARNING\"] = who_01_warn[i]\n",
    "            remedy_dict[\"ADVERSE\"] = who_01_adv[i]\n",
    "            remedy_dict[\"POSOLOGY\"] = who_01_pos[i]\n",
    "\n",
    "        if remedy_dict:\n",
    "            who_01_remedies.append(remedy_dict)\n",
    "\n",
    "len(who_01_remedies)"
   ]
  },
  {
   "cell_type": "code",
   "execution_count": 78,
   "metadata": {},
   "outputs": [
    {
     "name": "stdout",
     "output_type": "stream",
     "text": [
      "{'NAME': 'Allium cepa', 'DEF': 'Bulbus Allii Cepae is the fresh or dried bulbs of Allium cepa L. (Liliaceae) or its varieties and cultivars.', 'VERNAC': 'It is most commonly known as “onion”,Basal,basl,cebolla,cebolla morada,cepa bulb,cepolla,cipolla,common onion,cu hanh,hom hua yai,hom khaao,hom yai,hu-t’sung,hu t’sung t’song,hua phak bhu,i-i-bsel,kesounni,khtim,Küchenzwiebel,l’oignon,loyon,Madras oignon,oignon,palandu,piyaj,piyaz,pyaz,pyaaz,ralu lunu,red globe onion,sibuyas,Spanish onion,tamanegi,umbi bawang merah,vengayan,yellow Bermuda onion,white globe onion,Zwiebel ,', 'CLINICAL': 'The principal use of Bulbus Allii Cepae today is to prevent age-dependent changes in the blood vessels, and loss of appetite.', 'TRADITIONAL': 'Treatment of bacterial infections such as dysentery, and as a diuretic. The drug has also been used to treat ulcers, wounds, scars, keloids, and asthma . Bulbus Allii Cepae has also been used as an adjuvant therapy for diabetes.', 'FOLK': 'As an anthelminthic, aphrodisiac, carminative, emmenagogue, expectorant, and tonic, and for the treatment of bruises, bronchitis, cholera, colic, earache, fevers, high blood pressure, jaundice, pimples, and sores.', 'CONTRAINDICATION': 'Allergies to the plant. The level of safety of Bulbus Allii Cepae is re flected by its worldwide use as a vegetable.', 'WARNING': 'No warnings have been reported.', 'ADVERSE': 'Allergic reactions such as rhinoconjunctivitis and contact dermatitis have been reported.', 'POSOLOGY': 'Unless otherwise prescribed: a daily dosage is 50g of fresh onion or 20g of the dried drug; doses of preparations should be calculated accordingly.'}\n"
     ]
    }
   ],
   "source": [
    "print(who_01_remedies[0])"
   ]
  },
  {
   "attachments": {},
   "cell_type": "markdown",
   "metadata": {},
   "source": [
    "This code will be used in the next notebook as a basis to enrich the Duke dataframe."
   ]
  },
  {
   "attachments": {},
   "cell_type": "markdown",
   "metadata": {},
   "source": [
    "Output name of herbs"
   ]
  },
  {
   "cell_type": "code",
   "execution_count": 24,
   "metadata": {},
   "outputs": [],
   "source": [
    "mod_duke_df[\"popularityRating\"] = np.nan"
   ]
  },
  {
   "cell_type": "code",
   "execution_count": 56,
   "metadata": {},
   "outputs": [
    {
     "data": {
      "text/html": [
       "<div>\n",
       "<style scoped>\n",
       "    .dataframe tbody tr th:only-of-type {\n",
       "        vertical-align: middle;\n",
       "    }\n",
       "\n",
       "    .dataframe tbody tr th {\n",
       "        vertical-align: top;\n",
       "    }\n",
       "\n",
       "    .dataframe thead th {\n",
       "        text-align: right;\n",
       "    }\n",
       "</style>\n",
       "<table border=\"1\" class=\"dataframe\">\n",
       "  <thead>\n",
       "    <tr style=\"text-align: right;\">\n",
       "      <th></th>\n",
       "      <th>taxonomicName</th>\n",
       "      <th>activity</th>\n",
       "      <th>commonNames</th>\n",
       "      <th>FAMILY</th>\n",
       "      <th>GENUS</th>\n",
       "      <th>SPECIES</th>\n",
       "      <th>popularityRating</th>\n",
       "    </tr>\n",
       "  </thead>\n",
       "  <tbody>\n",
       "    <tr>\n",
       "      <th>0</th>\n",
       "      <td>Abelmoschus esculentus</td>\n",
       "      <td>Abortifacient,Antidote,Boil,Burn,Catarrh,Coffe...</td>\n",
       "      <td>nan,Huang Shu K'Uei,Bamia,Molondron,Quiabeiro,...</td>\n",
       "      <td>Malvaceae</td>\n",
       "      <td>Abelmoschus</td>\n",
       "      <td>esculentus</td>\n",
       "      <td>NaN</td>\n",
       "    </tr>\n",
       "    <tr>\n",
       "      <th>1</th>\n",
       "      <td>Abelmoschus manihot</td>\n",
       "      <td>Antitussive,Boil,Cancer,Cancer(Stomach),Catarr...</td>\n",
       "      <td>Tororo-Aoi,nan,Kastuli</td>\n",
       "      <td>Malvaceae</td>\n",
       "      <td>Abelmoschus</td>\n",
       "      <td>manihot</td>\n",
       "      <td>NaN</td>\n",
       "    </tr>\n",
       "    <tr>\n",
       "      <th>2</th>\n",
       "      <td>Abelmoschus moschatus</td>\n",
       "      <td>Aphrodisiac,Asthma,Bite(Snake),Boil,Cancer,Car...</td>\n",
       "      <td>Musk Mallow,nan,Moskus,Muskus,Mushk Dana,Amber...</td>\n",
       "      <td>Malvaceae</td>\n",
       "      <td>Abelmoschus</td>\n",
       "      <td>moschatus</td>\n",
       "      <td>NaN</td>\n",
       "    </tr>\n",
       "    <tr>\n",
       "      <th>3</th>\n",
       "      <td>Abies alba</td>\n",
       "      <td>Bronchitis,Bruise,Calculus,Catarrh,Cough,Diure...</td>\n",
       "      <td>Abeto,Edeltanne,Beyaz Koknar,Silver Fir,Abeto ...</td>\n",
       "      <td>Pinaceae</td>\n",
       "      <td>Abies</td>\n",
       "      <td>alba</td>\n",
       "      <td>NaN</td>\n",
       "    </tr>\n",
       "    <tr>\n",
       "      <th>4</th>\n",
       "      <td>Abies balsamea</td>\n",
       "      <td>Burn,Cancer,Cold,Cough,Heart,Masticatory,Sore,...</td>\n",
       "      <td>nan,Balsam,Canada,Balsam Fir,Fir</td>\n",
       "      <td>Pinaceae</td>\n",
       "      <td>Abies</td>\n",
       "      <td>balsamea</td>\n",
       "      <td>NaN</td>\n",
       "    </tr>\n",
       "    <tr>\n",
       "      <th>...</th>\n",
       "      <td>...</td>\n",
       "      <td>...</td>\n",
       "      <td>...</td>\n",
       "      <td>...</td>\n",
       "      <td>...</td>\n",
       "      <td>...</td>\n",
       "      <td>...</td>\n",
       "    </tr>\n",
       "    <tr>\n",
       "      <th>13074</th>\n",
       "      <td>Zostera marina</td>\n",
       "      <td>Diarrhea</td>\n",
       "      <td>nan</td>\n",
       "      <td>Zosteraceae</td>\n",
       "      <td>Zostera</td>\n",
       "      <td>marina</td>\n",
       "      <td>NaN</td>\n",
       "    </tr>\n",
       "    <tr>\n",
       "      <th>13075</th>\n",
       "      <td>Zuelania guidonia</td>\n",
       "      <td>Diuretic</td>\n",
       "      <td>Guuaguasi</td>\n",
       "      <td>Flacourtiaceae</td>\n",
       "      <td>Zuelania</td>\n",
       "      <td>guidonia</td>\n",
       "      <td>NaN</td>\n",
       "    </tr>\n",
       "    <tr>\n",
       "      <th>13076</th>\n",
       "      <td>Zuelania roussoviana</td>\n",
       "      <td>Emetic</td>\n",
       "      <td>nan</td>\n",
       "      <td>Flacourtiaceae</td>\n",
       "      <td>Zuelania</td>\n",
       "      <td>roussoviana</td>\n",
       "      <td>NaN</td>\n",
       "    </tr>\n",
       "    <tr>\n",
       "      <th>13077</th>\n",
       "      <td>Zygophyllum fabago</td>\n",
       "      <td>Spasm,Vermifuge,Depurative,Poison</td>\n",
       "      <td>Khennaiq Ad Dijaj,Morsana</td>\n",
       "      <td>Zygophyllaceae</td>\n",
       "      <td>Zygophyllum</td>\n",
       "      <td>fabago</td>\n",
       "      <td>NaN</td>\n",
       "    </tr>\n",
       "    <tr>\n",
       "      <th>13078</th>\n",
       "      <td>Zygophyllum simplex</td>\n",
       "      <td>Leucoma,Ophthalmia,Vermifuge</td>\n",
       "      <td>nan</td>\n",
       "      <td>Zygophyllaceae</td>\n",
       "      <td>Zygophyllum</td>\n",
       "      <td>simplex</td>\n",
       "      <td>NaN</td>\n",
       "    </tr>\n",
       "  </tbody>\n",
       "</table>\n",
       "<p>13079 rows × 7 columns</p>\n",
       "</div>"
      ],
      "text/plain": [
       "                taxonomicName  \\\n",
       "0      Abelmoschus esculentus   \n",
       "1         Abelmoschus manihot   \n",
       "2       Abelmoschus moschatus   \n",
       "3                  Abies alba   \n",
       "4              Abies balsamea   \n",
       "...                       ...   \n",
       "13074          Zostera marina   \n",
       "13075       Zuelania guidonia   \n",
       "13076    Zuelania roussoviana   \n",
       "13077      Zygophyllum fabago   \n",
       "13078     Zygophyllum simplex   \n",
       "\n",
       "                                                activity  \\\n",
       "0      Abortifacient,Antidote,Boil,Burn,Catarrh,Coffe...   \n",
       "1      Antitussive,Boil,Cancer,Cancer(Stomach),Catarr...   \n",
       "2      Aphrodisiac,Asthma,Bite(Snake),Boil,Cancer,Car...   \n",
       "3      Bronchitis,Bruise,Calculus,Catarrh,Cough,Diure...   \n",
       "4      Burn,Cancer,Cold,Cough,Heart,Masticatory,Sore,...   \n",
       "...                                                  ...   \n",
       "13074                                           Diarrhea   \n",
       "13075                                           Diuretic   \n",
       "13076                                             Emetic   \n",
       "13077                  Spasm,Vermifuge,Depurative,Poison   \n",
       "13078                       Leucoma,Ophthalmia,Vermifuge   \n",
       "\n",
       "                                             commonNames          FAMILY  \\\n",
       "0      nan,Huang Shu K'Uei,Bamia,Molondron,Quiabeiro,...       Malvaceae   \n",
       "1                                 Tororo-Aoi,nan,Kastuli       Malvaceae   \n",
       "2      Musk Mallow,nan,Moskus,Muskus,Mushk Dana,Amber...       Malvaceae   \n",
       "3      Abeto,Edeltanne,Beyaz Koknar,Silver Fir,Abeto ...        Pinaceae   \n",
       "4                       nan,Balsam,Canada,Balsam Fir,Fir        Pinaceae   \n",
       "...                                                  ...             ...   \n",
       "13074                                                nan     Zosteraceae   \n",
       "13075                                          Guuaguasi  Flacourtiaceae   \n",
       "13076                                                nan  Flacourtiaceae   \n",
       "13077                          Khennaiq Ad Dijaj,Morsana  Zygophyllaceae   \n",
       "13078                                                nan  Zygophyllaceae   \n",
       "\n",
       "             GENUS      SPECIES  popularityRating  \n",
       "0      Abelmoschus   esculentus               NaN  \n",
       "1      Abelmoschus      manihot               NaN  \n",
       "2      Abelmoschus    moschatus               NaN  \n",
       "3            Abies         alba               NaN  \n",
       "4            Abies     balsamea               NaN  \n",
       "...            ...          ...               ...  \n",
       "13074      Zostera       marina               NaN  \n",
       "13075     Zuelania     guidonia               NaN  \n",
       "13076     Zuelania  roussoviana               NaN  \n",
       "13077  Zygophyllum       fabago               NaN  \n",
       "13078  Zygophyllum      simplex               NaN  \n",
       "\n",
       "[13079 rows x 7 columns]"
      ]
     },
     "execution_count": 56,
     "metadata": {},
     "output_type": "execute_result"
    }
   ],
   "source": [
    "mod_duke_df.rename(columns={\n",
    "    \"TAXON\": \"taxonomicName\",\n",
    "    \"ACTIVITY\": \"activity\",\n",
    "    \"CNAME\": \"commonNames\"\n",
    "    }, inplace=True)\n",
    "mod_duke_df"
   ]
  },
  {
   "cell_type": "code",
   "execution_count": 57,
   "metadata": {},
   "outputs": [
    {
     "data": {
      "text/html": [
       "<div>\n",
       "<style scoped>\n",
       "    .dataframe tbody tr th:only-of-type {\n",
       "        vertical-align: middle;\n",
       "    }\n",
       "\n",
       "    .dataframe tbody tr th {\n",
       "        vertical-align: top;\n",
       "    }\n",
       "\n",
       "    .dataframe thead th {\n",
       "        text-align: right;\n",
       "    }\n",
       "</style>\n",
       "<table border=\"1\" class=\"dataframe\">\n",
       "  <thead>\n",
       "    <tr style=\"text-align: right;\">\n",
       "      <th></th>\n",
       "      <th>popularityRating</th>\n",
       "      <th>commonNames</th>\n",
       "    </tr>\n",
       "    <tr>\n",
       "      <th>taxonomicName</th>\n",
       "      <th></th>\n",
       "      <th></th>\n",
       "    </tr>\n",
       "  </thead>\n",
       "  <tbody>\n",
       "    <tr>\n",
       "      <th>Abelmoschus esculentus</th>\n",
       "      <td>NaN</td>\n",
       "      <td>nan,Huang Shu K'Uei,Bamia,Molondron,Quiabeiro,...</td>\n",
       "    </tr>\n",
       "    <tr>\n",
       "      <th>Abelmoschus manihot</th>\n",
       "      <td>NaN</td>\n",
       "      <td>Tororo-Aoi,nan,Kastuli</td>\n",
       "    </tr>\n",
       "    <tr>\n",
       "      <th>Abelmoschus moschatus</th>\n",
       "      <td>NaN</td>\n",
       "      <td>Musk Mallow,nan,Moskus,Muskus,Mushk Dana,Amber...</td>\n",
       "    </tr>\n",
       "    <tr>\n",
       "      <th>Abies alba</th>\n",
       "      <td>NaN</td>\n",
       "      <td>Abeto,Edeltanne,Beyaz Koknar,Silver Fir,Abeto ...</td>\n",
       "    </tr>\n",
       "    <tr>\n",
       "      <th>Abies balsamea</th>\n",
       "      <td>NaN</td>\n",
       "      <td>nan,Balsam,Canada,Balsam Fir,Fir</td>\n",
       "    </tr>\n",
       "  </tbody>\n",
       "</table>\n",
       "</div>"
      ],
      "text/plain": [
       "                        popularityRating  \\\n",
       "taxonomicName                              \n",
       "Abelmoschus esculentus               NaN   \n",
       "Abelmoschus manihot                  NaN   \n",
       "Abelmoschus moschatus                NaN   \n",
       "Abies alba                           NaN   \n",
       "Abies balsamea                       NaN   \n",
       "\n",
       "                                                              commonNames  \n",
       "taxonomicName                                                              \n",
       "Abelmoschus esculentus  nan,Huang Shu K'Uei,Bamia,Molondron,Quiabeiro,...  \n",
       "Abelmoschus manihot                                Tororo-Aoi,nan,Kastuli  \n",
       "Abelmoschus moschatus   Musk Mallow,nan,Moskus,Muskus,Mushk Dana,Amber...  \n",
       "Abies alba              Abeto,Edeltanne,Beyaz Koknar,Silver Fir,Abeto ...  \n",
       "Abies balsamea                           nan,Balsam,Canada,Balsam Fir,Fir  "
      ]
     },
     "execution_count": 57,
     "metadata": {},
     "output_type": "execute_result"
    }
   ],
   "source": [
    "taxonomy_df = mod_duke_df[[\"taxonomicName\", \"popularityRating\", \"commonNames\"]]\n",
    "taxonomy_df.set_index(\"taxonomicName\", inplace=True)\n",
    "taxonomy_df.head()"
   ]
  },
  {
   "cell_type": "code",
   "execution_count": 58,
   "metadata": {},
   "outputs": [
    {
     "name": "stderr",
     "output_type": "stream",
     "text": [
      "/tmp/ipykernel_8021/3636771354.py:1: SettingWithCopyWarning: \n",
      "A value is trying to be set on a copy of a slice from a DataFrame.\n",
      "Try using .loc[row_indexer,col_indexer] = value instead\n",
      "\n",
      "See the caveats in the documentation: https://pandas.pydata.org/pandas-docs/stable/user_guide/indexing.html#returning-a-view-versus-a-copy\n",
      "  taxonomy_df.commonNames = taxonomy_df.commonNames.str.replace('nan,', '', regex=True)\n"
     ]
    }
   ],
   "source": [
    "taxonomy_df.commonNames = taxonomy_df.commonNames.str.replace('nan,', '', regex=True)"
   ]
  },
  {
   "cell_type": "code",
   "execution_count": 59,
   "metadata": {},
   "outputs": [],
   "source": [
    "nan_toreplace = [\"nan\", \"\"]\n",
    "taxonomy_df = taxonomy_df.replace(nan_toreplace, np.nan)"
   ]
  },
  {
   "cell_type": "code",
   "execution_count": 60,
   "metadata": {},
   "outputs": [
    {
     "data": {
      "text/html": [
       "<div>\n",
       "<style scoped>\n",
       "    .dataframe tbody tr th:only-of-type {\n",
       "        vertical-align: middle;\n",
       "    }\n",
       "\n",
       "    .dataframe tbody tr th {\n",
       "        vertical-align: top;\n",
       "    }\n",
       "\n",
       "    .dataframe thead th {\n",
       "        text-align: right;\n",
       "    }\n",
       "</style>\n",
       "<table border=\"1\" class=\"dataframe\">\n",
       "  <thead>\n",
       "    <tr style=\"text-align: right;\">\n",
       "      <th></th>\n",
       "      <th>popularityRating</th>\n",
       "      <th>commonNames</th>\n",
       "    </tr>\n",
       "    <tr>\n",
       "      <th>taxonomicName</th>\n",
       "      <th></th>\n",
       "      <th></th>\n",
       "    </tr>\n",
       "  </thead>\n",
       "  <tbody>\n",
       "    <tr>\n",
       "      <th>Abelmoschus esculentus</th>\n",
       "      <td>NaN</td>\n",
       "      <td>Huang Shu K'Uei,Bamia,Molondron,Quiabeiro,Gomb...</td>\n",
       "    </tr>\n",
       "    <tr>\n",
       "      <th>Abelmoschus manihot</th>\n",
       "      <td>NaN</td>\n",
       "      <td>Tororo-Aoi,Kastuli</td>\n",
       "    </tr>\n",
       "    <tr>\n",
       "      <th>Abelmoschus moschatus</th>\n",
       "      <td>NaN</td>\n",
       "      <td>Musk Mallow,Moskus,Muskus,Mushk Dana,Ambercice...</td>\n",
       "    </tr>\n",
       "    <tr>\n",
       "      <th>Abies alba</th>\n",
       "      <td>NaN</td>\n",
       "      <td>Abeto,Edeltanne,Beyaz Koknar,Silver Fir,Abeto ...</td>\n",
       "    </tr>\n",
       "    <tr>\n",
       "      <th>Abies balsamea</th>\n",
       "      <td>NaN</td>\n",
       "      <td>Balsam,Canada,Balsam Fir,Fir</td>\n",
       "    </tr>\n",
       "    <tr>\n",
       "      <th>...</th>\n",
       "      <td>...</td>\n",
       "      <td>...</td>\n",
       "    </tr>\n",
       "    <tr>\n",
       "      <th>Ziziphus vulgaris</th>\n",
       "      <td>NaN</td>\n",
       "      <td>Tsao,Mei Tsao,Kan Tsao,Liang Tsao,Ta Tsao,Pei ...</td>\n",
       "    </tr>\n",
       "    <tr>\n",
       "      <th>Ziziphus vulgarisvar.inermis</th>\n",
       "      <td>NaN</td>\n",
       "      <td>Sanebuto-Natume</td>\n",
       "    </tr>\n",
       "    <tr>\n",
       "      <th>Zizyphus vulgaris</th>\n",
       "      <td>NaN</td>\n",
       "      <td>Tsao</td>\n",
       "    </tr>\n",
       "    <tr>\n",
       "      <th>Zuelania guidonia</th>\n",
       "      <td>NaN</td>\n",
       "      <td>Guuaguasi</td>\n",
       "    </tr>\n",
       "    <tr>\n",
       "      <th>Zygophyllum fabago</th>\n",
       "      <td>NaN</td>\n",
       "      <td>Khennaiq Ad Dijaj,Morsana</td>\n",
       "    </tr>\n",
       "  </tbody>\n",
       "</table>\n",
       "<p>6086 rows × 2 columns</p>\n",
       "</div>"
      ],
      "text/plain": [
       "                              popularityRating  \\\n",
       "taxonomicName                                    \n",
       "Abelmoschus esculentus                     NaN   \n",
       "Abelmoschus manihot                        NaN   \n",
       "Abelmoschus moschatus                      NaN   \n",
       "Abies alba                                 NaN   \n",
       "Abies balsamea                             NaN   \n",
       "...                                        ...   \n",
       "Ziziphus vulgaris                          NaN   \n",
       "Ziziphus vulgarisvar.inermis               NaN   \n",
       "Zizyphus vulgaris                          NaN   \n",
       "Zuelania guidonia                          NaN   \n",
       "Zygophyllum fabago                         NaN   \n",
       "\n",
       "                                                                    commonNames  \n",
       "taxonomicName                                                                    \n",
       "Abelmoschus esculentus        Huang Shu K'Uei,Bamia,Molondron,Quiabeiro,Gomb...  \n",
       "Abelmoschus manihot                                          Tororo-Aoi,Kastuli  \n",
       "Abelmoschus moschatus         Musk Mallow,Moskus,Muskus,Mushk Dana,Ambercice...  \n",
       "Abies alba                    Abeto,Edeltanne,Beyaz Koknar,Silver Fir,Abeto ...  \n",
       "Abies balsamea                                     Balsam,Canada,Balsam Fir,Fir  \n",
       "...                                                                         ...  \n",
       "Ziziphus vulgaris             Tsao,Mei Tsao,Kan Tsao,Liang Tsao,Ta Tsao,Pei ...  \n",
       "Ziziphus vulgarisvar.inermis                                    Sanebuto-Natume  \n",
       "Zizyphus vulgaris                                                          Tsao  \n",
       "Zuelania guidonia                                                     Guuaguasi  \n",
       "Zygophyllum fabago                                    Khennaiq Ad Dijaj,Morsana  \n",
       "\n",
       "[6086 rows x 2 columns]"
      ]
     },
     "execution_count": 60,
     "metadata": {},
     "output_type": "execute_result"
    }
   ],
   "source": [
    "taxonomy_df.dropna(subset=\"commonNames\")"
   ]
  },
  {
   "cell_type": "code",
   "execution_count": 50,
   "metadata": {},
   "outputs": [
    {
     "data": {
      "text/html": [
       "<div>\n",
       "<style scoped>\n",
       "    .dataframe tbody tr th:only-of-type {\n",
       "        vertical-align: middle;\n",
       "    }\n",
       "\n",
       "    .dataframe tbody tr th {\n",
       "        vertical-align: top;\n",
       "    }\n",
       "\n",
       "    .dataframe thead th {\n",
       "        text-align: right;\n",
       "    }\n",
       "</style>\n",
       "<table border=\"1\" class=\"dataframe\">\n",
       "  <thead>\n",
       "    <tr style=\"text-align: right;\">\n",
       "      <th></th>\n",
       "      <th>popularityRating</th>\n",
       "      <th>commonNames</th>\n",
       "    </tr>\n",
       "    <tr>\n",
       "      <th>taxonomicName</th>\n",
       "      <th></th>\n",
       "      <th></th>\n",
       "    </tr>\n",
       "  </thead>\n",
       "  <tbody>\n",
       "    <tr>\n",
       "      <th>Asarum canadense</th>\n",
       "      <td>NaN</td>\n",
       "      <td>Kanada Azarumu,Wild Ginger</td>\n",
       "    </tr>\n",
       "    <tr>\n",
       "      <th>Parinarium macrophyllum</th>\n",
       "      <td>NaN</td>\n",
       "      <td>Plum,Gingerbread,Gingerbread Plum</td>\n",
       "    </tr>\n",
       "    <tr>\n",
       "      <th>Zingiber cassumunar</th>\n",
       "      <td>NaN</td>\n",
       "      <td>Bengle,Bangle,Bunglai,Kunyit bolai,Panini,Oeni...</td>\n",
       "    </tr>\n",
       "    <tr>\n",
       "      <th>Zingiber mioga</th>\n",
       "      <td>NaN</td>\n",
       "      <td>Jang Ho,Mioga Ginger</td>\n",
       "    </tr>\n",
       "    <tr>\n",
       "      <th>Zingiber officinale</th>\n",
       "      <td>NaN</td>\n",
       "      <td>Chiang,Gingembre,Sheng Chiang,Ginger,Gan Jiang...</td>\n",
       "    </tr>\n",
       "    <tr>\n",
       "      <th>Zingiber zerumbet</th>\n",
       "      <td>NaN</td>\n",
       "      <td>Lampuyang gajah,Lampuyang kebo,Lampuyang paek,...</td>\n",
       "    </tr>\n",
       "  </tbody>\n",
       "</table>\n",
       "</div>"
      ],
      "text/plain": [
       "                         popularityRating  \\\n",
       "taxonomicName                               \n",
       "Asarum canadense                      NaN   \n",
       "Parinarium macrophyllum               NaN   \n",
       "Zingiber cassumunar                   NaN   \n",
       "Zingiber mioga                        NaN   \n",
       "Zingiber officinale                   NaN   \n",
       "Zingiber zerumbet                     NaN   \n",
       "\n",
       "                                                               commonNames  \n",
       "taxonomicName                                                               \n",
       "Asarum canadense                                Kanada Azarumu,Wild Ginger  \n",
       "Parinarium macrophyllum                  Plum,Gingerbread,Gingerbread Plum  \n",
       "Zingiber cassumunar      Bengle,Bangle,Bunglai,Kunyit bolai,Panini,Oeni...  \n",
       "Zingiber mioga                                        Jang Ho,Mioga Ginger  \n",
       "Zingiber officinale      Chiang,Gingembre,Sheng Chiang,Ginger,Gan Jiang...  \n",
       "Zingiber zerumbet        Lampuyang gajah,Lampuyang kebo,Lampuyang paek,...  "
      ]
     },
     "execution_count": 50,
     "metadata": {},
     "output_type": "execute_result"
    }
   ],
   "source": [
    "filter = taxonomy_df.commonNames.str.contains('Ginger')\n",
    "filt_df = taxonomy_df[filter]\n",
    "filt_df"
   ]
  },
  {
   "cell_type": "code",
   "execution_count": 43,
   "metadata": {},
   "outputs": [
    {
     "data": {
      "text/html": [
       "<div>\n",
       "<style scoped>\n",
       "    .dataframe tbody tr th:only-of-type {\n",
       "        vertical-align: middle;\n",
       "    }\n",
       "\n",
       "    .dataframe tbody tr th {\n",
       "        vertical-align: top;\n",
       "    }\n",
       "\n",
       "    .dataframe thead th {\n",
       "        text-align: right;\n",
       "    }\n",
       "</style>\n",
       "<table border=\"1\" class=\"dataframe\">\n",
       "  <thead>\n",
       "    <tr style=\"text-align: right;\">\n",
       "      <th></th>\n",
       "      <th>popularityRating</th>\n",
       "      <th>commonNames</th>\n",
       "    </tr>\n",
       "    <tr>\n",
       "      <th>taxonomicName</th>\n",
       "      <th></th>\n",
       "      <th></th>\n",
       "    </tr>\n",
       "  </thead>\n",
       "  <tbody>\n",
       "    <tr>\n",
       "      <th>Abelmoschus esculentus</th>\n",
       "      <td>NaN</td>\n",
       "      <td>Huang Shu K'Uei,Bamia,Molondron,Quiabeiro,Gomb...</td>\n",
       "    </tr>\n",
       "    <tr>\n",
       "      <th>Abelmoschus manihot</th>\n",
       "      <td>NaN</td>\n",
       "      <td>Tororo-Aoi,Kastuli</td>\n",
       "    </tr>\n",
       "    <tr>\n",
       "      <th>Abelmoschus moschatus</th>\n",
       "      <td>NaN</td>\n",
       "      <td>Musk Mallow,Moskus,Muskus,Mushk Dana,Ambercice...</td>\n",
       "    </tr>\n",
       "    <tr>\n",
       "      <th>Abies alba</th>\n",
       "      <td>NaN</td>\n",
       "      <td>Abeto,Edeltanne,Beyaz Koknar,Silver Fir,Abeto ...</td>\n",
       "    </tr>\n",
       "    <tr>\n",
       "      <th>Abies balsamea</th>\n",
       "      <td>NaN</td>\n",
       "      <td>Balsam,Canada,Balsam Fir,Fir</td>\n",
       "    </tr>\n",
       "  </tbody>\n",
       "</table>\n",
       "</div>"
      ],
      "text/plain": [
       "                        popularityRating  \\\n",
       "taxonomicName                              \n",
       "Abelmoschus esculentus               NaN   \n",
       "Abelmoschus manihot                  NaN   \n",
       "Abelmoschus moschatus                NaN   \n",
       "Abies alba                           NaN   \n",
       "Abies balsamea                       NaN   \n",
       "\n",
       "                                                              commonNames  \n",
       "taxonomicName                                                              \n",
       "Abelmoschus esculentus  Huang Shu K'Uei,Bamia,Molondron,Quiabeiro,Gomb...  \n",
       "Abelmoschus manihot                                    Tororo-Aoi,Kastuli  \n",
       "Abelmoschus moschatus   Musk Mallow,Moskus,Muskus,Mushk Dana,Ambercice...  \n",
       "Abies alba              Abeto,Edeltanne,Beyaz Koknar,Silver Fir,Abeto ...  \n",
       "Abies balsamea                               Balsam,Canada,Balsam Fir,Fir  "
      ]
     },
     "execution_count": 43,
     "metadata": {},
     "output_type": "execute_result"
    }
   ],
   "source": [
    "taxonomy_df.head()"
   ]
  },
  {
   "cell_type": "code",
   "execution_count": 44,
   "metadata": {},
   "outputs": [],
   "source": [
    "taxonomy_df.to_csv(\"../output/taxonomic_names.csv\", sep=\",\")"
   ]
  },
  {
   "cell_type": "code",
   "execution_count": 45,
   "metadata": {},
   "outputs": [],
   "source": [
    "test_df = pd.read_csv(\"../output/taxonomic_names.csv\")"
   ]
  },
  {
   "cell_type": "code",
   "execution_count": 46,
   "metadata": {},
   "outputs": [
    {
     "data": {
      "text/html": [
       "<div>\n",
       "<style scoped>\n",
       "    .dataframe tbody tr th:only-of-type {\n",
       "        vertical-align: middle;\n",
       "    }\n",
       "\n",
       "    .dataframe tbody tr th {\n",
       "        vertical-align: top;\n",
       "    }\n",
       "\n",
       "    .dataframe thead th {\n",
       "        text-align: right;\n",
       "    }\n",
       "</style>\n",
       "<table border=\"1\" class=\"dataframe\">\n",
       "  <thead>\n",
       "    <tr style=\"text-align: right;\">\n",
       "      <th></th>\n",
       "      <th>taxonomicName</th>\n",
       "      <th>popularityRating</th>\n",
       "      <th>commonNames</th>\n",
       "    </tr>\n",
       "  </thead>\n",
       "  <tbody>\n",
       "    <tr>\n",
       "      <th>0</th>\n",
       "      <td>Abelmoschus esculentus</td>\n",
       "      <td>NaN</td>\n",
       "      <td>Huang Shu K'Uei,Bamia,Molondron,Quiabeiro,Gomb...</td>\n",
       "    </tr>\n",
       "    <tr>\n",
       "      <th>1</th>\n",
       "      <td>Abelmoschus manihot</td>\n",
       "      <td>NaN</td>\n",
       "      <td>Tororo-Aoi,Kastuli</td>\n",
       "    </tr>\n",
       "    <tr>\n",
       "      <th>2</th>\n",
       "      <td>Abelmoschus moschatus</td>\n",
       "      <td>NaN</td>\n",
       "      <td>Musk Mallow,Moskus,Muskus,Mushk Dana,Ambercice...</td>\n",
       "    </tr>\n",
       "    <tr>\n",
       "      <th>3</th>\n",
       "      <td>Abies alba</td>\n",
       "      <td>NaN</td>\n",
       "      <td>Abeto,Edeltanne,Beyaz Koknar,Silver Fir,Abeto ...</td>\n",
       "    </tr>\n",
       "    <tr>\n",
       "      <th>4</th>\n",
       "      <td>Abies balsamea</td>\n",
       "      <td>NaN</td>\n",
       "      <td>Balsam,Canada,Balsam Fir,Fir</td>\n",
       "    </tr>\n",
       "    <tr>\n",
       "      <th>...</th>\n",
       "      <td>...</td>\n",
       "      <td>...</td>\n",
       "      <td>...</td>\n",
       "    </tr>\n",
       "    <tr>\n",
       "      <th>13074</th>\n",
       "      <td>Zostera marina</td>\n",
       "      <td>NaN</td>\n",
       "      <td>NaN</td>\n",
       "    </tr>\n",
       "    <tr>\n",
       "      <th>13075</th>\n",
       "      <td>Zuelania guidonia</td>\n",
       "      <td>NaN</td>\n",
       "      <td>Guuaguasi</td>\n",
       "    </tr>\n",
       "    <tr>\n",
       "      <th>13076</th>\n",
       "      <td>Zuelania roussoviana</td>\n",
       "      <td>NaN</td>\n",
       "      <td>NaN</td>\n",
       "    </tr>\n",
       "    <tr>\n",
       "      <th>13077</th>\n",
       "      <td>Zygophyllum fabago</td>\n",
       "      <td>NaN</td>\n",
       "      <td>Khennaiq Ad Dijaj,Morsana</td>\n",
       "    </tr>\n",
       "    <tr>\n",
       "      <th>13078</th>\n",
       "      <td>Zygophyllum simplex</td>\n",
       "      <td>NaN</td>\n",
       "      <td>NaN</td>\n",
       "    </tr>\n",
       "  </tbody>\n",
       "</table>\n",
       "<p>13079 rows × 3 columns</p>\n",
       "</div>"
      ],
      "text/plain": [
       "                taxonomicName  popularityRating  \\\n",
       "0      Abelmoschus esculentus               NaN   \n",
       "1         Abelmoschus manihot               NaN   \n",
       "2       Abelmoschus moschatus               NaN   \n",
       "3                  Abies alba               NaN   \n",
       "4              Abies balsamea               NaN   \n",
       "...                       ...               ...   \n",
       "13074          Zostera marina               NaN   \n",
       "13075       Zuelania guidonia               NaN   \n",
       "13076    Zuelania roussoviana               NaN   \n",
       "13077      Zygophyllum fabago               NaN   \n",
       "13078     Zygophyllum simplex               NaN   \n",
       "\n",
       "                                             commonNames  \n",
       "0      Huang Shu K'Uei,Bamia,Molondron,Quiabeiro,Gomb...  \n",
       "1                                     Tororo-Aoi,Kastuli  \n",
       "2      Musk Mallow,Moskus,Muskus,Mushk Dana,Ambercice...  \n",
       "3      Abeto,Edeltanne,Beyaz Koknar,Silver Fir,Abeto ...  \n",
       "4                           Balsam,Canada,Balsam Fir,Fir  \n",
       "...                                                  ...  \n",
       "13074                                                NaN  \n",
       "13075                                          Guuaguasi  \n",
       "13076                                                NaN  \n",
       "13077                          Khennaiq Ad Dijaj,Morsana  \n",
       "13078                                                NaN  \n",
       "\n",
       "[13079 rows x 3 columns]"
      ]
     },
     "execution_count": 46,
     "metadata": {},
     "output_type": "execute_result"
    }
   ],
   "source": [
    "test_df"
   ]
  },
  {
   "attachments": {},
   "cell_type": "markdown",
   "metadata": {},
   "source": [
    "## Looking Ahead:\n",
    "\n",
    "The next few notebooks will explore a different avenue to supplement our data: using the pytrends module to pull popularity data for herbs from Google Trends, in the hopes of using that data as a general popularity indicator of a given herb. For now, we will not worry about getting region-specific data."
   ]
  }
 ],
 "metadata": {
  "kernelspec": {
   "display_name": "Python 3",
   "language": "python",
   "name": "python3"
  },
  "language_info": {
   "codemirror_mode": {
    "name": "ipython",
    "version": 3
   },
   "file_extension": ".py",
   "mimetype": "text/x-python",
   "name": "python",
   "nbconvert_exporter": "python",
   "pygments_lexer": "ipython3",
   "version": "3.8.10"
  },
  "orig_nbformat": 4,
  "vscode": {
   "interpreter": {
    "hash": "916dbcbb3f70747c44a77c7bcd40155683ae19c65e1c03b4aa3499c5328201f1"
   }
  }
 },
 "nbformat": 4,
 "nbformat_minor": 2
}
